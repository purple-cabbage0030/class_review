{
 "cells": [
  {
   "cell_type": "markdown",
   "metadata": {
    "id": "3eeFf_vR6fbk"
   },
   "source": [
    "# Tensorflow Object Detection API\n",
    "- Tensorflow Object Detection API는 TensorFlow를 이용해서 Object Detection 모델을 train하고 deploy하는 것을 쉽게 도와주는 오픈소스 프레임워크.\n",
    "- https://github.com/tensorflow/models/tree/master/research/object_detection\n",
    "- Tutorial: https://tensorflow-object-detection-api-tutorial.readthedocs.io/en/latest/"
   ]
  },
  {
   "cell_type": "markdown",
   "metadata": {
    "id": "OTW8EmED6fb1"
   },
   "source": [
    "# Custom (Image) Data 구하기"
   ]
  },
  {
   "cell_type": "markdown",
   "metadata": {
    "id": "qfcUp3XQ6fb5"
   },
   "source": [
    "# Custom (Image) Data Labeling"
   ]
  },
  {
   "cell_type": "markdown",
   "metadata": {
    "id": "nfC0wvQi6fb6"
   },
   "source": [
    "# 전단계\n",
    "- 구글드라이브 연결\n",
    "- raw_data의 데이터압축파일을 VM local에 압축 푼다."
   ]
  },
  {
   "cell_type": "code",
   "execution_count": 72,
   "metadata": {
    "colab": {
     "base_uri": "https://localhost:8080/"
    },
    "executionInfo": {
     "elapsed": 259,
     "status": "ok",
     "timestamp": 1632903129428,
     "user": {
      "displayName": "이홍주",
      "photoUrl": "https://lh3.googleusercontent.com/a/default-user=s64",
      "userId": "15116000017939649577"
     },
     "user_tz": -540
    },
    "id": "1wOv7rPR6fb7",
    "outputId": "61b4be02-6e29-48de-b908-1491a30791fe"
   },
   "outputs": [
    {
     "name": "stdout",
     "output_type": "stream",
     "text": [
      "Drive already mounted at /content/drive; to attempt to forcibly remount, call drive.mount(\"/content/drive\", force_remount=True).\n"
     ]
    }
   ],
   "source": [
    "from google.colab import drive\n",
    "drive.mount('/content/drive')"
   ]
  },
  {
   "cell_type": "code",
   "execution_count": 73,
   "metadata": {
    "colab": {
     "base_uri": "https://localhost:8080/"
    },
    "executionInfo": {
     "elapsed": 14298,
     "status": "ok",
     "timestamp": 1632903144111,
     "user": {
      "displayName": "이홍주",
      "photoUrl": "https://lh3.googleusercontent.com/a/default-user=s64",
      "userId": "15116000017939649577"
     },
     "user_tz": -540
    },
    "id": "9D8RZiKW7JYb",
    "outputId": "416dbc9b-f7cf-4570-d134-fa16b6edfb7e"
   },
   "outputs": [
    {
     "name": "stdout",
     "output_type": "stream",
     "text": [
      "replace images/test/T24_jpg.rf.068e7b2424eac996c86bb6d9c38e083d.jpg? [y]es, [n]o, [A]ll, [N]one, [r]ename: "
     ]
    }
   ],
   "source": [
    "# 압축 풀기\n",
    "# unzip 명령어 이용: !unzip 압축파일 -d 압축풀디렉토리\n",
    "!unzip -q /content/drive/MyDrive/ColabNotebooks/object_detection_src/sign_language_letters/raw_data/american_sign_language_letters.zip -d images"
   ]
  },
  {
   "cell_type": "markdown",
   "metadata": {
    "id": "m5qXwds46fb9"
   },
   "source": [
    "# Tensorflow Object Detection 2 API 설치\n",
    "1. clone \n",
    "    - `!git clone https://github.com/tensorflow/models.git`\n",
    "1. PYTHONPATH 환경설정에 models/research 추가  \n",
    "1. 필요 모듈 설치\n",
    "    - `!apt-get install -qq protobuf-compiler python-pil python-lxml python-tk`\n",
    "    - `!pip install -qq Cython contextlib2 pillow lxml matplotlib pycocotools`\n",
    "1. proto 파일 컴파일\n",
    "    - models/research 경로로 이동\n",
    "        - `%cd models/research`\n",
    "    - `!protoc object_detection/protos/*.proto --python_out=.`\n",
    "1. setup.py 를 이용해 필요한 모듈 추가 설치\n",
    "    - setup.py를 현재 디렉토리로 카피\n",
    "        - `!cp object_detection/packages/tf2/setup.py . `\n",
    "    - 설치\n",
    "        - `!python -m pip install . `\n",
    "    - 설치 확인 - 아래 스크립트 실행시 오류 없이 실행되면 설치 잘 된 것임.\n",
    "        - `!python object_detection/builders/model_builder_tf2_test.py`\n",
    "1. 원래 디렉토리로 이동\n",
    "    - `%cd ../..`        "
   ]
  },
  {
   "cell_type": "code",
   "execution_count": 74,
   "metadata": {
    "colab": {
     "base_uri": "https://localhost:8080/"
    },
    "executionInfo": {
     "elapsed": 17,
     "status": "ok",
     "timestamp": 1632903144112,
     "user": {
      "displayName": "이홍주",
      "photoUrl": "https://lh3.googleusercontent.com/a/default-user=s64",
      "userId": "15116000017939649577"
     },
     "user_tz": -540
    },
    "id": "59C7tUB46fb_",
    "outputId": "6fb7ff67-394d-4ec9-ef0e-7c8d12ae0132"
   },
   "outputs": [
    {
     "name": "stdout",
     "output_type": "stream",
     "text": [
      "fatal: destination path 'models' already exists and is not an empty directory.\n"
     ]
    }
   ],
   "source": [
    "# Tensorflow Object Detection API2 를 clone\n",
    "!git clone https://github.com/tensorflow/models.git"
   ]
  },
  {
   "cell_type": "code",
   "execution_count": 75,
   "metadata": {
    "executionInfo": {
     "elapsed": 8,
     "status": "ok",
     "timestamp": 1632903144113,
     "user": {
      "displayName": "이홍주",
      "photoUrl": "https://lh3.googleusercontent.com/a/default-user=s64",
      "userId": "15116000017939649577"
     },
     "user_tz": -540
    },
    "id": "erBMO8YY6fcA"
   },
   "outputs": [],
   "source": [
    "# 환경설정 - PYTHONPATH = models/research\n",
    "import os\n",
    "os.environ['PYTHONPATH'] += \":/content/models/research\""
   ]
  },
  {
   "cell_type": "code",
   "execution_count": 76,
   "metadata": {
    "executionInfo": {
     "elapsed": 2020,
     "status": "ok",
     "timestamp": 1632903146126,
     "user": {
      "displayName": "이홍주",
      "photoUrl": "https://lh3.googleusercontent.com/a/default-user=s64",
      "userId": "15116000017939649577"
     },
     "user_tz": -540
    },
    "id": "oTkr-kx56fcB"
   },
   "outputs": [],
   "source": [
    "# 추가 필요 모듈 설치\n",
    "!apt-get install -qq protobuf-compiler python-pil python-lxml python-tk"
   ]
  },
  {
   "cell_type": "code",
   "execution_count": 77,
   "metadata": {
    "executionInfo": {
     "elapsed": 3318,
     "status": "ok",
     "timestamp": 1632903149439,
     "user": {
      "displayName": "이홍주",
      "photoUrl": "https://lh3.googleusercontent.com/a/default-user=s64",
      "userId": "15116000017939649577"
     },
     "user_tz": -540
    },
    "id": "0KoebZ0z6fcB"
   },
   "outputs": [],
   "source": [
    "!pip install -qq Cython contextlib2 pillow lxml matplotlib pycocotools"
   ]
  },
  {
   "cell_type": "code",
   "execution_count": 78,
   "metadata": {
    "colab": {
     "base_uri": "https://localhost:8080/"
    },
    "executionInfo": {
     "elapsed": 27,
     "status": "ok",
     "timestamp": 1632903149440,
     "user": {
      "displayName": "이홍주",
      "photoUrl": "https://lh3.googleusercontent.com/a/default-user=s64",
      "userId": "15116000017939649577"
     },
     "user_tz": -540
    },
    "id": "OJEyJHsE6fcC",
    "outputId": "ad996ed4-4113-4a06-8fa4-7821fc1dcb6d"
   },
   "outputs": [
    {
     "name": "stdout",
     "output_type": "stream",
     "text": [
      "/content/models/research\n"
     ]
    }
   ],
   "source": [
    "# proto 파일 컴파일\n",
    "%cd /content/models/research"
   ]
  },
  {
   "cell_type": "code",
   "execution_count": 79,
   "metadata": {
    "executionInfo": {
     "elapsed": 13,
     "status": "ok",
     "timestamp": 1632903149440,
     "user": {
      "displayName": "이홍주",
      "photoUrl": "https://lh3.googleusercontent.com/a/default-user=s64",
      "userId": "15116000017939649577"
     },
     "user_tz": -540
    },
    "id": "BLNq07-a6fcC"
   },
   "outputs": [],
   "source": [
    "!protoc object_detection/protos/*.proto --python_out=."
   ]
  },
  {
   "cell_type": "code",
   "execution_count": 80,
   "metadata": {
    "executionInfo": {
     "elapsed": 543,
     "status": "ok",
     "timestamp": 1632903149971,
     "user": {
      "displayName": "이홍주",
      "photoUrl": "https://lh3.googleusercontent.com/a/default-user=s64",
      "userId": "15116000017939649577"
     },
     "user_tz": -540
    },
    "id": "951XungB6fcD"
   },
   "outputs": [],
   "source": [
    "# setup.py 실행\n",
    "# setup.py를 현재 디렉토리로 카피 - !cp 대상파일경로 카피경로\n",
    "!cp object_detection/packages/tf2/setup.py ."
   ]
  },
  {
   "cell_type": "code",
   "execution_count": 81,
   "metadata": {
    "colab": {
     "base_uri": "https://localhost:8080/"
    },
    "executionInfo": {
     "elapsed": 8651,
     "status": "ok",
     "timestamp": 1632903158616,
     "user": {
      "displayName": "이홍주",
      "photoUrl": "https://lh3.googleusercontent.com/a/default-user=s64",
      "userId": "15116000017939649577"
     },
     "user_tz": -540
    },
    "id": "kqafSAqp7pOI",
    "outputId": "da1debac-bc43-4577-a881-49b2f124fb9e"
   },
   "outputs": [
    {
     "name": "stdout",
     "output_type": "stream",
     "text": [
      "Processing /content/models/research\n",
      "\u001b[33m  DEPRECATION: A future pip version will change local packages to be built in-place without first copying to a temporary directory. We recommend you use --use-feature=in-tree-build to test your packages with this new behavior before it becomes the default.\n",
      "   pip 21.3 will remove support for this functionality. You can find discussion regarding this at https://github.com/pypa/pip/issues/7555.\u001b[0m\n",
      "Requirement already satisfied: avro-python3 in /usr/local/lib/python3.7/dist-packages (from object-detection==0.1) (1.9.2.1)\n",
      "Requirement already satisfied: apache-beam in /usr/local/lib/python3.7/dist-packages (from object-detection==0.1) (2.32.0)\n",
      "Requirement already satisfied: pillow in /usr/local/lib/python3.7/dist-packages (from object-detection==0.1) (7.1.2)\n",
      "Requirement already satisfied: lxml in /usr/local/lib/python3.7/dist-packages (from object-detection==0.1) (4.2.6)\n",
      "Requirement already satisfied: matplotlib in /usr/local/lib/python3.7/dist-packages (from object-detection==0.1) (3.2.2)\n",
      "Requirement already satisfied: Cython in /usr/local/lib/python3.7/dist-packages (from object-detection==0.1) (0.29.24)\n",
      "Requirement already satisfied: contextlib2 in /usr/local/lib/python3.7/dist-packages (from object-detection==0.1) (0.5.5)\n",
      "Requirement already satisfied: tf-slim in /usr/local/lib/python3.7/dist-packages (from object-detection==0.1) (1.1.0)\n",
      "Requirement already satisfied: six in /usr/local/lib/python3.7/dist-packages (from object-detection==0.1) (1.15.0)\n",
      "Requirement already satisfied: pycocotools in /usr/local/lib/python3.7/dist-packages (from object-detection==0.1) (2.0.2)\n",
      "Requirement already satisfied: lvis in /usr/local/lib/python3.7/dist-packages (from object-detection==0.1) (0.5.3)\n",
      "Requirement already satisfied: scipy in /usr/local/lib/python3.7/dist-packages (from object-detection==0.1) (1.4.1)\n",
      "Requirement already satisfied: pandas in /usr/local/lib/python3.7/dist-packages (from object-detection==0.1) (1.1.5)\n",
      "Requirement already satisfied: tf-models-official>=2.5.1 in /usr/local/lib/python3.7/dist-packages (from object-detection==0.1) (2.6.0)\n",
      "Requirement already satisfied: oauth2client in /usr/local/lib/python3.7/dist-packages (from tf-models-official>=2.5.1->object-detection==0.1) (4.1.3)\n",
      "Requirement already satisfied: google-api-python-client>=1.6.7 in /usr/local/lib/python3.7/dist-packages (from tf-models-official>=2.5.1->object-detection==0.1) (1.12.8)\n",
      "Requirement already satisfied: tensorflow-addons in /usr/local/lib/python3.7/dist-packages (from tf-models-official>=2.5.1->object-detection==0.1) (0.14.0)\n",
      "Requirement already satisfied: tensorflow-text>=2.5.0 in /usr/local/lib/python3.7/dist-packages (from tf-models-official>=2.5.1->object-detection==0.1) (2.6.0)\n",
      "Requirement already satisfied: numpy>=1.15.4 in /usr/local/lib/python3.7/dist-packages (from tf-models-official>=2.5.1->object-detection==0.1) (1.19.5)\n",
      "Requirement already satisfied: opencv-python-headless in /usr/local/lib/python3.7/dist-packages (from tf-models-official>=2.5.1->object-detection==0.1) (4.5.3.56)\n",
      "Requirement already satisfied: sentencepiece in /usr/local/lib/python3.7/dist-packages (from tf-models-official>=2.5.1->object-detection==0.1) (0.1.96)\n",
      "Requirement already satisfied: seqeval in /usr/local/lib/python3.7/dist-packages (from tf-models-official>=2.5.1->object-detection==0.1) (1.2.2)\n",
      "Requirement already satisfied: sacrebleu in /usr/local/lib/python3.7/dist-packages (from tf-models-official>=2.5.1->object-detection==0.1) (2.0.0)\n",
      "Requirement already satisfied: pyyaml>=5.1 in /usr/local/lib/python3.7/dist-packages (from tf-models-official>=2.5.1->object-detection==0.1) (5.4.1)\n",
      "Requirement already satisfied: tensorflow-model-optimization>=0.4.1 in /usr/local/lib/python3.7/dist-packages (from tf-models-official>=2.5.1->object-detection==0.1) (0.6.0)\n",
      "Requirement already satisfied: gin-config in /usr/local/lib/python3.7/dist-packages (from tf-models-official>=2.5.1->object-detection==0.1) (0.4.0)\n",
      "Requirement already satisfied: psutil>=5.4.3 in /usr/local/lib/python3.7/dist-packages (from tf-models-official>=2.5.1->object-detection==0.1) (5.4.8)\n",
      "Requirement already satisfied: tensorflow-datasets in /usr/local/lib/python3.7/dist-packages (from tf-models-official>=2.5.1->object-detection==0.1) (4.0.1)\n",
      "Requirement already satisfied: kaggle>=1.3.9 in /usr/local/lib/python3.7/dist-packages (from tf-models-official>=2.5.1->object-detection==0.1) (1.5.12)\n",
      "Requirement already satisfied: py-cpuinfo>=3.3.0 in /usr/local/lib/python3.7/dist-packages (from tf-models-official>=2.5.1->object-detection==0.1) (8.0.0)\n",
      "Requirement already satisfied: tensorflow-hub>=0.6.0 in /usr/local/lib/python3.7/dist-packages (from tf-models-official>=2.5.1->object-detection==0.1) (0.12.0)\n",
      "Requirement already satisfied: tensorflow>=2.5.0 in /usr/local/lib/python3.7/dist-packages (from tf-models-official>=2.5.1->object-detection==0.1) (2.6.0)\n",
      "Requirement already satisfied: google-auth-httplib2>=0.0.3 in /usr/local/lib/python3.7/dist-packages (from google-api-python-client>=1.6.7->tf-models-official>=2.5.1->object-detection==0.1) (0.0.4)\n",
      "Requirement already satisfied: google-auth>=1.16.0 in /usr/local/lib/python3.7/dist-packages (from google-api-python-client>=1.6.7->tf-models-official>=2.5.1->object-detection==0.1) (1.35.0)\n",
      "Requirement already satisfied: uritemplate<4dev,>=3.0.0 in /usr/local/lib/python3.7/dist-packages (from google-api-python-client>=1.6.7->tf-models-official>=2.5.1->object-detection==0.1) (3.0.1)\n",
      "Requirement already satisfied: google-api-core<2dev,>=1.21.0 in /usr/local/lib/python3.7/dist-packages (from google-api-python-client>=1.6.7->tf-models-official>=2.5.1->object-detection==0.1) (1.26.3)\n",
      "Requirement already satisfied: httplib2<1dev,>=0.15.0 in /usr/local/lib/python3.7/dist-packages (from google-api-python-client>=1.6.7->tf-models-official>=2.5.1->object-detection==0.1) (0.17.4)\n",
      "Requirement already satisfied: requests<3.0.0dev,>=2.18.0 in /usr/local/lib/python3.7/dist-packages (from google-api-core<2dev,>=1.21.0->google-api-python-client>=1.6.7->tf-models-official>=2.5.1->object-detection==0.1) (2.26.0)\n",
      "Requirement already satisfied: packaging>=14.3 in /usr/local/lib/python3.7/dist-packages (from google-api-core<2dev,>=1.21.0->google-api-python-client>=1.6.7->tf-models-official>=2.5.1->object-detection==0.1) (21.0)\n",
      "Requirement already satisfied: pytz in /usr/local/lib/python3.7/dist-packages (from google-api-core<2dev,>=1.21.0->google-api-python-client>=1.6.7->tf-models-official>=2.5.1->object-detection==0.1) (2018.9)\n",
      "Requirement already satisfied: protobuf>=3.12.0 in /usr/local/lib/python3.7/dist-packages (from google-api-core<2dev,>=1.21.0->google-api-python-client>=1.6.7->tf-models-official>=2.5.1->object-detection==0.1) (3.17.3)\n",
      "Requirement already satisfied: setuptools>=40.3.0 in /usr/local/lib/python3.7/dist-packages (from google-api-core<2dev,>=1.21.0->google-api-python-client>=1.6.7->tf-models-official>=2.5.1->object-detection==0.1) (57.4.0)\n",
      "Requirement already satisfied: googleapis-common-protos<2.0dev,>=1.6.0 in /usr/local/lib/python3.7/dist-packages (from google-api-core<2dev,>=1.21.0->google-api-python-client>=1.6.7->tf-models-official>=2.5.1->object-detection==0.1) (1.53.0)\n",
      "Requirement already satisfied: pyasn1-modules>=0.2.1 in /usr/local/lib/python3.7/dist-packages (from google-auth>=1.16.0->google-api-python-client>=1.6.7->tf-models-official>=2.5.1->object-detection==0.1) (0.2.8)\n",
      "Requirement already satisfied: rsa<5,>=3.1.4 in /usr/local/lib/python3.7/dist-packages (from google-auth>=1.16.0->google-api-python-client>=1.6.7->tf-models-official>=2.5.1->object-detection==0.1) (4.7.2)\n",
      "Requirement already satisfied: cachetools<5.0,>=2.0.0 in /usr/local/lib/python3.7/dist-packages (from google-auth>=1.16.0->google-api-python-client>=1.6.7->tf-models-official>=2.5.1->object-detection==0.1) (4.2.2)\n",
      "Requirement already satisfied: urllib3 in /usr/local/lib/python3.7/dist-packages (from kaggle>=1.3.9->tf-models-official>=2.5.1->object-detection==0.1) (1.24.3)\n",
      "Requirement already satisfied: python-slugify in /usr/local/lib/python3.7/dist-packages (from kaggle>=1.3.9->tf-models-official>=2.5.1->object-detection==0.1) (5.0.2)\n",
      "Requirement already satisfied: certifi in /usr/local/lib/python3.7/dist-packages (from kaggle>=1.3.9->tf-models-official>=2.5.1->object-detection==0.1) (2021.5.30)\n",
      "Requirement already satisfied: tqdm in /usr/local/lib/python3.7/dist-packages (from kaggle>=1.3.9->tf-models-official>=2.5.1->object-detection==0.1) (4.62.3)\n",
      "Requirement already satisfied: python-dateutil in /usr/local/lib/python3.7/dist-packages (from kaggle>=1.3.9->tf-models-official>=2.5.1->object-detection==0.1) (2.8.2)\n",
      "Requirement already satisfied: pyparsing>=2.0.2 in /usr/local/lib/python3.7/dist-packages (from packaging>=14.3->google-api-core<2dev,>=1.21.0->google-api-python-client>=1.6.7->tf-models-official>=2.5.1->object-detection==0.1) (2.4.7)\n",
      "Requirement already satisfied: pyasn1<0.5.0,>=0.4.6 in /usr/local/lib/python3.7/dist-packages (from pyasn1-modules>=0.2.1->google-auth>=1.16.0->google-api-python-client>=1.6.7->tf-models-official>=2.5.1->object-detection==0.1) (0.4.8)\n",
      "Requirement already satisfied: idna<4,>=2.5 in /usr/local/lib/python3.7/dist-packages (from requests<3.0.0dev,>=2.18.0->google-api-core<2dev,>=1.21.0->google-api-python-client>=1.6.7->tf-models-official>=2.5.1->object-detection==0.1) (2.10)\n",
      "Requirement already satisfied: charset-normalizer~=2.0.0 in /usr/local/lib/python3.7/dist-packages (from requests<3.0.0dev,>=2.18.0->google-api-core<2dev,>=1.21.0->google-api-python-client>=1.6.7->tf-models-official>=2.5.1->object-detection==0.1) (2.0.6)\n",
      "Requirement already satisfied: opt-einsum~=3.3.0 in /usr/local/lib/python3.7/dist-packages (from tensorflow>=2.5.0->tf-models-official>=2.5.1->object-detection==0.1) (3.3.0)\n",
      "Requirement already satisfied: absl-py~=0.10 in /usr/local/lib/python3.7/dist-packages (from tensorflow>=2.5.0->tf-models-official>=2.5.1->object-detection==0.1) (0.12.0)\n",
      "Requirement already satisfied: grpcio<2.0,>=1.37.0 in /usr/local/lib/python3.7/dist-packages (from tensorflow>=2.5.0->tf-models-official>=2.5.1->object-detection==0.1) (1.40.0)\n",
      "Requirement already satisfied: google-pasta~=0.2 in /usr/local/lib/python3.7/dist-packages (from tensorflow>=2.5.0->tf-models-official>=2.5.1->object-detection==0.1) (0.2.0)\n",
      "Requirement already satisfied: keras~=2.6 in /usr/local/lib/python3.7/dist-packages (from tensorflow>=2.5.0->tf-models-official>=2.5.1->object-detection==0.1) (2.6.0)\n",
      "Requirement already satisfied: clang~=5.0 in /usr/local/lib/python3.7/dist-packages (from tensorflow>=2.5.0->tf-models-official>=2.5.1->object-detection==0.1) (5.0)\n",
      "Requirement already satisfied: gast==0.4.0 in /usr/local/lib/python3.7/dist-packages (from tensorflow>=2.5.0->tf-models-official>=2.5.1->object-detection==0.1) (0.4.0)\n",
      "Requirement already satisfied: termcolor~=1.1.0 in /usr/local/lib/python3.7/dist-packages (from tensorflow>=2.5.0->tf-models-official>=2.5.1->object-detection==0.1) (1.1.0)\n",
      "Requirement already satisfied: wheel~=0.35 in /usr/local/lib/python3.7/dist-packages (from tensorflow>=2.5.0->tf-models-official>=2.5.1->object-detection==0.1) (0.37.0)\n",
      "Requirement already satisfied: tensorboard~=2.6 in /usr/local/lib/python3.7/dist-packages (from tensorflow>=2.5.0->tf-models-official>=2.5.1->object-detection==0.1) (2.6.0)\n",
      "Requirement already satisfied: astunparse~=1.6.3 in /usr/local/lib/python3.7/dist-packages (from tensorflow>=2.5.0->tf-models-official>=2.5.1->object-detection==0.1) (1.6.3)\n",
      "Requirement already satisfied: typing-extensions~=3.7.4 in /usr/local/lib/python3.7/dist-packages (from tensorflow>=2.5.0->tf-models-official>=2.5.1->object-detection==0.1) (3.7.4.3)\n",
      "Requirement already satisfied: tensorflow-estimator~=2.6 in /usr/local/lib/python3.7/dist-packages (from tensorflow>=2.5.0->tf-models-official>=2.5.1->object-detection==0.1) (2.6.0)\n",
      "Requirement already satisfied: h5py~=3.1.0 in /usr/local/lib/python3.7/dist-packages (from tensorflow>=2.5.0->tf-models-official>=2.5.1->object-detection==0.1) (3.1.0)\n",
      "Requirement already satisfied: flatbuffers~=1.12.0 in /usr/local/lib/python3.7/dist-packages (from tensorflow>=2.5.0->tf-models-official>=2.5.1->object-detection==0.1) (1.12)\n",
      "Requirement already satisfied: keras-preprocessing~=1.1.2 in /usr/local/lib/python3.7/dist-packages (from tensorflow>=2.5.0->tf-models-official>=2.5.1->object-detection==0.1) (1.1.2)\n",
      "Requirement already satisfied: wrapt~=1.12.1 in /usr/local/lib/python3.7/dist-packages (from tensorflow>=2.5.0->tf-models-official>=2.5.1->object-detection==0.1) (1.12.1)\n",
      "Requirement already satisfied: cached-property in /usr/local/lib/python3.7/dist-packages (from h5py~=3.1.0->tensorflow>=2.5.0->tf-models-official>=2.5.1->object-detection==0.1) (1.5.2)\n",
      "Requirement already satisfied: werkzeug>=0.11.15 in /usr/local/lib/python3.7/dist-packages (from tensorboard~=2.6->tensorflow>=2.5.0->tf-models-official>=2.5.1->object-detection==0.1) (1.0.1)\n",
      "Requirement already satisfied: tensorboard-data-server<0.7.0,>=0.6.0 in /usr/local/lib/python3.7/dist-packages (from tensorboard~=2.6->tensorflow>=2.5.0->tf-models-official>=2.5.1->object-detection==0.1) (0.6.1)\n",
      "Requirement already satisfied: tensorboard-plugin-wit>=1.6.0 in /usr/local/lib/python3.7/dist-packages (from tensorboard~=2.6->tensorflow>=2.5.0->tf-models-official>=2.5.1->object-detection==0.1) (1.8.0)\n",
      "Requirement already satisfied: markdown>=2.6.8 in /usr/local/lib/python3.7/dist-packages (from tensorboard~=2.6->tensorflow>=2.5.0->tf-models-official>=2.5.1->object-detection==0.1) (3.3.4)\n",
      "Requirement already satisfied: google-auth-oauthlib<0.5,>=0.4.1 in /usr/local/lib/python3.7/dist-packages (from tensorboard~=2.6->tensorflow>=2.5.0->tf-models-official>=2.5.1->object-detection==0.1) (0.4.6)\n",
      "Requirement already satisfied: requests-oauthlib>=0.7.0 in /usr/local/lib/python3.7/dist-packages (from google-auth-oauthlib<0.5,>=0.4.1->tensorboard~=2.6->tensorflow>=2.5.0->tf-models-official>=2.5.1->object-detection==0.1) (1.3.0)\n",
      "Requirement already satisfied: importlib-metadata in /usr/local/lib/python3.7/dist-packages (from markdown>=2.6.8->tensorboard~=2.6->tensorflow>=2.5.0->tf-models-official>=2.5.1->object-detection==0.1) (4.8.1)\n",
      "Requirement already satisfied: oauthlib>=3.0.0 in /usr/local/lib/python3.7/dist-packages (from requests-oauthlib>=0.7.0->google-auth-oauthlib<0.5,>=0.4.1->tensorboard~=2.6->tensorflow>=2.5.0->tf-models-official>=2.5.1->object-detection==0.1) (3.1.1)\n",
      "Requirement already satisfied: dm-tree~=0.1.1 in /usr/local/lib/python3.7/dist-packages (from tensorflow-model-optimization>=0.4.1->tf-models-official>=2.5.1->object-detection==0.1) (0.1.6)\n",
      "Requirement already satisfied: crcmod<2.0,>=1.7 in /usr/local/lib/python3.7/dist-packages (from apache-beam->object-detection==0.1) (1.7)\n",
      "Requirement already satisfied: hdfs<3.0.0,>=2.1.0 in /usr/local/lib/python3.7/dist-packages (from apache-beam->object-detection==0.1) (2.6.0)\n",
      "Requirement already satisfied: future<1.0.0,>=0.18.2 in /usr/local/lib/python3.7/dist-packages (from apache-beam->object-detection==0.1) (0.18.2)\n",
      "Requirement already satisfied: pymongo<4.0.0,>=3.8.0 in /usr/local/lib/python3.7/dist-packages (from apache-beam->object-detection==0.1) (3.12.0)\n",
      "Requirement already satisfied: orjson<4.0 in /usr/local/lib/python3.7/dist-packages (from apache-beam->object-detection==0.1) (3.6.3)\n",
      "Requirement already satisfied: fastavro<2,>=0.21.4 in /usr/local/lib/python3.7/dist-packages (from apache-beam->object-detection==0.1) (1.4.5)\n",
      "Requirement already satisfied: dill<0.3.2,>=0.3.1.1 in /usr/local/lib/python3.7/dist-packages (from apache-beam->object-detection==0.1) (0.3.1.1)\n",
      "Requirement already satisfied: pyarrow<5.0.0,>=0.15.1 in /usr/local/lib/python3.7/dist-packages (from apache-beam->object-detection==0.1) (3.0.0)\n",
      "Requirement already satisfied: pydot<2,>=1.2.0 in /usr/local/lib/python3.7/dist-packages (from apache-beam->object-detection==0.1) (1.3.0)\n",
      "Requirement already satisfied: docopt in /usr/local/lib/python3.7/dist-packages (from hdfs<3.0.0,>=2.1.0->apache-beam->object-detection==0.1) (0.6.2)\n",
      "Requirement already satisfied: zipp>=0.5 in /usr/local/lib/python3.7/dist-packages (from importlib-metadata->markdown>=2.6.8->tensorboard~=2.6->tensorflow>=2.5.0->tf-models-official>=2.5.1->object-detection==0.1) (3.5.0)\n",
      "Requirement already satisfied: cycler>=0.10.0 in /usr/local/lib/python3.7/dist-packages (from lvis->object-detection==0.1) (0.10.0)\n",
      "Requirement already satisfied: opencv-python>=4.1.0.25 in /usr/local/lib/python3.7/dist-packages (from lvis->object-detection==0.1) (4.1.2.30)\n",
      "Requirement already satisfied: kiwisolver>=1.1.0 in /usr/local/lib/python3.7/dist-packages (from lvis->object-detection==0.1) (1.3.2)\n",
      "Requirement already satisfied: text-unidecode>=1.3 in /usr/local/lib/python3.7/dist-packages (from python-slugify->kaggle>=1.3.9->tf-models-official>=2.5.1->object-detection==0.1) (1.3)\n",
      "Requirement already satisfied: regex in /usr/local/lib/python3.7/dist-packages (from sacrebleu->tf-models-official>=2.5.1->object-detection==0.1) (2019.12.20)\n",
      "Requirement already satisfied: colorama in /usr/local/lib/python3.7/dist-packages (from sacrebleu->tf-models-official>=2.5.1->object-detection==0.1) (0.4.4)\n",
      "Requirement already satisfied: portalocker in /usr/local/lib/python3.7/dist-packages (from sacrebleu->tf-models-official>=2.5.1->object-detection==0.1) (2.3.2)\n",
      "Requirement already satisfied: tabulate>=0.8.9 in /usr/local/lib/python3.7/dist-packages (from sacrebleu->tf-models-official>=2.5.1->object-detection==0.1) (0.8.9)\n",
      "Requirement already satisfied: scikit-learn>=0.21.3 in /usr/local/lib/python3.7/dist-packages (from seqeval->tf-models-official>=2.5.1->object-detection==0.1) (0.22.2.post1)\n",
      "Requirement already satisfied: joblib>=0.11 in /usr/local/lib/python3.7/dist-packages (from scikit-learn>=0.21.3->seqeval->tf-models-official>=2.5.1->object-detection==0.1) (1.0.1)\n",
      "Requirement already satisfied: typeguard>=2.7 in /usr/local/lib/python3.7/dist-packages (from tensorflow-addons->tf-models-official>=2.5.1->object-detection==0.1) (2.7.1)\n",
      "Requirement already satisfied: tensorflow-metadata in /usr/local/lib/python3.7/dist-packages (from tensorflow-datasets->tf-models-official>=2.5.1->object-detection==0.1) (1.2.0)\n",
      "Requirement already satisfied: importlib-resources in /usr/local/lib/python3.7/dist-packages (from tensorflow-datasets->tf-models-official>=2.5.1->object-detection==0.1) (5.2.2)\n",
      "Requirement already satisfied: attrs>=18.1.0 in /usr/local/lib/python3.7/dist-packages (from tensorflow-datasets->tf-models-official>=2.5.1->object-detection==0.1) (21.2.0)\n",
      "Requirement already satisfied: promise in /usr/local/lib/python3.7/dist-packages (from tensorflow-datasets->tf-models-official>=2.5.1->object-detection==0.1) (2.3)\n",
      "Building wheels for collected packages: object-detection\n",
      "  Building wheel for object-detection (setup.py) ... \u001b[?25l\u001b[?25hdone\n",
      "  Created wheel for object-detection: filename=object_detection-0.1-py3-none-any.whl size=1665976 sha256=6da42b9fea0e37dd4d4d9400f90148dded781e828e7afac74e5b545806b0a8df\n",
      "  Stored in directory: /tmp/pip-ephem-wheel-cache-pu00qbuf/wheels/fa/a4/d2/e9a5057e414fd46c8e543d2706cd836d64e1fcd9eccceb2329\n",
      "Successfully built object-detection\n",
      "Installing collected packages: object-detection\n",
      "  Attempting uninstall: object-detection\n",
      "    Found existing installation: object-detection 0.1\n",
      "    Uninstalling object-detection-0.1:\n",
      "      Successfully uninstalled object-detection-0.1\n",
      "Successfully installed object-detection-0.1\n"
     ]
    }
   ],
   "source": [
    "# setup.py를 이용해 추가 패키지 설치\n",
    "!python -m pip install ."
   ]
  },
  {
   "cell_type": "code",
   "execution_count": 82,
   "metadata": {
    "colab": {
     "base_uri": "https://localhost:8080/"
    },
    "executionInfo": {
     "elapsed": 2576,
     "status": "ok",
     "timestamp": 1632903161180,
     "user": {
      "displayName": "이홍주",
      "photoUrl": "https://lh3.googleusercontent.com/a/default-user=s64",
      "userId": "15116000017939649577"
     },
     "user_tz": -540
    },
    "id": "P9zGbyEu7rfL",
    "outputId": "66b1242e-7226-42f4-8e7d-b30fbad2b036"
   },
   "outputs": [
    {
     "name": "stdout",
     "output_type": "stream",
     "text": [
      "Traceback (most recent call last):\n",
      "  File \"object_detection/builders/model_builder_tf2_test.py\", line 25, in <module>\n",
      "    from object_detection.builders import model_builder\n",
      "  File \"/content/models/research/object_detection/builders/model_builder.py\", line 27, in <module>\n",
      "    from object_detection.builders import image_resizer_builder\n",
      "  File \"/content/models/research/object_detection/builders/image_resizer_builder.py\", line 19, in <module>\n",
      "    from object_detection.core import preprocessor\n",
      "  File \"<frozen importlib._bootstrap>\", line 983, in _find_and_load\n",
      "  File \"<frozen importlib._bootstrap>\", line 967, in _find_and_load_unlocked\n",
      "  File \"<frozen importlib._bootstrap>\", line 677, in _load_unlocked\n",
      "  File \"<frozen importlib._bootstrap_external>\", line 724, in exec_module\n",
      "  File \"<frozen importlib._bootstrap_external>\", line 857, in get_code\n",
      "  File \"<frozen importlib._bootstrap_external>\", line 525, in _compile_bytecode\n",
      "KeyboardInterrupt\n"
     ]
    }
   ],
   "source": [
    "# 설치 확인\n",
    "!python object_detection/builders/model_builder_tf2_test.py"
   ]
  },
  {
   "cell_type": "code",
   "execution_count": 83,
   "metadata": {
    "colab": {
     "base_uri": "https://localhost:8080/"
    },
    "executionInfo": {
     "elapsed": 547,
     "status": "ok",
     "timestamp": 1632903161720,
     "user": {
      "displayName": "이홍주",
      "photoUrl": "https://lh3.googleusercontent.com/a/default-user=s64",
      "userId": "15116000017939649577"
     },
     "user_tz": -540
    },
    "id": "at0Wxz1L7qnu",
    "outputId": "ffdcaa82-885b-401b-979f-e63e5fe307af"
   },
   "outputs": [
    {
     "name": "stdout",
     "output_type": "stream",
     "text": [
      "/content\n",
      "/content\n"
     ]
    }
   ],
   "source": [
    "# 작업 디렉토리 /content로 이동\n",
    "%cd ../..\n",
    "!pwd"
   ]
  },
  {
   "cell_type": "markdown",
   "metadata": {
    "id": "tFlaTvSq6fcD"
   },
   "source": [
    "# 경로 설정"
   ]
  },
  {
   "cell_type": "code",
   "execution_count": 84,
   "metadata": {
    "executionInfo": {
     "elapsed": 13,
     "status": "ok",
     "timestamp": 1632903161721,
     "user": {
      "displayName": "이홍주",
      "photoUrl": "https://lh3.googleusercontent.com/a/default-user=s64",
      "userId": "15116000017939649577"
     },
     "user_tz": -540
    },
    "id": "AvpOyoda6fcE"
   },
   "outputs": [],
   "source": [
    "# root 경로 (workspace)\n",
    "BASE_PATH = \"/content/drive/MyDrive/ColabNotebooks/object_detection_src/sign_language_letters/workspace\"\n",
    "# utility 기능을 구현한 python script 파일들이 있는 디렉토리\n",
    "SCRIPTS_PATH = \"/content/drive/MyDrive/ColabNotebooks/object_detection_src/sign_language_letters/scripts\"\n",
    "# Tensorflow Object Detection API2 경로\n",
    "TF_OD_API_PATH = \"/content/models\"\n",
    "# image/annotation 파일들 경로\n",
    "IMAGE_PATH = \"/content/images\"\n",
    "\n",
    "# LabelMap 파일을 저장할 디렉토리 / 파일 경로\n",
    "# label map 설정파일 = 분류할 class들을 정의한 파일\n",
    "LABEL_MAP_PATH = os.path.join(BASE_PATH, 'labelmap')\n",
    "LABEL_MAP_FILE_PATH = os.path.join(LABEL_MAP_PATH, 'label_map.pbtxt')\n",
    "\n",
    "# TF Record 저장 경로\n",
    "# dataset 관련 파일들은 google drive보다 local에 저장\n",
    "TF_RECORD_PATH = \"/content/tfrecord\"\n",
    "if not os.path.isdir(TF_RECORD_PATH):\n",
    "    os.mkdir(TF_RECORD_PATH)\n",
    "\n",
    "# custom dataset을 학습한 모델(모델, weight 파일)을 저장할 경로\n",
    "MODEL_PATH = os.path.join(BASE_PATH, 'model')\n",
    "CHECK_POINT_PATH = os.path.join(MODEL_PATH, 'checkpoint')   # weights(파라미터) 저장할 디렉토리\n",
    "EXPORT_MODEL_PATH = os.path.join(MODEL_PATH, 'export_model')   # 학습된 모델(모델+weight)을 추출해 저장할 디렉토리\n",
    "# pipeline.config 파일 = 모델구조, 학습에 필요한 정보, 평가 시 필요한 정보를 설정하는 파일.\n",
    "PIPELINE_CONFIG_PATH = os.path.join(MODEL_PATH, 'pipeline.config')\n",
    "\n",
    "# 전이학습에 사용할 다운받은 모델을 저장할 디렉토리\n",
    "PRE_TRAINED_MODEL_PATH = os.path.join(BASE_PATH, 'pre_trained_model')"
   ]
  },
  {
   "cell_type": "markdown",
   "metadata": {
    "id": "rc3czwIt6fcF"
   },
   "source": [
    "# Custom data 학습 시키기\n",
    "\n",
    "## 다음 세가지 작업이 필요\n",
    "<span style='font-weight:bold;font-size:1.3em'>1. Label Map 파일 생성</span>\n",
    "- 분류 하고자 하는 object의 class와 그 class id 를 pbtxt text 파일로 작성\n",
    "- `models\\research\\object_detection\\data`\n",
    "\n",
    "```\n",
    "item {\n",
    "  id: 1\n",
    "  name: 'aeroplane'\n",
    "}\n",
    "\n",
    "item {\n",
    "  id: 2\n",
    "  name: 'bicycle'\n",
    "}\n",
    "...\n",
    "```\n",
    "\n",
    "<span style='font-weight:bold;font-size:1.3em'>2. pipeline.config</span>\n",
    "- Model을 학습, 검증하기 위해 필요한 설정을 하는 파일\n",
    "- `models\\research\\object_detection\\samples\\configs`\n",
    "\n",
    "<span style='font-weight:bold;font-size:1.3em'>3. 학습/검증/테스트에 사용할 데이터셋을 TFRecord 로 구성</span>\n",
    "- 주요 데이터셋을 TFRecord로 생성하는 코드\n",
    "- `models\\research\\object_detection\\dataset_tools`"
   ]
  },
  {
   "cell_type": "markdown",
   "metadata": {
    "id": "M07MPnxl6fcG"
   },
   "source": [
    "# 설정파일 설정 및 데이터셋 준비"
   ]
  },
  {
   "cell_type": "markdown",
   "metadata": {
    "id": "TErZJNXH6fcG"
   },
   "source": [
    "# Label Map 생성"
   ]
  },
  {
   "cell_type": "code",
   "execution_count": 85,
   "metadata": {
    "executionInfo": {
     "elapsed": 23,
     "status": "ok",
     "timestamp": 1632903161731,
     "user": {
      "displayName": "이홍주",
      "photoUrl": "https://lh3.googleusercontent.com/a/default-user=s64",
      "userId": "15116000017939649577"
     },
     "user_tz": -540
    },
    "id": "KLRzT0Aq6fcI"
   },
   "outputs": [],
   "source": [
    "names = list('ABCDEFGHIJKLMNOPQRSTUVWXYZ')\n",
    "# len(names), names\n",
    "ids = range(1, 27)"
   ]
  },
  {
   "cell_type": "code",
   "execution_count": 86,
   "metadata": {
    "executionInfo": {
     "elapsed": 25,
     "status": "ok",
     "timestamp": 1632903161734,
     "user": {
      "displayName": "이홍주",
      "photoUrl": "https://lh3.googleusercontent.com/a/default-user=s64",
      "userId": "15116000017939649577"
     },
     "user_tz": -540
    },
    "id": "GJpKWa5x6fcJ"
   },
   "outputs": [],
   "source": [
    "# File IO를 이용해 label map 파일을 출력\n",
    "with open(LABEL_MAP_FILE_PATH, 'wt') as fw:\n",
    "    for id, name in zip(ids, names):\n",
    "        fw.write('item {\\n')\n",
    "        fw.write(f'\\tid:{id}\\n')\n",
    "        fw.write(f\"\\tname:'{name}'\\n\")\n",
    "        fw.write('}\\n')"
   ]
  },
  {
   "cell_type": "markdown",
   "metadata": {
    "id": "Jr2mkycr6fcK"
   },
   "source": [
    "# TFRecord 생성"
   ]
  },
  {
   "cell_type": "code",
   "execution_count": 87,
   "metadata": {
    "colab": {
     "base_uri": "https://localhost:8080/",
     "height": 72
    },
    "executionInfo": {
     "elapsed": 26,
     "status": "ok",
     "timestamp": 1632903161735,
     "user": {
      "displayName": "이홍주",
      "photoUrl": "https://lh3.googleusercontent.com/a/default-user=s64",
      "userId": "15116000017939649577"
     },
     "user_tz": -540
    },
    "id": "t-Z42lnADm06",
    "outputId": "d54c93e0-9629-4c25-ce35-fdd9c12563ab"
   },
   "outputs": [
    {
     "data": {
      "application/vnd.google.colaboratory.intrinsic+json": {
       "type": "string"
      },
      "text/plain": [
       "'!python /content/drive/MyDrive/ColabNotebooks/object_detection_src/sign_language_letters/scripts/generate_tfrecord.py -x /content/images/train -l /content/drive/MyDrive/ColabNotebooks/object_detection_src/sign_language_letters/workspace/labelmap/label_map.pbtxt -o /content/tfrecord/train.tfr'"
      ]
     },
     "execution_count": 87,
     "metadata": {},
     "output_type": "execute_result"
    }
   ],
   "source": [
    "# train set tfrecord 생성 명령어\n",
    "f\"!python {SCRIPTS_PATH}/generate_tfrecord.py -x {IMAGE_PATH}/train -l {LABEL_MAP_FILE_PATH} -o {TF_RECORD_PATH}/train.tfr\""
   ]
  },
  {
   "cell_type": "code",
   "execution_count": 88,
   "metadata": {
    "colab": {
     "base_uri": "https://localhost:8080/"
    },
    "executionInfo": {
     "elapsed": 4375,
     "status": "ok",
     "timestamp": 1632903166087,
     "user": {
      "displayName": "이홍주",
      "photoUrl": "https://lh3.googleusercontent.com/a/default-user=s64",
      "userId": "15116000017939649577"
     },
     "user_tz": -540
    },
    "id": "6eQ4fzFvDm06",
    "outputId": "0c85490d-50a9-4336-c71e-fc717f4fc563"
   },
   "outputs": [
    {
     "name": "stdout",
     "output_type": "stream",
     "text": [
      "\n"
     ]
    }
   ],
   "source": [
    "!python /content/drive/MyDrive/ColabNotebooks/object_detection_src/sign_language_letters/scripts/generate_tfrecord.py -x /content/images/train -l /content/drive/MyDrive/ColabNotebooks/object_detection_src/sign_language_letters/workspace/labelmap/label_map.pbtxt -o /content/tfrecord/train.tfr"
   ]
  },
  {
   "cell_type": "code",
   "execution_count": 89,
   "metadata": {
    "colab": {
     "base_uri": "https://localhost:8080/",
     "height": 72
    },
    "executionInfo": {
     "elapsed": 14,
     "status": "ok",
     "timestamp": 1632903166089,
     "user": {
      "displayName": "이홍주",
      "photoUrl": "https://lh3.googleusercontent.com/a/default-user=s64",
      "userId": "15116000017939649577"
     },
     "user_tz": -540
    },
    "id": "CjtOvx5bDm06",
    "outputId": "9db0e36e-efbc-4535-fd0a-bb3251c6044b"
   },
   "outputs": [
    {
     "data": {
      "application/vnd.google.colaboratory.intrinsic+json": {
       "type": "string"
      },
      "text/plain": [
       "'!python /content/drive/MyDrive/ColabNotebooks/object_detection_src/sign_language_letters/scripts/generate_tfrecord.py -x /content/images/valid -l /content/drive/MyDrive/ColabNotebooks/object_detection_src/sign_language_letters/workspace/labelmap/label_map.pbtxt -o /content/tfrecord/valid.tfr'"
      ]
     },
     "execution_count": 89,
     "metadata": {},
     "output_type": "execute_result"
    }
   ],
   "source": [
    "# validation set 생성\n",
    "f\"!python {SCRIPTS_PATH}/generate_tfrecord.py -x {IMAGE_PATH}/valid -l {LABEL_MAP_FILE_PATH} -o {TF_RECORD_PATH}/valid.tfr\""
   ]
  },
  {
   "cell_type": "code",
   "execution_count": 90,
   "metadata": {
    "colab": {
     "base_uri": "https://localhost:8080/"
    },
    "executionInfo": {
     "elapsed": 3458,
     "status": "ok",
     "timestamp": 1632903169537,
     "user": {
      "displayName": "이홍주",
      "photoUrl": "https://lh3.googleusercontent.com/a/default-user=s64",
      "userId": "15116000017939649577"
     },
     "user_tz": -540
    },
    "id": "GL2EOwdvJqFy",
    "outputId": "8e598c9f-8bc8-404d-8211-35889646841e"
   },
   "outputs": [
    {
     "name": "stdout",
     "output_type": "stream",
     "text": [
      "Successfully created the TFRecord file: /content/tfrecord/valid.tfr\n"
     ]
    }
   ],
   "source": [
    "!python /content/drive/MyDrive/ColabNotebooks/object_detection_src/sign_language_letters/scripts/generate_tfrecord.py -x /content/images/valid -l /content/drive/MyDrive/ColabNotebooks/object_detection_src/sign_language_letters/workspace/labelmap/label_map.pbtxt -o /content/tfrecord/valid.tfr"
   ]
  },
  {
   "cell_type": "code",
   "execution_count": 91,
   "metadata": {
    "colab": {
     "base_uri": "https://localhost:8080/",
     "height": 72
    },
    "executionInfo": {
     "elapsed": 11,
     "status": "ok",
     "timestamp": 1632903169538,
     "user": {
      "displayName": "이홍주",
      "photoUrl": "https://lh3.googleusercontent.com/a/default-user=s64",
      "userId": "15116000017939649577"
     },
     "user_tz": -540
    },
    "id": "UZcZq8s0JrX1",
    "outputId": "63d342b7-9678-4706-8174-f2e9fd434b7c"
   },
   "outputs": [
    {
     "data": {
      "application/vnd.google.colaboratory.intrinsic+json": {
       "type": "string"
      },
      "text/plain": [
       "'!python /content/drive/MyDrive/ColabNotebooks/object_detection_src/sign_language_letters/scripts/generate_tfrecord.py -x /content/images/test -l /content/drive/MyDrive/ColabNotebooks/object_detection_src/sign_language_letters/workspace/labelmap/label_map.pbtxt -o /content/tfrecord/test.tfr'"
      ]
     },
     "execution_count": 91,
     "metadata": {},
     "output_type": "execute_result"
    }
   ],
   "source": [
    "# test set 생성\n",
    "f\"!python {SCRIPTS_PATH}/generate_tfrecord.py -x {IMAGE_PATH}/test -l {LABEL_MAP_FILE_PATH} -o {TF_RECORD_PATH}/test.tfr\""
   ]
  },
  {
   "cell_type": "code",
   "execution_count": 92,
   "metadata": {
    "colab": {
     "base_uri": "https://localhost:8080/"
    },
    "executionInfo": {
     "elapsed": 3175,
     "status": "ok",
     "timestamp": 1632903172704,
     "user": {
      "displayName": "이홍주",
      "photoUrl": "https://lh3.googleusercontent.com/a/default-user=s64",
      "userId": "15116000017939649577"
     },
     "user_tz": -540
    },
    "id": "jc06QvBIDm07",
    "outputId": "f1e606ce-aebd-471b-8eb3-ad0d8a3cf239"
   },
   "outputs": [
    {
     "name": "stdout",
     "output_type": "stream",
     "text": [
      "Successfully created the TFRecord file: /content/tfrecord/test.tfr\n"
     ]
    }
   ],
   "source": [
    "!python /content/drive/MyDrive/ColabNotebooks/object_detection_src/sign_language_letters/scripts/generate_tfrecord.py -x /content/images/test -l /content/drive/MyDrive/ColabNotebooks/object_detection_src/sign_language_letters/workspace/labelmap/label_map.pbtxt -o /content/tfrecord/test.tfr"
   ]
  },
  {
   "cell_type": "code",
   "execution_count": 93,
   "metadata": {
    "colab": {
     "base_uri": "https://localhost:8080/",
     "height": 54
    },
    "executionInfo": {
     "elapsed": 15,
     "status": "ok",
     "timestamp": 1632903172708,
     "user": {
      "displayName": "이홍주",
      "photoUrl": "https://lh3.googleusercontent.com/a/default-user=s64",
      "userId": "15116000017939649577"
     },
     "user_tz": -540
    },
    "id": "MuugGtcUKpPi",
    "outputId": "75e27dfb-f5db-43c7-df3b-1dd3f369ab68"
   },
   "outputs": [
    {
     "data": {
      "application/vnd.google.colaboratory.intrinsic+json": {
       "type": "string"
      },
      "text/plain": [
       "'!cp /content/tfrecord/*.tfr /content/drive/MyDrive/ColabNotebooks/object_detection_src/sign_language_letters/workspace/tfrecord'"
      ]
     },
     "execution_count": 93,
     "metadata": {},
     "output_type": "execute_result"
    }
   ],
   "source": [
    "# 생성된 tfrecord 파일을 google drive에 카피(백업)\n",
    "f\"!cp {TF_RECORD_PATH}/*.tfr {os.path.join(BASE_PATH, 'tfrecord')}\""
   ]
  },
  {
   "cell_type": "code",
   "execution_count": 94,
   "metadata": {
    "executionInfo": {
     "elapsed": 402,
     "status": "ok",
     "timestamp": 1632903173097,
     "user": {
      "displayName": "이홍주",
      "photoUrl": "https://lh3.googleusercontent.com/a/default-user=s64",
      "userId": "15116000017939649577"
     },
     "user_tz": -540
    },
    "id": "kUCtO-YhKpNP"
   },
   "outputs": [],
   "source": [
    "!cp /content/tfrecord/*.tfr /content/drive/MyDrive/ColabNotebooks/object_detection_src/sign_language_letters/workspace/tfrecord"
   ]
  },
  {
   "cell_type": "markdown",
   "metadata": {
    "id": "lq69yBSD6fcM"
   },
   "source": [
    "# Pretrained Model Download\n",
    "- Tensorflow object detection API는 MS COCO 2017 dataset으로 미리 학습시킨 다양한 Object Detection 모델을 제공한다.\n",
    "- tf2 detection Model Zoo: https://github.com/tensorflow/models/blob/master/research/object_detection/g3doc/tf2_detection_zoo.md\n",
    "- SSD MobileNet V2 FPNLite 320x320 다운로드\n",
    "    - 성능은 떨어지지만 학습속도가 빠르다."
   ]
  },
  {
   "cell_type": "code",
   "execution_count": 95,
   "metadata": {
    "colab": {
     "base_uri": "https://localhost:8080/"
    },
    "executionInfo": {
     "elapsed": 465,
     "status": "ok",
     "timestamp": 1632903173557,
     "user": {
      "displayName": "이홍주",
      "photoUrl": "https://lh3.googleusercontent.com/a/default-user=s64",
      "userId": "15116000017939649577"
     },
     "user_tz": -540
    },
    "id": "q_-9h7r26fcN",
    "outputId": "04026faf-411c-4b40-ded3-b954685fd5d0"
   },
   "outputs": [
    {
     "name": "stdout",
     "output_type": "stream",
     "text": [
      "--2021-09-29 08:12:50--  http://download.tensorflow.org/models/object_detection/tf2/20200711/ssd_mobilenet_v2_fpnlite_320x320_coco17_tpu-8.tar.gz\n",
      "Resolving download.tensorflow.org (download.tensorflow.org)... 172.217.214.128, 2607:f8b0:4001:c05::80\n",
      "Connecting to download.tensorflow.org (download.tensorflow.org)|172.217.214.128|:80... connected.\n",
      "HTTP request sent, awaiting response... 200 OK\n",
      "Length: 20515344 (20M) [application/x-tar]\n",
      "Saving to: ‘ssd_mobilenet_v2_fpnlite_320x320_coco17_tpu-8.tar.gz’\n",
      "\n",
      "ssd_mobilenet_v2_fp 100%[===================>]  19.56M  --.-KB/s    in 0.1s    \n",
      "\n",
      "2021-09-29 08:12:50 (134 MB/s) - ‘ssd_mobilenet_v2_fpnlite_320x320_coco17_tpu-8.tar.gz’ saved [20515344/20515344]\n",
      "\n"
     ]
    }
   ],
   "source": [
    "# 리눅스 명령어 wget url: url의 파일을 다운로드하는 리눅스 명령어\n",
    "!wget http://download.tensorflow.org/models/object_detection/tf2/20200711/ssd_mobilenet_v2_fpnlite_320x320_coco17_tpu-8.tar.gz"
   ]
  },
  {
   "cell_type": "code",
   "execution_count": 96,
   "metadata": {
    "colab": {
     "base_uri": "https://localhost:8080/",
     "height": 54
    },
    "executionInfo": {
     "elapsed": 20,
     "status": "ok",
     "timestamp": 1632903173559,
     "user": {
      "displayName": "이홍주",
      "photoUrl": "https://lh3.googleusercontent.com/a/default-user=s64",
      "userId": "15116000017939649577"
     },
     "user_tz": -540
    },
    "id": "zsqqoOR36fcN",
    "outputId": "7f669384-76c4-4d05-812e-56e7689511d8"
   },
   "outputs": [
    {
     "data": {
      "application/vnd.google.colaboratory.intrinsic+json": {
       "type": "string"
      },
      "text/plain": [
       "'!mv ssd_mobilenet_v2_fpnlite_320x320_coco17_tpu-8.tar.gz /content/drive/MyDrive/ColabNotebooks/object_detection_src/sign_language_letters/workspace/pre_trained_model'"
      ]
     },
     "execution_count": 96,
     "metadata": {},
     "output_type": "execute_result"
    }
   ],
   "source": [
    "# 다운받은 모델을 google drive workspace pretrained model로 옮기고 압축 풀기\n",
    "# !mv 원본경로 타겟경로\n",
    "f\"!mv ssd_mobilenet_v2_fpnlite_320x320_coco17_tpu-8.tar.gz {PRE_TRAINED_MODEL_PATH}\""
   ]
  },
  {
   "cell_type": "code",
   "execution_count": 97,
   "metadata": {
    "executionInfo": {
     "elapsed": 20,
     "status": "ok",
     "timestamp": 1632903173562,
     "user": {
      "displayName": "이홍주",
      "photoUrl": "https://lh3.googleusercontent.com/a/default-user=s64",
      "userId": "15116000017939649577"
     },
     "user_tz": -540
    },
    "id": "aI1YMYNw6fcN"
   },
   "outputs": [],
   "source": [
    "!mv ssd_mobilenet_v2_fpnlite_320x320_coco17_tpu-8.tar.gz /content/drive/MyDrive/ColabNotebooks/object_detection_src/sign_language_letters/workspace/pre_trained_model"
   ]
  },
  {
   "cell_type": "code",
   "execution_count": 98,
   "metadata": {
    "colab": {
     "base_uri": "https://localhost:8080/",
     "height": 72
    },
    "executionInfo": {
     "elapsed": 21,
     "status": "ok",
     "timestamp": 1632903173564,
     "user": {
      "displayName": "이홍주",
      "photoUrl": "https://lh3.googleusercontent.com/a/default-user=s64",
      "userId": "15116000017939649577"
     },
     "user_tz": -540
    },
    "id": "Q2QGdqyR8kxW",
    "outputId": "48ef8a39-2b77-4cb5-fbbc-6eb18396f3f2"
   },
   "outputs": [
    {
     "data": {
      "application/vnd.google.colaboratory.intrinsic+json": {
       "type": "string"
      },
      "text/plain": [
       "'!tar -zxvf /content/drive/MyDrive/ColabNotebooks/object_detection_src/sign_language_letters/workspace/pre_trained_model/ssd_mobilenet_v2_fpnlite_320x320_coco17_tpu-8.tar.gz -C /content/drive/MyDrive/ColabNotebooks/object_detection_src/sign_language_letters/workspace/pre_trained_model'"
      ]
     },
     "execution_count": 98,
     "metadata": {},
     "output_type": "execute_result"
    }
   ],
   "source": [
    "# 압축 풀기\n",
    "# tar.gz : !tar -zxvf 압축파일경로 -C 압축풀경로\n",
    "f\"!tar -zxvf {PRE_TRAINED_MODEL_PATH}/ssd_mobilenet_v2_fpnlite_320x320_coco17_tpu-8.tar.gz -C {PRE_TRAINED_MODEL_PATH}\""
   ]
  },
  {
   "cell_type": "code",
   "execution_count": 99,
   "metadata": {
    "colab": {
     "base_uri": "https://localhost:8080/"
    },
    "executionInfo": {
     "elapsed": 1032,
     "status": "ok",
     "timestamp": 1632903174576,
     "user": {
      "displayName": "이홍주",
      "photoUrl": "https://lh3.googleusercontent.com/a/default-user=s64",
      "userId": "15116000017939649577"
     },
     "user_tz": -540
    },
    "id": "-d5EPJLQ8mig",
    "outputId": "e20f975c-2b6c-40a1-9741-445d80edaa54"
   },
   "outputs": [
    {
     "name": "stdout",
     "output_type": "stream",
     "text": [
      "ssd_mobilenet_v2_fpnlite_320x320_coco17_tpu-8/\n",
      "ssd_mobilenet_v2_fpnlite_320x320_coco17_tpu-8/checkpoint/\n",
      "ssd_mobilenet_v2_fpnlite_320x320_coco17_tpu-8/checkpoint/ckpt-0.data-00000-of-00001\n",
      "ssd_mobilenet_v2_fpnlite_320x320_coco17_tpu-8/checkpoint/checkpoint\n",
      "ssd_mobilenet_v2_fpnlite_320x320_coco17_tpu-8/checkpoint/ckpt-0.index\n",
      "ssd_mobilenet_v2_fpnlite_320x320_coco17_tpu-8/pipeline.config\n",
      "ssd_mobilenet_v2_fpnlite_320x320_coco17_tpu-8/saved_model/\n",
      "ssd_mobilenet_v2_fpnlite_320x320_coco17_tpu-8/saved_model/saved_model.pb\n",
      "ssd_mobilenet_v2_fpnlite_320x320_coco17_tpu-8/saved_model/variables/\n",
      "ssd_mobilenet_v2_fpnlite_320x320_coco17_tpu-8/saved_model/variables/variables.data-00000-of-00001\n",
      "ssd_mobilenet_v2_fpnlite_320x320_coco17_tpu-8/saved_model/variables/variables.index\n"
     ]
    }
   ],
   "source": [
    "!tar -zxvf /content/drive/MyDrive/ColabNotebooks/object_detection_src/sign_language_letters/workspace/pre_trained_model/ssd_mobilenet_v2_fpnlite_320x320_coco17_tpu-8.tar.gz -C /content/drive/MyDrive/ColabNotebooks/object_detection_src/sign_language_letters/workspace/pre_trained_model"
   ]
  },
  {
   "cell_type": "markdown",
   "metadata": {
    "id": "h1p0r3II6fcN"
   },
   "source": [
    "# Pipeline.config 설정 변경"
   ]
  },
  {
   "cell_type": "markdown",
   "metadata": {
    "id": "VlXp-kA_6fcO"
   },
   "source": [
    "## pipeline.config  파일 개요\n",
    "- Model을 학습, 검증하기 위해 필요한 설정을 하는 파일\n",
    "- 구조\n",
    "    - https://github.com/tensorflow/models/blob/master/research/object_detection/g3doc/configuring_jobs.md\n",
    "    - **model**\n",
    "        - 사용하는 모델에 대한 설정\n",
    "        - class 개수\n",
    "        - 입력이미지 size\n",
    "        - anchor 설정\n",
    "    - **train_config**\n",
    "        - Train(학습)관련 설정\n",
    "        - batch_size\n",
    "            - 사용하는 GPU의 메모리 크기에 맞게 조절한다.\n",
    "        - image augmentation관련 설정 등\n",
    "        - optimizer관련 설정\n",
    "        - 학습에 사용할 weight 파일의 경로\n",
    "    - **train_input_reader**\n",
    "        - labelmap 파일 경로\n",
    "        - train tfrecord 파일 경로\n",
    "    - **eval_config**\n",
    "        - evaluation(평가)을 위해 사용하는 metric 설정\n",
    "    - **eval_input_reader**\n",
    "        - labelmap 파일 경로\n",
    "        - evaluation tfreord 파일 경로\n",
    "        "
   ]
  },
  {
   "cell_type": "markdown",
   "metadata": {
    "id": "fv9VRU7Y6fcO"
   },
   "source": [
    "## Pretrain model의 pipeline.config 파일 카피\n",
    "- pretrained 모델의 압축을 풀면 pipeline.config 파일이 있다.\n",
    "- workspace\\model 로 copy 한다."
   ]
  },
  {
   "cell_type": "code",
   "execution_count": 100,
   "metadata": {
    "executionInfo": {
     "elapsed": 34,
     "status": "ok",
     "timestamp": 1632903174580,
     "user": {
      "displayName": "이홍주",
      "photoUrl": "https://lh3.googleusercontent.com/a/default-user=s64",
      "userId": "15116000017939649577"
     },
     "user_tz": -540
    },
    "id": "-gP4dmZf6fcO"
   },
   "outputs": [],
   "source": [
    "PRE_TRAINED_MODEL_PATH = os.path.join(PRE_TRAINED_MODEL_PATH, \"ssd_mobilenet_v2_fpnlite_320x320_coco17_tpu-8\")"
   ]
  },
  {
   "cell_type": "code",
   "execution_count": 101,
   "metadata": {
    "colab": {
     "base_uri": "https://localhost:8080/",
     "height": 72
    },
    "executionInfo": {
     "elapsed": 35,
     "status": "ok",
     "timestamp": 1632903174582,
     "user": {
      "displayName": "이홍주",
      "photoUrl": "https://lh3.googleusercontent.com/a/default-user=s64",
      "userId": "15116000017939649577"
     },
     "user_tz": -540
    },
    "id": "XsYbDMcI8svQ",
    "outputId": "4a6258a5-9bbe-49bc-f638-ab32f4a29432"
   },
   "outputs": [
    {
     "data": {
      "application/vnd.google.colaboratory.intrinsic+json": {
       "type": "string"
      },
      "text/plain": [
       "'!cp /content/drive/MyDrive/ColabNotebooks/object_detection_src/sign_language_letters/workspace/pre_trained_model/ssd_mobilenet_v2_fpnlite_320x320_coco17_tpu-8/pipeline.config /content/drive/MyDrive/ColabNotebooks/object_detection_src/sign_language_letters/workspace/model/pipeline.config'"
      ]
     },
     "execution_count": 101,
     "metadata": {},
     "output_type": "execute_result"
    }
   ],
   "source": [
    "f\"!cp {os.path.join(PRE_TRAINED_MODEL_PATH, 'pipeline.config')} {PIPELINE_CONFIG_PATH}\""
   ]
  },
  {
   "cell_type": "code",
   "execution_count": 102,
   "metadata": {
    "executionInfo": {
     "elapsed": 40,
     "status": "ok",
     "timestamp": 1632903174589,
     "user": {
      "displayName": "이홍주",
      "photoUrl": "https://lh3.googleusercontent.com/a/default-user=s64",
      "userId": "15116000017939649577"
     },
     "user_tz": -540
    },
    "id": "rIi-Lt2E6fcO"
   },
   "outputs": [],
   "source": [
    "!cp /content/drive/MyDrive/ColabNotebooks/object_detection_src/sign_language_letters/workspace/pre_trained_model/ssd_mobilenet_v2_fpnlite_320x320_coco17_tpu-8/pipeline.config /content/drive/MyDrive/ColabNotebooks/object_detection_src/sign_language_letters/workspace/model/pipeline.config"
   ]
  },
  {
   "cell_type": "markdown",
   "metadata": {
    "id": "ZJAsq7EN6fcO"
   },
   "source": [
    "## pipeline.config 설정 변경\n",
    "- pipeline.config 내용 변경은 파일을 **직접 변경**할 수도 있고 **코드상에서 변경**할 수도 있다.\n",
    "\n",
    "### 필수 변경사항\n",
    "-  class개수 변경\n",
    "-  train 배치 사이즈 변경 - gpu 메모리 사양에 맞게 변경한다.\n",
    "-  pretrained model 경로 설정\n",
    "-  pretrained model이 어떤 종류의 모델인지 설정\n",
    "-  train 관련 변경\n",
    "    -  labelmap 파일 경로 설정\n",
    "    -  train 용 tfrecord 파일 경로 지정\n",
    "-  evaluation 관련 변경\n",
    "    -  labelmap 파일 경로 설정\n",
    "    -  evaluation 용 tfrecord 파일 경로 지정"
   ]
  },
  {
   "cell_type": "code",
   "execution_count": 103,
   "metadata": {
    "executionInfo": {
     "elapsed": 43,
     "status": "ok",
     "timestamp": 1632903174594,
     "user": {
      "displayName": "이홍주",
      "photoUrl": "https://lh3.googleusercontent.com/a/default-user=s64",
      "userId": "15116000017939649577"
     },
     "user_tz": -540
    },
    "id": "4EPSTPbp6fcP"
   },
   "outputs": [],
   "source": [
    "# Tensorflow Object Detection API에서 제공하는 Library를 이용해 pipeline.config 변환 작업\n",
    "import tensorflow as tf\n",
    "from object_detection.utils import config_util\n",
    "from object_detection.protos import pipeline_pb2\n",
    "from google.protobuf import text_format"
   ]
  },
  {
   "cell_type": "code",
   "execution_count": 104,
   "metadata": {
    "colab": {
     "base_uri": "https://localhost:8080/"
    },
    "executionInfo": {
     "elapsed": 44,
     "status": "ok",
     "timestamp": 1632903174595,
     "user": {
      "displayName": "이홍주",
      "photoUrl": "https://lh3.googleusercontent.com/a/default-user=s64",
      "userId": "15116000017939649577"
     },
     "user_tz": -540
    },
    "id": "0Y1s5hpu6fcP",
    "outputId": "d2c7b4cf-bc42-49a6-87a2-7cecf6651292"
   },
   "outputs": [
    {
     "name": "stdout",
     "output_type": "stream",
     "text": [
      "<class 'dict'>\n"
     ]
    },
    {
     "data": {
      "text/plain": [
       "{'eval_config': metrics_set: \"coco_detection_metrics\"\n",
       " use_moving_averages: false,\n",
       " 'eval_input_config': label_map_path: \"PATH_TO_BE_CONFIGURED\"\n",
       " shuffle: false\n",
       " num_epochs: 1\n",
       " tf_record_input_reader {\n",
       "   input_path: \"PATH_TO_BE_CONFIGURED\"\n",
       " },\n",
       " 'eval_input_configs': [label_map_path: \"PATH_TO_BE_CONFIGURED\"\n",
       " shuffle: false\n",
       " num_epochs: 1\n",
       " tf_record_input_reader {\n",
       "   input_path: \"PATH_TO_BE_CONFIGURED\"\n",
       " }\n",
       " ],\n",
       " 'model': ssd {\n",
       "   num_classes: 90\n",
       "   image_resizer {\n",
       "     fixed_shape_resizer {\n",
       "       height: 320\n",
       "       width: 320\n",
       "     }\n",
       "   }\n",
       "   feature_extractor {\n",
       "     type: \"ssd_mobilenet_v2_fpn_keras\"\n",
       "     depth_multiplier: 1.0\n",
       "     min_depth: 16\n",
       "     conv_hyperparams {\n",
       "       regularizer {\n",
       "         l2_regularizer {\n",
       "           weight: 3.9999998989515007e-05\n",
       "         }\n",
       "       }\n",
       "       initializer {\n",
       "         random_normal_initializer {\n",
       "           mean: 0.0\n",
       "           stddev: 0.009999999776482582\n",
       "         }\n",
       "       }\n",
       "       activation: RELU_6\n",
       "       batch_norm {\n",
       "         decay: 0.996999979019165\n",
       "         scale: true\n",
       "         epsilon: 0.0010000000474974513\n",
       "       }\n",
       "     }\n",
       "     use_depthwise: true\n",
       "     override_base_feature_extractor_hyperparams: true\n",
       "     fpn {\n",
       "       min_level: 3\n",
       "       max_level: 7\n",
       "       additional_layer_depth: 128\n",
       "     }\n",
       "   }\n",
       "   box_coder {\n",
       "     faster_rcnn_box_coder {\n",
       "       y_scale: 10.0\n",
       "       x_scale: 10.0\n",
       "       height_scale: 5.0\n",
       "       width_scale: 5.0\n",
       "     }\n",
       "   }\n",
       "   matcher {\n",
       "     argmax_matcher {\n",
       "       matched_threshold: 0.5\n",
       "       unmatched_threshold: 0.5\n",
       "       ignore_thresholds: false\n",
       "       negatives_lower_than_unmatched: true\n",
       "       force_match_for_each_row: true\n",
       "       use_matmul_gather: true\n",
       "     }\n",
       "   }\n",
       "   similarity_calculator {\n",
       "     iou_similarity {\n",
       "     }\n",
       "   }\n",
       "   box_predictor {\n",
       "     weight_shared_convolutional_box_predictor {\n",
       "       conv_hyperparams {\n",
       "         regularizer {\n",
       "           l2_regularizer {\n",
       "             weight: 3.9999998989515007e-05\n",
       "           }\n",
       "         }\n",
       "         initializer {\n",
       "           random_normal_initializer {\n",
       "             mean: 0.0\n",
       "             stddev: 0.009999999776482582\n",
       "           }\n",
       "         }\n",
       "         activation: RELU_6\n",
       "         batch_norm {\n",
       "           decay: 0.996999979019165\n",
       "           scale: true\n",
       "           epsilon: 0.0010000000474974513\n",
       "         }\n",
       "       }\n",
       "       depth: 128\n",
       "       num_layers_before_predictor: 4\n",
       "       kernel_size: 3\n",
       "       class_prediction_bias_init: -4.599999904632568\n",
       "       share_prediction_tower: true\n",
       "       use_depthwise: true\n",
       "     }\n",
       "   }\n",
       "   anchor_generator {\n",
       "     multiscale_anchor_generator {\n",
       "       min_level: 3\n",
       "       max_level: 7\n",
       "       anchor_scale: 4.0\n",
       "       aspect_ratios: 1.0\n",
       "       aspect_ratios: 2.0\n",
       "       aspect_ratios: 0.5\n",
       "       scales_per_octave: 2\n",
       "     }\n",
       "   }\n",
       "   post_processing {\n",
       "     batch_non_max_suppression {\n",
       "       score_threshold: 9.99999993922529e-09\n",
       "       iou_threshold: 0.6000000238418579\n",
       "       max_detections_per_class: 100\n",
       "       max_total_detections: 100\n",
       "       use_static_shapes: false\n",
       "     }\n",
       "     score_converter: SIGMOID\n",
       "   }\n",
       "   normalize_loss_by_num_matches: true\n",
       "   loss {\n",
       "     localization_loss {\n",
       "       weighted_smooth_l1 {\n",
       "       }\n",
       "     }\n",
       "     classification_loss {\n",
       "       weighted_sigmoid_focal {\n",
       "         gamma: 2.0\n",
       "         alpha: 0.25\n",
       "       }\n",
       "     }\n",
       "     classification_weight: 1.0\n",
       "     localization_weight: 1.0\n",
       "   }\n",
       "   encode_background_as_zeros: true\n",
       "   normalize_loc_loss_by_codesize: true\n",
       "   inplace_batchnorm_update: true\n",
       "   freeze_batchnorm: false\n",
       " },\n",
       " 'train_config': batch_size: 128\n",
       " data_augmentation_options {\n",
       "   random_horizontal_flip {\n",
       "   }\n",
       " }\n",
       " data_augmentation_options {\n",
       "   random_crop_image {\n",
       "     min_object_covered: 0.0\n",
       "     min_aspect_ratio: 0.75\n",
       "     max_aspect_ratio: 3.0\n",
       "     min_area: 0.75\n",
       "     max_area: 1.0\n",
       "     overlap_thresh: 0.0\n",
       "   }\n",
       " }\n",
       " sync_replicas: true\n",
       " optimizer {\n",
       "   momentum_optimizer {\n",
       "     learning_rate {\n",
       "       cosine_decay_learning_rate {\n",
       "         learning_rate_base: 0.07999999821186066\n",
       "         total_steps: 50000\n",
       "         warmup_learning_rate: 0.026666000485420227\n",
       "         warmup_steps: 1000\n",
       "       }\n",
       "     }\n",
       "     momentum_optimizer_value: 0.8999999761581421\n",
       "   }\n",
       "   use_moving_average: false\n",
       " }\n",
       " fine_tune_checkpoint: \"PATH_TO_BE_CONFIGURED\"\n",
       " num_steps: 50000\n",
       " startup_delay_steps: 0.0\n",
       " replicas_to_aggregate: 8\n",
       " max_number_of_boxes: 100\n",
       " unpad_groundtruth_tensors: false\n",
       " fine_tune_checkpoint_type: \"classification\"\n",
       " fine_tune_checkpoint_version: V2,\n",
       " 'train_input_config': label_map_path: \"PATH_TO_BE_CONFIGURED\"\n",
       " tf_record_input_reader {\n",
       "   input_path: \"PATH_TO_BE_CONFIGURED\"\n",
       " }}"
      ]
     },
     "execution_count": 104,
     "metadata": {},
     "output_type": "execute_result"
    }
   ],
   "source": [
    "# pipeline.config 파일을 읽어서 확인\n",
    "conf = config_util.get_configs_from_pipeline_file(PIPELINE_CONFIG_PATH)   # 받은 경로의 pipeline.config파일의 설정을 딕셔너리로 읽어온다.\n",
    "print(type(conf))\n",
    "conf"
   ]
  },
  {
   "cell_type": "code",
   "execution_count": 105,
   "metadata": {
    "colab": {
     "base_uri": "https://localhost:8080/"
    },
    "executionInfo": {
     "elapsed": 36,
     "status": "ok",
     "timestamp": 1632903174596,
     "user": {
      "displayName": "이홍주",
      "photoUrl": "https://lh3.googleusercontent.com/a/default-user=s64",
      "userId": "15116000017939649577"
     },
     "user_tz": -540
    },
    "id": "5UJ2dDBM6fcP",
    "outputId": "e47e3a8d-8762-4f31-fc6e-77fbf36e30aa"
   },
   "outputs": [
    {
     "name": "stdout",
     "output_type": "stream",
     "text": [
      "<class 'object_detection.protos.pipeline_pb2.TrainEvalPipelineConfig'>\n",
      "\n"
     ]
    }
   ],
   "source": [
    "# 수정 작업\n",
    "# 빈 pipeline.config 템플릿을 생성\n",
    "pipeline_config = pipeline_pb2.TrainEvalPipelineConfig()   # pipeline.config의 속성들을 수정하는 기능을 제공\n",
    "print(type(pipeline_config))\n",
    "print(pipeline_config)"
   ]
  },
  {
   "cell_type": "code",
   "execution_count": 106,
   "metadata": {
    "executionInfo": {
     "elapsed": 555,
     "status": "ok",
     "timestamp": 1632903175121,
     "user": {
      "displayName": "이홍주",
      "photoUrl": "https://lh3.googleusercontent.com/a/default-user=s64",
      "userId": "15116000017939649577"
     },
     "user_tz": -540
    },
    "id": "uCDhk84q853I"
   },
   "outputs": [],
   "source": [
    "# pipeline.config의 내용을 text로 읽어서 TrainEvalPipelineConfig(템플릿-틀)에 넣는다.\n",
    "with tf.io.gfile.GFile(PIPELINE_CONFIG_PATH, 'r') as fr:  # open()의 Tensorflow 버전\n",
    "    proto_str = fr.read()   # text로 읽기\n",
    "    text_format.Merge(proto_str, pipeline_config)   # 읽은 설정 text를 속성단위로 나눠서 TrainEvalPipelineConfig에 넣어준다."
   ]
  },
  {
   "cell_type": "code",
   "execution_count": 107,
   "metadata": {
    "executionInfo": {
     "elapsed": 57,
     "status": "ok",
     "timestamp": 1632903175125,
     "user": {
      "displayName": "이홍주",
      "photoUrl": "https://lh3.googleusercontent.com/a/default-user=s64",
      "userId": "15116000017939649577"
     },
     "user_tz": -540
    },
    "id": "UzGjPPX16fcQ"
   },
   "outputs": [],
   "source": [
    "# 각 항목(속성)들을 변환\n",
    "pipeline_config.model.ssd.num_classes = 26   # 검출할 class 개수\n",
    "pipeline_config.train_config.batch_size = 8\n",
    "pipeline_config.train_config.fine_tune_checkpoint = os.path.join(PRE_TRAINED_MODEL_PATH, 'checkpoint', 'ckpt-0')   # pretrained model의 weiht(전이학습에서 초기 weight - 확장자 뺀 파일명 주기)\n",
    "pipeline_config.train_config.fine_tune_checkpoint_type = 'detection'    # pretrained model이 어떤 작업을 위한 학습한 모델인지 지정 (object detection=detection)\n",
    "\n",
    "# train dataset 관련 설정\n",
    "# label map 경로\n",
    "pipeline_config.train_input_reader.label_map_path = LABEL_MAP_FILE_PATH\n",
    "# tfrecord 경로\n",
    "pipeline_config.train_input_reader.tf_record_input_reader.input_path[:] = [os.path.join(TF_RECORD_PATH, 'train.tfr')]\n",
    "# evaluation dataset 관련 설정\n",
    "# label map 경로\n",
    "pipeline_config.eval_input_reader[0].label_map_path = LABEL_MAP_FILE_PATH\n",
    "# tfrecord 경로\n",
    "pipeline_config.eval_input_reader[0].tf_record_input_reader.input_path[:] = [os.path.join(TF_RECORD_PATH, 'valid.tfr')]"
   ]
  },
  {
   "cell_type": "code",
   "execution_count": 108,
   "metadata": {
    "colab": {
     "base_uri": "https://localhost:8080/"
    },
    "executionInfo": {
     "elapsed": 57,
     "status": "ok",
     "timestamp": 1632903175127,
     "user": {
      "displayName": "이홍주",
      "photoUrl": "https://lh3.googleusercontent.com/a/default-user=s64",
      "userId": "15116000017939649577"
     },
     "user_tz": -540
    },
    "id": "liy_Dt0H6fcQ",
    "outputId": "c3b2bf96-89f7-49d0-a04e-e983b38ad7c9"
   },
   "outputs": [
    {
     "name": "stdout",
     "output_type": "stream",
     "text": [
      "model {\n",
      "  ssd {\n",
      "    num_classes: 26\n",
      "    image_resizer {\n",
      "      fixed_shape_resizer {\n",
      "        height: 320\n",
      "        width: 320\n",
      "      }\n",
      "    }\n",
      "    feature_extractor {\n",
      "      type: \"ssd_mobilenet_v2_fpn_keras\"\n",
      "      depth_multiplier: 1.0\n",
      "      min_depth: 16\n",
      "      conv_hyperparams {\n",
      "        regularizer {\n",
      "          l2_regularizer {\n",
      "            weight: 3.9999998989515007e-05\n",
      "          }\n",
      "        }\n",
      "        initializer {\n",
      "          random_normal_initializer {\n",
      "            mean: 0.0\n",
      "            stddev: 0.009999999776482582\n",
      "          }\n",
      "        }\n",
      "        activation: RELU_6\n",
      "        batch_norm {\n",
      "          decay: 0.996999979019165\n",
      "          scale: true\n",
      "          epsilon: 0.0010000000474974513\n",
      "        }\n",
      "      }\n",
      "      use_depthwise: true\n",
      "      override_base_feature_extractor_hyperparams: true\n",
      "      fpn {\n",
      "        min_level: 3\n",
      "        max_level: 7\n",
      "        additional_layer_depth: 128\n",
      "      }\n",
      "    }\n",
      "    box_coder {\n",
      "      faster_rcnn_box_coder {\n",
      "        y_scale: 10.0\n",
      "        x_scale: 10.0\n",
      "        height_scale: 5.0\n",
      "        width_scale: 5.0\n",
      "      }\n",
      "    }\n",
      "    matcher {\n",
      "      argmax_matcher {\n",
      "        matched_threshold: 0.5\n",
      "        unmatched_threshold: 0.5\n",
      "        ignore_thresholds: false\n",
      "        negatives_lower_than_unmatched: true\n",
      "        force_match_for_each_row: true\n",
      "        use_matmul_gather: true\n",
      "      }\n",
      "    }\n",
      "    similarity_calculator {\n",
      "      iou_similarity {\n",
      "      }\n",
      "    }\n",
      "    box_predictor {\n",
      "      weight_shared_convolutional_box_predictor {\n",
      "        conv_hyperparams {\n",
      "          regularizer {\n",
      "            l2_regularizer {\n",
      "              weight: 3.9999998989515007e-05\n",
      "            }\n",
      "          }\n",
      "          initializer {\n",
      "            random_normal_initializer {\n",
      "              mean: 0.0\n",
      "              stddev: 0.009999999776482582\n",
      "            }\n",
      "          }\n",
      "          activation: RELU_6\n",
      "          batch_norm {\n",
      "            decay: 0.996999979019165\n",
      "            scale: true\n",
      "            epsilon: 0.0010000000474974513\n",
      "          }\n",
      "        }\n",
      "        depth: 128\n",
      "        num_layers_before_predictor: 4\n",
      "        kernel_size: 3\n",
      "        class_prediction_bias_init: -4.599999904632568\n",
      "        share_prediction_tower: true\n",
      "        use_depthwise: true\n",
      "      }\n",
      "    }\n",
      "    anchor_generator {\n",
      "      multiscale_anchor_generator {\n",
      "        min_level: 3\n",
      "        max_level: 7\n",
      "        anchor_scale: 4.0\n",
      "        aspect_ratios: 1.0\n",
      "        aspect_ratios: 2.0\n",
      "        aspect_ratios: 0.5\n",
      "        scales_per_octave: 2\n",
      "      }\n",
      "    }\n",
      "    post_processing {\n",
      "      batch_non_max_suppression {\n",
      "        score_threshold: 9.99999993922529e-09\n",
      "        iou_threshold: 0.6000000238418579\n",
      "        max_detections_per_class: 100\n",
      "        max_total_detections: 100\n",
      "        use_static_shapes: false\n",
      "      }\n",
      "      score_converter: SIGMOID\n",
      "    }\n",
      "    normalize_loss_by_num_matches: true\n",
      "    loss {\n",
      "      localization_loss {\n",
      "        weighted_smooth_l1 {\n",
      "        }\n",
      "      }\n",
      "      classification_loss {\n",
      "        weighted_sigmoid_focal {\n",
      "          gamma: 2.0\n",
      "          alpha: 0.25\n",
      "        }\n",
      "      }\n",
      "      classification_weight: 1.0\n",
      "      localization_weight: 1.0\n",
      "    }\n",
      "    encode_background_as_zeros: true\n",
      "    normalize_loc_loss_by_codesize: true\n",
      "    inplace_batchnorm_update: true\n",
      "    freeze_batchnorm: false\n",
      "  }\n",
      "}\n",
      "train_config {\n",
      "  batch_size: 8\n",
      "  data_augmentation_options {\n",
      "    random_horizontal_flip {\n",
      "    }\n",
      "  }\n",
      "  data_augmentation_options {\n",
      "    random_crop_image {\n",
      "      min_object_covered: 0.0\n",
      "      min_aspect_ratio: 0.75\n",
      "      max_aspect_ratio: 3.0\n",
      "      min_area: 0.75\n",
      "      max_area: 1.0\n",
      "      overlap_thresh: 0.0\n",
      "    }\n",
      "  }\n",
      "  sync_replicas: true\n",
      "  optimizer {\n",
      "    momentum_optimizer {\n",
      "      learning_rate {\n",
      "        cosine_decay_learning_rate {\n",
      "          learning_rate_base: 0.07999999821186066\n",
      "          total_steps: 50000\n",
      "          warmup_learning_rate: 0.026666000485420227\n",
      "          warmup_steps: 1000\n",
      "        }\n",
      "      }\n",
      "      momentum_optimizer_value: 0.8999999761581421\n",
      "    }\n",
      "    use_moving_average: false\n",
      "  }\n",
      "  fine_tune_checkpoint: \"/content/drive/MyDrive/ColabNotebooks/object_detection_src/sign_language_letters/workspace/pre_trained_model/ssd_mobilenet_v2_fpnlite_320x320_coco17_tpu-8/checkpoint/ckpt-0\"\n",
      "  num_steps: 50000\n",
      "  startup_delay_steps: 0.0\n",
      "  replicas_to_aggregate: 8\n",
      "  max_number_of_boxes: 100\n",
      "  unpad_groundtruth_tensors: false\n",
      "  fine_tune_checkpoint_type: \"detection\"\n",
      "  fine_tune_checkpoint_version: V2\n",
      "}\n",
      "train_input_reader {\n",
      "  label_map_path: \"/content/drive/MyDrive/ColabNotebooks/object_detection_src/sign_language_letters/workspace/labelmap/label_map.pbtxt\"\n",
      "  tf_record_input_reader {\n",
      "    input_path: \"/content/tfrecord/train.tfr\"\n",
      "  }\n",
      "}\n",
      "eval_config {\n",
      "  metrics_set: \"coco_detection_metrics\"\n",
      "  use_moving_averages: false\n",
      "}\n",
      "eval_input_reader {\n",
      "  label_map_path: \"/content/drive/MyDrive/ColabNotebooks/object_detection_src/sign_language_letters/workspace/labelmap/label_map.pbtxt\"\n",
      "  shuffle: false\n",
      "  num_epochs: 1\n",
      "  tf_record_input_reader {\n",
      "    input_path: \"/content/tfrecord/valid.tfr\"\n",
      "  }\n",
      "}\n",
      "\n"
     ]
    }
   ],
   "source": [
    "print(pipeline_config)"
   ]
  },
  {
   "cell_type": "code",
   "execution_count": 109,
   "metadata": {
    "executionInfo": {
     "elapsed": 51,
     "status": "ok",
     "timestamp": 1632903175129,
     "user": {
      "displayName": "이홍주",
      "photoUrl": "https://lh3.googleusercontent.com/a/default-user=s64",
      "userId": "15116000017939649577"
     },
     "user_tz": -540
    },
    "id": "JUGuKD1m6fcQ"
   },
   "outputs": [],
   "source": [
    "# 변경된 내용을 pipeline.config 파일에 덮어쓰기\n",
    "# TrainEvalPipelineConfig를 text(str)으로 변환\n",
    "config_text = text_format.MessageToString(pipeline_config)\n",
    "# 파일로 저장(출력)\n",
    "with open(PIPELINE_CONFIG_PATH, 'w') as fw:\n",
    "    fw.write(config_text)"
   ]
  },
  {
   "cell_type": "markdown",
   "metadata": {
    "id": "1GW73RDb6fcQ"
   },
   "source": [
    "# Model 학습\n",
    "- 다음 명령어를 실행한다.\n",
    "- 시간이 오래 걸리므로 terminal에서 실행한다.\n",
    "```\n",
    "python models/research/object_detection/model_main_tf2.py --model_dir=workspace/model/checkpoint --pipeline_config_path=workspace/model/pipeline.config --num_train_steps=3000\n",
    "```\n",
    "\n",
    "## 옵션\n",
    "- model_dir: 학습한 모델의 checkpoint 파일을 저장할 경로. (1000 step당 저장한다.)\n",
    "- pipeline_config_path: pipeline.config 파일 경로\n",
    "- num_train_steps: 학습할 step 수"
   ]
  },
  {
   "cell_type": "code",
   "execution_count": 110,
   "metadata": {
    "colab": {
     "base_uri": "https://localhost:8080/",
     "height": 90
    },
    "executionInfo": {
     "elapsed": 52,
     "status": "ok",
     "timestamp": 1632903175131,
     "user": {
      "displayName": "이홍주",
      "photoUrl": "https://lh3.googleusercontent.com/a/default-user=s64",
      "userId": "15116000017939649577"
     },
     "user_tz": -540
    },
    "id": "s_PrOim96fcQ",
    "outputId": "26a45096-48c8-4334-e325-aa2bce2fd4c3"
   },
   "outputs": [
    {
     "data": {
      "application/vnd.google.colaboratory.intrinsic+json": {
       "type": "string"
      },
      "text/plain": [
       "'!python models/research/object_detection/model_main_tf2.py --model_dir /content/drive/MyDrive/ColabNotebooks/object_detection_src/sign_language_letters/workspace/model/checkpoint --pipeline_config_path /content/drive/MyDrive/ColabNotebooks/object_detection_src/sign_language_letters/workspace/model/pipeline.config --num_train_steps=3000'"
      ]
     },
     "execution_count": 110,
     "metadata": {},
     "output_type": "execute_result"
    }
   ],
   "source": [
    "f\"!python models/research/object_detection/model_main_tf2.py --model_dir {CHECK_POINT_PATH} --pipeline_config_path {PIPELINE_CONFIG_PATH} --num_train_steps=3000\""
   ]
  },
  {
   "cell_type": "code",
   "execution_count": 111,
   "metadata": {
    "executionInfo": {
     "elapsed": 60,
     "status": "ok",
     "timestamp": 1632903175140,
     "user": {
      "displayName": "이홍주",
      "photoUrl": "https://lh3.googleusercontent.com/a/default-user=s64",
      "userId": "15116000017939649577"
     },
     "user_tz": -540
    },
    "id": "ENcmksZB6fcQ"
   },
   "outputs": [],
   "source": [
    "# !python models/research/object_detection/model_main_tf2.py --model_dir /content/drive/MyDrive/ColabNotebooks/object_detection_src/sign_language_letters/workspace/model/checkpoint --pipeline_config_path /content/drive/MyDrive/ColabNotebooks/object_detection_src/sign_language_letters/workspace/model/pipeline.config --num_train_steps=3000"
   ]
  },
  {
   "cell_type": "markdown",
   "metadata": {
    "id": "b-LPoWrW6fcR"
   },
   "source": [
    "# 학습한 모델 추출(export - 모델과 가중치 함께 저장)\n",
    "- `models/research/object_detection/exporter_main_v2.py` 사용\n",
    "- 옵션\n",
    "    - `exporter_main_v2.py --helpshort || exporter_main_v2.py --helpfull`\n",
    "    - input_type : input node type\n",
    "        - image_tensor, encoded_image_string_tensor\n",
    "    - trained_checkpoint_dir: 학습된 checkpoint 파일이 저장된 경로(folder/directory)\n",
    "    - pipeline_config_path: pipeline.config 파일의 경로 (파일명 포함) - 모델 구조를 알려주기 위함\n",
    "    - output_directory: export된 모델을 저장할 경로.\n",
    "- 추출된 디렉토리 구조\n",
    "```bash\n",
    "output_dir\n",
    "├─ checkpoint/\n",
    "├─ saved_model/\n",
    "└─ pipeline.config\n",
    "```\n",
    "    - checkpoint: custom data 학습한 checkpoint 파일들을 이 디렉토리로 복사한다.\n",
    "    - save_model: pipeline.config 설정에 맞춰 생성된 model\n",
    "    - pipeline.config: pipeline.config 설정파일"
   ]
  },
  {
   "cell_type": "code",
   "execution_count": 112,
   "metadata": {
    "colab": {
     "base_uri": "https://localhost:8080/",
     "height": 35
    },
    "executionInfo": {
     "elapsed": 62,
     "status": "ok",
     "timestamp": 1632903175142,
     "user": {
      "displayName": "이홍주",
      "photoUrl": "https://lh3.googleusercontent.com/a/default-user=s64",
      "userId": "15116000017939649577"
     },
     "user_tz": -540
    },
    "id": "S8vh7uc_CKQX",
    "outputId": "ea1abae1-ae36-42a5-b88e-f47f5f5fcfa6"
   },
   "outputs": [
    {
     "data": {
      "application/vnd.google.colaboratory.intrinsic+json": {
       "type": "string"
      },
      "text/plain": [
       "'/content'"
      ]
     },
     "execution_count": 112,
     "metadata": {},
     "output_type": "execute_result"
    }
   ],
   "source": [
    "%pwd"
   ]
  },
  {
   "cell_type": "code",
   "execution_count": 113,
   "metadata": {
    "colab": {
     "base_uri": "https://localhost:8080/",
     "height": 108
    },
    "executionInfo": {
     "elapsed": 59,
     "status": "ok",
     "timestamp": 1632903175143,
     "user": {
      "displayName": "이홍주",
      "photoUrl": "https://lh3.googleusercontent.com/a/default-user=s64",
      "userId": "15116000017939649577"
     },
     "user_tz": -540
    },
    "id": "4Yg0RJGh6fcR",
    "outputId": "23365af2-cd48-417b-f21b-2c01bbcfd9b3"
   },
   "outputs": [
    {
     "data": {
      "application/vnd.google.colaboratory.intrinsic+json": {
       "type": "string"
      },
      "text/plain": [
       "'!python models/research/object_detection/exporter_main_v2.py --input_type image_tensor --trained_checkpoint_dir /content/drive/MyDrive/ColabNotebooks/object_detection_src/sign_language_letters/workspace/model/checkpoint --pipeline_config_path /content/drive/MyDrive/ColabNotebooks/object_detection_src/sign_language_letters/workspace/model/pipeline.config --output_directory /content/drive/MyDrive/ColabNotebooks/object_detection_src/sign_language_letters/workspace/model/export_model'"
      ]
     },
     "execution_count": 113,
     "metadata": {},
     "output_type": "execute_result"
    }
   ],
   "source": [
    "f\"!python models/research/object_detection/exporter_main_v2.py --input_type image_tensor --trained_checkpoint_dir {CHECK_POINT_PATH} --pipeline_config_path {PIPELINE_CONFIG_PATH} --output_directory {EXPORT_MODEL_PATH}\""
   ]
  },
  {
   "cell_type": "code",
   "execution_count": 114,
   "metadata": {
    "colab": {
     "base_uri": "https://localhost:8080/"
    },
    "executionInfo": {
     "elapsed": 17044,
     "status": "ok",
     "timestamp": 1632903192129,
     "user": {
      "displayName": "이홍주",
      "photoUrl": "https://lh3.googleusercontent.com/a/default-user=s64",
      "userId": "15116000017939649577"
     },
     "user_tz": -540
    },
    "id": "kIWyQnhp6fcR",
    "outputId": "409d4aa6-511e-4c29-a759-ca03e07c116e"
   },
   "outputs": [
    {
     "name": "stdout",
     "output_type": "stream",
     "text": [
      "2021-09-29 08:12:55.216832: I tensorflow/stream_executor/cuda/cuda_gpu_executor.cc:937] successful NUMA node read from SysFS had negative value (-1), but there must be at least one NUMA node, so returning NUMA node zero\n",
      "2021-09-29 08:12:55.249619: I tensorflow/stream_executor/cuda/cuda_gpu_executor.cc:937] successful NUMA node read from SysFS had negative value (-1), but there must be at least one NUMA node, so returning NUMA node zero\n",
      "2021-09-29 08:12:55.250930: I tensorflow/stream_executor/cuda/cuda_gpu_executor.cc:937] successful NUMA node read from SysFS had negative value (-1), but there must be at least one NUMA node, so returning NUMA node zero\n",
      "2021-09-29 08:12:55.273522: I tensorflow/stream_executor/cuda/cuda_gpu_executor.cc:937] successful NUMA node read from SysFS had negative value (-1), but there must be at least one NUMA node, so returning NUMA node zero\n",
      "2021-09-29 08:12:55.274420: I tensorflow/stream_executor/cuda/cuda_gpu_executor.cc:937] successful NUMA node read from SysFS had negative value (-1), but there must be at least one NUMA node, so returning NUMA node zero\n",
      "2021-09-29 08:12:55.275239: I tensorflow/stream_executor/cuda/cuda_gpu_executor.cc:937] successful NUMA node read from SysFS had negative value (-1), but there must be at least one NUMA node, so returning NUMA node zero\n",
      "2021-09-29 08:12:55.744165: I tensorflow/stream_executor/cuda/cuda_gpu_executor.cc:937] successful NUMA node read from SysFS had negative value (-1), but there must be at least one NUMA node, so returning NUMA node zero\n",
      "2021-09-29 08:12:55.745001: I tensorflow/stream_executor/cuda/cuda_gpu_executor.cc:937] successful NUMA node read from SysFS had negative value (-1), but there must be at least one NUMA node, so returning NUMA node zero\n",
      "2021-09-29 08:12:55.745716: I tensorflow/stream_executor/cuda/cuda_gpu_executor.cc:937] successful NUMA node read from SysFS had negative value (-1), but there must be at least one NUMA node, so returning NUMA node zero\n",
      "2021-09-29 08:12:55.746409: W tensorflow/core/common_runtime/gpu/gpu_bfc_allocator.cc:39] Overriding allow_growth setting because the TF_FORCE_GPU_ALLOW_GROWTH environment variable is set. Original config value was 0.\n",
      "2021-09-29 08:12:55.746480: I tensorflow/core/common_runtime/gpu/gpu_device.cc:1510] Created device /job:localhost/replica:0/task:0/device:GPU:0 with 10450 MB memory:  -> device: 0, name: Tesla K80, pci bus id: 0000:00:04.0, compute capability: 3.7\n",
      "WARNING:tensorflow:From /usr/local/lib/python3.7/dist-packages/tensorflow/python/autograph/impl/api.py:463: calling map_fn_v2 (from tensorflow.python.ops.map_fn) with back_prop=False is deprecated and will be removed in a future version.\n",
      "Instructions for updating:\n",
      "back_prop=False is deprecated. Consider using tf.stop_gradient instead.\n",
      "Instead of:\n",
      "results = tf.map_fn(fn, elems, back_prop=False)\n",
      "Use:\n",
      "results = tf.nest.map_structure(tf.stop_gradient, tf.map_fn(fn, elems))\n",
      "W0929 08:12:55.943950 139749500999552 deprecation.py:616] From /usr/local/lib/python3.7/dist-packages/tensorflow/python/autograph/impl/api.py:463: calling map_fn_v2 (from tensorflow.python.ops.map_fn) with back_prop=False is deprecated and will be removed in a future version.\n",
      "Instructions for updating:\n",
      "back_prop=False is deprecated. Consider using tf.stop_gradient instead.\n",
      "Instead of:\n",
      "results = tf.map_fn(fn, elems, back_prop=False)\n",
      "Use:\n",
      "results = tf.nest.map_structure(tf.stop_gradient, tf.map_fn(fn, elems))\n",
      "Exception ignored in: <generator object iter_fields at 0x7f191162f850>\n",
      "Traceback (most recent call last):\n",
      "  File \"/usr/lib/python3.7/ast.py\", line 188, in iter_fields\n",
      "    yield field, getattr(node, field)\n",
      "KeyboardInterrupt: \n",
      "Traceback (most recent call last):\n",
      "  File \"models/research/object_detection/exporter_main_v2.py\", line 165, in <module>\n",
      "    app.run(main)\n",
      "  File \"/usr/local/lib/python3.7/dist-packages/absl/app.py\", line 303, in run\n",
      "    _run_main(main, args)\n",
      "  File \"/usr/local/lib/python3.7/dist-packages/absl/app.py\", line 251, in _run_main\n",
      "    sys.exit(main(argv))\n",
      "  File \"models/research/object_detection/exporter_main_v2.py\", line 161, in main\n",
      "    FLAGS.side_input_types, FLAGS.side_input_names)\n",
      "  File \"/content/models/research/object_detection/exporter_lib_v2.py\", line 271, in export_inference_graph\n",
      "    concrete_function = detection_module.__call__.get_concrete_function()\n",
      "  File \"/usr/local/lib/python3.7/dist-packages/tensorflow/python/eager/def_function.py\", line 1233, in get_concrete_function\n",
      "    concrete = self._get_concrete_function_garbage_collected(*args, **kwargs)\n",
      "  File \"/usr/local/lib/python3.7/dist-packages/tensorflow/python/eager/def_function.py\", line 1213, in _get_concrete_function_garbage_collected\n",
      "    self._initialize(args, kwargs, add_initializers_to=initializers)\n",
      "  File \"/usr/local/lib/python3.7/dist-packages/tensorflow/python/eager/def_function.py\", line 760, in _initialize\n",
      "    *args, **kwds))\n",
      "  File \"/usr/local/lib/python3.7/dist-packages/tensorflow/python/eager/function.py\", line 3066, in _get_concrete_function_internal_garbage_collected\n",
      "    graph_function, _ = self._maybe_define_function(args, kwargs)\n",
      "  File \"/usr/local/lib/python3.7/dist-packages/tensorflow/python/eager/function.py\", line 3463, in _maybe_define_function\n",
      "    graph_function = self._create_graph_function(args, kwargs)\n",
      "  File \"/usr/local/lib/python3.7/dist-packages/tensorflow/python/eager/function.py\", line 3308, in _create_graph_function\n",
      "    capture_by_value=self._capture_by_value),\n",
      "  File \"/usr/local/lib/python3.7/dist-packages/tensorflow/python/framework/func_graph.py\", line 1007, in func_graph_from_py_func\n",
      "    func_outputs = python_func(*func_args, **func_kwargs)\n",
      "  File \"/usr/local/lib/python3.7/dist-packages/tensorflow/python/eager/def_function.py\", line 668, in wrapped_fn\n",
      "    out = weak_wrapped_fn().__wrapped__(*args, **kwds)\n",
      "  File \"/usr/local/lib/python3.7/dist-packages/tensorflow/python/framework/func_graph.py\", line 990, in wrapper\n",
      "    user_requested=True,\n",
      "  File \"/usr/local/lib/python3.7/dist-packages/tensorflow/python/autograph/impl/api.py\", line 444, in converted_call\n",
      "    result = converted_f(*effective_args, **kwargs)\n",
      "  File \"/tmp/tmpcmgqx5_o.py\", line 15, in tf__call_func\n",
      "    retval_ = ag__.converted_call(ag__.ld(self)._run_inference_on_images, (ag__.ld(images), ag__.ld(true_shapes)), dict(**ag__.ld(kwargs)), fscope)\n",
      "  File \"/usr/local/lib/python3.7/dist-packages/tensorflow/python/autograph/impl/api.py\", line 444, in converted_call\n",
      "    result = converted_f(*effective_args, **kwargs)\n",
      "  File \"/tmp/tmps1xmivlh.py\", line 13, in tf___run_inference_on_images\n",
      "    detections = ag__.converted_call(ag__.ld(self)._model.postprocess, (ag__.ld(prediction_dict), ag__.ld(true_shapes)), None, fscope)\n",
      "  File \"/usr/local/lib/python3.7/dist-packages/tensorflow/python/autograph/impl/api.py\", line 446, in converted_call\n",
      "    result = converted_f(*effective_args)\n",
      "  File \"/tmp/tmpk_f1ai3o.py\", line 132, in tf__postprocess\n",
      "    (nmsed_boxes, nmsed_scores, nmsed_classes, nmsed_masks, nmsed_additional_fields, num_detections) = ag__.converted_call(ag__.ld(self)._non_max_suppression_fn, (ag__.ld(detection_boxes), ag__.ld(detection_scores)), dict(clip_window=ag__.converted_call(ag__.ld(self)._compute_clip_window, (ag__.ld(preprocessed_images), ag__.ld(true_image_shapes)), None, fscope), additional_fields=ag__.ld(additional_fields), masks=ag__.converted_call(ag__.ld(prediction_dict).get, ('mask_predictions',), None, fscope)), fscope)\n",
      "  File \"/usr/local/lib/python3.7/dist-packages/tensorflow/python/autograph/impl/api.py\", line 362, in converted_call\n",
      "    options=options)\n",
      "  File \"/usr/local/lib/python3.7/dist-packages/tensorflow/python/autograph/impl/api.py\", line 432, in converted_call\n",
      "    converted_f = _convert_actual(target_entity, program_ctx)\n",
      "  File \"/usr/local/lib/python3.7/dist-packages/tensorflow/python/autograph/impl/api.py\", line 274, in _convert_actual\n",
      "    transformed, module, source_map = _TRANSPILER.transform(entity, program_ctx)\n",
      "  File \"/usr/local/lib/python3.7/dist-packages/tensorflow/python/autograph/pyct/transpiler.py\", line 286, in transform\n",
      "    return self.transform_function(obj, user_context)\n",
      "  File \"/usr/local/lib/python3.7/dist-packages/tensorflow/python/autograph/pyct/transpiler.py\", line 470, in transform_function\n",
      "    nodes, ctx = super(PyToPy, self).transform_function(fn, user_context)\n",
      "  File \"/usr/local/lib/python3.7/dist-packages/tensorflow/python/autograph/pyct/transpiler.py\", line 363, in transform_function\n",
      "    result = self.transform_ast(node, context)\n",
      "  File \"/usr/local/lib/python3.7/dist-packages/tensorflow/python/autograph/impl/api.py\", line 258, in transform_ast\n",
      "    node = control_flow.transform(node, ctx)\n",
      "  File \"/usr/local/lib/python3.7/dist-packages/tensorflow/python/autograph/converters/control_flow.py\", line 416, in transform\n",
      "    node = ControlFlowTransformer(ctx).visit(node)\n",
      "  File \"/usr/local/lib/python3.7/dist-packages/tensorflow/python/autograph/core/converter.py\", line 319, in visit\n",
      "    return super(Base, self).visit(node)\n",
      "  File \"/usr/local/lib/python3.7/dist-packages/tensorflow/python/autograph/pyct/transformer.py\", line 445, in visit\n",
      "    result = super(Base, self).visit(node)\n",
      "  File \"/usr/lib/python3.7/ast.py\", line 271, in visit\n",
      "    return visitor(node)\n",
      "  File \"/usr/local/lib/python3.7/dist-packages/tensorflow/python/autograph/converters/control_flow.py\", line 54, in visit_FunctionDef\n",
      "    return self.generic_visit(node)\n",
      "  File \"/usr/lib/python3.7/ast.py\", line 326, in generic_visit\n",
      "    value = self.visit(value)\n",
      "  File \"/usr/local/lib/python3.7/dist-packages/tensorflow/python/autograph/core/converter.py\", line 319, in visit\n",
      "    return super(Base, self).visit(node)\n",
      "  File \"/usr/local/lib/python3.7/dist-packages/tensorflow/python/autograph/pyct/transformer.py\", line 445, in visit\n",
      "    result = super(Base, self).visit(node)\n",
      "  File \"/usr/lib/python3.7/ast.py\", line 271, in visit\n",
      "    return visitor(node)\n",
      "  File \"/usr/lib/python3.7/ast.py\", line 326, in generic_visit\n",
      "    value = self.visit(value)\n",
      "  File \"/usr/local/lib/python3.7/dist-packages/tensorflow/python/autograph/core/converter.py\", line 319, in visit\n",
      "    return super(Base, self).visit(node)\n",
      "  File \"/usr/local/lib/python3.7/dist-packages/tensorflow/python/autograph/pyct/transformer.py\", line 445, in visit\n",
      "    result = super(Base, self).visit(node)\n",
      "  File \"/usr/lib/python3.7/ast.py\", line 271, in visit\n",
      "    return visitor(node)\n",
      "  File \"/usr/local/lib/python3.7/dist-packages/tensorflow/python/autograph/converters/control_flow.py\", line 206, in visit_If\n",
      "    node = self.generic_visit(node)\n",
      "  File \"/usr/lib/python3.7/ast.py\", line 326, in generic_visit\n",
      "    value = self.visit(value)\n",
      "  File \"/usr/local/lib/python3.7/dist-packages/tensorflow/python/autograph/core/converter.py\", line 319, in visit\n",
      "    return super(Base, self).visit(node)\n",
      "  File \"/usr/local/lib/python3.7/dist-packages/tensorflow/python/autograph/pyct/transformer.py\", line 445, in visit\n",
      "    result = super(Base, self).visit(node)\n",
      "  File \"/usr/lib/python3.7/ast.py\", line 271, in visit\n",
      "    return visitor(node)\n",
      "  File \"/usr/lib/python3.7/ast.py\", line 326, in generic_visit\n",
      "    value = self.visit(value)\n",
      "  File \"/usr/local/lib/python3.7/dist-packages/tensorflow/python/autograph/core/converter.py\", line 319, in visit\n",
      "    return super(Base, self).visit(node)\n",
      "  File \"/usr/local/lib/python3.7/dist-packages/tensorflow/python/autograph/pyct/transformer.py\", line 445, in visit\n",
      "    result = super(Base, self).visit(node)\n",
      "  File \"/usr/lib/python3.7/ast.py\", line 271, in visit\n",
      "    return visitor(node)\n",
      "  File \"/usr/local/lib/python3.7/dist-packages/tensorflow/python/autograph/converters/control_flow.py\", line 54, in visit_FunctionDef\n",
      "    return self.generic_visit(node)\n",
      "  File \"/usr/lib/python3.7/ast.py\", line 326, in generic_visit\n",
      "    value = self.visit(value)\n",
      "  File \"/usr/local/lib/python3.7/dist-packages/tensorflow/python/autograph/core/converter.py\", line 319, in visit\n",
      "    return super(Base, self).visit(node)\n",
      "  File \"/usr/local/lib/python3.7/dist-packages/tensorflow/python/autograph/pyct/transformer.py\", line 445, in visit\n",
      "    result = super(Base, self).visit(node)\n",
      "  File \"/usr/lib/python3.7/ast.py\", line 271, in visit\n",
      "    return visitor(node)\n",
      "  File \"/usr/lib/python3.7/ast.py\", line 326, in generic_visit\n",
      "    value = self.visit(value)\n",
      "  File \"/usr/local/lib/python3.7/dist-packages/tensorflow/python/autograph/core/converter.py\", line 319, in visit\n",
      "    return super(Base, self).visit(node)\n",
      "  File \"/usr/local/lib/python3.7/dist-packages/tensorflow/python/autograph/pyct/transformer.py\", line 445, in visit\n",
      "    result = super(Base, self).visit(node)\n",
      "  File \"/usr/lib/python3.7/ast.py\", line 271, in visit\n",
      "    return visitor(node)\n",
      "  File \"/usr/local/lib/python3.7/dist-packages/tensorflow/python/autograph/converters/control_flow.py\", line 248, in visit_If\n",
      "    body_name=self.ctx.namer.new_symbol('if_body', reserved),\n",
      "  File \"/usr/local/lib/python3.7/dist-packages/tensorflow/python/autograph/pyct/naming.py\", line 36, in new_symbol\n",
      "    if isinstance(s, qual_names.QN):\n",
      "KeyboardInterrupt\n"
     ]
    }
   ],
   "source": [
    "!python models/research/object_detection/exporter_main_v2.py --input_type image_tensor --trained_checkpoint_dir /content/drive/MyDrive/ColabNotebooks/object_detection_src/sign_language_letters/workspace/model/checkpoint --pipeline_config_path /content/drive/MyDrive/ColabNotebooks/object_detection_src/sign_language_letters/workspace/model/pipeline.config --output_directory /content/drive/MyDrive/ColabNotebooks/object_detection_src/sign_language_letters/workspace/model/export_model"
   ]
  },
  {
   "cell_type": "markdown",
   "metadata": {
    "id": "IqGfDAst6fcR"
   },
   "source": [
    "# Inference(추론)"
   ]
  },
  {
   "cell_type": "markdown",
   "metadata": {
    "id": "9YpFpeYO6fcR"
   },
   "source": [
    "### 사용 함수,메소드\n",
    "-  ### tf.convert_to_tensor(array_like, dtype)\n",
    "    - array_like 를 Tensorflow Tensor 객체로 변환\n",
    "    - `tf.convert_to_tensor([[1,2],[3,4]])`\n",
    "- ### detection_model.preprocess(image 4차원 <del>ndarray</del> Tensor)\n",
    "    - 전달받은 이미지를 model의 input shape(320,320)에 맞게 resizing 한다.\n",
    "    - 반환값: (resize된 image Tensor, 이미지의 shape) 을 tuple로 반환\n",
    "- ### detection_model.predict(image tensor, image_shape tensor)\n",
    "    - 추론/detection 메소드\n",
    "    - 이미지와 image shape을 받아서 detection한 결과를 딕셔너리로 반환한다.\n",
    "    - **반환 dictionary key**\n",
    "        - **preprocessed_inputs**:  입력 이미지 Tensor. preprocess()로 처리된 이미지. \n",
    "        - **feature_maps**: List. feature map 들을 반환\n",
    "        - **anchors**: 2D Tensor. normalize 된 anchor box들의 좌표를 반환. 2-D float tensor: \\[num_anchors, 4\\]\n",
    "        - **final_anchors**: 3D Tensor. batch 당 anchors. (anchors에 batch가 포함된 것). \\[batch_size, num_anchors, 4\\]\n",
    "        - **box_encodings**: 3D float tensor. predict한 box들의 normalize된 좌표. \\[batch_size, num_anchors,box_code_dimension\\]\n",
    "        - **class_predictions_with_background**: 3D Tensor. 클래스 확률을 반환.(logit). \\[batch_size, num_anchors, num_classes+1]\\\n",
    "            - background 확률을 포함해서 num_classes+1개가 된다. (index 0: background)\n",
    "            \n",
    "- ### detection_model.postprocess(prediction_dict, shape)\n",
    "    - predict()가 예측한 결과에서 **Non-Maxinum Suppression**을 실행해서 최종 Detection 결과를 반환한다.\n",
    "        - predict()는 anchor별로 예측결과를 모아서 주고 post-process는 최종 결과를 추출해서 반환.\n",
    "    - **반환 dictionary key**\n",
    "        - **num_detections**: Detect한 개수 (bounding box 개수)\n",
    "        - **detection_boxes**: [batch, max_detections, 4]. 후처리한 detection box\n",
    "        - **detection_scores**: [batch, max_detections]. post-processed detection box들의 detection score들 (detection score는 box안에 물체가 있을 확률값 - confidence score).\n",
    "        - **detection_classes**: [batch, max_detections] tensor with classes for post-processed detection classes.\n",
    "        - **raw_detection_boxes**:[batch, total_detections, 4] Non-Max Suppression 하기 전의 감지된 raw detection box들 (12800개 정도...)\n",
    "        - **raw_detection_scores**: [batch, total_detections, num_classes_with_background]. raw detection box들의 class별 점수\n",
    "        - **detection_multiclass_scores**: [batch, max_detections, num_classes_with_background] post-processed이후 남은 bounding box 들의 class별 점수(확률). LabelMap의 class에 background가 추가되어 계산된다.\n",
    "        - **detection_anchor_indices**: [batch, max_detections] post-processed 이후 나은 anchor box의 index들."
   ]
  },
  {
   "cell_type": "code",
   "execution_count": 115,
   "metadata": {
    "colab": {
     "base_uri": "https://localhost:8080/",
     "height": 72
    },
    "executionInfo": {
     "elapsed": 8,
     "status": "ok",
     "timestamp": 1632903192130,
     "user": {
      "displayName": "이홍주",
      "photoUrl": "https://lh3.googleusercontent.com/a/default-user=s64",
      "userId": "15116000017939649577"
     },
     "user_tz": -540
    },
    "id": "vGMS_WC46fcS",
    "outputId": "81101e4d-d446-48c3-b514-387b38769a9a"
   },
   "outputs": [
    {
     "data": {
      "application/vnd.google.colaboratory.intrinsic+json": {
       "type": "string"
      },
      "text/plain": [
       "'!unzip -q /content/drive/MyDrive/ColabNotebooks/object_detection_src/sign_language_letters/workspace/model/checkpoint_backup/checkpoints.zip -d /content/drive/MyDrive/ColabNotebooks/object_detection_src/sign_language_letters/workspace/model/checkpoint_backup'"
      ]
     },
     "execution_count": 115,
     "metadata": {},
     "output_type": "execute_result"
    }
   ],
   "source": [
    "# checkpoints.zip 압축풀기\n",
    "f\"!unzip -q {os.path.join(MODEL_PATH, 'checkpoint_backup', 'checkpoints.zip')} -d {os.path.join(MODEL_PATH, 'checkpoint_backup')}\""
   ]
  },
  {
   "cell_type": "code",
   "execution_count": 116,
   "metadata": {
    "colab": {
     "base_uri": "https://localhost:8080/"
    },
    "executionInfo": {
     "elapsed": 20769,
     "status": "ok",
     "timestamp": 1632903212893,
     "user": {
      "displayName": "이홍주",
      "photoUrl": "https://lh3.googleusercontent.com/a/default-user=s64",
      "userId": "15116000017939649577"
     },
     "user_tz": -540
    },
    "id": "OoQ6c2Ep6fcS",
    "outputId": "e1505590-7369-426a-d631-8cab4231991c"
   },
   "outputs": [
    {
     "name": "stdout",
     "output_type": "stream",
     "text": [
      "replace /content/drive/MyDrive/ColabNotebooks/object_detection_src/sign_language_letters/workspace/model/checkpoint_backup/checkpoint/ckpt-50.index? [y]es, [n]o, [A]ll, [N]one, [r]ename: "
     ]
    }
   ],
   "source": [
    "!unzip -q /content/drive/MyDrive/ColabNotebooks/object_detection_src/sign_language_letters/workspace/model/checkpoint_backup/checkpoints.zip -d /content/drive/MyDrive/ColabNotebooks/object_detection_src/sign_language_letters/workspace/model/checkpoint_backup"
   ]
  },
  {
   "cell_type": "code",
   "execution_count": 117,
   "metadata": {
    "executionInfo": {
     "elapsed": 21,
     "status": "ok",
     "timestamp": 1632903212894,
     "user": {
      "displayName": "이홍주",
      "photoUrl": "https://lh3.googleusercontent.com/a/default-user=s64",
      "userId": "15116000017939649577"
     },
     "user_tz": -540
    },
    "id": "rem-JSZj6fcS"
   },
   "outputs": [],
   "source": [
    "# 추론할 이미지를 test set으로부터 복사\n",
    "!cp /content/images/test/A22_jpg.rf.f02ad8558ce1c88213b4f83c0bc66bc8.jpg ./a.jpg"
   ]
  },
  {
   "cell_type": "code",
   "execution_count": 118,
   "metadata": {
    "executionInfo": {
     "elapsed": 450,
     "status": "ok",
     "timestamp": 1632903213327,
     "user": {
      "displayName": "이홍주",
      "photoUrl": "https://lh3.googleusercontent.com/a/default-user=s64",
      "userId": "15116000017939649577"
     },
     "user_tz": -540
    },
    "id": "uJ42OD5s6fcS"
   },
   "outputs": [],
   "source": [
    "!cp /content/images/test/C22_jpg.rf.e54cbbfdd4ea0670eb4e1c507de4a8a2.jpg ./c.jpg\n",
    "!cp /content/images/test/F17_jpg.rf.6097db79e0385af55b85ad5fa03cdc55.jpg ./f.jpg\n",
    "!cp /content/images/test/G3_jpg.rf.e723dcdc277f3432e4eb7003b6e5a587.jpg ./g.jpg"
   ]
  },
  {
   "cell_type": "markdown",
   "metadata": {
    "id": "WR6lm6r6QyCf"
   },
   "source": [
    "### 모델 생성\n",
    "- 저장된 weight를 이용해서 모델 구성"
   ]
  },
  {
   "cell_type": "code",
   "execution_count": 119,
   "metadata": {
    "executionInfo": {
     "elapsed": 7,
     "status": "ok",
     "timestamp": 1632903213328,
     "user": {
      "displayName": "이홍주",
      "photoUrl": "https://lh3.googleusercontent.com/a/default-user=s64",
      "userId": "15116000017939649577"
     },
     "user_tz": -540
    },
    "id": "l8FSpWiiRKox"
   },
   "outputs": [],
   "source": [
    "import tensorflow as tf\n",
    "import cv2\n",
    "import numpy as np\n",
    "import matplotlib.pyplot as plt\n",
    "import os\n",
    "\n",
    "from object_detection.utils import label_map_util   # Label map을 읽어오는 함수\n",
    "from object_detection.utils import visualization_utils as viz_utils   # 이미지에 추론 결과 bbox를 그려주는 함수\n",
    "from object_detection.utils import config_util   # pipeline.config 관련 작업하는 함수\n",
    "from object_detection.builders import model_builder  # 모델(network) 생성 함수"
   ]
  },
  {
   "cell_type": "code",
   "execution_count": 120,
   "metadata": {
    "colab": {
     "base_uri": "https://localhost:8080/"
    },
    "executionInfo": {
     "elapsed": 285,
     "status": "ok",
     "timestamp": 1632903213607,
     "user": {
      "displayName": "이홍주",
      "photoUrl": "https://lh3.googleusercontent.com/a/default-user=s64",
      "userId": "15116000017939649577"
     },
     "user_tz": -540
    },
    "id": "Kr0wKEkrLzKy",
    "outputId": "22a82e8d-d98b-4279-c4f2-7db1516ae8e2"
   },
   "outputs": [
    {
     "data": {
      "text/plain": [
       "<tensorflow.python.training.tracking.util.CheckpointLoadStatus at 0x7f2266daa310>"
      ]
     },
     "execution_count": 120,
     "metadata": {},
     "output_type": "execute_result"
    }
   ],
   "source": [
    "# pipeline.config에서 모델(네트워크) 구조 조회 후 모델 생성\n",
    "# pipeline.config 파일 로딩\n",
    "config = config_util.get_configs_from_pipeline_file(PIPELINE_CONFIG_PATH)   # 딕셔너리로 반환\n",
    "# 모델 생성 - 설정 중 model 설정을 주입해서 생성 (초기 파라미터)\n",
    "detection_model = model_builder.build(model_config=config['model'], is_training=False)\n",
    "\n",
    "# 생성된 모델에 저장된 weights(파라미터)를 주입\n",
    "ckpt_path = os.path.join(MODEL_PATH, 'checkpoint_backup', 'checkpoint', 'ckpt-51')\n",
    "ckpt = tf.compat.v2.train.Checkpoint(model=detection_model)    # checkpoint 객체 생성\n",
    "ckpt.restore(ckpt_path).expect_partial()   # 해당 경로에 있는 ckpt를 모델에 넣기"
   ]
  },
  {
   "cell_type": "markdown",
   "metadata": {
    "id": "o3i6cXbs6fcT"
   },
   "source": [
    "# 새로운 이미지 Detection"
   ]
  },
  {
   "cell_type": "code",
   "execution_count": 121,
   "metadata": {
    "executionInfo": {
     "elapsed": 25,
     "status": "ok",
     "timestamp": 1632903213609,
     "user": {
      "displayName": "이홍주",
      "photoUrl": "https://lh3.googleusercontent.com/a/default-user=s64",
      "userId": "15116000017939649577"
     },
     "user_tz": -540
    },
    "id": "JQfkZA4J6fcT"
   },
   "outputs": [],
   "source": [
    "def detect_function(img):\n",
    "    \"\"\"\n",
    "    Tensor 타입의 추론할 image를 받아서 추론결과를 반환하는 메소드.\n",
    "    1. preprocessing: resize, 정규화\n",
    "    2. 추론(predict)\n",
    "    3. postprocessing: 추론 결과 bounding box에서 non-maximum suppression 처리\n",
    "    [parameter]\n",
    "        img: Tensor - 추론할 이미지\n",
    "    [return value]\n",
    "        tuple: (후처리 전 추론 결과, 후처리 후 결과)\n",
    "    \"\"\"\n",
    "    # preprocessing\n",
    "    img, shapes = detection_model.preprocess(img)   # (전처리된img Tensor, shape) 튜플 반환\n",
    "    print('shapes:', shapes)\n",
    "    # 추론\n",
    "    pred = detection_model.predict(img, shapes)\n",
    "    # postprocessing\n",
    "    result = detection_model.postprocess(pred, shapes)\n",
    "\n",
    "    return pred, result   # (후처리 전 추론 결과, 후처리 후 결과)"
   ]
  },
  {
   "cell_type": "code",
   "execution_count": 122,
   "metadata": {
    "executionInfo": {
     "elapsed": 24,
     "status": "ok",
     "timestamp": 1632903213610,
     "user": {
      "displayName": "이홍주",
      "photoUrl": "https://lh3.googleusercontent.com/a/default-user=s64",
      "userId": "15116000017939649577"
     },
     "user_tz": -540
    },
    "id": "ww9M9mih6fcT"
   },
   "outputs": [],
   "source": [
    "# 추론\n",
    "# image 읽어오기\n",
    "test_file = 'a.jpg'\n",
    "img_np = cv2.cvtColor(cv2.imread(test_file), cv2.COLOR_BGR2RGB)   # cv2.imread(): BGR모드 --> RGB로 바꿔줘야 함\n",
    "# type(img_np)  numpy.ndarray, dtype=uint8\n",
    "# img_np.shape   -> 3차원인데 배치축 필요해서 4차원으로 바꿔줘야 함\n",
    "# ndarray -> Tensor\n",
    "input_tensor = tf.convert_to_tensor(img_np[np.newaxis, ...], dtype=tf.float32)\n",
    "# print(img_np.dtype, input_tensor.shape, input_tensor.dtype)"
   ]
  },
  {
   "cell_type": "code",
   "execution_count": 123,
   "metadata": {
    "colab": {
     "base_uri": "https://localhost:8080/"
    },
    "executionInfo": {
     "elapsed": 3550,
     "status": "ok",
     "timestamp": 1632903217138,
     "user": {
      "displayName": "이홍주",
      "photoUrl": "https://lh3.googleusercontent.com/a/default-user=s64",
      "userId": "15116000017939649577"
     },
     "user_tz": -540
    },
    "id": "iZ1Ncfox6fcT",
    "outputId": "02c20023-ccb0-4192-c59b-c056646f12e5"
   },
   "outputs": [
    {
     "name": "stdout",
     "output_type": "stream",
     "text": [
      "shapes: tf.Tensor([[320 320   3]], shape=(1, 3), dtype=int32)\n"
     ]
    }
   ],
   "source": [
    "# 추론\n",
    "pred, result = detect_function(input_tensor)"
   ]
  },
  {
   "cell_type": "markdown",
   "metadata": {
    "id": "xsjT9oMLc20k"
   },
   "source": [
    "### result 확인"
   ]
  },
  {
   "cell_type": "code",
   "execution_count": 124,
   "metadata": {
    "colab": {
     "base_uri": "https://localhost:8080/"
    },
    "executionInfo": {
     "elapsed": 58,
     "status": "ok",
     "timestamp": 1632903217138,
     "user": {
      "displayName": "이홍주",
      "photoUrl": "https://lh3.googleusercontent.com/a/default-user=s64",
      "userId": "15116000017939649577"
     },
     "user_tz": -540
    },
    "id": "8Ud6AVtDbp9E",
    "outputId": "6ef610a6-beba-41cd-f88a-fc134ff10a0b"
   },
   "outputs": [
    {
     "data": {
      "text/plain": [
       "(dict, dict)"
      ]
     },
     "execution_count": 124,
     "metadata": {},
     "output_type": "execute_result"
    }
   ],
   "source": [
    "type(pred), type(result)"
   ]
  },
  {
   "cell_type": "code",
   "execution_count": 125,
   "metadata": {
    "colab": {
     "base_uri": "https://localhost:8080/"
    },
    "executionInfo": {
     "elapsed": 46,
     "status": "ok",
     "timestamp": 1632903217139,
     "user": {
      "displayName": "이홍주",
      "photoUrl": "https://lh3.googleusercontent.com/a/default-user=s64",
      "userId": "15116000017939649577"
     },
     "user_tz": -540
    },
    "id": "vE_DvR1ydCIN",
    "outputId": "8f6dfffb-06bd-406d-d707-c14195045664"
   },
   "outputs": [
    {
     "data": {
      "text/plain": [
       "dict_keys(['detection_boxes', 'detection_scores', 'detection_classes', 'num_detections', 'raw_detection_boxes', 'raw_detection_scores', 'detection_multiclass_scores', 'detection_anchor_indices'])"
      ]
     },
     "execution_count": 125,
     "metadata": {},
     "output_type": "execute_result"
    }
   ],
   "source": [
    "result.keys()"
   ]
  },
  {
   "cell_type": "code",
   "execution_count": 126,
   "metadata": {
    "colab": {
     "base_uri": "https://localhost:8080/"
    },
    "executionInfo": {
     "elapsed": 38,
     "status": "ok",
     "timestamp": 1632903217140,
     "user": {
      "displayName": "이홍주",
      "photoUrl": "https://lh3.googleusercontent.com/a/default-user=s64",
      "userId": "15116000017939649577"
     },
     "user_tz": -540
    },
    "id": "hMXX3FexdIwJ",
    "outputId": "83522737-0fbc-42a9-ea36-cbbc3ad0de53"
   },
   "outputs": [
    {
     "data": {
      "text/plain": [
       "<tf.Tensor: shape=(1, 100), dtype=float32, numpy=\n",
       "array([[ 0., 15., 24.,  9., 22., 13.,  6.,  6., 19., 12.,  8., 18., 15.,\n",
       "         1., 15., 25., 21., 22.,  7., 14.,  4.,  8., 23., 16., 10., 17.,\n",
       "        15.,  7., 16.,  5., 22., 14., 25., 16., 14.,  8., 11., 23.,  5.,\n",
       "        13.,  0.,  6., 22., 24., 22.,  7., 12.,  8., 18.,  9., 25., 10.,\n",
       "        23., 22., 11., 21., 21., 24.,  6., 22.,  3., 13.,  2.,  9.,  4.,\n",
       "         4.,  7.,  4.,  4., 25., 19.,  9., 11., 15., 11.,  6., 11.,  7.,\n",
       "         4., 11., 20., 23., 10.,  1.,  4., 23., 20.,  7., 23., 25., 16.,\n",
       "         5., 17.,  7.,  8., 13.,  6., 15., 23.,  6.]], dtype=float32)>"
      ]
     },
     "execution_count": 126,
     "metadata": {},
     "output_type": "execute_result"
    }
   ],
   "source": [
    "# 분류 결과 class label (총 class는 A ~ Z 26개 0~25)\n",
    "result['detection_classes']\n",
    "# shape=(1, 100) ==> (batch개수, 추론결과개수)"
   ]
  },
  {
   "cell_type": "code",
   "execution_count": 127,
   "metadata": {
    "colab": {
     "base_uri": "https://localhost:8080/"
    },
    "executionInfo": {
     "elapsed": 30,
     "status": "ok",
     "timestamp": 1632903217140,
     "user": {
      "displayName": "이홍주",
      "photoUrl": "https://lh3.googleusercontent.com/a/default-user=s64",
      "userId": "15116000017939649577"
     },
     "user_tz": -540
    },
    "id": "GfUnzoTBdCGF",
    "outputId": "ac079726-b4b5-409a-e948-e3210c5ed25f"
   },
   "outputs": [
    {
     "data": {
      "text/plain": [
       "<tf.Tensor: shape=(1, 100), dtype=float32, numpy=\n",
       "array([[0.99882704, 0.04132277, 0.04127693, 0.03856854, 0.0333676 ,\n",
       "        0.0273268 , 0.02488796, 0.02342383, 0.0214373 , 0.02126563,\n",
       "        0.01738562, 0.01715071, 0.016902  , 0.01597475, 0.01405788,\n",
       "        0.01329976, 0.01291277, 0.01245026, 0.01088046, 0.01066701,\n",
       "        0.01027229, 0.00959054, 0.00916235, 0.0090005 , 0.00898874,\n",
       "        0.00891284, 0.00875278, 0.00869359, 0.00856588, 0.00854579,\n",
       "        0.00842985, 0.00834129, 0.00759439, 0.00757002, 0.00754813,\n",
       "        0.00748431, 0.00746663, 0.00745493, 0.00743138, 0.00735877,\n",
       "        0.00717015, 0.00703093, 0.00690919, 0.00689454, 0.00674969,\n",
       "        0.00674034, 0.00673096, 0.00653816, 0.00647155, 0.00628291,\n",
       "        0.00627357, 0.00609608, 0.00602701, 0.00599112, 0.0059888 ,\n",
       "        0.00586225, 0.00583078, 0.00568603, 0.00567735, 0.00564732,\n",
       "        0.00557743, 0.00554952, 0.00554132, 0.00546506, 0.00544499,\n",
       "        0.00542077, 0.00539602, 0.0053946 , 0.00537077, 0.00536678,\n",
       "        0.00535495, 0.00533212, 0.00529174, 0.00527   , 0.00519256,\n",
       "        0.0051335 , 0.00510128, 0.00508281, 0.00507924, 0.00506537,\n",
       "        0.00495388, 0.00487954, 0.00479815, 0.00479173, 0.00475772,\n",
       "        0.00472616, 0.00467947, 0.00464445, 0.00461272, 0.00458823,\n",
       "        0.00458755, 0.00456177, 0.00452777, 0.00441883, 0.00438532,\n",
       "        0.0043782 , 0.00434481, 0.00434278, 0.00428639, 0.00425751]],\n",
       "      dtype=float32)>"
      ]
     },
     "execution_count": 127,
     "metadata": {},
     "output_type": "execute_result"
    }
   ],
   "source": [
    "# 각 bbox의 confidence score(box 안에 물체가 있을 확률)\n",
    "# 100개의 bbox 결과는 confidence score가 높은 순서부터 내림차순으로 정렬되어 출력\n",
    "# 모든 추론 결과들은 이 순서에 따라 정렬됨 (같은 index는 같은 bbox에 대한 추론 결관)\n",
    "result['detection_scores']"
   ]
  },
  {
   "cell_type": "code",
   "execution_count": 128,
   "metadata": {
    "colab": {
     "base_uri": "https://localhost:8080/"
    },
    "executionInfo": {
     "elapsed": 27,
     "status": "ok",
     "timestamp": 1632903217141,
     "user": {
      "displayName": "이홍주",
      "photoUrl": "https://lh3.googleusercontent.com/a/default-user=s64",
      "userId": "15116000017939649577"
     },
     "user_tz": -540
    },
    "id": "IC5vemrzdCEE",
    "outputId": "7e3e83fd-8757-4d08-da45-79892235b846"
   },
   "outputs": [
    {
     "data": {
      "text/plain": [
       "<tf.Tensor: shape=(1, 100, 4), dtype=float32, numpy=\n",
       "array([[[2.33933240e-01, 1.93980277e-01, 7.15939283e-01, 8.11026394e-01],\n",
       "        [6.25555575e-01, 1.13251805e-02, 7.60060966e-01, 9.47119892e-02],\n",
       "        [2.38303587e-01, 1.96787298e-01, 7.16777027e-01, 8.10919106e-01],\n",
       "        [0.00000000e+00, 5.99063814e-01, 3.40253651e-01, 8.37284029e-01],\n",
       "        [2.34506980e-01, 1.93589717e-01, 7.14470088e-01, 8.14250350e-01],\n",
       "        [2.34506980e-01, 1.93589717e-01, 7.14470088e-01, 8.14250350e-01],\n",
       "        [2.38303587e-01, 1.96787298e-01, 7.16777027e-01, 8.10919106e-01],\n",
       "        [0.00000000e+00, 3.14431548e-01, 9.60528925e-02, 5.20017087e-01],\n",
       "        [2.35118896e-01, 1.99765563e-01, 7.20414758e-01, 8.09190273e-01],\n",
       "        [2.35544160e-01, 1.96241677e-01, 7.11981773e-01, 8.09607208e-01],\n",
       "        [2.38303587e-01, 1.96787298e-01, 7.16777027e-01, 8.10919106e-01],\n",
       "        [2.34506980e-01, 1.93589717e-01, 7.14470088e-01, 8.14250350e-01],\n",
       "        [7.15667367e-01, 6.25978053e-01, 1.00000000e+00, 1.00000000e+00],\n",
       "        [2.34506980e-01, 1.93589717e-01, 7.14470088e-01, 8.14250350e-01],\n",
       "        [0.00000000e+00, 3.14431548e-01, 9.60528925e-02, 5.20017087e-01],\n",
       "        [2.34506980e-01, 1.93589717e-01, 7.14470088e-01, 8.14250350e-01],\n",
       "        [7.15667367e-01, 6.25978053e-01, 1.00000000e+00, 1.00000000e+00],\n",
       "        [2.23473430e-01, 5.06107390e-01, 6.49553776e-01, 7.95650542e-01],\n",
       "        [2.38303587e-01, 1.96787298e-01, 7.16777027e-01, 8.10919106e-01],\n",
       "        [1.72872126e-01, 2.28231609e-01, 7.82602727e-01, 1.00000000e+00],\n",
       "        [2.57337213e-01, 7.85548210e-01, 3.83573949e-01, 9.51376200e-01],\n",
       "        [0.00000000e+00, 2.59389758e-01, 1.75459653e-01, 5.20807028e-01],\n",
       "        [0.00000000e+00, 5.88103473e-01, 3.91764641e-01, 8.34667265e-01],\n",
       "        [2.65780270e-01, 1.32562965e-01, 1.00000000e+00, 8.40184569e-01],\n",
       "        [6.25555575e-01, 1.13251805e-02, 7.60060966e-01, 9.47119892e-02],\n",
       "        [7.15667367e-01, 6.25978053e-01, 1.00000000e+00, 1.00000000e+00],\n",
       "        [6.49165213e-01, 1.93538815e-02, 7.99833477e-01, 9.70158577e-02],\n",
       "        [1.72872126e-01, 2.28231609e-01, 7.82602727e-01, 1.00000000e+00],\n",
       "        [2.26213798e-01, 2.00073212e-01, 7.15430260e-01, 8.18367362e-01],\n",
       "        [2.38303587e-01, 1.96787298e-01, 7.16777027e-01, 8.10919106e-01],\n",
       "        [9.00615007e-03, 0.00000000e+00, 2.56538928e-01, 1.50771007e-01],\n",
       "        [2.68918276e-02, 1.72391862e-01, 6.93385601e-01, 8.33094239e-01],\n",
       "        [0.00000000e+00, 0.00000000e+00, 3.27763319e-01, 3.00011754e-01],\n",
       "        [1.72872126e-01, 2.28231609e-01, 7.82602727e-01, 1.00000000e+00],\n",
       "        [0.00000000e+00, 8.05756867e-01, 1.45231158e-01, 1.00000000e+00],\n",
       "        [0.00000000e+00, 3.14431548e-01, 9.60528925e-02, 5.20017087e-01],\n",
       "        [0.00000000e+00, 3.02570343e-01, 1.23441949e-01, 5.54390848e-01],\n",
       "        [0.00000000e+00, 3.02570343e-01, 1.23441949e-01, 5.54390848e-01],\n",
       "        [0.00000000e+00, 0.00000000e+00, 1.00000000e+00, 1.00000000e+00],\n",
       "        [2.58978099e-01, 2.05125719e-01, 6.04713678e-01, 4.48942393e-01],\n",
       "        [1.72872126e-01, 2.28231609e-01, 7.82602727e-01, 1.00000000e+00],\n",
       "        [9.41566110e-01, 4.81901288e-01, 1.00000000e+00, 5.85095167e-01],\n",
       "        [1.75707668e-01, 0.00000000e+00, 8.30073357e-01, 8.77570808e-01],\n",
       "        [0.00000000e+00, 1.89903438e-01, 6.13158703e-01, 1.00000000e+00],\n",
       "        [1.72872126e-01, 2.28231609e-01, 7.82602727e-01, 1.00000000e+00],\n",
       "        [0.00000000e+00, 1.89903438e-01, 6.13158703e-01, 1.00000000e+00],\n",
       "        [2.81447113e-01, 2.09055513e-01, 6.40531421e-01, 4.55544621e-01],\n",
       "        [0.00000000e+00, 3.02570343e-01, 1.23441949e-01, 5.54390848e-01],\n",
       "        [1.72872126e-01, 2.28231609e-01, 7.82602727e-01, 1.00000000e+00],\n",
       "        [0.00000000e+00, 8.05756867e-01, 1.45231158e-01, 1.00000000e+00],\n",
       "        [0.00000000e+00, 3.14431548e-01, 9.60528925e-02, 5.20017087e-01],\n",
       "        [2.26213798e-01, 2.00073212e-01, 7.15430260e-01, 8.18367362e-01],\n",
       "        [0.00000000e+00, 2.21832380e-01, 1.20970398e-01, 4.43465769e-01],\n",
       "        [3.62239331e-02, 0.00000000e+00, 3.15205336e-01, 1.27185315e-01],\n",
       "        [3.16554308e-03, 1.75181150e-01, 7.24772990e-01, 1.00000000e+00],\n",
       "        [9.02161717e-01, 3.55702728e-01, 9.81141686e-01, 4.66541439e-01],\n",
       "        [1.72872126e-01, 2.28231609e-01, 7.82602727e-01, 1.00000000e+00],\n",
       "        [1.72872126e-01, 2.28231609e-01, 7.82602727e-01, 1.00000000e+00],\n",
       "        [9.38611746e-01, 4.43786234e-01, 1.00000000e+00, 5.62162042e-01],\n",
       "        [0.00000000e+00, 1.89903438e-01, 6.13158703e-01, 1.00000000e+00],\n",
       "        [0.00000000e+00, 2.59455591e-01, 1.22178257e-01, 4.98494595e-01],\n",
       "        [1.72872126e-01, 2.28231609e-01, 7.82602727e-01, 1.00000000e+00],\n",
       "        [1.72872126e-01, 2.28231609e-01, 7.82602727e-01, 1.00000000e+00],\n",
       "        [7.35067129e-02, 5.63530803e-01, 4.28172588e-01, 8.23232174e-01],\n",
       "        [1.83785886e-01, 7.91726470e-01, 3.06045860e-01, 8.70270610e-01],\n",
       "        [2.81447113e-01, 2.09055513e-01, 6.40531421e-01, 4.55544621e-01],\n",
       "        [0.00000000e+00, 1.61508352e-01, 6.67247474e-01, 1.00000000e+00],\n",
       "        [2.79736668e-01, 7.93120623e-01, 4.03929800e-01, 9.95048046e-01],\n",
       "        [2.56338269e-01, 7.67665088e-01, 4.22650844e-01, 8.36594045e-01],\n",
       "        [9.02161717e-01, 3.55702728e-01, 9.81141686e-01, 4.66541439e-01],\n",
       "        [2.43299201e-01, 1.99042365e-01, 5.51295578e-01, 5.90635121e-01],\n",
       "        [1.72872126e-01, 2.28231609e-01, 7.82602727e-01, 1.00000000e+00],\n",
       "        [0.00000000e+00, 1.89903438e-01, 6.13158703e-01, 1.00000000e+00],\n",
       "        [0.00000000e+00, 1.89903438e-01, 6.13158703e-01, 1.00000000e+00],\n",
       "        [0.00000000e+00, 3.14431548e-01, 9.60528925e-02, 5.20017087e-01],\n",
       "        [0.00000000e+00, 1.89903438e-01, 6.13158703e-01, 1.00000000e+00],\n",
       "        [0.00000000e+00, 5.88103473e-01, 3.91764641e-01, 8.34667265e-01],\n",
       "        [0.00000000e+00, 3.37679923e-01, 9.33298916e-02, 4.91118848e-01],\n",
       "        [2.37878129e-01, 8.03766489e-01, 3.55555624e-01, 9.97027874e-01],\n",
       "        [0.00000000e+00, 2.21832380e-01, 1.20970398e-01, 4.43465769e-01],\n",
       "        [0.00000000e+00, 0.00000000e+00, 1.00000000e+00, 1.00000000e+00],\n",
       "        [1.72872126e-01, 2.28231609e-01, 7.82602727e-01, 1.00000000e+00],\n",
       "        [7.15667367e-01, 6.25978053e-01, 1.00000000e+00, 1.00000000e+00],\n",
       "        [3.50423679e-02, 1.83412060e-03, 1.64231509e-01, 7.76686221e-02],\n",
       "        [2.15717137e-01, 7.75825202e-01, 3.71397793e-01, 8.42668116e-01],\n",
       "        [0.00000000e+00, 0.00000000e+00, 1.00000000e+00, 1.00000000e+00],\n",
       "        [2.81447113e-01, 2.09055513e-01, 6.40531421e-01, 4.55544621e-01],\n",
       "        [0.00000000e+00, 0.00000000e+00, 1.00000000e+00, 1.00000000e+00],\n",
       "        [0.00000000e+00, 3.00836354e-01, 1.85833260e-01, 5.81217885e-01],\n",
       "        [9.00615007e-03, 0.00000000e+00, 2.56538928e-01, 1.50771007e-01],\n",
       "        [7.15667367e-01, 6.25978053e-01, 1.00000000e+00, 1.00000000e+00],\n",
       "        [0.00000000e+00, 1.89903438e-01, 6.13158703e-01, 1.00000000e+00],\n",
       "        [1.72872126e-01, 2.28231609e-01, 7.82602727e-01, 1.00000000e+00],\n",
       "        [0.00000000e+00, 0.00000000e+00, 1.00000000e+00, 1.00000000e+00],\n",
       "        [0.00000000e+00, 4.27651435e-01, 3.29010397e-01, 7.51692176e-01],\n",
       "        [3.72648239e-04, 7.94509172e-01, 1.67130962e-01, 1.00000000e+00],\n",
       "        [2.65780270e-01, 1.32562965e-01, 1.00000000e+00, 8.40184569e-01],\n",
       "        [7.30209887e-01, 3.13026123e-02, 8.90125930e-01, 1.14807129e-01],\n",
       "        [0.00000000e+00, 1.69697791e-01, 1.19868822e-01, 3.85361105e-01],\n",
       "        [0.00000000e+00, 0.00000000e+00, 1.00000000e+00, 1.00000000e+00]]],\n",
       "      dtype=float32)>"
      ]
     },
     "execution_count": 128,
     "metadata": {},
     "output_type": "execute_result"
    }
   ],
   "source": [
    "# bbox의 정규화된 좌표 (xmin, ymin, xmax, ymax) \n",
    "result['detection_boxes']\n",
    "# shape=(1, 100, 4) = (batch개수, 100개bbox, 각 좌표)"
   ]
  },
  {
   "cell_type": "code",
   "execution_count": 129,
   "metadata": {
    "colab": {
     "base_uri": "https://localhost:8080/"
    },
    "executionInfo": {
     "elapsed": 22,
     "status": "ok",
     "timestamp": 1632903217141,
     "user": {
      "displayName": "이홍주",
      "photoUrl": "https://lh3.googleusercontent.com/a/default-user=s64",
      "userId": "15116000017939649577"
     },
     "user_tz": -540
    },
    "id": "g5RnB5YQhR5v",
    "outputId": "f60df89a-b1f0-41df-ff64-f301079012c6"
   },
   "outputs": [
    {
     "data": {
      "text/plain": [
       "<tf.Tensor: shape=(1, 100, 27), dtype=float32, numpy=\n",
       "array([[[9.70160909e-05, 9.98827040e-01, 4.78730910e-03, ...,\n",
       "         2.02959409e-08, 7.16418261e-03, 8.86084279e-04],\n",
       "        [8.23272494e-05, 1.18236931e-03, 3.60871170e-04, ...,\n",
       "         1.02870073e-03, 1.69268285e-03, 8.92238313e-05],\n",
       "        [7.71276187e-03, 9.56782222e-01, 1.45542715e-02, ...,\n",
       "         5.77397404e-05, 4.12769280e-02, 1.15989633e-02],\n",
       "        ...,\n",
       "        [8.52649828e-05, 9.47848428e-04, 2.26443444e-04, ...,\n",
       "         6.69864821e-04, 4.79377923e-04, 1.28635904e-04],\n",
       "        [8.86472757e-04, 7.04130798e-04, 1.03541033e-03, ...,\n",
       "         4.28638794e-03, 1.35815132e-03, 7.54652661e-04],\n",
       "        [2.92211142e-03, 7.37142283e-04, 3.09587573e-04, ...,\n",
       "         9.92937596e-04, 5.37608343e-04, 7.55576184e-04]]], dtype=float32)>"
      ]
     },
     "execution_count": 129,
     "metadata": {},
     "output_type": "execute_result"
    }
   ],
   "source": [
    "# 각 bbox의 class별 확률 (0번 index는 배경, 1~26 = A~Z)\n",
    "# detection_classes에서는 배경 없음\n",
    "result['detection_multiclass_scores']\n",
    "# shape=(1, 100, 27) = 여기서 총 class는 배경(0) 포함 27개"
   ]
  },
  {
   "cell_type": "code",
   "execution_count": 130,
   "metadata": {
    "colab": {
     "base_uri": "https://localhost:8080/"
    },
    "executionInfo": {
     "elapsed": 17,
     "status": "ok",
     "timestamp": 1632903217142,
     "user": {
      "displayName": "이홍주",
      "photoUrl": "https://lh3.googleusercontent.com/a/default-user=s64",
      "userId": "15116000017939649577"
     },
     "user_tz": -540
    },
    "id": "GOvs80MhgT4a",
    "outputId": "f55bf609-9eaa-4df2-afaf-edc04041af81"
   },
   "outputs": [
    {
     "name": "stdout",
     "output_type": "stream",
     "text": [
      "tf.Tensor(0.99882704, shape=(), dtype=float32)\n"
     ]
    }
   ],
   "source": [
    "# 추출된 100개의 bbox에서 confidence score가 특정 threshold 이상인 box만 선택해서 원하는 작업을 진행\n",
    "CS_TH = 0.5\n",
    "for cs in result['detection_scores'][0]:\n",
    "    if cs >= CS_TH:\n",
    "        print(cs)"
   ]
  },
  {
   "cell_type": "code",
   "execution_count": 131,
   "metadata": {
    "colab": {
     "base_uri": "https://localhost:8080/"
    },
    "executionInfo": {
     "elapsed": 307,
     "status": "ok",
     "timestamp": 1632903300038,
     "user": {
      "displayName": "이홍주",
      "photoUrl": "https://lh3.googleusercontent.com/a/default-user=s64",
      "userId": "15116000017939649577"
     },
     "user_tz": -540
    },
    "id": "bpPS3w9fnoBB",
    "outputId": "01ec6918-ea9e-44a1-82b6-ffc3ac878449"
   },
   "outputs": [
    {
     "data": {
      "text/plain": [
       "TensorShape([1, 12804, 27])"
      ]
     },
     "execution_count": 131,
     "metadata": {},
     "output_type": "execute_result"
    }
   ],
   "source": [
    "result['raw_detection_scores'].shape   # 후처리 전 결과 -> 후처리: confidence score가 높은 순서로 100개 추출(pipeline.config에서 개수 설정 가능-max_total_detections)"
   ]
  },
  {
   "cell_type": "code",
   "execution_count": 134,
   "metadata": {
    "colab": {
     "base_uri": "https://localhost:8080/"
    },
    "executionInfo": {
     "elapsed": 266,
     "status": "ok",
     "timestamp": 1632903540747,
     "user": {
      "displayName": "이홍주",
      "photoUrl": "https://lh3.googleusercontent.com/a/default-user=s64",
      "userId": "15116000017939649577"
     },
     "user_tz": -540
    },
    "id": "Rf_M1EJUoOVx",
    "outputId": "300d00a8-bfc3-4c84-cb81-10c6caf61e2d"
   },
   "outputs": [
    {
     "data": {
      "text/plain": [
       "array([100.], dtype=float32)"
      ]
     },
     "execution_count": 134,
     "metadata": {},
     "output_type": "execute_result"
    }
   ],
   "source": [
    "result['num_detections'].shape   # 후처리 detection bbox의 개수\n",
    "result['num_detections'].numpy()   # Tensor -> ndarray"
   ]
  },
  {
   "cell_type": "markdown",
   "metadata": {
    "id": "NINFB1uIm_DC"
   },
   "source": [
    "## result 결과를 이용해서 원본 image에 bbox 그리기\n",
    "- visualization_utils 함수를 이용\n"
   ]
  },
  {
   "cell_type": "code",
   "execution_count": 135,
   "metadata": {
    "colab": {
     "base_uri": "https://localhost:8080/"
    },
    "executionInfo": {
     "elapsed": 254,
     "status": "ok",
     "timestamp": 1632903697135,
     "user": {
      "displayName": "이홍주",
      "photoUrl": "https://lh3.googleusercontent.com/a/default-user=s64",
      "userId": "15116000017939649577"
     },
     "user_tz": -540
    },
    "id": "ECP8yzozdCBZ",
    "outputId": "f8a60e0c-e60b-4fee-818e-0bab84a8bd82"
   },
   "outputs": [
    {
     "name": "stdout",
     "output_type": "stream",
     "text": [
      "100\n"
     ]
    }
   ],
   "source": [
    "# visualization_utils() 사용 위해 추론 결과를 Tensor에서 ndarray로 변환 필요(Tensor.numpy())\n",
    "num_detections = int(result.pop('num_detections'))\n",
    "print(num_detections)\n",
    "# num_detections는 1차원 배열이라서 뺐다가 다시 넣어줌"
   ]
  },
  {
   "cell_type": "code",
   "execution_count": 136,
   "metadata": {
    "colab": {
     "base_uri": "https://localhost:8080/"
    },
    "executionInfo": {
     "elapsed": 262,
     "status": "ok",
     "timestamp": 1632903714823,
     "user": {
      "displayName": "이홍주",
      "photoUrl": "https://lh3.googleusercontent.com/a/default-user=s64",
      "userId": "15116000017939649577"
     },
     "user_tz": -540
    },
    "id": "BggKRZjt6fcT",
    "outputId": "d2651079-f3ac-45a4-88ff-704af0f1d700"
   },
   "outputs": [
    {
     "data": {
      "text/plain": [
       "dict_keys(['detection_boxes', 'detection_scores', 'detection_classes', 'raw_detection_boxes', 'raw_detection_scores', 'detection_multiclass_scores', 'detection_anchor_indices'])"
      ]
     },
     "execution_count": 136,
     "metadata": {},
     "output_type": "execute_result"
    }
   ],
   "source": [
    "result.keys()"
   ]
  },
  {
   "cell_type": "code",
   "execution_count": 137,
   "metadata": {
    "colab": {
     "base_uri": "https://localhost:8080/"
    },
    "executionInfo": {
     "elapsed": 257,
     "status": "ok",
     "timestamp": 1632903840108,
     "user": {
      "displayName": "이홍주",
      "photoUrl": "https://lh3.googleusercontent.com/a/default-user=s64",
      "userId": "15116000017939649577"
     },
     "user_tz": -540
    },
    "id": "5-7Z_T3DpsmB",
    "outputId": "cb285739-5a88-4a72-bfb8-9f159da667fc"
   },
   "outputs": [
    {
     "data": {
      "text/plain": [
       "dict_items([('a', 10), ('b', 20)])"
      ]
     },
     "execution_count": 137,
     "metadata": {},
     "output_type": "execute_result"
    }
   ],
   "source": [
    "a = {'a':10, 'b':20}\n",
    "a.items()"
   ]
  },
  {
   "cell_type": "code",
   "execution_count": 138,
   "metadata": {
    "executionInfo": {
     "elapsed": 252,
     "status": "ok",
     "timestamp": 1632904061139,
     "user": {
      "displayName": "이홍주",
      "photoUrl": "https://lh3.googleusercontent.com/a/default-user=s64",
      "userId": "15116000017939649577"
     },
     "user_tz": -540
    },
    "id": "HRCrB8phmNtW"
   },
   "outputs": [],
   "source": [
    "# key는 그대로 두고 value만 ndarray로\n",
    "detection_dict = {key:value[0, :num_detections].numpy() for key, value in result.items()}\n",
    "detection_dict['num_detections'] = num_detections   # 새로 생성한 dict에 num_detections 추가"
   ]
  },
  {
   "cell_type": "code",
   "execution_count": 139,
   "metadata": {
    "colab": {
     "base_uri": "https://localhost:8080/"
    },
    "executionInfo": {
     "elapsed": 284,
     "status": "ok",
     "timestamp": 1632904079206,
     "user": {
      "displayName": "이홍주",
      "photoUrl": "https://lh3.googleusercontent.com/a/default-user=s64",
      "userId": "15116000017939649577"
     },
     "user_tz": -540
    },
    "id": "feBkD9l3pX19",
    "outputId": "e95efe04-20bd-4908-f493-f6d6f4e94d47"
   },
   "outputs": [
    {
     "data": {
      "text/plain": [
       "tf.float32"
      ]
     },
     "execution_count": 139,
     "metadata": {},
     "output_type": "execute_result"
    }
   ],
   "source": [
    "result['detection_classes'].dtype"
   ]
  },
  {
   "cell_type": "code",
   "execution_count": 140,
   "metadata": {
    "executionInfo": {
     "elapsed": 266,
     "status": "ok",
     "timestamp": 1632904190465,
     "user": {
      "displayName": "이홍주",
      "photoUrl": "https://lh3.googleusercontent.com/a/default-user=s64",
      "userId": "15116000017939649577"
     },
     "user_tz": -540
    },
    "id": "Gsa8JAbBpXy_"
   },
   "outputs": [],
   "source": [
    "# 추론한 label을 float32에서 int로 변환\n",
    "detection_dict['detection_classes'] = detection_dict['detection_classes'].astype(np.int64)"
   ]
  },
  {
   "cell_type": "code",
   "execution_count": 141,
   "metadata": {
    "colab": {
     "base_uri": "https://localhost:8080/"
    },
    "executionInfo": {
     "elapsed": 292,
     "status": "ok",
     "timestamp": 1632904491686,
     "user": {
      "displayName": "이홍주",
      "photoUrl": "https://lh3.googleusercontent.com/a/default-user=s64",
      "userId": "15116000017939649577"
     },
     "user_tz": -540
    },
    "id": "FaWXugFFpXux",
    "outputId": "8e4a83ca-b60e-4a99-8952-fe7bd9348d7a"
   },
   "outputs": [
    {
     "name": "stdout",
     "output_type": "stream",
     "text": [
      "<class 'dict'>\n"
     ]
    }
   ],
   "source": [
    "# LabelMap을 읽기\n",
    "category_index = label_map_util.create_category_index_from_labelmap(LABEL_MAP_FILE_PATH)\n",
    "print(type(category_index))"
   ]
  },
  {
   "cell_type": "code",
   "execution_count": 142,
   "metadata": {
    "colab": {
     "base_uri": "https://localhost:8080/"
    },
    "executionInfo": {
     "elapsed": 332,
     "status": "ok",
     "timestamp": 1632904503244,
     "user": {
      "displayName": "이홍주",
      "photoUrl": "https://lh3.googleusercontent.com/a/default-user=s64",
      "userId": "15116000017939649577"
     },
     "user_tz": -540
    },
    "id": "FvhwDfvVpXrn",
    "outputId": "293b1f1f-7e48-40be-cc88-17191b04c18d"
   },
   "outputs": [
    {
     "data": {
      "text/plain": [
       "{1: {'id': 1, 'name': 'A'},\n",
       " 2: {'id': 2, 'name': 'B'},\n",
       " 3: {'id': 3, 'name': 'C'},\n",
       " 4: {'id': 4, 'name': 'D'},\n",
       " 5: {'id': 5, 'name': 'E'},\n",
       " 6: {'id': 6, 'name': 'F'},\n",
       " 7: {'id': 7, 'name': 'G'},\n",
       " 8: {'id': 8, 'name': 'H'},\n",
       " 9: {'id': 9, 'name': 'I'},\n",
       " 10: {'id': 10, 'name': 'J'},\n",
       " 11: {'id': 11, 'name': 'K'},\n",
       " 12: {'id': 12, 'name': 'L'},\n",
       " 13: {'id': 13, 'name': 'M'},\n",
       " 14: {'id': 14, 'name': 'N'},\n",
       " 15: {'id': 15, 'name': 'O'},\n",
       " 16: {'id': 16, 'name': 'P'},\n",
       " 17: {'id': 17, 'name': 'Q'},\n",
       " 18: {'id': 18, 'name': 'R'},\n",
       " 19: {'id': 19, 'name': 'S'},\n",
       " 20: {'id': 20, 'name': 'T'},\n",
       " 21: {'id': 21, 'name': 'U'},\n",
       " 22: {'id': 22, 'name': 'V'},\n",
       " 23: {'id': 23, 'name': 'W'},\n",
       " 24: {'id': 24, 'name': 'X'},\n",
       " 25: {'id': 25, 'name': 'Y'},\n",
       " 26: {'id': 26, 'name': 'Z'}}"
      ]
     },
     "execution_count": 142,
     "metadata": {},
     "output_type": "execute_result"
    }
   ],
   "source": [
    "category_index"
   ]
  },
  {
   "cell_type": "code",
   "execution_count": 143,
   "metadata": {
    "executionInfo": {
     "elapsed": 232,
     "status": "ok",
     "timestamp": 1632905195933,
     "user": {
      "displayName": "이홍주",
      "photoUrl": "https://lh3.googleusercontent.com/a/default-user=s64",
      "userId": "15116000017939649577"
     },
     "user_tz": -540
    },
    "id": "9cjcNkRrsVyt"
   },
   "outputs": [],
   "source": [
    "MIN_CONFIDENCE_THRESHOLD = 0.5   # confidence score가 0.5 이상인 것만 bbox 처리\n",
    "img_np_copy = img_np.copy()\n",
    "img = viz_utils.visualize_boxes_and_labels_on_image_array(\n",
    "    img_np_copy,   # bbox 그릴 이미지\n",
    "    detection_dict['detection_boxes'],   # bbox 좌표\n",
    "    detection_dict['detection_classes'] + 1,   # bbox 내부 object label (추론한 label과 labelmap의 id 맞추기 위해 +1)\n",
    "    detection_dict['detection_scores'],   # bbox confidence score\n",
    "    category_index,   # label map dictionary\n",
    "    use_normalized_coordinates=True,   # 추론한 bbox 좌표가 정규화됐는지 여부\n",
    "    max_boxes_to_draw=10,   # 최대 몇 개의 bbox를 그릴지 지정(기본 20개)\n",
    "    min_score_thresh=MIN_CONFIDENCE_THRESHOLD\n",
    "    )\n",
    "# 원본 이미지 ndarray에 bbox와 label 시각화한 ndarray 반환해줌"
   ]
  },
  {
   "cell_type": "code",
   "execution_count": 148,
   "metadata": {
    "executionInfo": {
     "elapsed": 237,
     "status": "ok",
     "timestamp": 1632905239439,
     "user": {
      "displayName": "이홍주",
      "photoUrl": "https://lh3.googleusercontent.com/a/default-user=s64",
      "userId": "15116000017939649577"
     },
     "user_tz": -540
    },
    "id": "ub3aaGoEvFbP"
   },
   "outputs": [],
   "source": [
    "%matplotlib inline"
   ]
  },
  {
   "cell_type": "code",
   "execution_count": 151,
   "metadata": {
    "colab": {
     "base_uri": "https://localhost:8080/",
     "height": 595
    },
    "executionInfo": {
     "elapsed": 1153,
     "status": "ok",
     "timestamp": 1632905316223,
     "user": {
      "displayName": "이홍주",
      "photoUrl": "https://lh3.googleusercontent.com/a/default-user=s64",
      "userId": "15116000017939649577"
     },
     "user_tz": -540
    },
    "id": "AwpYTT29sxnG",
    "outputId": "6c8c68cd-5860-4469-cd29-2c66916f9c40"
   },
   "outputs": [
    {
     "data": {
      "image/png": "[encoded data removed]",
      "text/plain": [
       "<Figure size 720x720 with 1 Axes>"
      ]
     },
     "metadata": {
      "needs_background": "light"
     },
     "output_type": "display_data"
    }
   ],
   "source": [
    "plt.figure(figsize=(10,10))\n",
    "plt.imshow(img)\n",
    "plt.savefig('result_a.jpg')\n",
    "plt.show()"
   ]
  }
 ],
 "metadata": {
  "accelerator": "GPU",
  "colab": {
   "collapsed_sections": [
    "rc3czwIt6fcF",
    "M07MPnxl6fcG",
    "VlXp-kA_6fcO"
   ],
   "name": "Process.ipynb",
   "provenance": []
  },
  "kernelspec": {
   "display_name": "Python 3 (ipykernel)",
   "language": "python",
   "name": "python3"
  },
  "language_info": {
   "codemirror_mode": {
    "name": "ipython",
    "version": 3
   },
   "file_extension": ".py",
   "mimetype": "text/x-python",
   "name": "python",
   "nbconvert_exporter": "python",
   "pygments_lexer": "ipython3",
   "version": "3.8.11"
  },
  "toc": {
   "base_numbering": 1,
   "nav_menu": {},
   "number_sections": true,
   "sideBar": true,
   "skip_h1_title": false,
   "title_cell": "Table of Contents",
   "title_sidebar": "Contents",
   "toc_cell": false,
   "toc_position": {},
   "toc_section_display": true,
   "toc_window_display": false
  },
  "varInspector": {
   "cols": {
    "lenName": 16,
    "lenType": 16,
    "lenVar": 40
   },
   "kernels_config": {
    "python": {
     "delete_cmd_postfix": "",
     "delete_cmd_prefix": "del ",
     "library": "var_list.py",
     "varRefreshCmd": "print(var_dic_list())"
    },
    "r": {
     "delete_cmd_postfix": ") ",
     "delete_cmd_prefix": "rm(",
     "library": "var_list.r",
     "varRefreshCmd": "cat(var_dic_list()) "
    }
   },
   "types_to_exclude": [
    "module",
    "function",
    "builtin_function_or_method",
    "instance",
    "_Feature"
   ],
   "window_display": false
  }
 },
 "nbformat": 4,
 "nbformat_minor": 1
}
