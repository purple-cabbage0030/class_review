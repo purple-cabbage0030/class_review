{
 "cells": [
  {
   "cell_type": "markdown",
   "metadata": {},
   "source": [
    "# 배열을 파일에 저장 및 불러오기\n",
    "- ## 바이너리 파일로 저장/불러오기\n",
    "    - ### np.save(\"파일경로/파일명\", 배열)\n",
    "        - 배열을 raw 바이너리 형식으로 저장한다. (압축하지 않은)\n",
    "        - 파일명에 확장자로 npy가 붙는다. (무조건 붙인다. abc.xxx 해도 abc.xxx.npy 로 저장)\n",
    "    - ### np.load(\"파일경로/파일명\") \n",
    "        - 파일에 저장된 배열을 불러온다.\n",
    "    - ### np.savez(\"파일경로/파일명\", 이름=배열, 이름=배열, ...)\n",
    "        - 여러 개의 배열을 저장할 때 사용\n",
    "        - 파일명에 확장자로 npz가 붙는다.\n",
    "        - 내부적으로 압축해서 저장한다. 용량을 줄일 수 있다는 장점이 있음...\n",
    "        - load() 함수로 불러오면 저장된 배열목록이 반환된다. 저장 시 지정한 이름을 이용해 조회 \n",
    "- ## 텍스트 파일로 저장하고 불러오기\n",
    "    - ### savetxt(\"파일경로/파일명\", 배열 [, delimiter='(기본값=공백)']) \n",
    "        - 텍스트(문자열 타입) 형태로 저장.\n",
    "        - 각 원소는 공백을 기준으로 나뉘며 delimiter 속성으로 구분자를 지정할 수 있다. (delimiter생략시 공백)\n",
    "        - 1차원과 2차원 배열만 저장 가능하다. (3차원 이상은 저장이 안된다.)\n",
    "    - ### loadtxt(\"파일경로/파일명\" [,dtype=float, delimiter=공백])\n",
    "        - float64 형태로 읽어옴."
   ]
  },
  {
   "cell_type": "code",
   "execution_count": 1,
   "metadata": {},
   "outputs": [],
   "source": [
    "import numpy as np"
   ]
  },
  {
   "cell_type": "code",
   "execution_count": 2,
   "metadata": {},
   "outputs": [
    {
     "name": "stdout",
     "output_type": "stream",
     "text": [
      "(5,) (3, 3, 5) (5, 10)\n"
     ]
    }
   ],
   "source": [
    "a = np.array([1,20,5,7,20])\n",
    "b = np.ones(shape=(3,3,5))\n",
    "c = np.random.normal(10, 2, size=(5,10))  # 평균=10, 표준편차=2\n",
    "print(a.shape, b.shape, c.shape)"
   ]
  },
  {
   "cell_type": "code",
   "execution_count": 3,
   "metadata": {},
   "outputs": [],
   "source": [
    "# binary 파일에 배열 저장\n",
    "# 한 파일에 하나의 배열 저장 - save()\n",
    "# 경로 - 상대경로(현재 working directory 기준 경로 - .: 현재 dir) or 절대경로(root 디렉토리부터 전체 경로)\n",
    "np.save(\"data/array_a\", a)   # data/array_a.npy\n",
    "np.save(\"data/array_b.npy\", b)\n",
    "np.save(\"data/array.c\", c)   # data/array.c.npy"
   ]
  },
  {
   "cell_type": "code",
   "execution_count": 4,
   "metadata": {},
   "outputs": [],
   "source": [
    "# 불러오기 - load()\n",
    "a2 = np.load(\"data/array_a.npy\")\n",
    "b2 = np.load(\"data/array_b.npy\")\n",
    "c2 = np.load(\"data/array.c.npy\")"
   ]
  },
  {
   "cell_type": "code",
   "execution_count": 5,
   "metadata": {},
   "outputs": [
    {
     "data": {
      "text/plain": [
       "((5,), (3, 3, 5), (5, 10))"
      ]
     },
     "execution_count": 5,
     "metadata": {},
     "output_type": "execute_result"
    }
   ],
   "source": [
    "a2.shape, b2.shape, c2.shape"
   ]
  },
  {
   "cell_type": "code",
   "execution_count": 6,
   "metadata": {},
   "outputs": [
    {
     "data": {
      "text/plain": [
       "array([ 1, 20,  5,  7, 20])"
      ]
     },
     "execution_count": 6,
     "metadata": {},
     "output_type": "execute_result"
    }
   ],
   "source": [
    "a2"
   ]
  },
  {
   "cell_type": "code",
   "execution_count": 7,
   "metadata": {},
   "outputs": [
    {
     "data": {
      "text/plain": [
       "array([[[1., 1., 1., 1., 1.],\n",
       "        [1., 1., 1., 1., 1.],\n",
       "        [1., 1., 1., 1., 1.]],\n",
       "\n",
       "       [[1., 1., 1., 1., 1.],\n",
       "        [1., 1., 1., 1., 1.],\n",
       "        [1., 1., 1., 1., 1.]],\n",
       "\n",
       "       [[1., 1., 1., 1., 1.],\n",
       "        [1., 1., 1., 1., 1.],\n",
       "        [1., 1., 1., 1., 1.]]])"
      ]
     },
     "execution_count": 7,
     "metadata": {},
     "output_type": "execute_result"
    }
   ],
   "source": [
    "b2"
   ]
  },
  {
   "cell_type": "code",
   "execution_count": 8,
   "metadata": {
    "scrolled": true
   },
   "outputs": [
    {
     "data": {
      "text/plain": [
       "array([[11.97556245,  8.57560854,  6.89577802, 12.94819718, 10.7907999 ,\n",
       "        12.01333795, 10.45453255, 11.58348866, 14.12160347, 10.93378641],\n",
       "       [12.33636698, 12.58590416,  7.47282517, 13.8979922 ,  6.82103779,\n",
       "         9.99725301,  8.8768986 ,  7.25744763,  5.90953362, 12.25687815],\n",
       "       [10.5822191 , 12.94468308,  7.60860464,  9.23199489,  9.99991872,\n",
       "        13.05723862, 13.31342684,  9.54859241,  9.37517132, 12.77929642],\n",
       "       [ 9.60850694, 11.40934159,  7.92915033, 10.2048333 ,  7.99891427,\n",
       "        11.43965994,  9.15233881, 10.6046498 , 10.74481452,  8.76589451],\n",
       "       [ 5.64422196,  8.26365801,  7.78206919, 13.01092778,  6.15949385,\n",
       "        12.85051322, 12.23230789, 10.05944517,  9.57630701, 12.12129284]])"
      ]
     },
     "execution_count": 8,
     "metadata": {},
     "output_type": "execute_result"
    }
   ],
   "source": [
    "c2"
   ]
  },
  {
   "cell_type": "code",
   "execution_count": 9,
   "metadata": {},
   "outputs": [
    {
     "data": {
      "text/plain": [
       "(dtype('float64'), dtype('float64'))"
      ]
     },
     "execution_count": 9,
     "metadata": {},
     "output_type": "execute_result"
    }
   ],
   "source": [
    "c.dtype, c2.dtype"
   ]
  },
  {
   "cell_type": "code",
   "execution_count": 10,
   "metadata": {},
   "outputs": [],
   "source": [
    "# 한 파일에 여러 개의 배열 저장 - savez()\n",
    "np.savez('data/array', a=a, b=b, c=c) # array.npz"
   ]
  },
  {
   "cell_type": "code",
   "execution_count": 11,
   "metadata": {},
   "outputs": [
    {
     "data": {
      "text/plain": [
       "<numpy.lib.npyio.NpzFile at 0x1c769a4ca60>"
      ]
     },
     "execution_count": 11,
     "metadata": {},
     "output_type": "execute_result"
    }
   ],
   "source": [
    "arrays = np.load('data/array.npz')\n",
    "arrays"
   ]
  },
  {
   "cell_type": "code",
   "execution_count": 12,
   "metadata": {},
   "outputs": [
    {
     "data": {
      "text/plain": [
       "['a', 'b', 'c']"
      ]
     },
     "execution_count": 12,
     "metadata": {},
     "output_type": "execute_result"
    }
   ],
   "source": [
    "# 저장된 배열들의 이름을 조회\n",
    "arrays.files"
   ]
  },
  {
   "cell_type": "code",
   "execution_count": 13,
   "metadata": {},
   "outputs": [],
   "source": [
    "# 각 배열을 조회 - index 연산자를 사용\n",
    "a3 = arrays['a']\n",
    "b3 = arrays['b']\n",
    "c3 = arrays['c']"
   ]
  },
  {
   "cell_type": "code",
   "execution_count": 14,
   "metadata": {},
   "outputs": [
    {
     "data": {
      "text/plain": [
       "((5,), (3, 3, 5), (5, 10))"
      ]
     },
     "execution_count": 14,
     "metadata": {},
     "output_type": "execute_result"
    }
   ],
   "source": [
    "a3.shape, b3.shape, c3.shape"
   ]
  },
  {
   "cell_type": "code",
   "execution_count": 15,
   "metadata": {},
   "outputs": [],
   "source": [
    "# 텍스트 파일로 저장 (csv) --> 1 or 2차원 배열만 저장 가능\n",
    "# savetxt\n",
    "np.savetxt(\"data/a.csv\", a)\n"
   ]
  },
  {
   "cell_type": "code",
   "execution_count": 18,
   "metadata": {},
   "outputs": [],
   "source": [
    "a4 = np.loadtxt('data/a.csv', dtype=np.int)"
   ]
  },
  {
   "cell_type": "code",
   "execution_count": 19,
   "metadata": {},
   "outputs": [
    {
     "data": {
      "text/plain": [
       "array([ 1, 20,  5,  7, 20])"
      ]
     },
     "execution_count": 19,
     "metadata": {},
     "output_type": "execute_result"
    }
   ],
   "source": [
    "a4"
   ]
  },
  {
   "cell_type": "code",
   "execution_count": 24,
   "metadata": {},
   "outputs": [],
   "source": [
    "np.savetxt(\"data/c.csv\", c)\n",
    "# delimiter 줘도 되고 안 줘도 되고... 다만 콤마로 주면 읽어올 때 명시해야 함"
   ]
  },
  {
   "cell_type": "code",
   "execution_count": 25,
   "metadata": {},
   "outputs": [
    {
     "data": {
      "text/plain": [
       "array([[11.97556245,  8.57560854,  6.89577802, 12.94819718, 10.7907999 ,\n",
       "        12.01333795, 10.45453255, 11.58348866, 14.12160347, 10.93378641],\n",
       "       [12.33636698, 12.58590416,  7.47282517, 13.8979922 ,  6.82103779,\n",
       "         9.99725301,  8.8768986 ,  7.25744763,  5.90953362, 12.25687815],\n",
       "       [10.5822191 , 12.94468308,  7.60860464,  9.23199489,  9.99991872,\n",
       "        13.05723862, 13.31342684,  9.54859241,  9.37517132, 12.77929642],\n",
       "       [ 9.60850694, 11.40934159,  7.92915033, 10.2048333 ,  7.99891427,\n",
       "        11.43965994,  9.15233881, 10.6046498 , 10.74481452,  8.76589451],\n",
       "       [ 5.64422196,  8.26365801,  7.78206919, 13.01092778,  6.15949385,\n",
       "        12.85051322, 12.23230789, 10.05944517,  9.57630701, 12.12129284]])"
      ]
     },
     "execution_count": 25,
     "metadata": {},
     "output_type": "execute_result"
    }
   ],
   "source": [
    "c4 = np.loadtxt('data/c.csv')\n",
    "c4"
   ]
  },
  {
   "cell_type": "code",
   "execution_count": null,
   "metadata": {},
   "outputs": [],
   "source": []
  },
  {
   "cell_type": "code",
   "execution_count": null,
   "metadata": {},
   "outputs": [],
   "source": []
  },
  {
   "cell_type": "code",
   "execution_count": null,
   "metadata": {},
   "outputs": [],
   "source": []
  },
  {
   "cell_type": "code",
   "execution_count": null,
   "metadata": {},
   "outputs": [],
   "source": []
  }
 ],
 "metadata": {
  "kernelspec": {
   "display_name": "Python 3",
   "language": "python",
   "name": "python3"
  },
  "language_info": {
   "codemirror_mode": {
    "name": "ipython",
    "version": 3
   },
   "file_extension": ".py",
   "mimetype": "text/x-python",
   "name": "python",
   "nbconvert_exporter": "python",
   "pygments_lexer": "ipython3",
   "version": "3.8.5"
  },
  "toc": {
   "base_numbering": 1,
   "nav_menu": {},
   "number_sections": true,
   "sideBar": true,
   "skip_h1_title": false,
   "title_cell": "Table of Contents",
   "title_sidebar": "Contents",
   "toc_cell": false,
   "toc_position": {},
   "toc_section_display": true,
   "toc_window_display": false
  },
  "varInspector": {
   "cols": {
    "lenName": 16,
    "lenType": 16,
    "lenVar": 40
   },
   "kernels_config": {
    "python": {
     "delete_cmd_postfix": "",
     "delete_cmd_prefix": "del ",
     "library": "var_list.py",
     "varRefreshCmd": "print(var_dic_list())"
    },
    "r": {
     "delete_cmd_postfix": ") ",
     "delete_cmd_prefix": "rm(",
     "library": "var_list.r",
     "varRefreshCmd": "cat(var_dic_list()) "
    }
   },
   "types_to_exclude": [
    "module",
    "function",
    "builtin_function_or_method",
    "instance",
    "_Feature"
   ],
   "window_display": false
  }
 },
 "nbformat": 4,
 "nbformat_minor": 2
}
