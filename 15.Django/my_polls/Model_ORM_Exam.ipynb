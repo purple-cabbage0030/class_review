{
 "cells": [
  {
   "cell_type": "markdown",
   "id": "5bee042c",
   "metadata": {},
   "source": [
    "# django shell 기능을 jupyter notebook 이용해 작업\n",
    "- django 프로젝트 root 디렉토리에서 주피터노트북을 실행해야 함\n",
    "- jupyter notebook에서 django shell 사용하기 위해 환경 설정 필요"
   ]
  },
  {
   "cell_type": "code",
   "execution_count": 1,
   "id": "aacf03e9",
   "metadata": {},
   "outputs": [],
   "source": [
    "# django shell 환경이 아닌 곳에서 그 기능을 사용하기 위해 필요한 설정\n",
    "import os\n",
    "os.environ['DJANGO_SETTINGS_MODULE'] = 'config.settings'   # root/config/settings.py 경로 지정\n",
    "os.environ['DJANGO_ALLOW_ASYNC_UNSAFE'] = 'true'\n",
    "\n",
    "import django\n",
    "django.setup()"
   ]
  },
  {
   "cell_type": "code",
   "execution_count": 2,
   "id": "f7d30ac1",
   "metadata": {},
   "outputs": [],
   "source": [
    "from poll.models import Question, Choice"
   ]
  },
  {
   "cell_type": "code",
   "execution_count": 3,
   "id": "35ddd6ca",
   "metadata": {},
   "outputs": [
    {
     "name": "stdout",
     "output_type": "stream",
     "text": [
      "<class 'django.db.models.manager.Manager'>\n"
     ]
    }
   ],
   "source": [
    "mm = Question.objects\n",
    "print(type(mm))"
   ]
  },
  {
   "cell_type": "code",
   "execution_count": 4,
   "id": "2a8f0bc4",
   "metadata": {},
   "outputs": [
    {
     "data": {
      "text/plain": [
       "<QuerySet [<Question: 좋아하는 색깔은?>, <Question: 좋아하는 동물은?>, <Question: 가고 싶은 나라는?>, <Question: 싫어하는 동물은?>]>"
      ]
     },
     "execution_count": 4,
     "metadata": {},
     "output_type": "execute_result"
    }
   ],
   "source": [
    "mm.all()"
   ]
  },
  {
   "cell_type": "markdown",
   "id": "9e73a7e3",
   "metadata": {},
   "source": [
    "모델클래스.objents.SQL메소드()[.SQL메소드()...]"
   ]
  },
  {
   "cell_type": "markdown",
   "id": "c93f8c93",
   "metadata": {},
   "source": [
    "# 조회(select)\n",
    "- all(): 전체 조회 - 조회 결과는 QuerySet 객체 반환\n",
    "    - QuerySet 객체를 통해 조회 결과를 조회하거나 추가 SQL문을 실행할 수 있다."
   ]
  },
  {
   "cell_type": "code",
   "execution_count": 5,
   "id": "6c1a4266",
   "metadata": {},
   "outputs": [
    {
     "name": "stdout",
     "output_type": "stream",
     "text": [
      "<class 'django.db.models.query.QuerySet'>\n",
      "SELECT \"poll_question\".\"id\", \"poll_question\".\"question_text\", \"poll_question\".\"pub_date\" FROM \"poll_question\"\n"
     ]
    }
   ],
   "source": [
    "qs = Question.objects.all()   # select * from Question\n",
    "print(type(qs))\n",
    "print(qs.query)   # 실행된 sql문을 조회"
   ]
  },
  {
   "cell_type": "code",
   "execution_count": 6,
   "id": "18c92d4d",
   "metadata": {},
   "outputs": [
    {
     "data": {
      "text/plain": [
       "<QuerySet [<Question: 좋아하는 색깔은?>, <Question: 좋아하는 동물은?>, <Question: 가고 싶은 나라는?>, <Question: 싫어하는 동물은?>]>"
      ]
     },
     "execution_count": 6,
     "metadata": {},
     "output_type": "execute_result"
    }
   ],
   "source": [
    "qs   # iterable"
   ]
  },
  {
   "cell_type": "code",
   "execution_count": 8,
   "id": "2acb8f98",
   "metadata": {},
   "outputs": [
    {
     "name": "stdout",
     "output_type": "stream",
     "text": [
      "<class 'poll.models.Question'> 좋아하는 색깔은? 좋아하는 색깔은? 2021-10-05 08:17:30.109710+00:00 1 1\n",
      "<class 'poll.models.Question'> 좋아하는 동물은? 좋아하는 동물은? 2021-10-05 08:17:52.209079+00:00 2 2\n",
      "<class 'poll.models.Question'> 가고 싶은 나라는? 가고 싶은 나라는? 2021-10-05 08:17:56.685562+00:00 3 3\n",
      "<class 'poll.models.Question'> 싫어하는 동물은? 싫어하는 동물은? 2021-10-05 08:18:14.431131+00:00 4 4\n"
     ]
    }
   ],
   "source": [
    "for m in qs:\n",
    "    print(type(m), m, m.question_text, m.pub_date, m.id, m.pk)   # model.pk (primary 컬럼의 값을 조회)"
   ]
  },
  {
   "cell_type": "code",
   "execution_count": 10,
   "id": "40969737",
   "metadata": {},
   "outputs": [
    {
     "name": "stdout",
     "output_type": "stream",
     "text": [
      "id 3 등록일시 2021-10-05 08:17:56.685562+00:00\n"
     ]
    }
   ],
   "source": [
    "# QuerySet: iterabl - 반복문으로 조회, indexing, slicing 가능\n",
    "# 단 음수 indexing은 지원하지 않는다.\n",
    "qs[2]\n",
    "print('id', qs[2].pk, '등록일시', qs[2].pub_date)"
   ]
  },
  {
   "cell_type": "code",
   "execution_count": 11,
   "id": "5581afca",
   "metadata": {},
   "outputs": [
    {
     "data": {
      "text/plain": [
       "[<Question: 좋아하는 색깔은?>, <Question: 가고 싶은 나라는?>]"
      ]
     },
     "execution_count": 11,
     "metadata": {},
     "output_type": "execute_result"
    }
   ],
   "source": [
    "qs[::2]"
   ]
  },
  {
   "cell_type": "code",
   "execution_count": 12,
   "id": "3df8cbb8",
   "metadata": {},
   "outputs": [
    {
     "data": {
      "text/plain": [
       "<Question: 좋아하는 색깔은?>"
      ]
     },
     "execution_count": 12,
     "metadata": {},
     "output_type": "execute_result"
    }
   ],
   "source": [
    "qs.first()   # 조회 결과 중 첫 번째 반환"
   ]
  },
  {
   "cell_type": "code",
   "execution_count": 13,
   "id": "7f277b43",
   "metadata": {},
   "outputs": [
    {
     "data": {
      "text/plain": [
       "<Question: 싫어하는 동물은?>"
      ]
     },
     "execution_count": 13,
     "metadata": {},
     "output_type": "execute_result"
    }
   ],
   "source": [
    "qs.last()    # 조회 결과 중 마지막 반환"
   ]
  },
  {
   "cell_type": "markdown",
   "id": "17310e20",
   "metadata": {},
   "source": [
    "## where절 이용한 조회\n",
    "조회 조건이 있는 조회\n",
    "- filter(조회 조건): 조건을 만족하는 행이 0개 이상일 경우 (해당하는 결과 없어도 에러 발생 안 됨)\n",
    "- exclude(조회 조건): 조건을 만족하지 않는 0개 이상의 행들을 조회\n",
    "- get(조회 조건): 조건을 만족하는 1개 행 조회. 보통 pk로 조회할 때 사용. 조회 결과가 0개 이거나 2개 이상인 경우 Exception 발생.\n",
    "- filter/exclude() 반환 타입: QuerySet\n",
    "- get() 반환 타입: Model 객체 반환"
   ]
  },
  {
   "cell_type": "code",
   "execution_count": 17,
   "id": "f8f33697",
   "metadata": {},
   "outputs": [
    {
     "data": {
      "text/plain": [
       "django.db.models.query.QuerySet"
      ]
     },
     "execution_count": 17,
     "metadata": {},
     "output_type": "execute_result"
    }
   ],
   "source": [
    "# pk(id) = 2\n",
    "qs = Question.objects.filter(id=2)\n",
    "type(qs)"
   ]
  },
  {
   "cell_type": "code",
   "execution_count": 19,
   "id": "b3da1c5e",
   "metadata": {},
   "outputs": [
    {
     "ename": "AttributeError",
     "evalue": "'QuerySet' object has no attribute 'id'",
     "output_type": "error",
     "traceback": [
      "\u001b[1;31m---------------------------------------------------------------------------\u001b[0m",
      "\u001b[1;31mAttributeError\u001b[0m                            Traceback (most recent call last)",
      "\u001b[1;32m~\\AppData\\Local\\Temp/ipykernel_5972/3967245291.py\u001b[0m in \u001b[0;36m<module>\u001b[1;34m\u001b[0m\n\u001b[1;32m----> 1\u001b[1;33m \u001b[0mqs\u001b[0m\u001b[1;33m.\u001b[0m\u001b[0mid\u001b[0m\u001b[1;33m\u001b[0m\u001b[1;33m\u001b[0m\u001b[0m\n\u001b[0m",
      "\u001b[1;31mAttributeError\u001b[0m: 'QuerySet' object has no attribute 'id'"
     ]
    }
   ],
   "source": [
    "qs.id"
   ]
  },
  {
   "cell_type": "code",
   "execution_count": 24,
   "id": "84d1bbb6",
   "metadata": {},
   "outputs": [
    {
     "name": "stdout",
     "output_type": "stream",
     "text": [
      "2 좋아하는 동물은? 2021-10-05 08:17:52.209079+00:00\n",
      "<class 'poll.models.Question'>\n"
     ]
    }
   ],
   "source": [
    "r = qs.first()\n",
    "print(r.id, r.question_text, r.pub_date)\n",
    "print(type(r))"
   ]
  },
  {
   "cell_type": "code",
   "execution_count": 21,
   "id": "cb56db4e",
   "metadata": {},
   "outputs": [
    {
     "data": {
      "text/plain": [
       "poll.models.Question"
      ]
     },
     "execution_count": 21,
     "metadata": {},
     "output_type": "execute_result"
    }
   ],
   "source": [
    "question = Question.objects.get(pk=2)\n",
    "type(question)"
   ]
  },
  {
   "cell_type": "code",
   "execution_count": 22,
   "id": "46c01f24",
   "metadata": {},
   "outputs": [
    {
     "data": {
      "text/plain": [
       "(2, 2, '좋아하는 동물은?')"
      ]
     },
     "execution_count": 22,
     "metadata": {},
     "output_type": "execute_result"
    }
   ],
   "source": [
    "question.id, question.pk, question.question_text"
   ]
  },
  {
   "cell_type": "code",
   "execution_count": 26,
   "id": "e9e04ccf",
   "metadata": {},
   "outputs": [
    {
     "name": "stdout",
     "output_type": "stream",
     "text": [
      "SELECT \"poll_question\".\"id\", \"poll_question\".\"question_text\", \"poll_question\".\"pub_date\" FROM \"poll_question\" WHERE NOT (\"poll_question\".\"id\" = 2)\n"
     ]
    },
    {
     "data": {
      "text/plain": [
       "<QuerySet [<Question: 좋아하는 색깔은?>, <Question: 가고 싶은 나라는?>, <Question: 싫어하는 동물은?>]>"
      ]
     },
     "execution_count": 26,
     "metadata": {},
     "output_type": "execute_result"
    }
   ],
   "source": [
    "qs = Question.objects.exclude(pk=2)\n",
    "print(qs.query)   # QuerySet만 .query 사용 가능\n",
    "qs"
   ]
  },
  {
   "cell_type": "code",
   "execution_count": 29,
   "id": "01a78227",
   "metadata": {},
   "outputs": [
    {
     "name": "stdout",
     "output_type": "stream",
     "text": [
      "질문 없다\n"
     ]
    }
   ],
   "source": [
    "try:\n",
    "    q = Question.objects.get(pk=100)   # 조회 결과 없을 시 DoesNotExist Exception 발생\n",
    "except:\n",
    "    print('질문 없다')"
   ]
  },
  {
   "cell_type": "code",
   "execution_count": 31,
   "id": "649af98e",
   "metadata": {},
   "outputs": [
    {
     "data": {
      "text/plain": [
       "<QuerySet []>"
      ]
     },
     "execution_count": 31,
     "metadata": {},
     "output_type": "execute_result"
    }
   ],
   "source": [
    "q = Question.objects.filter(pk=100)\n",
    "q"
   ]
  },
  {
   "cell_type": "code",
   "execution_count": 32,
   "id": "775c560c",
   "metadata": {
    "scrolled": true
   },
   "outputs": [
    {
     "ename": "MultipleObjectsReturned",
     "evalue": "get() returned more than one Question -- it returned 3!",
     "output_type": "error",
     "traceback": [
      "\u001b[1;31m---------------------------------------------------------------------------\u001b[0m",
      "\u001b[1;31mMultipleObjectsReturned\u001b[0m                   Traceback (most recent call last)",
      "\u001b[1;32m~\\AppData\\Local\\Temp/ipykernel_5972/1226619204.py\u001b[0m in \u001b[0;36m<module>\u001b[1;34m\u001b[0m\n\u001b[1;32m----> 1\u001b[1;33m \u001b[0mq\u001b[0m \u001b[1;33m=\u001b[0m \u001b[0mQuestion\u001b[0m\u001b[1;33m.\u001b[0m\u001b[0mobjects\u001b[0m\u001b[1;33m.\u001b[0m\u001b[0mget\u001b[0m\u001b[1;33m(\u001b[0m\u001b[0mpk__gt\u001b[0m\u001b[1;33m=\u001b[0m\u001b[1;36m1\u001b[0m\u001b[1;33m)\u001b[0m   \u001b[1;31m# where pk > 1 : 1개 이상이 조회되는 경우\u001b[0m\u001b[1;33m\u001b[0m\u001b[1;33m\u001b[0m\u001b[0m\n\u001b[0m",
      "\u001b[1;32m~\\Anaconda3\\envs\\django\\lib\\site-packages\\django\\db\\models\\manager.py\u001b[0m in \u001b[0;36mmanager_method\u001b[1;34m(self, *args, **kwargs)\u001b[0m\n\u001b[0;32m     83\u001b[0m         \u001b[1;32mdef\u001b[0m \u001b[0mcreate_method\u001b[0m\u001b[1;33m(\u001b[0m\u001b[0mname\u001b[0m\u001b[1;33m,\u001b[0m \u001b[0mmethod\u001b[0m\u001b[1;33m)\u001b[0m\u001b[1;33m:\u001b[0m\u001b[1;33m\u001b[0m\u001b[1;33m\u001b[0m\u001b[0m\n\u001b[0;32m     84\u001b[0m             \u001b[1;32mdef\u001b[0m \u001b[0mmanager_method\u001b[0m\u001b[1;33m(\u001b[0m\u001b[0mself\u001b[0m\u001b[1;33m,\u001b[0m \u001b[1;33m*\u001b[0m\u001b[0margs\u001b[0m\u001b[1;33m,\u001b[0m \u001b[1;33m**\u001b[0m\u001b[0mkwargs\u001b[0m\u001b[1;33m)\u001b[0m\u001b[1;33m:\u001b[0m\u001b[1;33m\u001b[0m\u001b[1;33m\u001b[0m\u001b[0m\n\u001b[1;32m---> 85\u001b[1;33m                 \u001b[1;32mreturn\u001b[0m \u001b[0mgetattr\u001b[0m\u001b[1;33m(\u001b[0m\u001b[0mself\u001b[0m\u001b[1;33m.\u001b[0m\u001b[0mget_queryset\u001b[0m\u001b[1;33m(\u001b[0m\u001b[1;33m)\u001b[0m\u001b[1;33m,\u001b[0m \u001b[0mname\u001b[0m\u001b[1;33m)\u001b[0m\u001b[1;33m(\u001b[0m\u001b[1;33m*\u001b[0m\u001b[0margs\u001b[0m\u001b[1;33m,\u001b[0m \u001b[1;33m**\u001b[0m\u001b[0mkwargs\u001b[0m\u001b[1;33m)\u001b[0m\u001b[1;33m\u001b[0m\u001b[1;33m\u001b[0m\u001b[0m\n\u001b[0m\u001b[0;32m     86\u001b[0m             \u001b[0mmanager_method\u001b[0m\u001b[1;33m.\u001b[0m\u001b[0m__name__\u001b[0m \u001b[1;33m=\u001b[0m \u001b[0mmethod\u001b[0m\u001b[1;33m.\u001b[0m\u001b[0m__name__\u001b[0m\u001b[1;33m\u001b[0m\u001b[1;33m\u001b[0m\u001b[0m\n\u001b[0;32m     87\u001b[0m             \u001b[0mmanager_method\u001b[0m\u001b[1;33m.\u001b[0m\u001b[0m__doc__\u001b[0m \u001b[1;33m=\u001b[0m \u001b[0mmethod\u001b[0m\u001b[1;33m.\u001b[0m\u001b[0m__doc__\u001b[0m\u001b[1;33m\u001b[0m\u001b[1;33m\u001b[0m\u001b[0m\n",
      "\u001b[1;32m~\\Anaconda3\\envs\\django\\lib\\site-packages\\django\\db\\models\\query.py\u001b[0m in \u001b[0;36mget\u001b[1;34m(self, *args, **kwargs)\u001b[0m\n\u001b[0;32m    437\u001b[0m                 \u001b[0mself\u001b[0m\u001b[1;33m.\u001b[0m\u001b[0mmodel\u001b[0m\u001b[1;33m.\u001b[0m\u001b[0m_meta\u001b[0m\u001b[1;33m.\u001b[0m\u001b[0mobject_name\u001b[0m\u001b[1;33m\u001b[0m\u001b[1;33m\u001b[0m\u001b[0m\n\u001b[0;32m    438\u001b[0m             )\n\u001b[1;32m--> 439\u001b[1;33m         raise self.model.MultipleObjectsReturned(\n\u001b[0m\u001b[0;32m    440\u001b[0m             'get() returned more than one %s -- it returned %s!' % (\n\u001b[0;32m    441\u001b[0m                 \u001b[0mself\u001b[0m\u001b[1;33m.\u001b[0m\u001b[0mmodel\u001b[0m\u001b[1;33m.\u001b[0m\u001b[0m_meta\u001b[0m\u001b[1;33m.\u001b[0m\u001b[0mobject_name\u001b[0m\u001b[1;33m,\u001b[0m\u001b[1;33m\u001b[0m\u001b[1;33m\u001b[0m\u001b[0m\n",
      "\u001b[1;31mMultipleObjectsReturned\u001b[0m: get() returned more than one Question -- it returned 3!"
     ]
    }
   ],
   "source": [
    "q = Question.objects.get(pk__gt=1)   # where pk > 1 : 1개 이상이 조회되는 경우 MultipleObjectsReturned Exception 발생"
   ]
  },
  {
   "cell_type": "code",
   "execution_count": 39,
   "id": "08b093cf",
   "metadata": {},
   "outputs": [
    {
     "name": "stdout",
     "output_type": "stream",
     "text": [
      "SELECT \"poll_question\".\"id\", \"poll_question\".\"question_text\", \"poll_question\".\"pub_date\" FROM \"poll_question\" WHERE \"poll_question\".\"question_text\" LIKE %동물% ESCAPE '\\'\n",
      "2 좋아하는 동물은?\n",
      "4 싫어하는 동물은?\n"
     ]
    }
   ],
   "source": [
    "# 조회 조건\n",
    "qs = Question.objects.filter(pk__lt=3)\n",
    "qs = Question.objects.filter(pk__lte=3)\n",
    "qs = Question.objects.filter(pk__gt=3)\n",
    "qs = Question.objects.filter(pk__gte=3)\n",
    "qs = Question.objects.filter(pk__in=[1,3])   # pk in [1, 3]\n",
    "qs = Question.objects.filter(pk__range=[2,4])   # pk between 2 and 4\n",
    "qs = Question.objects.filter(question_text__startswith='좋아하는')   # question_text like '좋아하는%'\n",
    "qs = Question.objects.filter(question_text__endswith='동물은?')   # question_text like '%동물은?'\n",
    "qs = Question.objects.filter(question_text__contains='동물')   # question_text like '%동물%'\n",
    "print(qs.query)\n",
    "for m in qs:\n",
    "    print(m.pk, m.question_text)"
   ]
  },
  {
   "cell_type": "markdown",
   "id": "aa3466ee",
   "metadata": {},
   "source": [
    "### and로 조건을 묶는 경우\n",
    "- 조회 함수들의 매개변수에 조건들을 나열해준다"
   ]
  },
  {
   "cell_type": "code",
   "execution_count": 40,
   "id": "239b5c7b",
   "metadata": {},
   "outputs": [
    {
     "name": "stdout",
     "output_type": "stream",
     "text": [
      "SELECT \"poll_question\".\"id\", \"poll_question\".\"question_text\", \"poll_question\".\"pub_date\" FROM \"poll_question\" WHERE (\"poll_question\".\"id\" = 2 AND \"poll_question\".\"question_text\" LIKE 좋아하는% ESCAPE '\\')\n",
      "2 좋아하는 동물은?\n"
     ]
    }
   ],
   "source": [
    "# pk=2 and question_text like \"좋아하는%\"\n",
    "qs = Question.objects.filter(pk=2, question_text__startswith='좋아하는')\n",
    "\n",
    "print(qs.query)\n",
    "for m in qs:\n",
    "    print(m.pk, m.question_text)"
   ]
  },
  {
   "cell_type": "markdown",
   "id": "1feaa09d",
   "metadata": {},
   "source": [
    "### or로 조건을 묶는 경우\n",
    "- 개별 조건을 Q()에 넣고 `|` 사용"
   ]
  },
  {
   "cell_type": "code",
   "execution_count": 43,
   "id": "e258d9bc",
   "metadata": {},
   "outputs": [
    {
     "name": "stdout",
     "output_type": "stream",
     "text": [
      "SELECT \"poll_question\".\"id\", \"poll_question\".\"question_text\", \"poll_question\".\"pub_date\" FROM \"poll_question\" WHERE (\"poll_question\".\"id\" < 3 OR NOT (\"poll_question\".\"question_text\" LIKE %동물은? ESCAPE '\\'))\n",
      "1 좋아하는 색깔은?\n",
      "2 좋아하는 동물은?\n",
      "3 가고 싶은 나라는?\n"
     ]
    }
   ],
   "source": [
    "# pk<3 or question_text like \"%동물은?\"\n",
    "from django.db.models import Q\n",
    "\n",
    "# qs = Question.objects.filter(Q(pk__lt=3) | Q(question_text__endswith='동물은?'))\n",
    "qs = Question.objects.filter(Q(pk__lt=3) | ~Q(question_text__endswith='동물은?'))  # not\n",
    "\n",
    "\n",
    "print(qs.query)\n",
    "for m in qs:\n",
    "    print(m.pk, m.question_text)"
   ]
  },
  {
   "cell_type": "markdown",
   "id": "02c6f7d9",
   "metadata": {},
   "source": [
    "## 컬럼 선택, 정렬\n",
    "- values(조회할컬럼변수나열): 컬럼 선택\n",
    "    - 조회한 데이터를 dictionary에 넣어서 반환. QuerySet[{}, {}]\n",
    "- order_by(기준컬럼): 정렬 기본 오름차순 / \"-컬럼명\" => 내림차순"
   ]
  },
  {
   "cell_type": "code",
   "execution_count": 47,
   "id": "761b268f",
   "metadata": {},
   "outputs": [
    {
     "name": "stdout",
     "output_type": "stream",
     "text": [
      "SELECT \"poll_choice\".\"choice_text\", \"poll_choice\".\"vote\" FROM \"poll_choice\"\n"
     ]
    },
    {
     "data": {
      "text/plain": [
       "<QuerySet [{'choice_text': '검정색', 'vote': 0}, {'choice_text': '개', 'vote': 0}, {'choice_text': '고양이', 'vote': 0}, {'choice_text': '빨강색', 'vote': 0}, {'choice_text': '프랑스', 'vote': 0}, {'choice_text': '베트남', 'vote': 0}, {'choice_text': '개', 'vote': 0}, {'choice_text': '고양이', 'vote': 0}]>"
      ]
     },
     "execution_count": 47,
     "metadata": {},
     "output_type": "execute_result"
    }
   ],
   "source": [
    "qs = Choice.objects.all().values('choice_text', 'vote')   # select choice_text, vote from choice\n",
    "\n",
    "print(qs.query)\n",
    "qs\n",
    "# for m in qs:\n",
    "#     print(m.pk, m.choice_text, m.vote, m.question, sep='\\t')"
   ]
  },
  {
   "cell_type": "code",
   "execution_count": 45,
   "id": "cfcbcc29",
   "metadata": {},
   "outputs": [
    {
     "data": {
      "text/plain": [
       "poll.models.Question"
      ]
     },
     "execution_count": 45,
     "metadata": {},
     "output_type": "execute_result"
    }
   ],
   "source": [
    "type(m.question)   # 모델 객체가 저장되어있음"
   ]
  },
  {
   "cell_type": "code",
   "execution_count": 48,
   "id": "b343765a",
   "metadata": {},
   "outputs": [
    {
     "name": "stdout",
     "output_type": "stream",
     "text": [
      "검정색 0\n",
      "개 0\n",
      "고양이 0\n",
      "빨강색 0\n",
      "프랑스 0\n",
      "베트남 0\n",
      "개 0\n",
      "고양이 0\n"
     ]
    }
   ],
   "source": [
    "for m in qs:\n",
    "    print(m['choice_text'], m['vote'])    "
   ]
  },
  {
   "cell_type": "code",
   "execution_count": 54,
   "id": "b2ab5c5a",
   "metadata": {},
   "outputs": [
    {
     "name": "stdout",
     "output_type": "stream",
     "text": [
      "SELECT \"poll_choice\".\"id\", \"poll_choice\".\"choice_text\" FROM \"poll_choice\" WHERE \"poll_choice\".\"id\" < 3 ORDER BY \"poll_choice\".\"id\" DESC, \"poll_choice\".\"choice_text\" ASC\n",
      "2 개\n",
      "1 검정색\n"
     ]
    }
   ],
   "source": [
    "# qs = Choice.objects.values('id', 'choice_text').all().order_by('choice_text')  # choice_text를 기준으로 asc 정렬\n",
    "# qs = Choice.objects.values('id', 'choice_text').all().order_by('-choice_text')\n",
    "qs = Choice.objects.values('id', 'choice_text').filter(pk__lt=3).order_by('-id', 'choice_text')\n",
    "\n",
    "print(qs.query)\n",
    "for m in qs:\n",
    "    print(m['id'], m['choice_text'])"
   ]
  },
  {
   "cell_type": "markdown",
   "id": "2df59158",
   "metadata": {},
   "source": [
    "## 집계함수"
   ]
  },
  {
   "cell_type": "code",
   "execution_count": 57,
   "id": "c8da0e4c",
   "metadata": {},
   "outputs": [
    {
     "name": "stdout",
     "output_type": "stream",
     "text": [
      "8 8\n"
     ]
    }
   ],
   "source": [
    "# 조회한 데이터의 개수 조회\n",
    "# QuerySet.count(), len(QuerySet)\n",
    "qs = Choice.objects.all()\n",
    "print(qs.count(), len(qs))"
   ]
  },
  {
   "cell_type": "code",
   "execution_count": 55,
   "id": "ca16e469",
   "metadata": {},
   "outputs": [],
   "source": [
    "# 집계함수들 import\n",
    "from django.db.models import Count, Sum, Avg, Min, Max, StdDev, Variance"
   ]
  },
  {
   "cell_type": "markdown",
   "id": "cdb318c8",
   "metadata": {},
   "source": [
    "- 전체 데이터셋 기준 집계\n",
    "    - aggregate(집계함수(), 집계함수(), ...)\n",
    "- Groupby 집계\n",
    "    - values('나눌기준컬럼명', ...).annotate(집계함수(), ...)\n",
    "- 결과 key: field 이름__집계이름"
   ]
  },
  {
   "cell_type": "code",
   "execution_count": 58,
   "id": "633a3a1f",
   "metadata": {},
   "outputs": [
    {
     "data": {
      "text/plain": [
       "{'vote__count': 8,\n",
       " 'vote__sum': 0,\n",
       " 'vote__avg': 0.0,\n",
       " 'vote__min': 0,\n",
       " 'vote__max': 0,\n",
       " 'vote__stddev': 0.0,\n",
       " 'vote__variance': 0.0}"
      ]
     },
     "execution_count": 58,
     "metadata": {},
     "output_type": "execute_result"
    }
   ],
   "source": [
    "# 전체 데이터셋 기준 집계\n",
    "result = Choice.objects.aggregate(Count('vote'), Sum('vote'), Avg('vote'), Min('vote'), Max('vote'), StdDev('vote'), Variance('vote'))\n",
    "result"
   ]
  },
  {
   "cell_type": "code",
   "execution_count": 59,
   "id": "b51ef1e1",
   "metadata": {},
   "outputs": [
    {
     "data": {
      "text/plain": [
       "0.0"
      ]
     },
     "execution_count": 59,
     "metadata": {},
     "output_type": "execute_result"
    }
   ],
   "source": [
    "result['vote__avg']"
   ]
  },
  {
   "cell_type": "code",
   "execution_count": 60,
   "id": "d27f0b24",
   "metadata": {},
   "outputs": [
    {
     "data": {
      "text/plain": [
       "{'pub_date__min': datetime.datetime(2021, 10, 5, 8, 17, 30, 109710, tzinfo=<UTC>),\n",
       " 'pub_date__max': datetime.datetime(2021, 10, 5, 8, 18, 14, 431131, tzinfo=<UTC>)}"
      ]
     },
     "execution_count": 60,
     "metadata": {},
     "output_type": "execute_result"
    }
   ],
   "source": [
    "# select min(pub_date)\n",
    "# datetime, data, time 타입: min - 과거, max - 미래\n",
    "result2 = Question.objects.aggregate(Min('pub_date'), Max('pub_date'))\n",
    "result2"
   ]
  },
  {
   "cell_type": "code",
   "execution_count": 61,
   "id": "4e5b0575",
   "metadata": {},
   "outputs": [
    {
     "name": "stdout",
     "output_type": "stream",
     "text": [
      "<class 'datetime.datetime'>\n"
     ]
    },
    {
     "data": {
      "text/plain": [
       "(2021, 10, 5, 17, 30)"
      ]
     },
     "execution_count": 61,
     "metadata": {},
     "output_type": "execute_result"
    }
   ],
   "source": [
    "min_date = result2['pub_date__min']\n",
    "print(type(min_date))\n",
    "min_date.year, min_date.month, min_date.day, min_date.minute, min_date.second"
   ]
  },
  {
   "cell_type": "code",
   "execution_count": 62,
   "id": "9560a2e8",
   "metadata": {},
   "outputs": [
    {
     "name": "stdout",
     "output_type": "stream",
     "text": [
      "2021년 10월 05일 08:17:30 <class 'str'>\n"
     ]
    }
   ],
   "source": [
    "# datetime.strftime('형식문자')  %Y:연도, %m:월, %d:일, %H:시간(24), %M:분, %S:초 => 원하는 형식의 문자열로 변환\n",
    "r = min_date.strftime('%Y년 %m월 %d일 %H:%M:%S')\n",
    "print(r, type(r))"
   ]
  },
  {
   "cell_type": "code",
   "execution_count": 63,
   "id": "b1f94e1b",
   "metadata": {},
   "outputs": [
    {
     "data": {
      "text/plain": [
       "<QuerySet [{'question': 1, 'vote__sum': 0}, {'question': 2, 'vote__sum': 0}, {'question': 3, 'vote__sum': 0}, {'question': 4, 'vote__sum': 0}]>"
      ]
     },
     "execution_count": 63,
     "metadata": {},
     "output_type": "execute_result"
    }
   ],
   "source": [
    "# groupby\n",
    "# select sum(vote), ... from choice groupby question\n",
    "result3 = Choice.objects.values('question').annotate(Sum('vote'))\n",
    "result3"
   ]
  },
  {
   "cell_type": "code",
   "execution_count": 65,
   "id": "9d65bce7",
   "metadata": {},
   "outputs": [
    {
     "name": "stdout",
     "output_type": "stream",
     "text": [
      "{'question': 1, 'vote__sum': 0, 'vote__avg': 0.0, 'choice_text__max': '빨강색'}\n",
      "{'question': 2, 'vote__sum': 0, 'vote__avg': 0.0, 'choice_text__max': '고양이'}\n",
      "{'question': 3, 'vote__sum': 0, 'vote__avg': 0.0, 'choice_text__max': '프랑스'}\n",
      "{'question': 4, 'vote__sum': 0, 'vote__avg': 0.0, 'choice_text__max': '고양이'}\n"
     ]
    }
   ],
   "source": [
    "result3 = Choice.objects.values('question').annotate(Sum('vote'), Avg('vote'), Max('choice_text'))  # 문자열 min:a, max:z\n",
    "for a in result3:\n",
    "    print(a)"
   ]
  },
  {
   "cell_type": "code",
   "execution_count": 66,
   "id": "89a4b7d9",
   "metadata": {},
   "outputs": [],
   "source": [
    "# having절 처리 함수는 없다.\n",
    "# select sum(vote), ... from choice groupby question having sum(vote) > 50\n",
    "for a in result3:\n",
    "    if a['vote__sum'] > 50:  # having절 조건\n",
    "        print(d)"
   ]
  },
  {
   "cell_type": "markdown",
   "id": "3a1f3eb7",
   "metadata": {},
   "source": [
    "## 테이블 간의 관계\n",
    "\n",
    "### join을 이용한 조회\n",
    "- 자식 테이블에서 부모 테이블 값을 조회\n",
    "    - Question: 부모\n",
    "    - Choice: 자식"
   ]
  },
  {
   "cell_type": "code",
   "execution_count": 68,
   "id": "b7f386b1",
   "metadata": {},
   "outputs": [
    {
     "data": {
      "text/plain": [
       "(poll.models.Choice, <Choice: 검정색>)"
      ]
     },
     "execution_count": 68,
     "metadata": {},
     "output_type": "execute_result"
    }
   ],
   "source": [
    "c = Choice.objects.get(pk=1)\n",
    "type(c), c   # Choice 모델 객체"
   ]
  },
  {
   "cell_type": "code",
   "execution_count": 70,
   "id": "e5a85dfb",
   "metadata": {},
   "outputs": [
    {
     "data": {
      "text/plain": [
       "(poll.models.Question,\n",
       " <Question: 좋아하는 색깔은?>,\n",
       " '좋아하는 색깔은?',\n",
       " datetime.datetime(2021, 10, 5, 8, 17, 30, 109710, tzinfo=<UTC>))"
      ]
     },
     "execution_count": 70,
     "metadata": {},
     "output_type": "execute_result"
    }
   ],
   "source": [
    "# pk가 1인 보기의 질문?\n",
    "q = c.question\n",
    "type(q), q, q.question_text, q.pub_date"
   ]
  },
  {
   "cell_type": "code",
   "execution_count": 71,
   "id": "0316439d",
   "metadata": {},
   "outputs": [
    {
     "data": {
      "text/plain": [
       "('고양이', 0, '좋아하는 동물은?')"
      ]
     },
     "execution_count": 71,
     "metadata": {},
     "output_type": "execute_result"
    }
   ],
   "source": [
    "# pk=3인 보기의 보기 내용, vote, 질문 조회\n",
    "c = Choice.objects.get(pk=3)\n",
    "c.choice_text, c.vote, c.question.question_text"
   ]
  },
  {
   "cell_type": "code",
   "execution_count": 72,
   "id": "d4b7d354",
   "metadata": {},
   "outputs": [
    {
     "name": "stdout",
     "output_type": "stream",
     "text": [
      "고양이 0 좋아하는 동물은?\n"
     ]
    }
   ],
   "source": [
    "try:\n",
    "    id = 3\n",
    "    result = Choice.objects.get(pk=id)\n",
    "    print(result.choice_text, result.vote, result.question.question_text)\n",
    "except:\n",
    "    print(f\"{id}는 없음\")"
   ]
  },
  {
   "cell_type": "code",
   "execution_count": 74,
   "id": "b7fb81be",
   "metadata": {},
   "outputs": [
    {
     "name": "stdout",
     "output_type": "stream",
     "text": [
      "2\t개\t0\t좋아하는 동물은?\n",
      "3\t고양이\t0\t좋아하는 동물은?\n",
      "4\t빨강색\t0\t좋아하는 색깔은?\n",
      "5\t프랑스\t0\t가고 싶은 나라는?\n"
     ]
    }
   ],
   "source": [
    "# pk 2~5인 보기의 text, vote, 질문\n",
    "result = Choice.objects.filter(pk__range=[2,5])\n",
    "for r in result:\n",
    "    print(r.pk, r.choice_text, r.vote, r.question.question_text, sep='\\t')"
   ]
  },
  {
   "cell_type": "markdown",
   "id": "c2aa7a56",
   "metadata": {},
   "source": [
    "- 부모 테이블에서 자식 테이블 값 조회"
   ]
  },
  {
   "cell_type": "code",
   "execution_count": 76,
   "id": "c5ce3bdc",
   "metadata": {},
   "outputs": [
    {
     "name": "stdout",
     "output_type": "stream",
     "text": [
      "<class 'poll.models.Question'> 좋아하는 색깔은?\n",
      "1 좋아하는 색깔은? 2021-10-05 08:17:30.109710+00:00\n"
     ]
    }
   ],
   "source": [
    "q = Question.objects.get(pk=1)\n",
    "print(type(q), q)\n",
    "print(q.pk, q.question_text, q.pub_date)"
   ]
  },
  {
   "cell_type": "code",
   "execution_count": 80,
   "id": "50bb46be",
   "metadata": {},
   "outputs": [
    {
     "data": {
      "text/plain": [
       "(django.db.models.fields.related_descriptors.create_reverse_many_to_one_manager.<locals>.RelatedManager,\n",
       " django.db.models.manager.Manager)"
      ]
     },
     "execution_count": 80,
     "metadata": {},
     "output_type": "execute_result"
    }
   ],
   "source": [
    "# 조회한 Question(부모)의 Choice(자식)들 조회\n",
    "c_qs = q.choice_set\n",
    "type(c_qs), type(Question.objects)   # 매니저 타입"
   ]
  },
  {
   "cell_type": "code",
   "execution_count": 82,
   "id": "b7d507c7",
   "metadata": {},
   "outputs": [
    {
     "data": {
      "text/plain": [
       "<QuerySet [<Choice: 검정색>, <Choice: 빨강색>]>"
      ]
     },
     "execution_count": 82,
     "metadata": {},
     "output_type": "execute_result"
    }
   ],
   "source": [
    "c_qs = q.choice_set.all()\n",
    "c_qs"
   ]
  },
  {
   "cell_type": "code",
   "execution_count": 83,
   "id": "9fd6ed63",
   "metadata": {},
   "outputs": [
    {
     "name": "stdout",
     "output_type": "stream",
     "text": [
      "1\t검정색\t0\n",
      "4\t빨강색\t0\n"
     ]
    }
   ],
   "source": [
    "for c in c_qs:\n",
    "    print(c.pk, c.choice_text, c.vote, sep='\\t')"
   ]
  },
  {
   "cell_type": "code",
   "execution_count": 84,
   "id": "eea63bb7",
   "metadata": {},
   "outputs": [
    {
     "name": "stdout",
     "output_type": "stream",
     "text": [
      "1 좋아하는 색깔은?\n",
      "\t 1 검정색\n",
      "\t 4 빨강색\n",
      "2 좋아하는 동물은?\n",
      "\t 2 개\n",
      "\t 3 고양이\n",
      "3 가고 싶은 나라는?\n",
      "\t 5 프랑스\n",
      "\t 6 베트남\n"
     ]
    }
   ],
   "source": [
    "# pk 1~3인 질문의 질문id, 보기id, 보기 내용 조회\n",
    "result = Question.objects.filter(pk__range=[1,3])\n",
    "for q in result:\n",
    "    print(q.pk, q.question_text)\n",
    "    c_qs = q.choice_set.all()\n",
    "    for c in c_qs:\n",
    "        print('\\t', c.pk, c.choice_text)"
   ]
  },
  {
   "cell_type": "markdown",
   "id": "f51e7282",
   "metadata": {},
   "source": [
    "# insert/update/delete\n",
    "- insert/update\n",
    "    - 모델객체.save()\n",
    "    - 모델 객체가 insert/update할 데이터를 가지고 있다.\n",
    "- delete\n",
    "    - 모델객체.delete()\n",
    "    - 모델객체가 삭제할 데이터의 pk를 가지고 있다."
   ]
  },
  {
   "cell_type": "code",
   "execution_count": 85,
   "id": "891854bb",
   "metadata": {},
   "outputs": [
    {
     "name": "stdout",
     "output_type": "stream",
     "text": [
      "1\t좋아하는 색깔은?\t2021-10-05 08:17:30.109710+00:00\n",
      "2\t좋아하는 동물은?\t2021-10-05 08:17:52.209079+00:00\n",
      "3\t가고 싶은 나라는?\t2021-10-05 08:17:56.685562+00:00\n",
      "4\t싫어하는 동물은?\t2021-10-05 08:18:14.431131+00:00\n"
     ]
    }
   ],
   "source": [
    "def get_q_list():\n",
    "    qs = Question.objects.all()\n",
    "    for q in qs:\n",
    "        print(q.pk, q.question_text, q.pub_date, sep='\\t')\n",
    "        \n",
    "get_q_list()"
   ]
  },
  {
   "cell_type": "code",
   "execution_count": 89,
   "id": "f768a5b6",
   "metadata": {},
   "outputs": [
    {
     "name": "stdout",
     "output_type": "stream",
     "text": [
      "None 좋아하는 음식은? 2021-10-06 16:07:31.432813\n"
     ]
    }
   ],
   "source": [
    "# insert\n",
    "# insert할 데이터를 가진 model 객체 생성 후 save()\n",
    "from datetime import datetime\n",
    "new_q = Question(question_text='좋아하는 음식은?', pub_date=datetime.now())  # pk(id)는 자동증가이므로 넣지 않음\n",
    "print(new_q.pk, new_q.question_text, new_q.pub_date)\n",
    "new_q.save()"
   ]
  },
  {
   "cell_type": "code",
   "execution_count": 90,
   "id": "7f61bc8e",
   "metadata": {},
   "outputs": [
    {
     "name": "stdout",
     "output_type": "stream",
     "text": [
      "1\t좋아하는 색깔은?\t2021-10-05 08:17:30.109710+00:00\n",
      "2\t좋아하는 동물은?\t2021-10-05 08:17:52.209079+00:00\n",
      "3\t가고 싶은 나라는?\t2021-10-05 08:17:56.685562+00:00\n",
      "4\t싫어하는 동물은?\t2021-10-05 08:18:14.431131+00:00\n",
      "5\t좋아하는 음식은?\t2021-10-06 07:07:31.440811+00:00\n"
     ]
    }
   ],
   "source": [
    "get_q_list()"
   ]
  },
  {
   "cell_type": "code",
   "execution_count": 91,
   "id": "b710e294",
   "metadata": {},
   "outputs": [
    {
     "name": "stderr",
     "output_type": "stream",
     "text": [
      "C:\\Users\\Playdata\\Anaconda3\\envs\\django\\lib\\site-packages\\django\\db\\models\\fields\\__init__.py:1416: RuntimeWarning: DateTimeField Question.pub_date received a naive datetime (2021-10-06 16:13:14.826573) while time zone support is active.\n",
      "  warnings.warn(\"DateTimeField %s received a naive datetime (%s)\"\n"
     ]
    }
   ],
   "source": [
    "# update\n",
    "# update할 데이터를 가진 model 객체 생성 후 save()\n",
    "# pk는 테이블에 있는 값을 가지고 있어야 한다. 변경되지 않을 값은 원래 값을 그대로 가지고 있어야 한다.\n",
    "update_q = Question(pk=3, question_text='가고 싶은 나라는?', pub_date=datetime.now())\n",
    "# id가 3인 질문의 pub_date 값을 현재 시간으로 update\n",
    "# update question set pub_date=sysdate where id=3\n",
    "update_q.save()"
   ]
  },
  {
   "cell_type": "code",
   "execution_count": 92,
   "id": "373f6f70",
   "metadata": {},
   "outputs": [
    {
     "name": "stdout",
     "output_type": "stream",
     "text": [
      "1\t좋아하는 색깔은?\t2021-10-05 08:17:30.109710+00:00\n",
      "2\t좋아하는 동물은?\t2021-10-05 08:17:52.209079+00:00\n",
      "3\t가고 싶은 나라는?\t2021-10-06 07:13:14.826573+00:00\n",
      "4\t싫어하는 동물은?\t2021-10-05 08:18:14.431131+00:00\n",
      "5\t좋아하는 음식은?\t2021-10-06 07:07:31.440811+00:00\n"
     ]
    }
   ],
   "source": [
    "get_q_list()"
   ]
  },
  {
   "cell_type": "code",
   "execution_count": 93,
   "id": "2c83a3d5",
   "metadata": {},
   "outputs": [
    {
     "data": {
      "text/plain": [
       "(3,\n",
       " '좋아하는 꽃은?',\n",
       " datetime.datetime(2021, 10, 6, 7, 13, 14, 826573, tzinfo=<UTC>))"
      ]
     },
     "execution_count": 93,
     "metadata": {},
     "output_type": "execute_result"
    }
   ],
   "source": [
    "q = Question.objects.get(pk=3)\n",
    "q.question_text = '좋아하는 꽃은?'\n",
    "q.pk, q.question_text, q.pub_date"
   ]
  },
  {
   "cell_type": "code",
   "execution_count": 94,
   "id": "6950f91d",
   "metadata": {},
   "outputs": [
    {
     "name": "stdout",
     "output_type": "stream",
     "text": [
      "1\t좋아하는 색깔은?\t2021-10-05 08:17:30.109710+00:00\n",
      "2\t좋아하는 동물은?\t2021-10-05 08:17:52.209079+00:00\n",
      "3\t좋아하는 꽃은?\t2021-10-06 07:13:14.826573+00:00\n",
      "4\t싫어하는 동물은?\t2021-10-05 08:18:14.431131+00:00\n",
      "5\t좋아하는 음식은?\t2021-10-06 07:07:31.440811+00:00\n"
     ]
    }
   ],
   "source": [
    "q.save()\n",
    "get_q_list()"
   ]
  },
  {
   "cell_type": "code",
   "execution_count": 97,
   "id": "9b5eab69",
   "metadata": {},
   "outputs": [
    {
     "name": "stdout",
     "output_type": "stream",
     "text": [
      "5  None\n"
     ]
    },
    {
     "data": {
      "text/plain": [
       "(1, {'poll.Question': 1})"
      ]
     },
     "execution_count": 97,
     "metadata": {},
     "output_type": "execute_result"
    }
   ],
   "source": [
    "# delete\n",
    "# 삭제할 pk값을 가진 model을 생성/ model.delete()\n",
    "delete_q = Question(pk=5)\n",
    "print(delete_q.pk, delete_q.question_text, delete_q.pub_date)\n",
    "delete_q.delete()"
   ]
  },
  {
   "cell_type": "code",
   "execution_count": 99,
   "id": "590c68cc",
   "metadata": {},
   "outputs": [
    {
     "name": "stdout",
     "output_type": "stream",
     "text": [
      "1\t좋아하는 색깔은?\t2021-10-05 08:17:30.109710+00:00\n",
      "2\t좋아하는 동물은?\t2021-10-05 08:17:52.209079+00:00\n",
      "3\t좋아하는 꽃은?\t2021-10-06 07:13:14.826573+00:00\n",
      "4\t싫어하는 동물은?\t2021-10-05 08:18:14.431131+00:00\n"
     ]
    }
   ],
   "source": [
    "get_q_list()"
   ]
  },
  {
   "cell_type": "code",
   "execution_count": 101,
   "id": "a14a5fba",
   "metadata": {},
   "outputs": [
    {
     "name": "stdout",
     "output_type": "stream",
     "text": [
      "2 좋아하는 동물은? 2021-10-05 08:17:52.209079+00:00\n"
     ]
    }
   ],
   "source": [
    "delete_q = Question.objects.get(pk=2)\n",
    "print(delete_q.pk, delete_q.question_text, delete_q.pub_date)"
   ]
  },
  {
   "cell_type": "code",
   "execution_count": 102,
   "id": "3923d79a",
   "metadata": {},
   "outputs": [
    {
     "data": {
      "text/plain": [
       "(3, {'poll.Choice': 2, 'poll.Question': 1})"
      ]
     },
     "execution_count": 102,
     "metadata": {},
     "output_type": "execute_result"
    }
   ],
   "source": [
    "delete_q.delete()\n",
    "# (삭제된 총 데이터 수, {'poll.Choice': Choice 테이블에서 삭제된 데이터 수, 'poll.Question': Question 테이블에서 삭제된 데이터 수})"
   ]
  },
  {
   "cell_type": "code",
   "execution_count": 103,
   "id": "553cfe9f",
   "metadata": {},
   "outputs": [
    {
     "name": "stdout",
     "output_type": "stream",
     "text": [
      "1\t좋아하는 색깔은?\t2021-10-05 08:17:30.109710+00:00\n",
      "3\t좋아하는 꽃은?\t2021-10-06 07:13:14.826573+00:00\n",
      "4\t싫어하는 동물은?\t2021-10-05 08:18:14.431131+00:00\n"
     ]
    }
   ],
   "source": [
    "get_q_list()"
   ]
  },
  {
   "cell_type": "code",
   "execution_count": 104,
   "id": "a399cf41",
   "metadata": {},
   "outputs": [
    {
     "data": {
      "text/plain": [
       "<QuerySet []>"
      ]
     },
     "execution_count": 104,
     "metadata": {},
     "output_type": "execute_result"
    }
   ],
   "source": [
    "Choice.objects.filter(question=2)"
   ]
  },
  {
   "cell_type": "markdown",
   "id": "466378c2",
   "metadata": {},
   "source": [
    "# SQL문 직접 작성해서 실행\n",
    "- 모델.objects.raw('select문')\n",
    "- select문만 가능"
   ]
  },
  {
   "cell_type": "code",
   "execution_count": 107,
   "id": "0e93ec9e",
   "metadata": {},
   "outputs": [
    {
     "name": "stdout",
     "output_type": "stream",
     "text": [
      "1 검정색 0\n",
      "4 빨강색 0\n",
      "5 프랑스 0\n",
      "6 베트남 0\n",
      "7 개 0\n",
      "8 고양이 0\n"
     ]
    }
   ],
   "source": [
    "sql = 'SELECT * FROM poll_choice'\n",
    "rq = Choice.objects.raw(sql)   # select문 실행하고 결과를 Choice 객체에 담아준다\n",
    "for d in rq:\n",
    "    print(d.pk, d.choice_text, d.vote)"
   ]
  },
  {
   "cell_type": "code",
   "execution_count": null,
   "id": "c57f81f5",
   "metadata": {},
   "outputs": [],
   "source": []
  }
 ],
 "metadata": {
  "kernelspec": {
   "display_name": "Python 3 (ipykernel)",
   "language": "python",
   "name": "python3"
  },
  "language_info": {
   "codemirror_mode": {
    "name": "ipython",
    "version": 3
   },
   "file_extension": ".py",
   "mimetype": "text/x-python",
   "name": "python",
   "nbconvert_exporter": "python",
   "pygments_lexer": "ipython3",
   "version": "3.8.11"
  }
 },
 "nbformat": 4,
 "nbformat_minor": 5
}
