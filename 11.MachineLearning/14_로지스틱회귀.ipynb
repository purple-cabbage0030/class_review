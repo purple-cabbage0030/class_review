{
 "cells": [
  {
   "cell_type": "markdown",
   "metadata": {},
   "source": [
    "# 로지스틱 회귀 (LogisticRegression)\n",
    "- 선형회귀 알고리즘을 이용한 이진 분류 모델\n",
    "- Sample이 특정 클래스에 속할 확률을 추정한다.    \n",
    "    \n",
    "## 확률 추정\n",
    "- 선형회귀 처럼 입력 특성(Feature)에 가중치 합을 계산한 값을 로지스틱 함수를 적용해 확률을 계산한다.\n",
    "\n",
    "$$\n",
    "\\hat{p} = \\sigma \\left( \\mathbf{W}^{T} \\cdot \\mathbf{x} +b\\right)\\\\\n",
    "\\sigma():\\:logistic\\,함수,\\quad \\mathbf{W}:\\:가중치,\\quad \\mathbf{x}:\\:입력 특성\n",
    "$$\n",
    "\n",
    "- ### 로지스틱 함수\n",
    "    - 0과 1사이의 실수(1일 확률)를 반환한다.\n",
    "    - S 자 형태의 결과를 내는 **시그모이드 함수(sigmoid function)** 이다.\n",
    "\n",
    "$$\n",
    "\\sigma(x) = \\frac{1}{1 + \\mathbf{e}^{-x}}\n",
    "$$\n",
    "\n",
    "- 샘플 **x**가 양성에 속할 확률\n",
    "\n",
    "$$\n",
    "\\hat{y} = \\begin{cases} 0\\quad\\hat{p}<0.5\\\\1\\quad\\hat{p}\\geqq0.5 \\end{cases}\n",
    "$$"
   ]
  },
  {
   "cell_type": "code",
   "execution_count": 2,
   "metadata": {
    "ExecuteTime": {
     "end_time": "2020-09-02T21:50:45.050015Z",
     "start_time": "2020-09-02T21:50:44.846560Z"
    }
   },
   "outputs": [
    {
     "data": {
      "image/png": "[encoded data removed]",
      "text/plain": [
       "<Figure size 1080x360 with 1 Axes>"
      ]
     },
     "metadata": {
      "needs_background": "light"
     },
     "output_type": "display_data"
    }
   ],
   "source": [
    "import numpy as np\n",
    "import matplotlib.pyplot as plt\n",
    "\n",
    "xx = np.linspace(-10, 10, 100)\n",
    "sig = 1 / (1 + np.exp(-xx))\n",
    "\n",
    "plt.figure(figsize=(15, 5))\n",
    "\n",
    "plt.plot(xx,xx, color='g', label='linear')\n",
    "plt.plot(xx, sig, color='b', linewidth=2, label=\"logistic\")\n",
    "\n",
    "plt.plot([-10, 10], [0, 0], color='k', linestyle='-')\n",
    "plt.plot([-10, 10], [0.5, 0.5], color='r', linestyle=':', label='y=0.5')\n",
    "\n",
    "plt.xlabel(\"x\")\n",
    "plt.legend(bbox_to_anchor=(1,1), fontsize=20)\n",
    "plt.xlim(-10, 10)\n",
    "plt.ylim(-0.1, 1.1)\n",
    "plt.grid(True)\n",
    "plt.show()"
   ]
  },
  {
   "cell_type": "markdown",
   "metadata": {},
   "source": [
    "## 손실 함수(Loss Function)\n",
    "- LogisticRegression의 전체 데이터 셋에 대한 손실함수는 아래공식과 같다.\n",
    "- **로그 손실(log loss)**, **Binary Cross Entropy** 라고 한다.\n",
    "$$\n",
    "L(\\mathbf{W}) = - \\frac{1}{m} \\sum_{i=1}^{m}{\\left[ y_{i} \\log{\\left( \\hat{p}_i \\right)} + \\left( 1 - y_i \\right) \\log{\\left( 1 - \\hat{p}_i \\right)} \\right]}\\\\\n",
    "y:\\:실제값,\\quad\\hat{p}:\\:예측확률\n",
    "$$\n",
    "\n",
    "- y(실제값/정답) 이 1인 경우 $y_{i}\\log{\\left(\\hat{p}_i\\right)}$ 이 손실을 계산\n",
    "- y가 0인 경우 $\\left( 1 - y_i \\right) \\log{\\left( 1 - \\hat{p}_i \\right)}$이 손실을 계산\n",
    "- $\\hat{p}$(예측확률)이 클수록 반환값은 작아지고 작을 수록 값이 커진다. \n",
    "\n",
    "## 최적화 \n",
    "- 위 손실을 가장 적게하는 W(가중치)를 찾는다. \n",
    "- 로그 손실함수는 최소값을 찾는 정규방적식이 없기 때문에 **LogisticRegression은 경사하강법을 이용해 최적화를 진행한다.**\n",
    "- 로그 손실을 $\\mathbf{W}$로 미분하면 다음과 같다.\n",
    "    - 아래 도함수로 기울기를 구해 기울기가 0이 될 때 까지 W(가중치)들을 update한다.\n",
    "$$\n",
    "\\frac{\\partial}{\\partial w_j} = \\frac{1}{m} \\sum_{i=1}^{m}{\\left( \\sigma \\left( \\mathbf{W}^{T} \\cdot \\mathbf{x}_i \\right) - \\mathbf{y}_i \\right)} x_{ij}\n",
    "$$\n"
   ]
  },
  {
   "cell_type": "code",
   "execution_count": 18,
   "metadata": {},
   "outputs": [
    {
     "data": {
      "text/plain": [
       "(-0.0,\n",
       " 0.01005033585350145,\n",
       " 0.35667494393873245,\n",
       " 0.6733445532637656,\n",
       " 0.6931471805599453)"
      ]
     },
     "execution_count": 18,
     "metadata": {},
     "output_type": "execute_result"
    }
   ],
   "source": [
    "-np.log(1), -np.log(0.99), -np.log(0.7), -np.log(0.51), -np.log(0.5)"
   ]
  },
  {
   "cell_type": "code",
   "execution_count": 17,
   "metadata": {},
   "outputs": [
    {
     "data": {
      "text/plain": [
       "(0.916290731874155, 1.6094379124341003, 16.11809565095832)"
      ]
     },
     "execution_count": 17,
     "metadata": {},
     "output_type": "execute_result"
    }
   ],
   "source": [
    "-np.log(0.4), -np.log(0.2), -np.log(0.0000001)"
   ]
  },
  {
   "cell_type": "code",
   "execution_count": 11,
   "metadata": {},
   "outputs": [
    {
     "data": {
      "text/plain": [
       "(0.0,\n",
       " -0.35667494393873245,\n",
       " -0.6931471805599453,\n",
       " -2.3025850929940455,\n",
       " -23.025850929940457)"
      ]
     },
     "execution_count": 11,
     "metadata": {},
     "output_type": "execute_result"
    }
   ],
   "source": [
    "import numpy as np\n",
    "# 0 ~ 1\n",
    "np.log(1), np.log(0.7), np.log(0.5), np.log(0.1), np.log(0.0000000001)"
   ]
  },
  {
   "cell_type": "code",
   "execution_count": null,
   "metadata": {},
   "outputs": [],
   "source": [
    "np.log()"
   ]
  },
  {
   "cell_type": "code",
   "execution_count": null,
   "metadata": {},
   "outputs": [],
   "source": []
  },
  {
   "cell_type": "markdown",
   "metadata": {},
   "source": [
    "## LogisticRegression 주요 하이퍼파라미터\n",
    "- penalty: 과적합을 줄이기 위한 규제방식\n",
    "    - 'l1', 'l2'(기본값), 'elasticnet', 'none' \n",
    "- C: 규제강도(기본값 1) - 작을 수록 규제가 강하다.\n",
    "- max_iter(기본값 100) : 경사하강법 반복횟수"
   ]
  },
  {
   "cell_type": "code",
   "execution_count": 1,
   "metadata": {},
   "outputs": [],
   "source": [
    "from sklearn.datasets import load_breast_cancer\n",
    "from sklearn.preprocessing import StandardScaler\n",
    "from sklearn.model_selection import train_test_split, GridSearchCV\n",
    "\n",
    "from sklearn.linear_model import LogisticRegression\n",
    "from sklearn.metrics import accuracy_score"
   ]
  },
  {
   "cell_type": "code",
   "execution_count": 2,
   "metadata": {},
   "outputs": [],
   "source": [
    "X, y = load_breast_cancer(return_X_y=True)\n",
    "X_train, X_test, y_train, y_test = train_test_split(X, y, stratify=y, random_state=0)"
   ]
  },
  {
   "cell_type": "code",
   "execution_count": 3,
   "metadata": {},
   "outputs": [],
   "source": [
    "# Scaling\n",
    "scaler = StandardScaler()\n",
    "X_train_scaled = scaler.fit_transform(X_train)\n",
    "X_test_scaled = scaler.transform(X_test)"
   ]
  },
  {
   "cell_type": "code",
   "execution_count": 4,
   "metadata": {},
   "outputs": [
    {
     "data": {
      "text/plain": [
       "LogisticRegression()"
      ]
     },
     "execution_count": 4,
     "metadata": {},
     "output_type": "execute_result"
    }
   ],
   "source": [
    "# 모델 생성 + 학습\n",
    "lr = LogisticRegression(random_state=0)\n",
    "lr.fit(X_train_scaled, y_train)"
   ]
  },
  {
   "cell_type": "code",
   "execution_count": 5,
   "metadata": {},
   "outputs": [
    {
     "data": {
      "text/plain": [
       "(0.9906103286384976, 0.958041958041958)"
      ]
     },
     "execution_count": 5,
     "metadata": {},
     "output_type": "execute_result"
    }
   ],
   "source": [
    "# 평가\n",
    "pred_train = lr.predict(X_train_scaled)\n",
    "pred_test = lr.predict(X_test_scaled)\n",
    "\n",
    "accuracy_score(y_train, pred_train),  accuracy_score(y_test, pred_test)"
   ]
  },
  {
   "cell_type": "code",
   "execution_count": 10,
   "metadata": {},
   "outputs": [],
   "source": [
    "# GridSearchCV 파라미터 - penalty, C \n",
    "param = {\n",
    "    'penalty':['l1', 'l2'], \n",
    "    'C':[0.001, 0.01, 0.1, 1, 10]\n",
    "}\n",
    "gs = GridSearchCV(LogisticRegression(random_state=0), \n",
    "                  param,\n",
    "                  cv=5, \n",
    "                  scoring='accuracy', \n",
    "                  n_jobs=-1)"
   ]
  },
  {
   "cell_type": "code",
   "execution_count": 11,
   "metadata": {},
   "outputs": [
    {
     "name": "stderr",
     "output_type": "stream",
     "text": [
      "C:\\Users\\Playdata\\anaconda3\\envs\\ml\\lib\\site-packages\\sklearn\\model_selection\\_search.py:922: UserWarning: One or more of the test scores are non-finite: [       nan 0.87805746        nan 0.94845417        nan 0.97660739\n",
      "        nan 0.97422709        nan 0.95781122]\n",
      "  warnings.warn(\n"
     ]
    },
    {
     "data": {
      "text/plain": [
       "GridSearchCV(cv=5, estimator=LogisticRegression(random_state=0), n_jobs=-1,\n",
       "             param_grid={'C': [0.001, 0.01, 0.1, 1, 10],\n",
       "                         'penalty': ['l1', 'l2']},\n",
       "             scoring='accuracy')"
      ]
     },
     "execution_count": 11,
     "metadata": {},
     "output_type": "execute_result"
    }
   ],
   "source": [
    "gs.fit(X_train_scaled, y_train)"
   ]
  },
  {
   "cell_type": "code",
   "execution_count": 13,
   "metadata": {
    "collapsed": true
   },
   "outputs": [
    {
     "data": {
      "text/html": [
       "<div>\n",
       "<style scoped>\n",
       "    .dataframe tbody tr th:only-of-type {\n",
       "        vertical-align: middle;\n",
       "    }\n",
       "\n",
       "    .dataframe tbody tr th {\n",
       "        vertical-align: top;\n",
       "    }\n",
       "\n",
       "    .dataframe thead th {\n",
       "        text-align: right;\n",
       "    }\n",
       "</style>\n",
       "<table border=\"1\" class=\"dataframe\">\n",
       "  <thead>\n",
       "    <tr style=\"text-align: right;\">\n",
       "      <th></th>\n",
       "      <th>mean_fit_time</th>\n",
       "      <th>std_fit_time</th>\n",
       "      <th>mean_score_time</th>\n",
       "      <th>std_score_time</th>\n",
       "      <th>param_C</th>\n",
       "      <th>param_penalty</th>\n",
       "      <th>params</th>\n",
       "      <th>split0_test_score</th>\n",
       "      <th>split1_test_score</th>\n",
       "      <th>split2_test_score</th>\n",
       "      <th>split3_test_score</th>\n",
       "      <th>split4_test_score</th>\n",
       "      <th>mean_test_score</th>\n",
       "      <th>std_test_score</th>\n",
       "      <th>rank_test_score</th>\n",
       "    </tr>\n",
       "  </thead>\n",
       "  <tbody>\n",
       "    <tr>\n",
       "      <th>5</th>\n",
       "      <td>0.012368</td>\n",
       "      <td>0.003373</td>\n",
       "      <td>0.000797</td>\n",
       "      <td>0.000398</td>\n",
       "      <td>0.1</td>\n",
       "      <td>l2</td>\n",
       "      <td>{'C': 0.1, 'penalty': 'l2'}</td>\n",
       "      <td>0.941860</td>\n",
       "      <td>0.988235</td>\n",
       "      <td>0.976471</td>\n",
       "      <td>0.988235</td>\n",
       "      <td>0.988235</td>\n",
       "      <td>0.976607</td>\n",
       "      <td>0.017961</td>\n",
       "      <td>1</td>\n",
       "    </tr>\n",
       "    <tr>\n",
       "      <th>7</th>\n",
       "      <td>0.015361</td>\n",
       "      <td>0.002242</td>\n",
       "      <td>0.000596</td>\n",
       "      <td>0.000486</td>\n",
       "      <td>1</td>\n",
       "      <td>l2</td>\n",
       "      <td>{'C': 1, 'penalty': 'l2'}</td>\n",
       "      <td>0.953488</td>\n",
       "      <td>0.976471</td>\n",
       "      <td>0.964706</td>\n",
       "      <td>0.976471</td>\n",
       "      <td>1.000000</td>\n",
       "      <td>0.974227</td>\n",
       "      <td>0.015460</td>\n",
       "      <td>2</td>\n",
       "    </tr>\n",
       "    <tr>\n",
       "      <th>9</th>\n",
       "      <td>0.024535</td>\n",
       "      <td>0.002157</td>\n",
       "      <td>0.000000</td>\n",
       "      <td>0.000000</td>\n",
       "      <td>10</td>\n",
       "      <td>l2</td>\n",
       "      <td>{'C': 10, 'penalty': 'l2'}</td>\n",
       "      <td>0.930233</td>\n",
       "      <td>0.952941</td>\n",
       "      <td>0.952941</td>\n",
       "      <td>0.952941</td>\n",
       "      <td>1.000000</td>\n",
       "      <td>0.957811</td>\n",
       "      <td>0.022854</td>\n",
       "      <td>3</td>\n",
       "    </tr>\n",
       "    <tr>\n",
       "      <th>3</th>\n",
       "      <td>0.020938</td>\n",
       "      <td>0.011683</td>\n",
       "      <td>0.001399</td>\n",
       "      <td>0.001853</td>\n",
       "      <td>0.01</td>\n",
       "      <td>l2</td>\n",
       "      <td>{'C': 0.01, 'penalty': 'l2'}</td>\n",
       "      <td>0.906977</td>\n",
       "      <td>0.976471</td>\n",
       "      <td>0.929412</td>\n",
       "      <td>0.952941</td>\n",
       "      <td>0.976471</td>\n",
       "      <td>0.948454</td>\n",
       "      <td>0.027103</td>\n",
       "      <td>4</td>\n",
       "    </tr>\n",
       "    <tr>\n",
       "      <th>1</th>\n",
       "      <td>0.016953</td>\n",
       "      <td>0.007701</td>\n",
       "      <td>0.000807</td>\n",
       "      <td>0.000404</td>\n",
       "      <td>0.001</td>\n",
       "      <td>l2</td>\n",
       "      <td>{'C': 0.001, 'penalty': 'l2'}</td>\n",
       "      <td>0.825581</td>\n",
       "      <td>0.894118</td>\n",
       "      <td>0.847059</td>\n",
       "      <td>0.917647</td>\n",
       "      <td>0.905882</td>\n",
       "      <td>0.878057</td>\n",
       "      <td>0.035536</td>\n",
       "      <td>5</td>\n",
       "    </tr>\n",
       "  </tbody>\n",
       "</table>\n",
       "</div>"
      ],
      "text/plain": [
       "   mean_fit_time  std_fit_time  mean_score_time  std_score_time param_C  \\\n",
       "5       0.012368      0.003373         0.000797        0.000398     0.1   \n",
       "7       0.015361      0.002242         0.000596        0.000486       1   \n",
       "9       0.024535      0.002157         0.000000        0.000000      10   \n",
       "3       0.020938      0.011683         0.001399        0.001853    0.01   \n",
       "1       0.016953      0.007701         0.000807        0.000404   0.001   \n",
       "\n",
       "  param_penalty                         params  split0_test_score  \\\n",
       "5            l2    {'C': 0.1, 'penalty': 'l2'}           0.941860   \n",
       "7            l2      {'C': 1, 'penalty': 'l2'}           0.953488   \n",
       "9            l2     {'C': 10, 'penalty': 'l2'}           0.930233   \n",
       "3            l2   {'C': 0.01, 'penalty': 'l2'}           0.906977   \n",
       "1            l2  {'C': 0.001, 'penalty': 'l2'}           0.825581   \n",
       "\n",
       "   split1_test_score  split2_test_score  split3_test_score  split4_test_score  \\\n",
       "5           0.988235           0.976471           0.988235           0.988235   \n",
       "7           0.976471           0.964706           0.976471           1.000000   \n",
       "9           0.952941           0.952941           0.952941           1.000000   \n",
       "3           0.976471           0.929412           0.952941           0.976471   \n",
       "1           0.894118           0.847059           0.917647           0.905882   \n",
       "\n",
       "   mean_test_score  std_test_score  rank_test_score  \n",
       "5         0.976607        0.017961                1  \n",
       "7         0.974227        0.015460                2  \n",
       "9         0.957811        0.022854                3  \n",
       "3         0.948454        0.027103                4  \n",
       "1         0.878057        0.035536                5  "
      ]
     },
     "execution_count": 13,
     "metadata": {},
     "output_type": "execute_result"
    }
   ],
   "source": [
    "import pandas as pd\n",
    "result = pd.DataFrame(gs.cv_results_)\n",
    "result.sort_values('rank_test_score').head()"
   ]
  },
  {
   "cell_type": "code",
   "execution_count": 14,
   "metadata": {},
   "outputs": [
    {
     "data": {
      "text/plain": [
       "{'C': 0.1, 'penalty': 'l2'}"
      ]
     },
     "execution_count": 14,
     "metadata": {},
     "output_type": "execute_result"
    }
   ],
   "source": [
    "gs.best_params_"
   ]
  },
  {
   "cell_type": "code",
   "execution_count": 15,
   "metadata": {},
   "outputs": [
    {
     "data": {
      "text/plain": [
       "0.958041958041958"
      ]
     },
     "execution_count": 15,
     "metadata": {},
     "output_type": "execute_result"
    }
   ],
   "source": [
    "best_model = gs.best_estimator_\n",
    "pred_test = best_model.predict(X_test_scaled)\n",
    "accuracy_score(y_test, pred_test)"
   ]
  },
  {
   "cell_type": "code",
   "execution_count": null,
   "metadata": {},
   "outputs": [],
   "source": []
  },
  {
   "cell_type": "code",
   "execution_count": null,
   "metadata": {},
   "outputs": [],
   "source": []
  }
 ],
 "metadata": {
  "kernelspec": {
   "display_name": "Python 3 (ipykernel)",
   "language": "python",
   "name": "python3"
  },
  "language_info": {
   "codemirror_mode": {
    "name": "ipython",
    "version": 3
   },
   "file_extension": ".py",
   "mimetype": "text/x-python",
   "name": "python",
   "nbconvert_exporter": "python",
   "pygments_lexer": "ipython3",
   "version": "3.8.10"
  },
  "toc": {
   "base_numbering": 1,
   "nav_menu": {},
   "number_sections": true,
   "sideBar": true,
   "skip_h1_title": false,
   "title_cell": "Table of Contents",
   "title_sidebar": "Contents",
   "toc_cell": false,
   "toc_position": {},
   "toc_section_display": true,
   "toc_window_display": false
  },
  "varInspector": {
   "cols": {
    "lenName": 16,
    "lenType": 16,
    "lenVar": 40
   },
   "kernels_config": {
    "python": {
     "delete_cmd_postfix": "",
     "delete_cmd_prefix": "del ",
     "library": "var_list.py",
     "varRefreshCmd": "print(var_dic_list())"
    },
    "r": {
     "delete_cmd_postfix": ") ",
     "delete_cmd_prefix": "rm(",
     "library": "var_list.r",
     "varRefreshCmd": "cat(var_dic_list()) "
    }
   },
   "types_to_exclude": [
    "module",
    "function",
    "builtin_function_or_method",
    "instance",
    "_Feature"
   ],
   "window_display": false
  }
 },
 "nbformat": 4,
 "nbformat_minor": 4
}
