{
 "cells": [
  {
   "cell_type": "markdown",
   "metadata": {},
   "source": [
    "# 회귀(Regression)\n",
    "\n",
    "지도 학습(Supervised Learning)으로 예측할 Target이 연속형(continuous) 데이터(float)인 경우"
   ]
  },
  {
   "cell_type": "markdown",
   "metadata": {},
   "source": [
    "## 회귀의 주요 평가 지표\n",
    "예측값과 실제 값간의 차이를 구한다\n",
    "\n",
    "- ### MSE (Mean Squared Error)\n",
    "    - 실제 값과 예측값의 차를 제곱해 평균 낸 것\n",
    "    - mean_squared_error() -> 낮을수록 좋다.\n",
    "    - 'neg_mean_squared_error' -> 높을 수록 좋다.\n",
    "    $$\n",
    "    MSE = \\frac{1}{n}\\sum_{i=1}^{n}(y_i - \\hat{y_i})^2\\\\\n",
    "    y_i: 실제값, \\hat{y_i}: 모델이 예측한 값\n",
    "    $$\n",
    "    \n",
    "- ### RMSE (Root Mean Squared Error)\n",
    "    - MSE는 오차의 제곱한 값이므로 실제 오차의 평균보다 큰 값이 나온다.  MSE의 제곱근이 RMSE이다.\n",
    "    - scikit-learn은 함수를 지원하지 않는다. (MSE를 구한 뒤 np.sqrt()로 제곱근을 구한다.)\n",
    "    $$\n",
    "    RMSE = \\sqrt{\\frac{1}{n}\\sum_{i=1}^{n}(y_i - \\hat{y_i})^2}\n",
    "    $$\n",
    "\n",
    "- ### $R^2$ (R square, 결정계수)\n",
    "    - __모델로 예측한 오차제곱합 / 평균으로 예측한 오차제곱합__ => 즉, 평균예측보다 내 모델이 더 잘했나, 못했나?\n",
    "    - 평균으로 예측했을 때 오차(총오차) 보다 모델을 사용했을 때 얼마 만큼 더 좋은 성능을 내는지를 비율로 나타낸 값. \n",
    "    - __1에 가까울 수록 좋은 모델.__\n",
    "    - r2_score()\n",
    "    - 'r2'\n",
    "    - [참고](https://ko.khanacademy.org/math/statistics-probability/describing-relationships-quantitative-data/assessing-the-fit-in-least-squares-regression/a/r-squared-intuition)\n",
    "    $$\n",
    "    R^2 = \\cfrac{\\sum_{i=1}^{n}(\\hat{y_i}-\\bar{y})^2}{\\sum_{i=1}^{n}(y_i - \\bar{y})^2}\n",
    "    $$\n",
    "\n",
    "- $y_i$ : i번째 실제 값, \n",
    "- $\\hat{y_i}$ : i 번째 예측 값, \n",
    "- $\\bar{y}$ : y의 평균    \n",
    "\n"
   ]
  },
  {
   "cell_type": "code",
   "execution_count": 1,
   "metadata": {},
   "outputs": [],
   "source": [
    "import numpy as np\n",
    "import matplotlib.pyplot as plt\n",
    "\n",
    "from sklearn.datasets import make_regression\n",
    "from sklearn.model_selection import cross_val_score\n",
    "from sklearn.linear_model import LinearRegression"
   ]
  },
  {
   "cell_type": "code",
   "execution_count": 9,
   "metadata": {},
   "outputs": [
    {
     "data": {
      "text/plain": [
       "((100, 1), (100,))"
      ]
     },
     "execution_count": 9,
     "metadata": {},
     "output_type": "execute_result"
    }
   ],
   "source": [
    "# 회귀문제에 사용할 수 있는 가상의 데이터셋을 생성하는 함수(make_xxxx())\n",
    "X, y = make_regression(n_samples=100,  # 데이터 개수\n",
    "                       n_features=1,  # feature 개수\n",
    "                       n_informative=1,  # target(label)에 영향을 주는 feature의 개수: 1개 외의 feature는 target과 상관 없다는 뜻\n",
    "                       noise=30,  # 모델이 찾을 수 없는 값의 범위\n",
    "                       random_state=0\n",
    "                      )\n",
    "X.shape, y.shape"
   ]
  },
  {
   "cell_type": "code",
   "execution_count": 10,
   "metadata": {},
   "outputs": [
    {
     "data": {
      "text/plain": [
       "array([[-0.35955316],\n",
       "       [ 0.97663904],\n",
       "       [ 0.40234164],\n",
       "       [-0.81314628],\n",
       "       [-0.88778575]])"
      ]
     },
     "execution_count": 10,
     "metadata": {},
     "output_type": "execute_result"
    }
   ],
   "source": [
    "X[:5]"
   ]
  },
  {
   "cell_type": "code",
   "execution_count": 11,
   "metadata": {},
   "outputs": [
    {
     "data": {
      "text/plain": [
       "array([-29.38797228, -18.77135911,   0.56377656,  19.90502386,\n",
       "       -31.84342122])"
      ]
     },
     "execution_count": 11,
     "metadata": {},
     "output_type": "execute_result"
    }
   ],
   "source": [
    "y[:5]"
   ]
  },
  {
   "cell_type": "code",
   "execution_count": 12,
   "metadata": {},
   "outputs": [
    {
     "data": {
      "image/png": "[encoded data removed]",
      "text/plain": [
       "<Figure size 432x288 with 1 Axes>"
      ]
     },
     "metadata": {
      "needs_background": "light"
     },
     "output_type": "display_data"
    }
   ],
   "source": [
    "plt.scatter(X,y)\n",
    "plt.show()"
   ]
  },
  {
   "cell_type": "code",
   "execution_count": 13,
   "metadata": {},
   "outputs": [
    {
     "data": {
      "text/plain": [
       "(0.1344193000112442,\n",
       " -141.9934839876259,\n",
       " 117.54737632470687,\n",
       " 1.2075194195120451)"
      ]
     },
     "execution_count": 13,
     "metadata": {},
     "output_type": "execute_result"
    }
   ],
   "source": [
    "np.mean(y), np.min(y), np.max(y), np.median(y)"
   ]
  },
  {
   "cell_type": "code",
   "execution_count": 14,
   "metadata": {},
   "outputs": [
    {
     "data": {
      "text/plain": [
       "LinearRegression()"
      ]
     },
     "execution_count": 14,
     "metadata": {},
     "output_type": "execute_result"
    }
   ],
   "source": [
    "lr = LinearRegression()\n",
    "lr.fit(X, y)  # w, b를 찾았을 것."
   ]
  },
  {
   "cell_type": "code",
   "execution_count": 23,
   "metadata": {},
   "outputs": [],
   "source": [
    "pred = lr.predict(X)"
   ]
  },
  {
   "cell_type": "code",
   "execution_count": 24,
   "metadata": {},
   "outputs": [
    {
     "data": {
      "text/plain": [
       "array([-17.93471365,  39.63817528,  14.89326194, -37.47880796,\n",
       "       -40.6948196 ])"
      ]
     },
     "execution_count": 24,
     "metadata": {},
     "output_type": "execute_result"
    }
   ],
   "source": [
    "pred[:5]"
   ]
  },
  {
   "cell_type": "code",
   "execution_count": 25,
   "metadata": {
    "scrolled": true
   },
   "outputs": [
    {
     "data": {
      "text/plain": [
       "array([-29.38797228, -18.77135911,   0.56377656,  19.90502386,\n",
       "       -31.84342122])"
      ]
     },
     "execution_count": 25,
     "metadata": {},
     "output_type": "execute_result"
    }
   ],
   "source": [
    "y[:5]"
   ]
  },
  {
   "cell_type": "code",
   "execution_count": 26,
   "metadata": {},
   "outputs": [
    {
     "data": {
      "text/plain": [
       "array([ 21.68633197,  49.26219191, -32.60364229])"
      ]
     },
     "execution_count": 26,
     "metadata": {},
     "output_type": "execute_result"
    }
   ],
   "source": [
    "new_X = [[0.56],[1.2],[-0.7]]  # 이 새로운 X에 대해서 lr모델은 y값을 어떻게 예측할까?\n",
    "lr.predict(new_X)"
   ]
  },
  {
   "cell_type": "code",
   "execution_count": 29,
   "metadata": {},
   "outputs": [
    {
     "name": "stdout",
     "output_type": "stream",
     "text": [
      "MSE: 1027.5433755137535, RMSE: 32.055317429620835, R2: 0.6473091780922585\n"
     ]
    }
   ],
   "source": [
    "# 모델 평가\n",
    "# MSE, RMSE, R2\n",
    "from sklearn.metrics import mean_squared_error, r2_score\n",
    "mse = mean_squared_error(y, pred)\n",
    "rmse = np.sqrt(mse)\n",
    "r2 = r2_score(y, pred)\n",
    "print(f\"MSE: {mse}, RMSE: {rmse}, R2: {r2}\")"
   ]
  },
  {
   "cell_type": "markdown",
   "metadata": {},
   "source": [
    "--> RMSE의 경우, make_regression 데이터 셋의 noise와 비슷한 것을 확인할 수 있다."
   ]
  },
  {
   "cell_type": "code",
   "execution_count": 39,
   "metadata": {},
   "outputs": [],
   "source": [
    "lr2 = LinearRegression()\n",
    "score_list = cross_val_score(lr2,\n",
    "                             X, y,\n",
    "                             cv = 3,  # 폴드 개수\n",
    "                             scoring=\"r2\",  # 생략하면  분류: accuracy, 회귀: R^2\n",
    "                            )"
   ]
  },
  {
   "cell_type": "code",
   "execution_count": 40,
   "metadata": {},
   "outputs": [
    {
     "data": {
      "text/plain": [
       "array([0.57447588, 0.58987265, 0.55276667])"
      ]
     },
     "execution_count": 40,
     "metadata": {},
     "output_type": "execute_result"
    }
   ],
   "source": [
    "score_list"
   ]
  },
  {
   "cell_type": "markdown",
   "metadata": {},
   "source": [
    "-> 각 폴드를 test로 봤을 때 r2값"
   ]
  },
  {
   "cell_type": "code",
   "execution_count": 32,
   "metadata": {},
   "outputs": [
    {
     "name": "stdout",
     "output_type": "stream",
     "text": [
      "[0.57447588 0.58987265 0.55276667]\n",
      "0.5723717334851716\n"
     ]
    }
   ],
   "source": [
    "print(score_list)\n",
    "print(np.mean(score_list))"
   ]
  },
  {
   "cell_type": "code",
   "execution_count": 34,
   "metadata": {},
   "outputs": [],
   "source": [
    "score_list = cross_val_score(lr,\n",
    "                             X, y,\n",
    "                             cv=3,\n",
    "                             scoring=\"neg_mean_squared_error\"\n",
    "                            )"
   ]
  },
  {
   "cell_type": "code",
   "execution_count": 35,
   "metadata": {},
   "outputs": [
    {
     "name": "stdout",
     "output_type": "stream",
     "text": [
      "[-1307.38952617 -1332.84952275  -859.62106567]\n"
     ]
    },
    {
     "data": {
      "text/plain": [
       "-1166.6200381987528"
      ]
     },
     "execution_count": 35,
     "metadata": {},
     "output_type": "execute_result"
    }
   ],
   "source": [
    "print(score_list)\n",
    "np.mean(score_list)"
   ]
  },
  {
   "cell_type": "code",
   "execution_count": 36,
   "metadata": {
    "scrolled": true
   },
   "outputs": [
    {
     "name": "stdout",
     "output_type": "stream",
     "text": [
      "[1307.38952617 1332.84952275  859.62106567]\n"
     ]
    },
    {
     "data": {
      "text/plain": [
       "1166.6200381987528"
      ]
     },
     "execution_count": 36,
     "metadata": {},
     "output_type": "execute_result"
    }
   ],
   "source": [
    "print(score_list*-1)\n",
    "np.mean(score_list*-1)"
   ]
  },
  {
   "cell_type": "code",
   "execution_count": 38,
   "metadata": {},
   "outputs": [
    {
     "name": "stdout",
     "output_type": "stream",
     "text": [
      "[36.15784184 36.50821172 29.31929511]\n"
     ]
    },
    {
     "data": {
      "text/plain": [
       "34.155819975499824"
      ]
     },
     "execution_count": 38,
     "metadata": {},
     "output_type": "execute_result"
    }
   ],
   "source": [
    "print(np.sqrt(score_list*-1))\n",
    "np.sqrt(np.mean(score_list*-1))"
   ]
  },
  {
   "cell_type": "code",
   "execution_count": 41,
   "metadata": {},
   "outputs": [
    {
     "data": {
      "text/plain": [
       "LinearRegression()"
      ]
     },
     "execution_count": 41,
     "metadata": {},
     "output_type": "execute_result"
    }
   ],
   "source": [
    "lr = LinearRegression()\n",
    "lr.fit(X, y)"
   ]
  },
  {
   "cell_type": "code",
   "execution_count": 43,
   "metadata": {},
   "outputs": [
    {
     "name": "stdout",
     "output_type": "stream",
     "text": [
      "[43.08728116]\n",
      "-2.442545481092178\n"
     ]
    }
   ],
   "source": [
    "# LR.coef_ : feature별 가중치, LR.intercept_ : bias 반환\n",
    "print(lr.coef_)  # feature가 1개라 1개만 나옴.\n",
    "print(lr.intercept_)"
   ]
  },
  {
   "cell_type": "code",
   "execution_count": 45,
   "metadata": {},
   "outputs": [],
   "source": [
    "def my_pred(X):\n",
    "    return lr.coef_[0] * X + lr.intercept_"
   ]
  },
  {
   "cell_type": "code",
   "execution_count": 46,
   "metadata": {},
   "outputs": [
    {
     "data": {
      "text/plain": [
       "array([[ 21.68633197],\n",
       "       [ 49.26219191],\n",
       "       [-32.60364229]])"
      ]
     },
     "execution_count": 46,
     "metadata": {},
     "output_type": "execute_result"
    }
   ],
   "source": [
    "new_X = np.array(new_X)\n",
    "my_pred(new_X)"
   ]
  },
  {
   "cell_type": "code",
   "execution_count": 47,
   "metadata": {},
   "outputs": [
    {
     "data": {
      "text/plain": [
       "array([ 21.68633197,  49.26219191, -32.60364229])"
      ]
     },
     "execution_count": 47,
     "metadata": {},
     "output_type": "execute_result"
    }
   ],
   "source": [
    "lr.predict(new_X)"
   ]
  },
  {
   "cell_type": "code",
   "execution_count": 50,
   "metadata": {},
   "outputs": [
    {
     "data": {
      "image/png": "[encoded data removed]",
      "text/plain": [
       "<Figure size 504x432 with 1 Axes>"
      ]
     },
     "metadata": {
      "needs_background": "light"
     },
     "output_type": "display_data"
    }
   ],
   "source": [
    "plt.figure(figsize=(7,6))\n",
    "plt.scatter(X, y)\n",
    "y_hat = my_pred(X)\n",
    "plt.plot(X, y_hat, color='red')  # 회귀선\n",
    "\n",
    "plt.show()"
   ]
  },
  {
   "cell_type": "code",
   "execution_count": null,
   "metadata": {},
   "outputs": [],
   "source": []
  },
  {
   "cell_type": "markdown",
   "metadata": {},
   "source": [
    "## 기존 분류 모델의 회귀 모델"
   ]
  },
  {
   "cell_type": "code",
   "execution_count": 51,
   "metadata": {},
   "outputs": [],
   "source": [
    "from sklearn.model_selection import train_test_split\n",
    "\n",
    "from sklearn.neighbors import KNeighborsRegressor\n",
    "from sklearn.tree import DecisionTreeRegressor\n",
    "from sklearn.ensemble import RandomForestRegressor, GradientBoostingRegressor, VotingRegressor\n",
    "from sklearn.svm import SVR"
   ]
  },
  {
   "cell_type": "code",
   "execution_count": 52,
   "metadata": {},
   "outputs": [],
   "source": [
    "X_train, X_test, y_train, y_test = train_test_split(X, y, test_size=0.2, random_state=0)   # stratify는 의미가 없다."
   ]
  },
  {
   "cell_type": "code",
   "execution_count": 56,
   "metadata": {},
   "outputs": [],
   "source": [
    "knn = KNeighborsRegressor()\n",
    "tree = DecisionTreeRegressor()\n",
    "rf = RandomForestRegressor()\n",
    "gb = GradientBoostingRegressor()\n",
    "svr = SVR()\n",
    "\n",
    "est = [\n",
    "    (\"knn\", knn),\n",
    "    (\"tree\", tree),\n",
    "    (\"rf\", rf),\n",
    "    (\"GB\", gb),\n",
    "    (\"svr\", svr)\n",
    "]"
   ]
  },
  {
   "cell_type": "code",
   "execution_count": 57,
   "metadata": {},
   "outputs": [],
   "source": [
    "def print_regression_metrics(y, pred, title=None):\n",
    "    mse = mean_squared_error(y, pred)\n",
    "    rmse = np.sqrt(mse)\n",
    "    r2 = r2_score(y, pred)\n",
    "    if title:\n",
    "        print(title)\n",
    "    print(f\"MSE: {mse}, RMSE: {rmse}, R Squered: {r2}\")"
   ]
  },
  {
   "cell_type": "code",
   "execution_count": 59,
   "metadata": {},
   "outputs": [
    {
     "name": "stdout",
     "output_type": "stream",
     "text": [
      "\n",
      "\n",
      "knn - Train\n",
      "MSE: 848.1395842397269, RMSE: 29.12283612974064, R Squered: 0.7239989948587914\n",
      "knn - Test\n",
      "MSE: 1181.4263196957993, RMSE: 34.371882690591725, R Squered: 0.47404777230081696\n",
      "\n",
      "\n",
      "tree - Train\n",
      "MSE: 0.0, RMSE: 0.0, R Squered: 1.0\n",
      "tree - Test\n",
      "MSE: 1774.249296708706, RMSE: 42.12183871471788, R Squered: 0.21013240136893951\n",
      "\n",
      "\n",
      "rf - Train\n",
      "MSE: 223.8381102338977, RMSE: 14.961220212064847, R Squered: 0.9271587548070361\n",
      "rf - Test\n",
      "MSE: 1399.694548734451, RMSE: 37.412491880847114, R Squered: 0.376878224454284\n",
      "\n",
      "\n",
      "GB - Train\n",
      "MSE: 158.09406068470207, RMSE: 12.573546066432575, R Squered: 0.9485531385792508\n",
      "GB - Test\n",
      "MSE: 1377.898258279898, RMSE: 37.120051970328625, R Squered: 0.3865815866775857\n",
      "\n",
      "\n",
      "svr - Train\n",
      "MSE: 2351.4063767585512, RMSE: 48.49130207324352, R Squered: 0.23480694034276983\n",
      "svr - Test\n",
      "MSE: 1629.5501050987923, RMSE: 40.36768639764722, R Squered: 0.2745501825752198\n"
     ]
    }
   ],
   "source": [
    "for model_name, model in est:\n",
    "    # 학습\n",
    "    model.fit(X_train, y_train)\n",
    "    # 평가\n",
    "    pred_train = model.predict(X_train)\n",
    "    pred_test = model.predict(X_test)\n",
    "    \n",
    "    print_regression_metrics(y_train, pred_train, title=f'\\n\\n{model_name} - Train')\n",
    "    print_regression_metrics(y_test, pred_test, title=f'{model_name} - Test')\n",
    "    "
   ]
  },
  {
   "cell_type": "markdown",
   "metadata": {},
   "source": [
    "tree의 경우, train을 예측할 때 완전히 나눠질 때 까지 분류함. 따라서 오차가 0으로 나옴. 하지만 test셋은 잘 맞추지 못한다."
   ]
  },
  {
   "cell_type": "code",
   "execution_count": 71,
   "metadata": {},
   "outputs": [
    {
     "name": "stdout",
     "output_type": "stream",
     "text": [
      "Voting Train\n",
      "MSE: 361.4287067291672, RMSE: 19.011278408596493, R Squered: 0.8823841167211204\n",
      "Voting Test\n",
      "MSE: 1183.372328262317, RMSE: 34.40017918939256, R Squered: 0.4731814402040805\n"
     ]
    }
   ],
   "source": [
    "vote = VotingRegressor(est)\n",
    "vote.fit(X_train, y_train)\n",
    "print_regression_metrics(y_train, vote.predict(X_train), title=\"Voting Train\")\n",
    "print_regression_metrics(y_test, vote.predict(X_test), title=\"Voting Test\")\n"
   ]
  },
  {
   "cell_type": "code",
   "execution_count": 72,
   "metadata": {},
   "outputs": [
    {
     "data": {
      "text/plain": [
       "DecisionTreeRegressor(max_depth=3)"
      ]
     },
     "execution_count": 72,
     "metadata": {},
     "output_type": "execute_result"
    }
   ],
   "source": [
    "tree = DecisionTreeRegressor(max_depth=3)  # None으로 주면 MSE가 0이 될때까지 분류한다.\n",
    "tree.fit(X_train, y_train)"
   ]
  },
  {
   "cell_type": "code",
   "execution_count": 73,
   "metadata": {},
   "outputs": [],
   "source": [
    "from sklearn.tree import export_graphviz\n",
    "from graphviz import Source\n",
    "graph = Source(export_graphviz(tree, out_file=None, rounded=True, filled=True))"
   ]
  },
  {
   "cell_type": "code",
   "execution_count": 74,
   "metadata": {
    "scrolled": false
   },
   "outputs": [
    {
     "data": {
      "image/svg+xml": [
       "<?xml version=\"1.0\" encoding=\"UTF-8\" standalone=\"no\"?>\n",
       "<!DOCTYPE svg PUBLIC \"-//W3C//DTD SVG 1.1//EN\"\n",
       " \"http://www.w3.org/Graphics/SVG/1.1/DTD/svg11.dtd\">\n",
       "<!-- Generated by graphviz version 2.40.1 (20161225.0304)\n",
       " -->\n",
       "<!-- Title: Tree Pages: 1 -->\n",
       "<svg width=\"1048pt\" height=\"373pt\"\n",
       " viewBox=\"0.00 0.00 1047.50 373.00\" xmlns=\"http://www.w3.org/2000/svg\" xmlns:xlink=\"http://www.w3.org/1999/xlink\">\n",
       "<g id=\"graph0\" class=\"graph\" transform=\"scale(1 1) rotate(0) translate(4 369)\">\n",
       "<title>Tree</title>\n",
       "<polygon fill=\"#ffffff\" stroke=\"transparent\" points=\"-4,4 -4,-369 1043.5,-369 1043.5,4 -4,4\"/>\n",
       "<!-- 0 -->\n",
       "<g id=\"node1\" class=\"node\">\n",
       "<title>0</title>\n",
       "<path fill=\"#f1bc96\" stroke=\"#000000\" d=\"M567,-365C567,-365 474,-365 474,-365 468,-365 462,-359 462,-353 462,-353 462,-309 462,-309 462,-303 468,-297 474,-297 474,-297 567,-297 567,-297 573,-297 579,-303 579,-309 579,-309 579,-353 579,-353 579,-359 573,-365 567,-365\"/>\n",
       "<text text-anchor=\"middle\" x=\"520.5\" y=\"-349.8\" font-family=\"Helvetica,sans-Serif\" font-size=\"14.00\" fill=\"#000000\">X[0] &lt;= 0.094</text>\n",
       "<text text-anchor=\"middle\" x=\"520.5\" y=\"-334.8\" font-family=\"Helvetica,sans-Serif\" font-size=\"14.00\" fill=\"#000000\">mse = 3072.958</text>\n",
       "<text text-anchor=\"middle\" x=\"520.5\" y=\"-319.8\" font-family=\"Helvetica,sans-Serif\" font-size=\"14.00\" fill=\"#000000\">samples = 80</text>\n",
       "<text text-anchor=\"middle\" x=\"520.5\" y=\"-304.8\" font-family=\"Helvetica,sans-Serif\" font-size=\"14.00\" fill=\"#000000\">value = &#45;1.072</text>\n",
       "</g>\n",
       "<!-- 1 -->\n",
       "<g id=\"node2\" class=\"node\">\n",
       "<title>1</title>\n",
       "<path fill=\"#f5d0b5\" stroke=\"#000000\" d=\"M437,-261C437,-261 344,-261 344,-261 338,-261 332,-255 332,-249 332,-249 332,-205 332,-205 332,-199 338,-193 344,-193 344,-193 437,-193 437,-193 443,-193 449,-199 449,-205 449,-205 449,-249 449,-249 449,-255 443,-261 437,-261\"/>\n",
       "<text text-anchor=\"middle\" x=\"390.5\" y=\"-245.8\" font-family=\"Helvetica,sans-Serif\" font-size=\"14.00\" fill=\"#000000\">X[0] &lt;= &#45;0.942</text>\n",
       "<text text-anchor=\"middle\" x=\"390.5\" y=\"-230.8\" font-family=\"Helvetica,sans-Serif\" font-size=\"14.00\" fill=\"#000000\">mse = 1646.453</text>\n",
       "<text text-anchor=\"middle\" x=\"390.5\" y=\"-215.8\" font-family=\"Helvetica,sans-Serif\" font-size=\"14.00\" fill=\"#000000\">samples = 42</text>\n",
       "<text text-anchor=\"middle\" x=\"390.5\" y=\"-200.8\" font-family=\"Helvetica,sans-Serif\" font-size=\"14.00\" fill=\"#000000\">value = &#45;36.59</text>\n",
       "</g>\n",
       "<!-- 0&#45;&gt;1 -->\n",
       "<g id=\"edge1\" class=\"edge\">\n",
       "<title>0&#45;&gt;1</title>\n",
       "<path fill=\"none\" stroke=\"#000000\" d=\"M477.9331,-296.9465C466.1488,-287.519 453.2432,-277.1946 441.0519,-267.4415\"/>\n",
       "<polygon fill=\"#000000\" stroke=\"#000000\" points=\"443.1577,-264.6439 433.1625,-261.13 438.7848,-270.11 443.1577,-264.6439\"/>\n",
       "<text text-anchor=\"middle\" x=\"435.9233\" y=\"-282.2771\" font-family=\"Helvetica,sans-Serif\" font-size=\"14.00\" fill=\"#000000\">True</text>\n",
       "</g>\n",
       "<!-- 8 -->\n",
       "<g id=\"node9\" class=\"node\">\n",
       "<title>8</title>\n",
       "<path fill=\"#eda673\" stroke=\"#000000\" d=\"M701,-261C701,-261 608,-261 608,-261 602,-261 596,-255 596,-249 596,-249 596,-205 596,-205 596,-199 602,-193 608,-193 608,-193 701,-193 701,-193 707,-193 713,-199 713,-205 713,-205 713,-249 713,-249 713,-255 707,-261 701,-261\"/>\n",
       "<text text-anchor=\"middle\" x=\"654.5\" y=\"-245.8\" font-family=\"Helvetica,sans-Serif\" font-size=\"14.00\" fill=\"#000000\">X[0] &lt;= 1.226</text>\n",
       "<text text-anchor=\"middle\" x=\"654.5\" y=\"-230.8\" font-family=\"Helvetica,sans-Serif\" font-size=\"14.00\" fill=\"#000000\">mse = 1714.211</text>\n",
       "<text text-anchor=\"middle\" x=\"654.5\" y=\"-215.8\" font-family=\"Helvetica,sans-Serif\" font-size=\"14.00\" fill=\"#000000\">samples = 38</text>\n",
       "<text text-anchor=\"middle\" x=\"654.5\" y=\"-200.8\" font-family=\"Helvetica,sans-Serif\" font-size=\"14.00\" fill=\"#000000\">value = 38.185</text>\n",
       "</g>\n",
       "<!-- 0&#45;&gt;8 -->\n",
       "<g id=\"edge8\" class=\"edge\">\n",
       "<title>0&#45;&gt;8</title>\n",
       "<path fill=\"none\" stroke=\"#000000\" d=\"M564.3766,-296.9465C576.5235,-287.519 589.8262,-277.1946 602.3927,-267.4415\"/>\n",
       "<polygon fill=\"#000000\" stroke=\"#000000\" points=\"604.7709,-270.0262 610.5248,-261.13 600.479,-264.4963 604.7709,-270.0262\"/>\n",
       "<text text-anchor=\"middle\" x=\"607.3983\" y=\"-282.2337\" font-family=\"Helvetica,sans-Serif\" font-size=\"14.00\" fill=\"#000000\">False</text>\n",
       "</g>\n",
       "<!-- 2 -->\n",
       "<g id=\"node3\" class=\"node\">\n",
       "<title>2</title>\n",
       "<path fill=\"#fae4d5\" stroke=\"#000000\" d=\"M242,-157C242,-157 149,-157 149,-157 143,-157 137,-151 137,-145 137,-145 137,-101 137,-101 137,-95 143,-89 149,-89 149,-89 242,-89 242,-89 248,-89 254,-95 254,-101 254,-101 254,-145 254,-145 254,-151 248,-157 242,-157\"/>\n",
       "<text text-anchor=\"middle\" x=\"195.5\" y=\"-141.8\" font-family=\"Helvetica,sans-Serif\" font-size=\"14.00\" fill=\"#000000\">X[0] &lt;= &#45;1.716</text>\n",
       "<text text-anchor=\"middle\" x=\"195.5\" y=\"-126.8\" font-family=\"Helvetica,sans-Serif\" font-size=\"14.00\" fill=\"#000000\">mse = 1183.681</text>\n",
       "<text text-anchor=\"middle\" x=\"195.5\" y=\"-111.8\" font-family=\"Helvetica,sans-Serif\" font-size=\"14.00\" fill=\"#000000\">samples = 14</text>\n",
       "<text text-anchor=\"middle\" x=\"195.5\" y=\"-96.8\" font-family=\"Helvetica,sans-Serif\" font-size=\"14.00\" fill=\"#000000\">value = &#45;73.773</text>\n",
       "</g>\n",
       "<!-- 1&#45;&gt;2 -->\n",
       "<g id=\"edge2\" class=\"edge\">\n",
       "<title>1&#45;&gt;2</title>\n",
       "<path fill=\"none\" stroke=\"#000000\" d=\"M331.9936,-195.7966C310.4002,-184.2801 285.7518,-171.1343 263.3972,-159.2118\"/>\n",
       "<polygon fill=\"#000000\" stroke=\"#000000\" points=\"264.7725,-155.9787 254.3019,-154.361 261.4783,-162.1552 264.7725,-155.9787\"/>\n",
       "</g>\n",
       "<!-- 5 -->\n",
       "<g id=\"node6\" class=\"node\">\n",
       "<title>5</title>\n",
       "<path fill=\"#f3c5a5\" stroke=\"#000000\" d=\"M435,-157C435,-157 346,-157 346,-157 340,-157 334,-151 334,-145 334,-145 334,-101 334,-101 334,-95 340,-89 346,-89 346,-89 435,-89 435,-89 441,-89 447,-95 447,-101 447,-101 447,-145 447,-145 447,-151 441,-157 435,-157\"/>\n",
       "<text text-anchor=\"middle\" x=\"390.5\" y=\"-141.8\" font-family=\"Helvetica,sans-Serif\" font-size=\"14.00\" fill=\"#000000\">X[0] &lt;= &#45;0.33</text>\n",
       "<text text-anchor=\"middle\" x=\"390.5\" y=\"-126.8\" font-family=\"Helvetica,sans-Serif\" font-size=\"14.00\" fill=\"#000000\">mse = 840.905</text>\n",
       "<text text-anchor=\"middle\" x=\"390.5\" y=\"-111.8\" font-family=\"Helvetica,sans-Serif\" font-size=\"14.00\" fill=\"#000000\">samples = 28</text>\n",
       "<text text-anchor=\"middle\" x=\"390.5\" y=\"-96.8\" font-family=\"Helvetica,sans-Serif\" font-size=\"14.00\" fill=\"#000000\">value = &#45;17.998</text>\n",
       "</g>\n",
       "<!-- 1&#45;&gt;5 -->\n",
       "<g id=\"edge5\" class=\"edge\">\n",
       "<title>1&#45;&gt;5</title>\n",
       "<path fill=\"none\" stroke=\"#000000\" d=\"M390.5,-192.9465C390.5,-184.776 390.5,-175.9318 390.5,-167.3697\"/>\n",
       "<polygon fill=\"#000000\" stroke=\"#000000\" points=\"394.0001,-167.13 390.5,-157.13 387.0001,-167.13 394.0001,-167.13\"/>\n",
       "</g>\n",
       "<!-- 3 -->\n",
       "<g id=\"node4\" class=\"node\">\n",
       "<title>3</title>\n",
       "<path fill=\"#ffffff\" stroke=\"#000000\" d=\"M109,-53C109,-53 12,-53 12,-53 6,-53 0,-47 0,-41 0,-41 0,-12 0,-12 0,-6 6,0 12,0 12,0 109,0 109,0 115,0 121,-6 121,-12 121,-12 121,-41 121,-41 121,-47 115,-53 109,-53\"/>\n",
       "<text text-anchor=\"middle\" x=\"60.5\" y=\"-37.8\" font-family=\"Helvetica,sans-Serif\" font-size=\"14.00\" fill=\"#000000\">mse = 353.063</text>\n",
       "<text text-anchor=\"middle\" x=\"60.5\" y=\"-22.8\" font-family=\"Helvetica,sans-Serif\" font-size=\"14.00\" fill=\"#000000\">samples = 3</text>\n",
       "<text text-anchor=\"middle\" x=\"60.5\" y=\"-7.8\" font-family=\"Helvetica,sans-Serif\" font-size=\"14.00\" fill=\"#000000\">value = &#45;121.454</text>\n",
       "</g>\n",
       "<!-- 2&#45;&gt;3 -->\n",
       "<g id=\"edge3\" class=\"edge\">\n",
       "<title>2&#45;&gt;3</title>\n",
       "<path fill=\"none\" stroke=\"#000000\" d=\"M147.9041,-88.9777C134.3252,-79.2713 119.5661,-68.7213 106.1088,-59.1018\"/>\n",
       "<polygon fill=\"#000000\" stroke=\"#000000\" points=\"108.0908,-56.2164 97.9202,-53.2485 104.0201,-61.9111 108.0908,-56.2164\"/>\n",
       "</g>\n",
       "<!-- 4 -->\n",
       "<g id=\"node5\" class=\"node\">\n",
       "<title>4</title>\n",
       "<path fill=\"#f8ddca\" stroke=\"#000000\" d=\"M240,-53C240,-53 151,-53 151,-53 145,-53 139,-47 139,-41 139,-41 139,-12 139,-12 139,-6 145,0 151,0 151,0 240,0 240,0 246,0 252,-6 252,-12 252,-12 252,-41 252,-41 252,-47 246,-53 240,-53\"/>\n",
       "<text text-anchor=\"middle\" x=\"195.5\" y=\"-37.8\" font-family=\"Helvetica,sans-Serif\" font-size=\"14.00\" fill=\"#000000\">mse = 621.083</text>\n",
       "<text text-anchor=\"middle\" x=\"195.5\" y=\"-22.8\" font-family=\"Helvetica,sans-Serif\" font-size=\"14.00\" fill=\"#000000\">samples = 11</text>\n",
       "<text text-anchor=\"middle\" x=\"195.5\" y=\"-7.8\" font-family=\"Helvetica,sans-Serif\" font-size=\"14.00\" fill=\"#000000\">value = &#45;60.769</text>\n",
       "</g>\n",
       "<!-- 2&#45;&gt;4 -->\n",
       "<g id=\"edge4\" class=\"edge\">\n",
       "<title>2&#45;&gt;4</title>\n",
       "<path fill=\"none\" stroke=\"#000000\" d=\"M195.5,-88.9777C195.5,-80.7364 195.5,-71.887 195.5,-63.5153\"/>\n",
       "<polygon fill=\"#000000\" stroke=\"#000000\" points=\"199.0001,-63.2484 195.5,-53.2485 192.0001,-63.2485 199.0001,-63.2484\"/>\n",
       "</g>\n",
       "<!-- 6 -->\n",
       "<g id=\"node7\" class=\"node\">\n",
       "<title>6</title>\n",
       "<path fill=\"#f2c19d\" stroke=\"#000000\" d=\"M368.5,-53C368.5,-53 282.5,-53 282.5,-53 276.5,-53 270.5,-47 270.5,-41 270.5,-41 270.5,-12 270.5,-12 270.5,-6 276.5,0 282.5,0 282.5,0 368.5,0 368.5,0 374.5,0 380.5,-6 380.5,-12 380.5,-12 380.5,-41 380.5,-41 380.5,-47 374.5,-53 368.5,-53\"/>\n",
       "<text text-anchor=\"middle\" x=\"325.5\" y=\"-37.8\" font-family=\"Helvetica,sans-Serif\" font-size=\"14.00\" fill=\"#000000\">mse = 567.092</text>\n",
       "<text text-anchor=\"middle\" x=\"325.5\" y=\"-22.8\" font-family=\"Helvetica,sans-Serif\" font-size=\"14.00\" fill=\"#000000\">samples = 15</text>\n",
       "<text text-anchor=\"middle\" x=\"325.5\" y=\"-7.8\" font-family=\"Helvetica,sans-Serif\" font-size=\"14.00\" fill=\"#000000\">value = &#45;9.34</text>\n",
       "</g>\n",
       "<!-- 5&#45;&gt;6 -->\n",
       "<g id=\"edge6\" class=\"edge\">\n",
       "<title>5&#45;&gt;6</title>\n",
       "<path fill=\"none\" stroke=\"#000000\" d=\"M367.5834,-88.9777C361.6006,-80.0954 355.1418,-70.5067 349.123,-61.5711\"/>\n",
       "<polygon fill=\"#000000\" stroke=\"#000000\" points=\"352.0067,-59.5871 343.5171,-53.2485 346.2009,-63.4978 352.0067,-59.5871\"/>\n",
       "</g>\n",
       "<!-- 7 -->\n",
       "<g id=\"node8\" class=\"node\">\n",
       "<title>7</title>\n",
       "<path fill=\"#f4cbad\" stroke=\"#000000\" d=\"M500,-53C500,-53 411,-53 411,-53 405,-53 399,-47 399,-41 399,-41 399,-12 399,-12 399,-6 405,0 411,0 411,0 500,0 500,0 506,0 512,-6 512,-12 512,-12 512,-41 512,-41 512,-47 506,-53 500,-53\"/>\n",
       "<text text-anchor=\"middle\" x=\"455.5\" y=\"-37.8\" font-family=\"Helvetica,sans-Serif\" font-size=\"14.00\" fill=\"#000000\">mse = 970.529</text>\n",
       "<text text-anchor=\"middle\" x=\"455.5\" y=\"-22.8\" font-family=\"Helvetica,sans-Serif\" font-size=\"14.00\" fill=\"#000000\">samples = 13</text>\n",
       "<text text-anchor=\"middle\" x=\"455.5\" y=\"-7.8\" font-family=\"Helvetica,sans-Serif\" font-size=\"14.00\" fill=\"#000000\">value = &#45;27.989</text>\n",
       "</g>\n",
       "<!-- 5&#45;&gt;7 -->\n",
       "<g id=\"edge7\" class=\"edge\">\n",
       "<title>5&#45;&gt;7</title>\n",
       "<path fill=\"none\" stroke=\"#000000\" d=\"M413.4166,-88.9777C419.3994,-80.0954 425.8582,-70.5067 431.877,-61.5711\"/>\n",
       "<polygon fill=\"#000000\" stroke=\"#000000\" points=\"434.7991,-63.4978 437.4829,-53.2485 428.9933,-59.5871 434.7991,-63.4978\"/>\n",
       "</g>\n",
       "<!-- 9 -->\n",
       "<g id=\"node10\" class=\"node\">\n",
       "<title>9</title>\n",
       "<path fill=\"#eeaf81\" stroke=\"#000000\" d=\"M701,-157C701,-157 608,-157 608,-157 602,-157 596,-151 596,-145 596,-145 596,-101 596,-101 596,-95 602,-89 608,-89 608,-89 701,-89 701,-89 707,-89 713,-95 713,-101 713,-101 713,-145 713,-145 713,-151 707,-157 701,-157\"/>\n",
       "<text text-anchor=\"middle\" x=\"654.5\" y=\"-141.8\" font-family=\"Helvetica,sans-Serif\" font-size=\"14.00\" fill=\"#000000\">X[0] &lt;= 0.56</text>\n",
       "<text text-anchor=\"middle\" x=\"654.5\" y=\"-126.8\" font-family=\"Helvetica,sans-Serif\" font-size=\"14.00\" fill=\"#000000\">mse = 1257.178</text>\n",
       "<text text-anchor=\"middle\" x=\"654.5\" y=\"-111.8\" font-family=\"Helvetica,sans-Serif\" font-size=\"14.00\" fill=\"#000000\">samples = 28</text>\n",
       "<text text-anchor=\"middle\" x=\"654.5\" y=\"-96.8\" font-family=\"Helvetica,sans-Serif\" font-size=\"14.00\" fill=\"#000000\">value = 22.339</text>\n",
       "</g>\n",
       "<!-- 8&#45;&gt;9 -->\n",
       "<g id=\"edge9\" class=\"edge\">\n",
       "<title>8&#45;&gt;9</title>\n",
       "<path fill=\"none\" stroke=\"#000000\" d=\"M654.5,-192.9465C654.5,-184.776 654.5,-175.9318 654.5,-167.3697\"/>\n",
       "<polygon fill=\"#000000\" stroke=\"#000000\" points=\"658.0001,-167.13 654.5,-157.13 651.0001,-167.13 658.0001,-167.13\"/>\n",
       "</g>\n",
       "<!-- 12 -->\n",
       "<g id=\"node13\" class=\"node\">\n",
       "<title>12</title>\n",
       "<path fill=\"#e88d4d\" stroke=\"#000000\" d=\"M895.5,-157C895.5,-157 809.5,-157 809.5,-157 803.5,-157 797.5,-151 797.5,-145 797.5,-145 797.5,-101 797.5,-101 797.5,-95 803.5,-89 809.5,-89 809.5,-89 895.5,-89 895.5,-89 901.5,-89 907.5,-95 907.5,-101 907.5,-101 907.5,-145 907.5,-145 907.5,-151 901.5,-157 895.5,-157\"/>\n",
       "<text text-anchor=\"middle\" x=\"852.5\" y=\"-141.8\" font-family=\"Helvetica,sans-Serif\" font-size=\"14.00\" fill=\"#000000\">X[0] &lt;= 1.462</text>\n",
       "<text text-anchor=\"middle\" x=\"852.5\" y=\"-126.8\" font-family=\"Helvetica,sans-Serif\" font-size=\"14.00\" fill=\"#000000\">mse = 322.236</text>\n",
       "<text text-anchor=\"middle\" x=\"852.5\" y=\"-111.8\" font-family=\"Helvetica,sans-Serif\" font-size=\"14.00\" fill=\"#000000\">samples = 10</text>\n",
       "<text text-anchor=\"middle\" x=\"852.5\" y=\"-96.8\" font-family=\"Helvetica,sans-Serif\" font-size=\"14.00\" fill=\"#000000\">value = 82.554</text>\n",
       "</g>\n",
       "<!-- 8&#45;&gt;12 -->\n",
       "<g id=\"edge12\" class=\"edge\">\n",
       "<title>8&#45;&gt;12</title>\n",
       "<path fill=\"none\" stroke=\"#000000\" d=\"M713.1029,-196.2187C736.764,-183.7906 764.1412,-169.4107 788.3365,-156.702\"/>\n",
       "<polygon fill=\"#000000\" stroke=\"#000000\" points=\"790.2139,-159.6694 797.4395,-151.9207 786.9588,-153.4723 790.2139,-159.6694\"/>\n",
       "</g>\n",
       "<!-- 10 -->\n",
       "<g id=\"node11\" class=\"node\">\n",
       "<title>10</title>\n",
       "<path fill=\"#f0b68c\" stroke=\"#000000\" d=\"M635,-53C635,-53 542,-53 542,-53 536,-53 530,-47 530,-41 530,-41 530,-12 530,-12 530,-6 536,0 542,0 542,0 635,0 635,0 641,0 647,-6 647,-12 647,-12 647,-41 647,-41 647,-47 641,-53 635,-53\"/>\n",
       "<text text-anchor=\"middle\" x=\"588.5\" y=\"-37.8\" font-family=\"Helvetica,sans-Serif\" font-size=\"14.00\" fill=\"#000000\">mse = 1091.109</text>\n",
       "<text text-anchor=\"middle\" x=\"588.5\" y=\"-22.8\" font-family=\"Helvetica,sans-Serif\" font-size=\"14.00\" fill=\"#000000\">samples = 16</text>\n",
       "<text text-anchor=\"middle\" x=\"588.5\" y=\"-7.8\" font-family=\"Helvetica,sans-Serif\" font-size=\"14.00\" fill=\"#000000\">value = 10.293</text>\n",
       "</g>\n",
       "<!-- 9&#45;&gt;10 -->\n",
       "<g id=\"edge10\" class=\"edge\">\n",
       "<title>9&#45;&gt;10</title>\n",
       "<path fill=\"none\" stroke=\"#000000\" d=\"M631.2309,-88.9777C625.156,-80.0954 618.5979,-70.5067 612.4865,-61.5711\"/>\n",
       "<polygon fill=\"#000000\" stroke=\"#000000\" points=\"615.3286,-59.5267 606.7943,-53.2485 609.5507,-63.4785 615.3286,-59.5267\"/>\n",
       "</g>\n",
       "<!-- 11 -->\n",
       "<g id=\"node12\" class=\"node\">\n",
       "<title>11</title>\n",
       "<path fill=\"#eda673\" stroke=\"#000000\" d=\"M763.5,-53C763.5,-53 677.5,-53 677.5,-53 671.5,-53 665.5,-47 665.5,-41 665.5,-41 665.5,-12 665.5,-12 665.5,-6 671.5,0 677.5,0 677.5,0 763.5,0 763.5,0 769.5,0 775.5,-6 775.5,-12 775.5,-12 775.5,-41 775.5,-41 775.5,-47 769.5,-53 763.5,-53\"/>\n",
       "<text text-anchor=\"middle\" x=\"720.5\" y=\"-37.8\" font-family=\"Helvetica,sans-Serif\" font-size=\"14.00\" fill=\"#000000\">mse = 1027.18</text>\n",
       "<text text-anchor=\"middle\" x=\"720.5\" y=\"-22.8\" font-family=\"Helvetica,sans-Serif\" font-size=\"14.00\" fill=\"#000000\">samples = 12</text>\n",
       "<text text-anchor=\"middle\" x=\"720.5\" y=\"-7.8\" font-family=\"Helvetica,sans-Serif\" font-size=\"14.00\" fill=\"#000000\">value = 38.4</text>\n",
       "</g>\n",
       "<!-- 9&#45;&gt;11 -->\n",
       "<g id=\"edge11\" class=\"edge\">\n",
       "<title>9&#45;&gt;11</title>\n",
       "<path fill=\"none\" stroke=\"#000000\" d=\"M677.7691,-88.9777C683.844,-80.0954 690.4021,-70.5067 696.5135,-61.5711\"/>\n",
       "<polygon fill=\"#000000\" stroke=\"#000000\" points=\"699.4493,-63.4785 702.2057,-53.2485 693.6714,-59.5267 699.4493,-63.4785\"/>\n",
       "</g>\n",
       "<!-- 13 -->\n",
       "<g id=\"node14\" class=\"node\">\n",
       "<title>13</title>\n",
       "<path fill=\"#e58139\" stroke=\"#000000\" d=\"M899,-53C899,-53 806,-53 806,-53 800,-53 794,-47 794,-41 794,-41 794,-12 794,-12 794,-6 800,0 806,0 806,0 899,0 899,0 905,0 911,-6 911,-12 911,-12 911,-41 911,-41 911,-47 905,-53 899,-53\"/>\n",
       "<text text-anchor=\"middle\" x=\"852.5\" y=\"-37.8\" font-family=\"Helvetica,sans-Serif\" font-size=\"14.00\" fill=\"#000000\">mse = 157.28</text>\n",
       "<text text-anchor=\"middle\" x=\"852.5\" y=\"-22.8\" font-family=\"Helvetica,sans-Serif\" font-size=\"14.00\" fill=\"#000000\">samples = 2</text>\n",
       "<text text-anchor=\"middle\" x=\"852.5\" y=\"-7.8\" font-family=\"Helvetica,sans-Serif\" font-size=\"14.00\" fill=\"#000000\">value = 105.006</text>\n",
       "</g>\n",
       "<!-- 12&#45;&gt;13 -->\n",
       "<g id=\"edge13\" class=\"edge\">\n",
       "<title>12&#45;&gt;13</title>\n",
       "<path fill=\"none\" stroke=\"#000000\" d=\"M852.5,-88.9777C852.5,-80.7364 852.5,-71.887 852.5,-63.5153\"/>\n",
       "<polygon fill=\"#000000\" stroke=\"#000000\" points=\"856.0001,-63.2484 852.5,-53.2485 849.0001,-63.2485 856.0001,-63.2484\"/>\n",
       "</g>\n",
       "<!-- 14 -->\n",
       "<g id=\"node15\" class=\"node\">\n",
       "<title>14</title>\n",
       "<path fill=\"#e89152\" stroke=\"#000000\" d=\"M1027.5,-53C1027.5,-53 941.5,-53 941.5,-53 935.5,-53 929.5,-47 929.5,-41 929.5,-41 929.5,-12 929.5,-12 929.5,-6 935.5,0 941.5,0 941.5,0 1027.5,0 1027.5,0 1033.5,0 1039.5,-6 1039.5,-12 1039.5,-12 1039.5,-41 1039.5,-41 1039.5,-47 1033.5,-53 1027.5,-53\"/>\n",
       "<text text-anchor=\"middle\" x=\"984.5\" y=\"-37.8\" font-family=\"Helvetica,sans-Serif\" font-size=\"14.00\" fill=\"#000000\">mse = 205.938</text>\n",
       "<text text-anchor=\"middle\" x=\"984.5\" y=\"-22.8\" font-family=\"Helvetica,sans-Serif\" font-size=\"14.00\" fill=\"#000000\">samples = 8</text>\n",
       "<text text-anchor=\"middle\" x=\"984.5\" y=\"-7.8\" font-family=\"Helvetica,sans-Serif\" font-size=\"14.00\" fill=\"#000000\">value = 76.941</text>\n",
       "</g>\n",
       "<!-- 12&#45;&gt;14 -->\n",
       "<g id=\"edge14\" class=\"edge\">\n",
       "<title>12&#45;&gt;14</title>\n",
       "<path fill=\"none\" stroke=\"#000000\" d=\"M899.0383,-88.9777C912.1901,-79.3629 926.4743,-68.9203 939.532,-59.3743\"/>\n",
       "<polygon fill=\"#000000\" stroke=\"#000000\" points=\"941.9042,-61.9757 947.9114,-53.2485 937.773,-56.3247 941.9042,-61.9757\"/>\n",
       "</g>\n",
       "</g>\n",
       "</svg>\n"
      ],
      "text/plain": [
       "<graphviz.files.Source at 0x1219658e0>"
      ]
     },
     "execution_count": 74,
     "metadata": {},
     "output_type": "execute_result"
    }
   ],
   "source": [
    "graph"
   ]
  },
  {
   "cell_type": "code",
   "execution_count": null,
   "metadata": {},
   "outputs": [],
   "source": []
  },
  {
   "cell_type": "code",
   "execution_count": null,
   "metadata": {},
   "outputs": [],
   "source": []
  },
  {
   "cell_type": "code",
   "execution_count": null,
   "metadata": {},
   "outputs": [],
   "source": []
  }
 ],
 "metadata": {
  "kernelspec": {
   "display_name": "Python 3 (ipykernel)",
   "language": "python",
   "name": "python3"
  },
  "language_info": {
   "codemirror_mode": {
    "name": "ipython",
    "version": 3
   },
   "file_extension": ".py",
   "mimetype": "text/x-python",
   "name": "python",
   "nbconvert_exporter": "python",
   "pygments_lexer": "ipython3",
   "version": "3.8.10"
  },
  "toc": {
   "base_numbering": 1,
   "nav_menu": {},
   "number_sections": false,
   "sideBar": true,
   "skip_h1_title": false,
   "title_cell": "Table of Contents",
   "title_sidebar": "Contents",
   "toc_cell": false,
   "toc_position": {},
   "toc_section_display": true,
   "toc_window_display": false
  },
  "varInspector": {
   "cols": {
    "lenName": 16,
    "lenType": 16,
    "lenVar": 40
   },
   "kernels_config": {
    "python": {
     "delete_cmd_postfix": "",
     "delete_cmd_prefix": "del ",
     "library": "var_list.py",
     "varRefreshCmd": "print(var_dic_list())"
    },
    "r": {
     "delete_cmd_postfix": ") ",
     "delete_cmd_prefix": "rm(",
     "library": "var_list.r",
     "varRefreshCmd": "cat(var_dic_list()) "
    }
   },
   "types_to_exclude": [
    "module",
    "function",
    "builtin_function_or_method",
    "instance",
    "_Feature"
   ],
   "window_display": true
  }
 },
 "nbformat": 4,
 "nbformat_minor": 2
}
