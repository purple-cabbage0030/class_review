{
 "cells": [
  {
   "cell_type": "markdown",
   "metadata": {},
   "source": [
    "# Boosting\n",
    "부스팅(Boosting)이란 단순하고 약한 학습기(Weak Learner)들를 결합해서 보다 정확하고 강력한 학습기(Strong Learner)를 만드는 방식.  \n",
    "정확도가 낮은 하나의 모델을 만들어 학습 시킨뒤, 그 모델의 예측 오류는 두 번째 모델이 보완한다. 이 두 모델을 합치면 처음보다는 정확한 모델이 만들어 진다. 합쳐진 모델의 예측 오류는 다음 모델에서 보완하여 계속 더하는 과정을 반복한다.\n",
    "\n",
    "- 약한 학습기들은 앞 학습기가 만든 오류를 줄이는 방향으로 학습한다.\n",
    "- gradient boosting\n",
    "    - 처음 모델은 y를 예측 두번째 부터는 앞 모델이 만든 오류를 예측 그것을 앞 모델에 업데이트하면 오류를 줄일 수 있다.\n",
    "    - 그 오류를 update할 때 뺄까 더할까를 gradient descent 방법을 쓴다. 미분해서 나오는 값의 음수를 취해서 적용. \n",
    "    - 학습률을 작게 하면 update가 조금씩 크면 많이 하게 된다. 그래서 크게 하면 학습데이터에 너무 맞아 과대적합 될 수 있다.\n",
    "\n",
    "## GradientBoosting\n",
    "- 개별 모델로 Decision Tree 를 사용한다. \n",
    "- depth가 깊지 않은 트리를 많이 연결해서 이전 트리의 오차를 보정해 나가는 방식으로 실행한다.\n",
    "- 오차를 보정할 때 경사하강법(Gradient descent)을 사용한다.\n",
    "- 얕은 트리를 많이 연결하여 각각의 트리가 데이터의 일부에 대해 예측을 잘 수행하도록 하고 그런 트리들이 모여 전체 성능을 높이는 것이 기본 아이디어.\n",
    "- 분류와 회귀 둘다 지원하는 모델 (GradientBoostingClassification, GrandientBoostingRegressor)\n",
    "- 훈련시간이 많이 걸리고, 트리기반 모델의 특성 상 희소(0이 많은)한 고차원 데이터에서는 성능이 안 좋은 단점이 있다.\n",
    "\n",
    "### 주요 파라미터\n",
    "- Decision Tree 의 가지치기 관련 매개변수\n",
    "    - 각각의 tree가 복잡한 모델이 되지 않도록 한다. \n",
    "- learning rate\n",
    "    - 이전 tree의 오차를 얼마나 강하게 보정할 것인지 제어하는 값. \n",
    "    - 값이 크면 보정을 강하게 하여 복잡한 모델을 만든다. 학습데이터의 정확도는 올라가지만 과대적합이 날 수 있다. \n",
    "    - 값을 작게 잡으면 보정을 약하게 하여 모델의 복잡도를 줄인다. 과대적합을 줄일 수 있지만 성능 자체가 낮아질 수 있다.\n",
    "    - 기본값 : 0.1 (로그스케일)\n",
    "- n_estimators\n",
    "    - tree의 개수 지정. 많을수록 복잡한 모델이 된다.\n",
    "    - 최대한 크게 잡아준다.\n",
    "- n_iter_no_change, validation_fraction\n",
    "    - validation_fraction에 지정한 비율만큼 n_iter_no_change에 지정한 반복 횟수 동안 검증점수가 좋아지지 않으면 훈련을 조기 종료(early stopping)한다.\n",
    "\n",
    "- 보통 max_depth를 낮춰 개별 트리의 복잡도를 낮춘다. (5가 넘지 않게) 그리고 n_estimators를 가용시간, 메모리 한도에 맞춘 뒤 적절한 learning_rate을 찾는다.\n",
    "\n",
    "\n"
   ]
  },
  {
   "cell_type": "code",
   "execution_count": 2,
   "metadata": {},
   "outputs": [
    {
     "name": "stdout",
     "output_type": "stream",
     "text": [
      "Writing util.py\n"
     ]
    }
   ],
   "source": [
    "%%writefile util.py\n",
    "\n",
    "# 평가지표 출력 함수\n",
    "from sklearn.metrics import accuracy_score, recall_score, precision_score, f1_score\n",
    "def print_metrics(y, pred, title=None):\n",
    "    acc = accuracy_score(y, pred)\n",
    "    rec = recall_score(y, pred)\n",
    "    pre = precision_score(y, pred)\n",
    "    f1 = f1_score(y, pred)\n",
    "    if title:\n",
    "        print(title)\n",
    "    print(f'정확도: {acc}, recall: {rec}, precision: {pre}, f1점수: {f1}')"
   ]
  },
  {
   "cell_type": "code",
   "execution_count": 4,
   "metadata": {},
   "outputs": [],
   "source": [
    "from util import print_metrics\n",
    "from sklearn.datasets import load_breast_cancer\n",
    "from sklearn.model_selection import train_test_split"
   ]
  },
  {
   "cell_type": "code",
   "execution_count": 5,
   "metadata": {},
   "outputs": [],
   "source": [
    "data = load_breast_cancer()\n",
    "X, y = data['data'], data['target']\n",
    "\n",
    "X_train, X_test, y_train, y_test = train_test_split(X, y, stratify=y, random_state=0)"
   ]
  },
  {
   "cell_type": "code",
   "execution_count": 7,
   "metadata": {},
   "outputs": [
    {
     "name": "stdout",
     "output_type": "stream",
     "text": [
      "정확도: 1.0, recall: 1.0, precision: 1.0, f1점수: 1.0\n",
      "정확도: 0.958041958041958, recall: 0.9555555555555556, precision: 0.9772727272727273, f1점수: 0.9662921348314608\n"
     ]
    }
   ],
   "source": [
    "from sklearn.ensemble import GradientBoostingClassifier\n",
    "\n",
    "gb = GradientBoostingClassifier(random_state=0)\n",
    "gb.fit(X_train, y_train)\n",
    "pred_train = gb.predict(X_train)\n",
    "pred_test = gb.predict(X_test)\n",
    "\n",
    "print_metrics(y_train, pred_train)\n",
    "print_metrics(y_test, pred_test)"
   ]
  },
  {
   "cell_type": "code",
   "execution_count": 8,
   "metadata": {},
   "outputs": [
    {
     "name": "stdout",
     "output_type": "stream",
     "text": [
      "정확도: 0.9953051643192489, recall: 1.0, precision: 0.9925650557620818, f1점수: 0.9962686567164178\n",
      "정확도: 0.965034965034965, recall: 0.9777777777777777, precision: 0.967032967032967, f1점수: 0.9723756906077348\n"
     ]
    }
   ],
   "source": [
    "# decision tree 성능 낮추기 - max_depth를 작게 지정\n",
    "gb = GradientBoostingClassifier(random_state=0, max_depth=1)   # learning rate = 0.1\n",
    "gb.fit(X_train, y_train)\n",
    "pred_train = gb.predict(X_train)\n",
    "pred_test = gb.predict(X_test)\n",
    "\n",
    "print_metrics(y_train, pred_train)\n",
    "print_metrics(y_test, pred_test)"
   ]
  },
  {
   "cell_type": "code",
   "execution_count": 11,
   "metadata": {},
   "outputs": [
    {
     "name": "stdout",
     "output_type": "stream",
     "text": [
      "정확도: 0.6267605633802817, recall: 1.0, precision: 0.6267605633802817, f1점수: 0.7705627705627706\n",
      "정확도: 0.6293706293706294, recall: 1.0, precision: 0.6293706293706294, f1점수: 0.7725321888412017\n"
     ]
    }
   ],
   "source": [
    "# learning rate 낮추기\n",
    "gb = GradientBoostingClassifier(random_state=0, max_depth=1, learning_rate = 0.001)   # 과소적합\n",
    "gb.fit(X_train, y_train)\n",
    "pred_train = gb.predict(X_train)\n",
    "pred_test = gb.predict(X_test)\n",
    "\n",
    "print_metrics(y_train, pred_train)\n",
    "print_metrics(y_test, pred_test)"
   ]
  },
  {
   "cell_type": "code",
   "execution_count": 12,
   "metadata": {},
   "outputs": [
    {
     "name": "stdout",
     "output_type": "stream",
     "text": [
      "정확도: 0.92018779342723, recall: 0.9925093632958801, precision: 0.8922558922558923, f1점수: 0.9397163120567377\n",
      "정확도: 0.8951048951048951, recall: 0.9888888888888889, precision: 0.8640776699029126, f1점수: 0.9222797927461138\n"
     ]
    }
   ],
   "source": [
    "# 낮은 learning rate에 n_estimator 더 많이 주기\n",
    "gb = GradientBoostingClassifier(random_state=0, max_depth=1, learning_rate = 0.001, n_estimators=500)\n",
    "gb.fit(X_train, y_train)\n",
    "pred_train = gb.predict(X_train)\n",
    "pred_test = gb.predict(X_test)\n",
    "\n",
    "print_metrics(y_train, pred_train)\n",
    "print_metrics(y_test, pred_test)"
   ]
  },
  {
   "cell_type": "code",
   "execution_count": 13,
   "metadata": {},
   "outputs": [
    {
     "data": {
      "text/plain": [
       "array([0.        , 0.        , 0.        , 0.        , 0.        ,\n",
       "       0.        , 0.        , 0.15648382, 0.        , 0.        ,\n",
       "       0.        , 0.        , 0.        , 0.        , 0.        ,\n",
       "       0.        , 0.        , 0.        , 0.        , 0.        ,\n",
       "       0.1103002 , 0.        , 0.36581479, 0.05636868, 0.        ,\n",
       "       0.        , 0.        , 0.3110325 , 0.        , 0.        ])"
      ]
     },
     "execution_count": 13,
     "metadata": {},
     "output_type": "execute_result"
    }
   ],
   "source": [
    "# feature 중요도 조회\n",
    "gb.feature_importances_"
   ]
  },
  {
   "cell_type": "code",
   "execution_count": 14,
   "metadata": {
    "scrolled": true
   },
   "outputs": [
    {
     "data": {
      "text/plain": [
       "worst perimeter            0.365815\n",
       "worst concave points       0.311032\n",
       "mean concave points        0.156484\n",
       "worst radius               0.110300\n",
       "worst area                 0.056369\n",
       "mean radius                0.000000\n",
       "concavity error            0.000000\n",
       "worst symmetry             0.000000\n",
       "worst concavity            0.000000\n",
       "worst compactness          0.000000\n",
       "worst smoothness           0.000000\n",
       "worst texture              0.000000\n",
       "fractal dimension error    0.000000\n",
       "symmetry error             0.000000\n",
       "concave points error       0.000000\n",
       "compactness error          0.000000\n",
       "mean texture               0.000000\n",
       "smoothness error           0.000000\n",
       "area error                 0.000000\n",
       "perimeter error            0.000000\n",
       "texture error              0.000000\n",
       "radius error               0.000000\n",
       "mean fractal dimension     0.000000\n",
       "mean symmetry              0.000000\n",
       "mean concavity             0.000000\n",
       "mean compactness           0.000000\n",
       "mean smoothness            0.000000\n",
       "mean area                  0.000000\n",
       "mean perimeter             0.000000\n",
       "worst fractal dimension    0.000000\n",
       "dtype: float64"
      ]
     },
     "execution_count": 14,
     "metadata": {},
     "output_type": "execute_result"
    }
   ],
   "source": [
    "import pandas as pd\n",
    "fi = pd.Series(gb.feature_importances_, index = data['feature_names'])\n",
    "fi.sort_values(ascending=False)"
   ]
  },
  {
   "cell_type": "code",
   "execution_count": null,
   "metadata": {},
   "outputs": [],
   "source": []
  },
  {
   "cell_type": "markdown",
   "metadata": {},
   "source": [
    "### GridSearchCV 이용해 최적의 하이퍼파라미터 찾기"
   ]
  },
  {
   "cell_type": "code",
   "execution_count": 15,
   "metadata": {},
   "outputs": [],
   "source": [
    "from sklearn.model_selection import RandomizedSearchCV\n",
    "\n",
    "params = {\n",
    "    'n_estimators':range(500, 1001, 100),\n",
    "    'learning_rate':[0.001, 0.05, 0.01, 0.1, 0.5],\n",
    "    'max_depth':[1, 2, 3],\n",
    "    'subsample':[0.5, 0.7, 0.9, 1]\n",
    "}\n",
    "\n",
    "rs = RandomizedSearchCV(GradientBoostingClassifier(random_state=0),\n",
    "                       params,\n",
    "                       cv=4,\n",
    "                       n_iter=60, \n",
    "                       scoring='accuracy',\n",
    "                       n_jobs=-1)"
   ]
  },
  {
   "cell_type": "code",
   "execution_count": 16,
   "metadata": {},
   "outputs": [
    {
     "data": {
      "text/plain": [
       "RandomizedSearchCV(cv=4, estimator=GradientBoostingClassifier(random_state=0),\n",
       "                   n_iter=60, n_jobs=-1,\n",
       "                   param_distributions={'learning_rate': [0.001, 0.05, 0.01,\n",
       "                                                          0.1, 0.5],\n",
       "                                        'max_depth': [1, 2, 3],\n",
       "                                        'n_estimators': range(500, 1001, 100),\n",
       "                                        'subsample': [0.5, 0.7, 0.9, 1]},\n",
       "                   scoring='accuracy')"
      ]
     },
     "execution_count": 16,
     "metadata": {},
     "output_type": "execute_result"
    }
   ],
   "source": [
    "rs.fit(X_train, y_train)"
   ]
  },
  {
   "cell_type": "code",
   "execution_count": 18,
   "metadata": {},
   "outputs": [
    {
     "data": {
      "text/html": [
       "<div>\n",
       "<style scoped>\n",
       "    .dataframe tbody tr th:only-of-type {\n",
       "        vertical-align: middle;\n",
       "    }\n",
       "\n",
       "    .dataframe tbody tr th {\n",
       "        vertical-align: top;\n",
       "    }\n",
       "\n",
       "    .dataframe thead th {\n",
       "        text-align: right;\n",
       "    }\n",
       "</style>\n",
       "<table border=\"1\" class=\"dataframe\">\n",
       "  <thead>\n",
       "    <tr style=\"text-align: right;\">\n",
       "      <th></th>\n",
       "      <th>mean_fit_time</th>\n",
       "      <th>std_fit_time</th>\n",
       "      <th>mean_score_time</th>\n",
       "      <th>std_score_time</th>\n",
       "      <th>param_subsample</th>\n",
       "      <th>param_n_estimators</th>\n",
       "      <th>param_max_depth</th>\n",
       "      <th>param_learning_rate</th>\n",
       "      <th>params</th>\n",
       "      <th>split0_test_score</th>\n",
       "      <th>split1_test_score</th>\n",
       "      <th>split2_test_score</th>\n",
       "      <th>split3_test_score</th>\n",
       "      <th>mean_test_score</th>\n",
       "      <th>std_test_score</th>\n",
       "      <th>rank_test_score</th>\n",
       "    </tr>\n",
       "  </thead>\n",
       "  <tbody>\n",
       "    <tr>\n",
       "      <th>48</th>\n",
       "      <td>0.924866</td>\n",
       "      <td>0.006890</td>\n",
       "      <td>0.002242</td>\n",
       "      <td>0.000432</td>\n",
       "      <td>0.5</td>\n",
       "      <td>500</td>\n",
       "      <td>2</td>\n",
       "      <td>0.5</td>\n",
       "      <td>{'subsample': 0.5, 'n_estimators': 500, 'max_d...</td>\n",
       "      <td>0.943925</td>\n",
       "      <td>0.971963</td>\n",
       "      <td>0.981132</td>\n",
       "      <td>0.990566</td>\n",
       "      <td>0.971896</td>\n",
       "      <td>0.017437</td>\n",
       "      <td>1</td>\n",
       "    </tr>\n",
       "    <tr>\n",
       "      <th>40</th>\n",
       "      <td>1.111701</td>\n",
       "      <td>0.016863</td>\n",
       "      <td>0.002613</td>\n",
       "      <td>0.000406</td>\n",
       "      <td>0.5</td>\n",
       "      <td>600</td>\n",
       "      <td>2</td>\n",
       "      <td>0.05</td>\n",
       "      <td>{'subsample': 0.5, 'n_estimators': 600, 'max_d...</td>\n",
       "      <td>0.943925</td>\n",
       "      <td>0.962617</td>\n",
       "      <td>0.981132</td>\n",
       "      <td>0.990566</td>\n",
       "      <td>0.969560</td>\n",
       "      <td>0.017892</td>\n",
       "      <td>2</td>\n",
       "    </tr>\n",
       "    <tr>\n",
       "      <th>0</th>\n",
       "      <td>1.873853</td>\n",
       "      <td>0.014937</td>\n",
       "      <td>0.003242</td>\n",
       "      <td>0.000431</td>\n",
       "      <td>0.7</td>\n",
       "      <td>800</td>\n",
       "      <td>2</td>\n",
       "      <td>0.05</td>\n",
       "      <td>{'subsample': 0.7, 'n_estimators': 800, 'max_d...</td>\n",
       "      <td>0.943925</td>\n",
       "      <td>0.971963</td>\n",
       "      <td>0.981132</td>\n",
       "      <td>0.981132</td>\n",
       "      <td>0.969538</td>\n",
       "      <td>0.015254</td>\n",
       "      <td>3</td>\n",
       "    </tr>\n",
       "    <tr>\n",
       "      <th>43</th>\n",
       "      <td>1.847941</td>\n",
       "      <td>0.012550</td>\n",
       "      <td>0.003250</td>\n",
       "      <td>0.001084</td>\n",
       "      <td>0.5</td>\n",
       "      <td>1000</td>\n",
       "      <td>2</td>\n",
       "      <td>0.1</td>\n",
       "      <td>{'subsample': 0.5, 'n_estimators': 1000, 'max_...</td>\n",
       "      <td>0.943925</td>\n",
       "      <td>0.971963</td>\n",
       "      <td>0.981132</td>\n",
       "      <td>0.981132</td>\n",
       "      <td>0.969538</td>\n",
       "      <td>0.015254</td>\n",
       "      <td>3</td>\n",
       "    </tr>\n",
       "    <tr>\n",
       "      <th>3</th>\n",
       "      <td>2.496696</td>\n",
       "      <td>0.002405</td>\n",
       "      <td>0.003490</td>\n",
       "      <td>0.000501</td>\n",
       "      <td>0.7</td>\n",
       "      <td>800</td>\n",
       "      <td>3</td>\n",
       "      <td>0.1</td>\n",
       "      <td>{'subsample': 0.7, 'n_estimators': 800, 'max_d...</td>\n",
       "      <td>0.943925</td>\n",
       "      <td>0.971963</td>\n",
       "      <td>0.981132</td>\n",
       "      <td>0.981132</td>\n",
       "      <td>0.969538</td>\n",
       "      <td>0.015254</td>\n",
       "      <td>3</td>\n",
       "    </tr>\n",
       "  </tbody>\n",
       "</table>\n",
       "</div>"
      ],
      "text/plain": [
       "    mean_fit_time  std_fit_time  mean_score_time  std_score_time  \\\n",
       "48       0.924866      0.006890         0.002242        0.000432   \n",
       "40       1.111701      0.016863         0.002613        0.000406   \n",
       "0        1.873853      0.014937         0.003242        0.000431   \n",
       "43       1.847941      0.012550         0.003250        0.001084   \n",
       "3        2.496696      0.002405         0.003490        0.000501   \n",
       "\n",
       "   param_subsample param_n_estimators param_max_depth param_learning_rate  \\\n",
       "48             0.5                500               2                 0.5   \n",
       "40             0.5                600               2                0.05   \n",
       "0              0.7                800               2                0.05   \n",
       "43             0.5               1000               2                 0.1   \n",
       "3              0.7                800               3                 0.1   \n",
       "\n",
       "                                               params  split0_test_score  \\\n",
       "48  {'subsample': 0.5, 'n_estimators': 500, 'max_d...           0.943925   \n",
       "40  {'subsample': 0.5, 'n_estimators': 600, 'max_d...           0.943925   \n",
       "0   {'subsample': 0.7, 'n_estimators': 800, 'max_d...           0.943925   \n",
       "43  {'subsample': 0.5, 'n_estimators': 1000, 'max_...           0.943925   \n",
       "3   {'subsample': 0.7, 'n_estimators': 800, 'max_d...           0.943925   \n",
       "\n",
       "    split1_test_score  split2_test_score  split3_test_score  mean_test_score  \\\n",
       "48           0.971963           0.981132           0.990566         0.971896   \n",
       "40           0.962617           0.981132           0.990566         0.969560   \n",
       "0            0.971963           0.981132           0.981132         0.969538   \n",
       "43           0.971963           0.981132           0.981132         0.969538   \n",
       "3            0.971963           0.981132           0.981132         0.969538   \n",
       "\n",
       "    std_test_score  rank_test_score  \n",
       "48        0.017437                1  \n",
       "40        0.017892                2  \n",
       "0         0.015254                3  \n",
       "43        0.015254                3  \n",
       "3         0.015254                3  "
      ]
     },
     "execution_count": 18,
     "metadata": {},
     "output_type": "execute_result"
    }
   ],
   "source": [
    "result_df = pd.DataFrame(rs.cv_results_)\n",
    "result_df.sort_values('rank_test_score').head()"
   ]
  },
  {
   "cell_type": "code",
   "execution_count": 19,
   "metadata": {},
   "outputs": [
    {
     "data": {
      "text/plain": [
       "{'subsample': 0.5, 'n_estimators': 500, 'max_depth': 2, 'learning_rate': 0.5}"
      ]
     },
     "execution_count": 19,
     "metadata": {},
     "output_type": "execute_result"
    }
   ],
   "source": [
    "rs.best_params_"
   ]
  },
  {
   "cell_type": "code",
   "execution_count": 20,
   "metadata": {},
   "outputs": [
    {
     "data": {
      "text/plain": [
       "0.9718964909187092"
      ]
     },
     "execution_count": 20,
     "metadata": {},
     "output_type": "execute_result"
    }
   ],
   "source": [
    "rs.best_score_"
   ]
  },
  {
   "cell_type": "code",
   "execution_count": 21,
   "metadata": {},
   "outputs": [
    {
     "name": "stdout",
     "output_type": "stream",
     "text": [
      "정확도: 0.951048951048951, recall: 0.9777777777777777, precision: 0.946236559139785, f1점수: 0.9617486338797814\n"
     ]
    }
   ],
   "source": [
    "best_model = rs.best_estimator_\n",
    "pred_test = best_model.predict(X_test)\n",
    "print_metrics(y_test, pred_test)"
   ]
  },
  {
   "cell_type": "code",
   "execution_count": 23,
   "metadata": {
    "scrolled": true
   },
   "outputs": [
    {
     "data": {
      "text/plain": [
       "worst radius               0.50\n",
       "worst concave points       0.23\n",
       "mean concave points        0.05\n",
       "worst perimeter            0.05\n",
       "worst concavity            0.03\n",
       "area error                 0.03\n",
       "worst texture              0.03\n",
       "radius error               0.02\n",
       "mean area                  0.01\n",
       "smoothness error           0.01\n",
       "concavity error            0.01\n",
       "worst fractal dimension    0.01\n",
       "worst symmetry             0.01\n",
       "symmetry error             0.00\n",
       "worst smoothness           0.00\n",
       "texture error              0.00\n",
       "worst compactness          0.00\n",
       "fractal dimension error    0.00\n",
       "mean texture               0.00\n",
       "worst area                 0.00\n",
       "mean fractal dimension     0.00\n",
       "compactness error          0.00\n",
       "concave points error       0.00\n",
       "mean symmetry              0.00\n",
       "perimeter error            0.00\n",
       "mean concavity             0.00\n",
       "mean compactness           0.00\n",
       "mean perimeter             0.00\n",
       "mean smoothness            0.00\n",
       "mean radius                0.00\n",
       "dtype: float64"
      ]
     },
     "execution_count": 23,
     "metadata": {},
     "output_type": "execute_result"
    }
   ],
   "source": [
    "import numpy as np\n",
    "fi = pd.Series(best_model.feature_importances_, index=data['feature_names'])\n",
    "np.round(fi.sort_values(ascending=False), 2)"
   ]
  },
  {
   "cell_type": "code",
   "execution_count": null,
   "metadata": {},
   "outputs": [],
   "source": []
  },
  {
   "cell_type": "markdown",
   "metadata": {},
   "source": [
    "# XGBoost(Extra Gradient Boost)\n",
    "- https://xgboost.readthedocs.io/\n",
    "- Gradient Boost 알고리즘을 기반으로 개선해서 나온 모델.\n",
    "- 캐글 경진대회에서 상위에 입상한 데이터 과학자들이 사용한 것으로 알려져 유명해짐.\n",
    "- Gradient Boost의 단점인 느린 수행시간을 해결하고 과적합을 제어할 수 있는 규제를 제공하여 성능을 높임.\n",
    "- 두 가지 개발 방법\n",
    "    - [Scikit-learn 래퍼 XGBoost 모듈 사용](https://xgboost.readthedocs.io/en/latest/python/python_api.html#module-xgboost.sklearn)\n",
    "    - [파이썬 래퍼 XGBoost 모듈 사용](https://xgboost.readthedocs.io/en/latest/python/python_api.html#module-xgboost.training)\n",
    "- 설치\n",
    "``\n",
    "conda install -y -c anaconda py-xgboost\n",
    "``"
   ]
  },
  {
   "cell_type": "code",
   "execution_count": 17,
   "metadata": {
    "ExecuteTime": {
     "end_time": "2020-09-01T04:26:05.441708Z",
     "start_time": "2020-09-01T04:25:38.767215Z"
    }
   },
   "outputs": [],
   "source": [
    "# !conda install -y -c anaconda py-xgboost"
   ]
  },
  {
   "cell_type": "markdown",
   "metadata": {},
   "source": [
    "## Scikit-learn 래퍼 XGBoost\n",
    "- XGBoost를 Scikit-learn프레임워크와 연동할 수 있도록 개발됨.\n",
    "- Scikit-learn의 Estimator들과 동일한 패턴으로 코드를 작성할 수 있다.\n",
    "- GridSearchCV나 Pipeline 등 Scikit-learn이 제공하는 다양한 유틸리티들을 사용할 수 있다.\n",
    "- XGBClassifier: 분류\n",
    "- XGBRegressor : 회귀 \n",
    "\n",
    "### 주요 매개변수\n",
    "- learning_rate : 학습률, 보통 0.01 ~ 0.2 사이의 값 사용\n",
    "- n_estimators : week tree 개수\n",
    "- max_depth: 트리의 depth 지정."
   ]
  },
  {
   "cell_type": "code",
   "execution_count": 26,
   "metadata": {},
   "outputs": [
    {
     "name": "stderr",
     "output_type": "stream",
     "text": [
      "C:\\Users\\Playdata\\Anaconda3\\envs\\ml\\lib\\site-packages\\xgboost\\sklearn.py:1146: UserWarning: The use of label encoder in XGBClassifier is deprecated and will be removed in a future release. To remove this warning, do the following: 1) Pass option use_label_encoder=False when constructing XGBClassifier object; and 2) Encode your labels (y) as integers starting with 0, i.e. 0, 1, 2, ..., [num_class - 1].\n",
      "  warnings.warn(label_encoder_deprecation_msg, UserWarning)\n"
     ]
    },
    {
     "name": "stdout",
     "output_type": "stream",
     "text": [
      "[17:29:34] WARNING: ..\\src\\learner.cc:1095: Starting in XGBoost 1.3.0, the default evaluation metric used with the objective 'binary:logistic' was changed from 'error' to 'logloss'. Explicitly set eval_metric if you'd like to restore the old behavior.\n"
     ]
    },
    {
     "data": {
      "text/plain": [
       "XGBClassifier(base_score=0.5, booster='gbtree', colsample_bylevel=1,\n",
       "              colsample_bynode=1, colsample_bytree=1, gamma=0, gpu_id=-1,\n",
       "              importance_type='gain', interaction_constraints='',\n",
       "              learning_rate=0.01, max_delta_step=0, max_depth=6,\n",
       "              min_child_weight=1, missing=nan, monotone_constraints='()',\n",
       "              n_estimators=500, n_jobs=4, num_parallel_tree=1, random_state=0,\n",
       "              reg_alpha=0, reg_lambda=1, scale_pos_weight=1, subsample=1,\n",
       "              tree_method='exact', validate_parameters=1, verbosity=None)"
      ]
     },
     "execution_count": 26,
     "metadata": {},
     "output_type": "execute_result"
    }
   ],
   "source": [
    "from xgboost import XGBClassifier\n",
    "xgb = XGBClassifier(n_estimators=500, learning_rate=0.01)\n",
    "xgb.fit(X_train, y_train)"
   ]
  },
  {
   "cell_type": "code",
   "execution_count": 27,
   "metadata": {},
   "outputs": [
    {
     "name": "stdout",
     "output_type": "stream",
     "text": [
      "XGB train\n",
      "정확도: 0.9976525821596244, recall: 1.0, precision: 0.996268656716418, f1점수: 0.9981308411214954\n",
      "XGB test\n",
      "정확도: 0.951048951048951, recall: 0.9555555555555556, precision: 0.9662921348314607, f1점수: 0.9608938547486034\n"
     ]
    }
   ],
   "source": [
    "pred_train = xgb.predict(X_train)\n",
    "pred_test = xgb.predict(X_test)\n",
    "print_metrics(y_train, pred_train, \"XGB train\")\n",
    "print_metrics(y_test, pred_test, \"XGB test\")"
   ]
  },
  {
   "cell_type": "code",
   "execution_count": null,
   "metadata": {},
   "outputs": [],
   "source": []
  }
 ],
 "metadata": {
  "kernelspec": {
   "display_name": "Python 3 (ipykernel)",
   "language": "python",
   "name": "python3"
  },
  "language_info": {
   "codemirror_mode": {
    "name": "ipython",
    "version": 3
   },
   "file_extension": ".py",
   "mimetype": "text/x-python",
   "name": "python",
   "nbconvert_exporter": "python",
   "pygments_lexer": "ipython3",
   "version": "3.8.10"
  },
  "toc": {
   "base_numbering": 1,
   "nav_menu": {},
   "number_sections": false,
   "sideBar": true,
   "skip_h1_title": false,
   "title_cell": "Table of Contents",
   "title_sidebar": "Contents",
   "toc_cell": false,
   "toc_position": {},
   "toc_section_display": true,
   "toc_window_display": false
  },
  "varInspector": {
   "cols": {
    "lenName": 16,
    "lenType": 16,
    "lenVar": 40
   },
   "kernels_config": {
    "python": {
     "delete_cmd_postfix": "",
     "delete_cmd_prefix": "del ",
     "library": "var_list.py",
     "varRefreshCmd": "print(var_dic_list())"
    },
    "r": {
     "delete_cmd_postfix": ") ",
     "delete_cmd_prefix": "rm(",
     "library": "var_list.r",
     "varRefreshCmd": "cat(var_dic_list()) "
    }
   },
   "types_to_exclude": [
    "module",
    "function",
    "builtin_function_or_method",
    "instance",
    "_Feature"
   ],
   "window_display": false
  }
 },
 "nbformat": 4,
 "nbformat_minor": 2
}
