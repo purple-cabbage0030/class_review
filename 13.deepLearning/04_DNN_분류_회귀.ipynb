{
 "cells": [
  {
   "cell_type": "markdown",
   "metadata": {},
   "source": [
    "# tf.data 모듈\n",
    "- 데이터 입력 파이프라인을 위한 모듈\n",
    "    - 모델 학습/평가을 위한 대용량 데이터셋을 제공(feeding)하기 위한 모듈\n",
    "    - raw dataset 에서 입력을 위한 전처리, 제공을 위한 배치, shuffling등을 한번에 처리할 수 있게 한다.\n",
    "- tf.data.Dataset 추상클래스에서 상속된 여러가지 클래스들을 제공\n",
    "    - 입력 소스의 제공 형태에 따라 다양한 방식을 제공\n",
    "\n",
    "\n",
    "## 데이터셋 API 사용\n",
    "1. <span style='font-size:1.2em;font-weight:bolder'>Dataset 생성</span>\n",
    "    - raw dataset을 지정\n",
    "    - from_tensor_slices(), from_generator() 클래스 메소드, tf.data.TFRecordDataset 클래스 등을 사용해 메모리나 파일에 있는 데이터를 Dataset으로 만든다.\n",
    "    - from_tensor_slices(): 리스트 넘파이배열, 텐서플로 자료형에서 데이터를 생성한다.\n",
    "2. <span style='font-size:1.2em;font-weight:bolder'>제공 데이터 전처리</span>\n",
    "    - map(함수) : 하나 하나의 데이터를 변환\n",
    "        - 함수: 값을 변환할 함수로 입력데이터셋의 개수만큼 매개변수 선언\n",
    "    - filter(함수): 특정 조건의 데이터만 제공하도록 처리.\n",
    "        - 함수: 제공할 값의 조건을 정의한 함수로 입력데이터셋의 개수만큼 매개변수 선언하고 bool 값을 반환.\n",
    "3. <span style='font-size:1.2em;font-weight:bolder'>Dataset을 사용해 데이터 제공</span>\n",
    "    - batch(), shuffle()을 이용해 제공 방식 지정\n",
    "        - batch(size): 학습/평가시 한번에 제공할 batch size 지정\n",
    "            - size: int. batch size 지정\n",
    "            - drop_remainder: bool. True일 경우 마지막 제공시 남은 데이터수가 batch size보다 작으면 제공하지 않는다.\n",
    "    -  shuffle(buffer 크기): dataset의 원소들의 순서를 섞는다. \n",
    "        - buffer 크기: int. buffer 크기는 섞는 공간의 크기로  **데이터보다 크거나 같으면** 완전셔플, **적으면 일부만 가져와서 섞어** 완전셔플이 안된다.\n",
    "        - 데이터 사이즈가 너무 커서 메모리가 부족할 경우 버퍼크기를 적게 준다.\n",
    "        - 메모리가 충분하다면 데이터의 개수와 동일하게 주면된다.\n",
    "    - repeat(count): 전체 데이터를 한번 다 제공한 뒤 다시 데이터를 제공한다.\n",
    "        - count: 몇번 제공할지 반복 횟수\n",
    "        - shuffle이 적용된 Dataset의 경우 다음 반복 제공마다 shuffle을 진행한다.\n",
    "        \n",
    "### Dataset 메소드\n",
    "- take(개수): 지정한 개수만큼의 데이터만 제공한다.\n"
   ]
  },
  {
   "cell_type": "code",
   "execution_count": 1,
   "metadata": {},
   "outputs": [],
   "source": [
    "import tensorflow as tf\n",
    "import numpy as np"
   ]
  },
  {
   "cell_type": "code",
   "execution_count": 2,
   "metadata": {},
   "outputs": [
    {
     "data": {
      "text/plain": [
       "array([0, 1, 2, 3, 4, 5, 6, 7, 8, 9])"
      ]
     },
     "execution_count": 2,
     "metadata": {},
     "output_type": "execute_result"
    }
   ],
   "source": [
    "raw_data = np.arange(10)\n",
    "raw_data"
   ]
  },
  {
   "cell_type": "code",
   "execution_count": 3,
   "metadata": {},
   "outputs": [
    {
     "name": "stdout",
     "output_type": "stream",
     "text": [
      "<class 'tensorflow.python.data.ops.dataset_ops.TensorSliceDataset'>\n"
     ]
    }
   ],
   "source": [
    "dataset = tf.data.Dataset.from_tensor_slices(raw_data)\n",
    "# 데이터셋 객체 생성 함수 - raw data 타입에 따라 바뀜. 메모리에 있는 건 fromtensorslicses 사용\n",
    "print(type(dataset))"
   ]
  },
  {
   "cell_type": "code",
   "execution_count": 4,
   "metadata": {},
   "outputs": [
    {
     "name": "stdout",
     "output_type": "stream",
     "text": [
      "tf.Tensor(0, shape=(), dtype=int32)\n",
      "tf.Tensor(1, shape=(), dtype=int32)\n",
      "tf.Tensor(2, shape=(), dtype=int32)\n",
      "tf.Tensor(3, shape=(), dtype=int32)\n",
      "tf.Tensor(4, shape=(), dtype=int32)\n",
      "tf.Tensor(5, shape=(), dtype=int32)\n",
      "tf.Tensor(6, shape=(), dtype=int32)\n",
      "tf.Tensor(7, shape=(), dtype=int32)\n",
      "tf.Tensor(8, shape=(), dtype=int32)\n",
      "tf.Tensor(9, shape=(), dtype=int32)\n"
     ]
    }
   ],
   "source": [
    "# Dataset으로부터 값 조회\n",
    "# take() 함수 사용 or 반복문 이용 (Dataset => iterable 타입)\n",
    "for data in dataset:\n",
    "    print(data)   # tensorflow의 배열 타입 - ndarray랑 거의 비슷하다..."
   ]
  },
  {
   "cell_type": "code",
   "execution_count": 5,
   "metadata": {},
   "outputs": [
    {
     "data": {
      "text/plain": [
       "array([10, 11, 12, 13, 14, 15, 16, 17, 18, 19])"
      ]
     },
     "execution_count": 5,
     "metadata": {},
     "output_type": "execute_result"
    }
   ],
   "source": [
    "raw_data2 = np.arange(10, 20)\n",
    "raw_data2"
   ]
  },
  {
   "cell_type": "code",
   "execution_count": 6,
   "metadata": {},
   "outputs": [
    {
     "name": "stdout",
     "output_type": "stream",
     "text": [
      "tf.Tensor(0, shape=(), dtype=int32) tf.Tensor(10, shape=(), dtype=int32)\n",
      "tf.Tensor(1, shape=(), dtype=int32) tf.Tensor(11, shape=(), dtype=int32)\n",
      "tf.Tensor(2, shape=(), dtype=int32) tf.Tensor(12, shape=(), dtype=int32)\n",
      "tf.Tensor(3, shape=(), dtype=int32) tf.Tensor(13, shape=(), dtype=int32)\n",
      "tf.Tensor(4, shape=(), dtype=int32) tf.Tensor(14, shape=(), dtype=int32)\n",
      "tf.Tensor(5, shape=(), dtype=int32) tf.Tensor(15, shape=(), dtype=int32)\n",
      "tf.Tensor(6, shape=(), dtype=int32) tf.Tensor(16, shape=(), dtype=int32)\n",
      "tf.Tensor(7, shape=(), dtype=int32) tf.Tensor(17, shape=(), dtype=int32)\n",
      "tf.Tensor(8, shape=(), dtype=int32) tf.Tensor(18, shape=(), dtype=int32)\n",
      "tf.Tensor(9, shape=(), dtype=int32) tf.Tensor(19, shape=(), dtype=int32)\n"
     ]
    }
   ],
   "source": [
    "# 학습 - model.fit(X, y) - X_train과 y_train 묶어줌!!\n",
    "dataset2 = tf.data.Dataset.from_tensor_slices((raw_data, raw_data2))\n",
    "for X, y in dataset2:\n",
    "#     print(data)   # 같은 인덱스의 값들이 tuple로 묶여서 반환됨\n",
    "#     print(type(data))\n",
    "    print(X, y)"
   ]
  },
  {
   "cell_type": "code",
   "execution_count": 7,
   "metadata": {},
   "outputs": [
    {
     "name": "stdout",
     "output_type": "stream",
     "text": [
      "<class 'tensorflow.python.data.ops.dataset_ops.TakeDataset'>\n",
      "tf.Tensor(0, shape=(), dtype=int32)\n",
      "tf.Tensor(1, shape=(), dtype=int32)\n",
      "tf.Tensor(2, shape=(), dtype=int32)\n"
     ]
    }
   ],
   "source": [
    "# dataset.take(개수): 지정한 개수만큼 dataset에서 조회\n",
    "dataset3 = dataset.take(3)\n",
    "print(type(dataset3))   # TakeDataset\n",
    "for data in dataset3:\n",
    "    print(data)"
   ]
  },
  {
   "cell_type": "code",
   "execution_count": 8,
   "metadata": {},
   "outputs": [
    {
     "name": "stdout",
     "output_type": "stream",
     "text": [
      "<class 'tensorflow.python.data.ops.dataset_ops.ShuffleDataset'>\n",
      "tf.Tensor(5, shape=(), dtype=int32)\n",
      "tf.Tensor(0, shape=(), dtype=int32)\n",
      "tf.Tensor(1, shape=(), dtype=int32)\n",
      "tf.Tensor(7, shape=(), dtype=int32)\n",
      "tf.Tensor(8, shape=(), dtype=int32)\n",
      "tf.Tensor(9, shape=(), dtype=int32)\n",
      "tf.Tensor(4, shape=(), dtype=int32)\n",
      "tf.Tensor(3, shape=(), dtype=int32)\n",
      "tf.Tensor(6, shape=(), dtype=int32)\n",
      "tf.Tensor(2, shape=(), dtype=int32)\n"
     ]
    }
   ],
   "source": [
    "# dataset.shuffle(buffer_size:정수): dataset의 원소들을 섞어줌. buffer size는 메모리가 허용하는 한 raw_data와 같은 개수로 지정\n",
    "dataset4 = dataset.shuffle(10)\n",
    "print(type(dataset4))   # ShuffleDataset\n",
    "for data in dataset4:\n",
    "    print(data)"
   ]
  },
  {
   "cell_type": "code",
   "execution_count": 9,
   "metadata": {},
   "outputs": [
    {
     "name": "stdout",
     "output_type": "stream",
     "text": [
      "<class 'tensorflow.python.data.ops.dataset_ops.BatchDataset'>\n",
      "tf.Tensor([0 1 2], shape=(3,), dtype=int32)\n",
      "<class 'tensorflow.python.framework.ops.EagerTensor'>\n"
     ]
    }
   ],
   "source": [
    "# dataset.batch(batch_size): 한번에 제공하는 데이터의 개수\n",
    "dataset5 = dataset.batch(3)\n",
    "print(type(dataset5))   # BatchDataset\n",
    "for data in dataset5:\n",
    "    print(data)\n",
    "    print(type(data))  # EagerTensor\n",
    "    break"
   ]
  },
  {
   "cell_type": "code",
   "execution_count": 10,
   "metadata": {},
   "outputs": [
    {
     "name": "stdout",
     "output_type": "stream",
     "text": [
      "tf.Tensor([6 9 8], shape=(3,), dtype=int32)\n",
      "tf.Tensor([7 0 5], shape=(3,), dtype=int32)\n",
      "tf.Tensor([3 2 4], shape=(3,), dtype=int32)\n",
      "tf.Tensor([1], shape=(1,), dtype=int32)\n"
     ]
    }
   ],
   "source": [
    "d = dataset.shuffle(10).batch(3)\n",
    "for data in d:\n",
    "    print(data)"
   ]
  },
  {
   "cell_type": "code",
   "execution_count": 11,
   "metadata": {},
   "outputs": [
    {
     "name": "stdout",
     "output_type": "stream",
     "text": [
      "<class 'tensorflow.python.data.ops.dataset_ops.RepeatDataset'>\n",
      "tf.Tensor(0, shape=(), dtype=int32)\n",
      "tf.Tensor(1, shape=(), dtype=int32)\n",
      "tf.Tensor(2, shape=(), dtype=int32)\n",
      "tf.Tensor(3, shape=(), dtype=int32)\n",
      "tf.Tensor(4, shape=(), dtype=int32)\n",
      "tf.Tensor(5, shape=(), dtype=int32)\n",
      "tf.Tensor(6, shape=(), dtype=int32)\n",
      "tf.Tensor(7, shape=(), dtype=int32)\n",
      "tf.Tensor(8, shape=(), dtype=int32)\n",
      "tf.Tensor(9, shape=(), dtype=int32)\n",
      "tf.Tensor(0, shape=(), dtype=int32)\n",
      "tf.Tensor(1, shape=(), dtype=int32)\n",
      "tf.Tensor(2, shape=(), dtype=int32)\n",
      "tf.Tensor(3, shape=(), dtype=int32)\n",
      "tf.Tensor(4, shape=(), dtype=int32)\n",
      "tf.Tensor(5, shape=(), dtype=int32)\n",
      "tf.Tensor(6, shape=(), dtype=int32)\n",
      "tf.Tensor(7, shape=(), dtype=int32)\n",
      "tf.Tensor(8, shape=(), dtype=int32)\n",
      "tf.Tensor(9, shape=(), dtype=int32)\n",
      "tf.Tensor(0, shape=(), dtype=int32)\n",
      "tf.Tensor(1, shape=(), dtype=int32)\n",
      "tf.Tensor(2, shape=(), dtype=int32)\n",
      "tf.Tensor(3, shape=(), dtype=int32)\n",
      "tf.Tensor(4, shape=(), dtype=int32)\n",
      "tf.Tensor(5, shape=(), dtype=int32)\n",
      "tf.Tensor(6, shape=(), dtype=int32)\n",
      "tf.Tensor(7, shape=(), dtype=int32)\n",
      "tf.Tensor(8, shape=(), dtype=int32)\n",
      "tf.Tensor(9, shape=(), dtype=int32)\n"
     ]
    }
   ],
   "source": [
    "# dataset.repeat(count): 전체 데이터셋을 count만큼 반복해서 제공, count 생략하면 무한제공\n",
    "dataset7 = dataset.repeat(3)\n",
    "print(type(dataset7))   # RepeatDataset\n",
    "for data in dataset7:\n",
    "    print(data)"
   ]
  },
  {
   "cell_type": "code",
   "execution_count": 12,
   "metadata": {},
   "outputs": [
    {
     "name": "stdout",
     "output_type": "stream",
     "text": [
      "tf.Tensor([2 0 6 7 9], shape=(5,), dtype=int32)\n",
      "tf.Tensor([4 5 8 3 1], shape=(5,), dtype=int32)\n",
      "tf.Tensor([1 5 9 0 3], shape=(5,), dtype=int32)\n",
      "tf.Tensor([6 4 2 8 7], shape=(5,), dtype=int32)\n",
      "tf.Tensor([8 6 9 2 4], shape=(5,), dtype=int32)\n",
      "tf.Tensor([5 1 0 7 3], shape=(5,), dtype=int32)\n"
     ]
    }
   ],
   "source": [
    "dataset8 = dataset.shuffle(10).batch(5).repeat(3)\n",
    "for data in dataset8:\n",
    "    print(data)"
   ]
  },
  {
   "cell_type": "code",
   "execution_count": 13,
   "metadata": {},
   "outputs": [
    {
     "name": "stdout",
     "output_type": "stream",
     "text": [
      "<class 'tensorflow.python.data.ops.dataset_ops.MapDataset'>\n",
      "tf.Tensor(0, shape=(), dtype=int32)\n",
      "tf.Tensor(1, shape=(), dtype=int32)\n",
      "tf.Tensor(4, shape=(), dtype=int32)\n",
      "tf.Tensor(9, shape=(), dtype=int32)\n",
      "tf.Tensor(16, shape=(), dtype=int32)\n",
      "tf.Tensor(25, shape=(), dtype=int32)\n",
      "tf.Tensor(36, shape=(), dtype=int32)\n",
      "tf.Tensor(49, shape=(), dtype=int32)\n",
      "tf.Tensor(64, shape=(), dtype=int32)\n",
      "tf.Tensor(81, shape=(), dtype=int32)\n"
     ]
    }
   ],
   "source": [
    "# dataset.map(함수): 원소의 값을 함수로 변환해서 제공. 매개변수: dataset이 제공하는 값을 받는 변수, 반환값: dataset이 제공하는 값\n",
    "# 값들을 제곱해서 반환\n",
    "# mapping함수 - 입력 데이터(argument)와 출력 데이터(return)의 데이터 타입이 동일해야 한다\n",
    "def mapping_func(x):\n",
    "    return x**2\n",
    "\n",
    "dataset9 = dataset.map(mapping_func)\n",
    "print(type(dataset9))\n",
    "\n",
    "for data in dataset9:\n",
    "    print(data)"
   ]
  },
  {
   "cell_type": "code",
   "execution_count": 15,
   "metadata": {},
   "outputs": [
    {
     "name": "stdout",
     "output_type": "stream",
     "text": [
      "(<tf.Tensor: shape=(), dtype=int32, numpy=0>, <tf.Tensor: shape=(), dtype=int32, numpy=10>)\n",
      "(<tf.Tensor: shape=(), dtype=int32, numpy=1>, <tf.Tensor: shape=(), dtype=int32, numpy=11>)\n",
      "(<tf.Tensor: shape=(), dtype=int32, numpy=8>, <tf.Tensor: shape=(), dtype=int32, numpy=12>)\n",
      "(<tf.Tensor: shape=(), dtype=int32, numpy=27>, <tf.Tensor: shape=(), dtype=int32, numpy=13>)\n",
      "(<tf.Tensor: shape=(), dtype=int32, numpy=64>, <tf.Tensor: shape=(), dtype=int32, numpy=14>)\n",
      "(<tf.Tensor: shape=(), dtype=int32, numpy=125>, <tf.Tensor: shape=(), dtype=int32, numpy=15>)\n",
      "(<tf.Tensor: shape=(), dtype=int32, numpy=216>, <tf.Tensor: shape=(), dtype=int32, numpy=16>)\n",
      "(<tf.Tensor: shape=(), dtype=int32, numpy=343>, <tf.Tensor: shape=(), dtype=int32, numpy=17>)\n",
      "(<tf.Tensor: shape=(), dtype=int32, numpy=512>, <tf.Tensor: shape=(), dtype=int32, numpy=18>)\n",
      "(<tf.Tensor: shape=(), dtype=int32, numpy=729>, <tf.Tensor: shape=(), dtype=int32, numpy=19>)\n"
     ]
    }
   ],
   "source": [
    "def mapping_func2(x, y):   # x = raw data, y = raw data2\n",
    "    return x**3, y # y 처리하지 않더라도 무조건 반환\n",
    "\n",
    "dataset10 = dataset2.map(mapping_func2)\n",
    "\n",
    "for data in dataset10:\n",
    "    print(data)"
   ]
  },
  {
   "cell_type": "code",
   "execution_count": 16,
   "metadata": {},
   "outputs": [
    {
     "data": {
      "text/plain": [
       "20"
      ]
     },
     "execution_count": 16,
     "metadata": {},
     "output_type": "execute_result"
    }
   ],
   "source": [
    "# 람다(표현)식: 함수를 연삭 식으로 정의. lambda 매개변수들: 반환값\n",
    "test2 = lambda x: x + 10\n",
    "test2(10)"
   ]
  },
  {
   "cell_type": "code",
   "execution_count": 18,
   "metadata": {},
   "outputs": [
    {
     "data": {
      "text/plain": [
       "(20, 20)"
      ]
     },
     "execution_count": 18,
     "metadata": {},
     "output_type": "execute_result"
    }
   ],
   "source": [
    "test3 = lambda x, y: (x+10, y*2)\n",
    "test3(10, 10)"
   ]
  },
  {
   "cell_type": "code",
   "execution_count": 19,
   "metadata": {},
   "outputs": [
    {
     "name": "stdout",
     "output_type": "stream",
     "text": [
      "tf.Tensor(0, shape=(), dtype=int32)\n",
      "tf.Tensor(1, shape=(), dtype=int32)\n",
      "tf.Tensor(4, shape=(), dtype=int32)\n",
      "tf.Tensor(9, shape=(), dtype=int32)\n",
      "tf.Tensor(16, shape=(), dtype=int32)\n",
      "tf.Tensor(25, shape=(), dtype=int32)\n",
      "tf.Tensor(36, shape=(), dtype=int32)\n",
      "tf.Tensor(49, shape=(), dtype=int32)\n",
      "tf.Tensor(64, shape=(), dtype=int32)\n",
      "tf.Tensor(81, shape=(), dtype=int32)\n"
     ]
    }
   ],
   "source": [
    "dataset11 = dataset.map(lambda x: x**2)\n",
    "for d in dataset11:\n",
    "    print(d)"
   ]
  },
  {
   "cell_type": "code",
   "execution_count": 20,
   "metadata": {},
   "outputs": [
    {
     "name": "stdout",
     "output_type": "stream",
     "text": [
      "(<tf.Tensor: shape=(), dtype=int32, numpy=0>, <tf.Tensor: shape=(), dtype=int32, numpy=100>)\n",
      "(<tf.Tensor: shape=(), dtype=int32, numpy=1>, <tf.Tensor: shape=(), dtype=int32, numpy=121>)\n",
      "(<tf.Tensor: shape=(), dtype=int32, numpy=8>, <tf.Tensor: shape=(), dtype=int32, numpy=144>)\n",
      "(<tf.Tensor: shape=(), dtype=int32, numpy=27>, <tf.Tensor: shape=(), dtype=int32, numpy=169>)\n",
      "(<tf.Tensor: shape=(), dtype=int32, numpy=64>, <tf.Tensor: shape=(), dtype=int32, numpy=196>)\n",
      "(<tf.Tensor: shape=(), dtype=int32, numpy=125>, <tf.Tensor: shape=(), dtype=int32, numpy=225>)\n",
      "(<tf.Tensor: shape=(), dtype=int32, numpy=216>, <tf.Tensor: shape=(), dtype=int32, numpy=256>)\n",
      "(<tf.Tensor: shape=(), dtype=int32, numpy=343>, <tf.Tensor: shape=(), dtype=int32, numpy=289>)\n",
      "(<tf.Tensor: shape=(), dtype=int32, numpy=512>, <tf.Tensor: shape=(), dtype=int32, numpy=324>)\n",
      "(<tf.Tensor: shape=(), dtype=int32, numpy=729>, <tf.Tensor: shape=(), dtype=int32, numpy=361>)\n"
     ]
    }
   ],
   "source": [
    "dataset12 = dataset2.map(lambda x, y: (x**3, y**2))\n",
    "for d in dataset12:\n",
    "    print(d)"
   ]
  },
  {
   "cell_type": "code",
   "execution_count": 22,
   "metadata": {},
   "outputs": [
    {
     "name": "stdout",
     "output_type": "stream",
     "text": [
      "<class 'tensorflow.python.data.ops.dataset_ops.FilterDataset'>\n",
      "tf.Tensor(0, shape=(), dtype=int32)\n",
      "tf.Tensor(2, shape=(), dtype=int32)\n",
      "tf.Tensor(4, shape=(), dtype=int32)\n",
      "tf.Tensor(6, shape=(), dtype=int32)\n",
      "tf.Tensor(8, shape=(), dtype=int32)\n"
     ]
    }
   ],
   "source": [
    "# dataset.filter(함수): 원소들 중에서 특정 조건이 true인 값들만 제공\n",
    "# 함수- 매개변수: dataset이 제공하는 값을 받을 변수 (dataset의 배열개수만큼 지정), 반환값은 불리언\n",
    "# 원소들 중에서 2의 배수만 제공하는 dataset\n",
    "def filter_func(x):\n",
    "    return x%2 == 0    # x가 2의 배수인 경우 True 반환\n",
    "\n",
    "dataset13 = dataset.filter(filter_func)\n",
    "print(type(dataset13))\n",
    "for d in dataset13:\n",
    "    print(d)"
   ]
  },
  {
   "cell_type": "code",
   "execution_count": 23,
   "metadata": {},
   "outputs": [
    {
     "name": "stdout",
     "output_type": "stream",
     "text": [
      "tf.Tensor(6, shape=(), dtype=int32)\n",
      "tf.Tensor(7, shape=(), dtype=int32)\n",
      "tf.Tensor(8, shape=(), dtype=int32)\n",
      "tf.Tensor(9, shape=(), dtype=int32)\n"
     ]
    }
   ],
   "source": [
    "dataset14 = dataset.filter(lambda x : x > 5)\n",
    "for d in dataset14:\n",
    "    print(d)"
   ]
  },
  {
   "cell_type": "code",
   "execution_count": 25,
   "metadata": {
    "scrolled": true
   },
   "outputs": [
    {
     "name": "stdout",
     "output_type": "stream",
     "text": [
      "WARNING:tensorflow:AutoGraph could not transform <function <lambda> at 0x0000015A36F18940> and will run it as-is.\n",
      "Cause: could not parse the source code of <function <lambda> at 0x0000015A36F18940>: found multiple definitions with identical signatures at the location. This error may be avoided by defining each lambda on a single line and with unique argument names.\n",
      "Match 0:\n",
      "(lambda x: (x + 10))\n",
      "\n",
      "Match 1:\n",
      "(lambda x: (x >= 0))\n",
      "\n",
      "To silence this warning, decorate the function with @tf.autograph.experimental.do_not_convert\n",
      "WARNING: AutoGraph could not transform <function <lambda> at 0x0000015A36F18940> and will run it as-is.\n",
      "Cause: could not parse the source code of <function <lambda> at 0x0000015A36F18940>: found multiple definitions with identical signatures at the location. This error may be avoided by defining each lambda on a single line and with unique argument names.\n",
      "Match 0:\n",
      "(lambda x: (x + 10))\n",
      "\n",
      "Match 1:\n",
      "(lambda x: (x >= 0))\n",
      "\n",
      "To silence this warning, decorate the function with @tf.autograph.experimental.do_not_convert\n",
      "WARNING:tensorflow:AutoGraph could not transform <function <lambda> at 0x0000015A36F185E0> and will run it as-is.\n",
      "Cause: could not parse the source code of <function <lambda> at 0x0000015A36F185E0>: found multiple definitions with identical signatures at the location. This error may be avoided by defining each lambda on a single line and with unique argument names.\n",
      "Match 0:\n",
      "(lambda x: (x + 10))\n",
      "\n",
      "Match 1:\n",
      "(lambda x: (x >= 0))\n",
      "\n",
      "To silence this warning, decorate the function with @tf.autograph.experimental.do_not_convert\n",
      "WARNING: AutoGraph could not transform <function <lambda> at 0x0000015A36F185E0> and will run it as-is.\n",
      "Cause: could not parse the source code of <function <lambda> at 0x0000015A36F185E0>: found multiple definitions with identical signatures at the location. This error may be avoided by defining each lambda on a single line and with unique argument names.\n",
      "Match 0:\n",
      "(lambda x: (x + 10))\n",
      "\n",
      "Match 1:\n",
      "(lambda x: (x >= 0))\n",
      "\n",
      "To silence this warning, decorate the function with @tf.autograph.experimental.do_not_convert\n",
      "tf.Tensor([10 13 17], shape=(3,), dtype=int32)\n",
      "tf.Tensor([19 16 14], shape=(3,), dtype=int32)\n",
      "tf.Tensor([12 18 11], shape=(3,), dtype=int32)\n",
      "tf.Tensor([15 20], shape=(2,), dtype=int32)\n"
     ]
    }
   ],
   "source": [
    "raw_data = np.arange(-10,11)\n",
    "dataset_final = tf.data.Dataset.from_tensor_slices(raw_data).filter(lambda x:x>=0).map(lambda x:x+10).shuffle(raw_data.size).batch(3)\n",
    "for d in dataset_final:\n",
    "    print(d)"
   ]
  },
  {
   "cell_type": "code",
   "execution_count": null,
   "metadata": {},
   "outputs": [],
   "source": []
  },
  {
   "cell_type": "code",
   "execution_count": null,
   "metadata": {},
   "outputs": [],
   "source": []
  },
  {
   "cell_type": "markdown",
   "metadata": {},
   "source": [
    "# 1. 회귀 - Boston Housing Dataset\n",
    "보스턴 주택가격 dataset은 다음과 같은 속성을 바탕으로 해당 타운 주택 가격의 중앙값을 예측하는 문제.\n",
    "- CRIM: 범죄율\n",
    "- ZN: 25,000 평방피트당 주거지역 비율\n",
    "- INDUS: 비소매 상업지구 비율\n",
    "- CHAS: 찰스강에 인접해 있는지 여부(인접:1, 아니면:0)\n",
    "- NOX: 일산화질소 농도(단위: 0.1ppm)\n",
    "- RM: 주택당 방의 수\n",
    "- AGE: 1940년 이전에 건설된 주택의 비율\n",
    "- DIS: 5개의 보스턴 직업고용센터와의 거리(가중 평균)\n",
    "- RAD: 고속도로 접근성\n",
    "- TAX: 재산세율\n",
    "- PTRATIO: 학생/교사 비율\n",
    "- B: 흑인 비율\n",
    "- LSTAT: 하위 계층 비율\n",
    "\n",
    "예측해야하는 것\n",
    "- MEDV: 타운의 주택가격 중앙값(단위: 1,000달러)"
   ]
  },
  {
   "cell_type": "code",
   "execution_count": 26,
   "metadata": {},
   "outputs": [],
   "source": [
    "import numpy as np\n",
    "\n",
    "import tensorflow as tf\n",
    "from tensorflow import keras\n",
    "\n",
    "from tensorflow.keras import layers, models   # layers: Deeplearning 모델의 Layer를 정의하는 클래스들을 가진 모듈"
   ]
  },
  {
   "cell_type": "code",
   "execution_count": null,
   "metadata": {},
   "outputs": [],
   "source": [
    "# 랜덤값들의 seed값 지정\n",
    "np.random.seed(0)\n",
    "tf.random_set_seed(0)"
   ]
  },
  {
   "cell_type": "code",
   "execution_count": 27,
   "metadata": {},
   "outputs": [
    {
     "name": "stdout",
     "output_type": "stream",
     "text": [
      "Downloading data from https://storage.googleapis.com/tensorflow/tf-keras-datasets/boston_housing.npz\n",
      "57344/57026 [==============================] - 0s 0us/step\n"
     ]
    },
    {
     "data": {
      "text/plain": [
       "((404, 13), (404,), (102, 13), (102,))"
      ]
     },
     "execution_count": 27,
     "metadata": {},
     "output_type": "execute_result"
    }
   ],
   "source": [
    "# 데이터를 로딩\n",
    "(train_X, train_y), (test_X, test_y) = keras.datasets.boston_housing.load_data()\n",
    "train_X.shape, train_y.shape, test_X.shape, test_y.shape"
   ]
  },
  {
   "cell_type": "code",
   "execution_count": 28,
   "metadata": {},
   "outputs": [
    {
     "data": {
      "text/plain": [
       "array([[1.23247e+00, 0.00000e+00, 8.14000e+00, 0.00000e+00, 5.38000e-01,\n",
       "        6.14200e+00, 9.17000e+01, 3.97690e+00, 4.00000e+00, 3.07000e+02,\n",
       "        2.10000e+01, 3.96900e+02, 1.87200e+01],\n",
       "       [2.17700e-02, 8.25000e+01, 2.03000e+00, 0.00000e+00, 4.15000e-01,\n",
       "        7.61000e+00, 1.57000e+01, 6.27000e+00, 2.00000e+00, 3.48000e+02,\n",
       "        1.47000e+01, 3.95380e+02, 3.11000e+00],\n",
       "       [4.89822e+00, 0.00000e+00, 1.81000e+01, 0.00000e+00, 6.31000e-01,\n",
       "        4.97000e+00, 1.00000e+02, 1.33250e+00, 2.40000e+01, 6.66000e+02,\n",
       "        2.02000e+01, 3.75520e+02, 3.26000e+00]])"
      ]
     },
     "execution_count": 28,
     "metadata": {},
     "output_type": "execute_result"
    }
   ],
   "source": [
    "train_X[:3]"
   ]
  },
  {
   "cell_type": "code",
   "execution_count": 29,
   "metadata": {},
   "outputs": [
    {
     "data": {
      "text/plain": [
       "array([15.2, 42.3, 50. ])"
      ]
     },
     "execution_count": 29,
     "metadata": {},
     "output_type": "execute_result"
    }
   ],
   "source": [
    "train_y[:3]"
   ]
  },
  {
   "cell_type": "markdown",
   "metadata": {},
   "source": [
    "### 하이퍼 파라미터, 변수 정의"
   ]
  },
  {
   "cell_type": "code",
   "execution_count": 32,
   "metadata": {},
   "outputs": [],
   "source": [
    "# 하이퍼파라미터\n",
    "LEARNING_RATE = 0.001    # 학습률\n",
    "N_EPOCHS = 200   # epoch 수 (fit 할 때 데이터를 몇 번 넣을지) 에폭 너무 많으면 과대적합 너무 적으면 과소적합\n",
    "N_BATCHS = 32   # 배치 사이즈 - 파라미터를 몇 개의 데이터마다 업데이트할지 설정. 얘도 성능과 연관 있음\n",
    "\n",
    "# 변수\n",
    "N_TRAIN = train_X.shape[0]  # train 데이터셋의 데이터 개수\n",
    "N_TEST = test_X.shape[0]    # test 데이터셋의 데이터 개수"
   ]
  },
  {
   "cell_type": "markdown",
   "metadata": {},
   "source": [
    "### X, y 전처리, tf.Dataset 생성"
   ]
  },
  {
   "cell_type": "code",
   "execution_count": 30,
   "metadata": {},
   "outputs": [],
   "source": [
    "# X 전처리 - scaling\n",
    "from sklearn.preprocessing import StandardScaler\n",
    "\n",
    "scaler = StandardScaler()\n",
    "X_train = scaler.fit_transform(train_X)\n",
    "X_test = scaler.transform(test_X)"
   ]
  },
  {
   "cell_type": "code",
   "execution_count": 33,
   "metadata": {},
   "outputs": [],
   "source": [
    "# Dataset 구현\n",
    "# drop_remainder=True: 배치 사이즈보다 덜한 나머지는 버려라(제공하지 말아라) - 학습 효율을 위함\n",
    "train_dataset = tf.data.Dataset.from_tensor_slices((X_train, train_y)).shuffle(N_TRAIN).batch(N_BATCHS, drop_remainder=True)\n",
    "\n",
    "# batch size로 교차 검증하는 역할. 테스트 한 번만 하려면 batch size를 N_TEST로 주면 됨\n",
    "test_dataset = tf.data.Dataset.from_tensor_slices((X_test, test_y)).batch(N_BATCHS)"
   ]
  },
  {
   "cell_type": "markdown",
   "metadata": {},
   "source": [
    "### 모델 구현"
   ]
  },
  {
   "cell_type": "code",
   "execution_count": 34,
   "metadata": {},
   "outputs": [],
   "source": [
    "# 모델(네트워크)을 정의하는 함수\n",
    "def create_housing_model():\n",
    "    # 모델 생성\n",
    "    model = keras.Sequential()\n",
    "#     model = models.Sequential()\n",
    "\n",
    "    # 모델에 layer 추가\n",
    "#     model.add(layers.InputLayer((13,)))   # InputLayer((한 개 데이터의 shape))\n",
    "#     model.add(layers.Dense(units=32, activation='relu'))   # Dense layer엔 1차원 배열만 들어가야 함\n",
    "# Dense layer - 유닛 개수 2배수를 사용, 큰 값에서 작은 값으로 줄여나간다\n",
    "    model.add(layers.Dense(units=32, activation='relu', input_shape=(13,)))   # 첫 번째 hidden layer에 input_shape 지정 가능\n",
    "    model.add(layers.Dense(units=16, activation='relu'))\n",
    "    model.add(layers.Dense(units=8, activation='relu'))\n",
    "    # 출력 레이어: 회귀 - units=1로 지정(값 하나를 예측하기 때문), 활성함수는 주지 않음\n",
    "    model.add(layers.Dense(units=1))\n",
    "    \n",
    "    return model"
   ]
  },
  {
   "cell_type": "code",
   "execution_count": 35,
   "metadata": {},
   "outputs": [
    {
     "name": "stdout",
     "output_type": "stream",
     "text": [
      "<tensorflow.python.keras.engine.sequential.Sequential object at 0x0000015A37FDB2B0>\n"
     ]
    }
   ],
   "source": [
    "model = create_housing_model()\n",
    "print(model)"
   ]
  },
  {
   "cell_type": "code",
   "execution_count": 36,
   "metadata": {},
   "outputs": [
    {
     "name": "stdout",
     "output_type": "stream",
     "text": [
      "Model: \"sequential\"\n",
      "_________________________________________________________________\n",
      "Layer (type)                 Output Shape              Param #   \n",
      "=================================================================\n",
      "dense (Dense)                (None, 32)                448       \n",
      "_________________________________________________________________\n",
      "dense_1 (Dense)              (None, 16)                528       \n",
      "_________________________________________________________________\n",
      "dense_2 (Dense)              (None, 8)                 136       \n",
      "_________________________________________________________________\n",
      "dense_3 (Dense)              (None, 1)                 9         \n",
      "=================================================================\n",
      "Total params: 1,121\n",
      "Trainable params: 1,121\n",
      "Non-trainable params: 0\n",
      "_________________________________________________________________\n"
     ]
    }
   ],
   "source": [
    "# 생성된 네트워크의 구조(summary) 확인\n",
    "model.summary()"
   ]
  },
  {
   "cell_type": "code",
   "execution_count": 38,
   "metadata": {},
   "outputs": [
    {
     "data": {
      "image/png": "[encoded data removed]",
      "text/plain": [
       "<IPython.core.display.Image object>"
      ]
     },
     "execution_count": 38,
     "metadata": {},
     "output_type": "execute_result"
    }
   ],
   "source": [
    "# 모델구조를 그래프로 확인 - 이미지로도 저장해줌 (파일 경로 설정 - to_file='파일경로/파일이름.png')\n",
    "# graphviz가 설치돼있어야 함\n",
    "keras.utils.plot_model(model, show_shapes=True)"
   ]
  },
  {
   "cell_type": "markdown",
   "metadata": {},
   "source": [
    "### 컴파일\n",
    "- 모델의 학습에 필요한 설정을 해주는 작업\n",
    "    - loss\n",
    "    - optimizer\n",
    "    - metrics"
   ]
  },
  {
   "cell_type": "code",
   "execution_count": 39,
   "metadata": {},
   "outputs": [],
   "source": [
    "# 회귀 - loss=mean squared error (실제 오차는 loss의 루트값)\n",
    "# optimizer를 문자열로 지정하면 기본 설정을 사용하는 것. 바꾸고 싶으면 새로 객체를 지정해야 함. keras 의 optimizers라는 모듈 사용\n",
    "model.compile(loss='mse',\n",
    "              optimizer=keras.optimizers.Adam(learning_rate=LEARNING_RATE))"
   ]
  },
  {
   "cell_type": "markdown",
   "metadata": {},
   "source": [
    "### 학습"
   ]
  },
  {
   "cell_type": "code",
   "execution_count": 40,
   "metadata": {
    "scrolled": true
   },
   "outputs": [
    {
     "name": "stdout",
     "output_type": "stream",
     "text": [
      "Epoch 1/200\n",
      "12/12 [==============================] - 1s 20ms/step - loss: 566.8710 - val_loss: 573.4713\n",
      "Epoch 2/200\n",
      "12/12 [==============================] - 0s 4ms/step - loss: 542.2578 - val_loss: 539.7643\n",
      "Epoch 3/200\n",
      "12/12 [==============================] - 0s 4ms/step - loss: 493.8918 - val_loss: 498.9781\n",
      "Epoch 4/200\n",
      "12/12 [==============================] - 0s 5ms/step - loss: 444.8675 - val_loss: 448.1276\n",
      "Epoch 5/200\n",
      "12/12 [==============================] - 0s 5ms/step - loss: 389.3424 - val_loss: 385.9295\n",
      "Epoch 6/200\n",
      "12/12 [==============================] - 0s 4ms/step - loss: 339.8472 - val_loss: 314.1748\n",
      "Epoch 7/200\n",
      "12/12 [==============================] - ETA: 0s - loss: 494.489 - 0s 4ms/step - loss: 270.8695 - val_loss: 240.9238\n",
      "Epoch 8/200\n",
      "12/12 [==============================] - 0s 5ms/step - loss: 194.0843 - val_loss: 178.4462\n",
      "Epoch 9/200\n",
      "12/12 [==============================] - 0s 4ms/step - loss: 142.7982 - val_loss: 131.4411\n",
      "Epoch 10/200\n",
      "12/12 [==============================] - 0s 4ms/step - loss: 102.4950 - val_loss: 100.9443\n",
      "Epoch 11/200\n",
      "12/12 [==============================] - 0s 5ms/step - loss: 83.2529 - val_loss: 80.4843\n",
      "Epoch 12/200\n",
      "12/12 [==============================] - 0s 5ms/step - loss: 64.9970 - val_loss: 65.5936\n",
      "Epoch 13/200\n",
      "12/12 [==============================] - 0s 5ms/step - loss: 47.8092 - val_loss: 54.8056\n",
      "Epoch 14/200\n",
      "12/12 [==============================] - 0s 4ms/step - loss: 42.9945 - val_loss: 47.1463\n",
      "Epoch 15/200\n",
      "12/12 [==============================] - 0s 5ms/step - loss: 36.2492 - val_loss: 41.2631\n",
      "Epoch 16/200\n",
      "12/12 [==============================] - 0s 5ms/step - loss: 31.3875 - val_loss: 37.2485\n",
      "Epoch 17/200\n",
      "12/12 [==============================] - 0s 5ms/step - loss: 27.7321 - val_loss: 34.2851\n",
      "Epoch 18/200\n",
      "12/12 [==============================] - 0s 4ms/step - loss: 24.5939 - val_loss: 31.8034\n",
      "Epoch 19/200\n",
      "12/12 [==============================] - 0s 5ms/step - loss: 23.6958 - val_loss: 29.9123\n",
      "Epoch 20/200\n",
      "12/12 [==============================] - 0s 5ms/step - loss: 22.3289 - val_loss: 28.6453\n",
      "Epoch 21/200\n",
      "12/12 [==============================] - 0s 4ms/step - loss: 21.1796 - val_loss: 27.6034\n",
      "Epoch 22/200\n",
      "12/12 [==============================] - 0s 5ms/step - loss: 19.9126 - val_loss: 26.6847\n",
      "Epoch 23/200\n",
      "12/12 [==============================] - 0s 5ms/step - loss: 19.5648 - val_loss: 26.3280\n",
      "Epoch 24/200\n",
      "12/12 [==============================] - 0s 5ms/step - loss: 18.1264 - val_loss: 25.6826\n",
      "Epoch 25/200\n",
      "12/12 [==============================] - 0s 5ms/step - loss: 18.3540 - val_loss: 25.1505\n",
      "Epoch 26/200\n",
      "12/12 [==============================] - 0s 5ms/step - loss: 17.3725 - val_loss: 25.1281\n",
      "Epoch 27/200\n",
      "12/12 [==============================] - 0s 5ms/step - loss: 16.2942 - val_loss: 24.8655\n",
      "Epoch 28/200\n",
      "12/12 [==============================] - 0s 4ms/step - loss: 16.7114 - val_loss: 24.6081\n",
      "Epoch 29/200\n",
      "12/12 [==============================] - 0s 5ms/step - loss: 15.8992 - val_loss: 24.2218\n",
      "Epoch 30/200\n",
      "12/12 [==============================] - 0s 4ms/step - loss: 15.4494 - val_loss: 24.0644\n",
      "Epoch 31/200\n",
      "12/12 [==============================] - 0s 5ms/step - loss: 14.1212 - val_loss: 23.7520\n",
      "Epoch 32/200\n",
      "12/12 [==============================] - 0s 6ms/step - loss: 14.6351 - val_loss: 23.1605\n",
      "Epoch 33/200\n",
      "12/12 [==============================] - 0s 5ms/step - loss: 14.5834 - val_loss: 23.2195\n",
      "Epoch 34/200\n",
      "12/12 [==============================] - 0s 5ms/step - loss: 13.9833 - val_loss: 23.5164\n",
      "Epoch 35/200\n",
      "12/12 [==============================] - 0s 8ms/step - loss: 14.1774 - val_loss: 23.4172\n",
      "Epoch 36/200\n",
      "12/12 [==============================] - 0s 6ms/step - loss: 14.1150 - val_loss: 23.5744\n",
      "Epoch 37/200\n",
      "12/12 [==============================] - 0s 5ms/step - loss: 13.8985 - val_loss: 23.2354\n",
      "Epoch 38/200\n",
      "12/12 [==============================] - 0s 5ms/step - loss: 13.4281 - val_loss: 23.4114\n",
      "Epoch 39/200\n",
      "12/12 [==============================] - 0s 4ms/step - loss: 12.8577 - val_loss: 23.0549\n",
      "Epoch 40/200\n",
      "12/12 [==============================] - 0s 4ms/step - loss: 12.0959 - val_loss: 23.3029\n",
      "Epoch 41/200\n",
      "12/12 [==============================] - 0s 6ms/step - loss: 12.6808 - val_loss: 23.0776\n",
      "Epoch 42/200\n",
      "12/12 [==============================] - 0s 7ms/step - loss: 12.3869 - val_loss: 23.0285\n",
      "Epoch 43/200\n",
      "12/12 [==============================] - 0s 9ms/step - loss: 12.4748 - val_loss: 23.3150\n",
      "Epoch 44/200\n",
      "12/12 [==============================] - 0s 6ms/step - loss: 11.9694 - val_loss: 23.0921\n",
      "Epoch 45/200\n",
      "12/12 [==============================] - 0s 6ms/step - loss: 11.6228 - val_loss: 23.2950\n",
      "Epoch 46/200\n",
      "12/12 [==============================] - 0s 5ms/step - loss: 11.6882 - val_loss: 23.4950\n",
      "Epoch 47/200\n",
      "12/12 [==============================] - ETA: 0s - loss: 9.253 - 0s 7ms/step - loss: 11.7094 - val_loss: 23.6195\n",
      "Epoch 48/200\n",
      "12/12 [==============================] - 0s 8ms/step - loss: 11.2357 - val_loss: 23.3541\n",
      "Epoch 49/200\n",
      "12/12 [==============================] - 0s 5ms/step - loss: 11.5955 - val_loss: 23.6243\n",
      "Epoch 50/200\n",
      "12/12 [==============================] - 0s 5ms/step - loss: 11.1176 - val_loss: 23.5785\n",
      "Epoch 51/200\n",
      "12/12 [==============================] - 0s 6ms/step - loss: 10.5047 - val_loss: 23.4279\n",
      "Epoch 52/200\n",
      "12/12 [==============================] - 0s 7ms/step - loss: 10.9149 - val_loss: 23.2931\n",
      "Epoch 53/200\n",
      "12/12 [==============================] - 0s 7ms/step - loss: 10.3961 - val_loss: 22.9946\n",
      "Epoch 54/200\n",
      "12/12 [==============================] - 0s 6ms/step - loss: 10.9195 - val_loss: 22.9399\n",
      "Epoch 55/200\n",
      "12/12 [==============================] - 0s 5ms/step - loss: 10.7032 - val_loss: 23.1984\n",
      "Epoch 56/200\n",
      "12/12 [==============================] - 0s 5ms/step - loss: 10.6027 - val_loss: 23.2119\n",
      "Epoch 57/200\n",
      "12/12 [==============================] - 0s 6ms/step - loss: 9.1900 - val_loss: 22.8336\n",
      "Epoch 58/200\n",
      "12/12 [==============================] - 0s 5ms/step - loss: 9.4056 - val_loss: 23.2632\n",
      "Epoch 59/200\n",
      "12/12 [==============================] - 0s 4ms/step - loss: 10.4717 - val_loss: 23.0444\n",
      "Epoch 60/200\n",
      "12/12 [==============================] - 0s 4ms/step - loss: 10.4440 - val_loss: 23.2685\n",
      "Epoch 61/200\n",
      "12/12 [==============================] - 0s 6ms/step - loss: 10.2881 - val_loss: 23.5352\n",
      "Epoch 62/200\n",
      "12/12 [==============================] - 0s 4ms/step - loss: 9.9702 - val_loss: 23.2288\n",
      "Epoch 63/200\n",
      "12/12 [==============================] - 0s 5ms/step - loss: 10.1635 - val_loss: 22.9574\n",
      "Epoch 64/200\n",
      "12/12 [==============================] - 0s 5ms/step - loss: 10.1729 - val_loss: 23.4745\n",
      "Epoch 65/200\n",
      "12/12 [==============================] - 0s 5ms/step - loss: 10.1522 - val_loss: 23.0985\n",
      "Epoch 66/200\n",
      "12/12 [==============================] - 0s 4ms/step - loss: 10.0313 - val_loss: 23.3017\n",
      "Epoch 67/200\n",
      "12/12 [==============================] - 0s 4ms/step - loss: 9.7069 - val_loss: 23.1568\n",
      "Epoch 68/200\n",
      "12/12 [==============================] - 0s 4ms/step - loss: 9.7201 - val_loss: 23.4819\n",
      "Epoch 69/200\n",
      "12/12 [==============================] - 0s 4ms/step - loss: 9.3856 - val_loss: 23.5884\n",
      "Epoch 70/200\n",
      "12/12 [==============================] - 0s 4ms/step - loss: 9.8616 - val_loss: 23.9828\n",
      "Epoch 71/200\n",
      "12/12 [==============================] - 0s 4ms/step - loss: 9.5941 - val_loss: 23.9228\n",
      "Epoch 72/200\n",
      "12/12 [==============================] - 0s 5ms/step - loss: 9.3673 - val_loss: 24.1158\n",
      "Epoch 73/200\n",
      "12/12 [==============================] - 0s 5ms/step - loss: 8.6359 - val_loss: 22.9019\n",
      "Epoch 74/200\n",
      "12/12 [==============================] - 0s 4ms/step - loss: 9.6258 - val_loss: 22.8808\n",
      "Epoch 75/200\n",
      "12/12 [==============================] - 0s 6ms/step - loss: 9.1634 - val_loss: 23.6697\n",
      "Epoch 76/200\n",
      "12/12 [==============================] - 0s 5ms/step - loss: 9.3199 - val_loss: 22.9184\n",
      "Epoch 77/200\n",
      "12/12 [==============================] - 0s 3ms/step - loss: 9.3414 - val_loss: 23.1990\n",
      "Epoch 78/200\n",
      "12/12 [==============================] - 0s 5ms/step - loss: 8.5447 - val_loss: 23.5848\n",
      "Epoch 79/200\n",
      "12/12 [==============================] - 0s 4ms/step - loss: 8.6430 - val_loss: 23.6317\n",
      "Epoch 80/200\n",
      "12/12 [==============================] - 0s 3ms/step - loss: 9.1911 - val_loss: 23.5682\n"
     ]
    },
    {
     "name": "stdout",
     "output_type": "stream",
     "text": [
      "Epoch 81/200\n",
      "12/12 [==============================] - 0s 4ms/step - loss: 9.0902 - val_loss: 22.5634\n",
      "Epoch 82/200\n",
      "12/12 [==============================] - 0s 4ms/step - loss: 8.9201 - val_loss: 23.4150\n",
      "Epoch 83/200\n",
      "12/12 [==============================] - 0s 4ms/step - loss: 9.0059 - val_loss: 23.2413\n",
      "Epoch 84/200\n",
      "12/12 [==============================] - 0s 6ms/step - loss: 8.5370 - val_loss: 23.3516\n",
      "Epoch 85/200\n",
      "12/12 [==============================] - 0s 4ms/step - loss: 8.8580 - val_loss: 22.8794\n",
      "Epoch 86/200\n",
      "12/12 [==============================] - 0s 3ms/step - loss: 8.8734 - val_loss: 23.4021\n",
      "Epoch 87/200\n",
      "12/12 [==============================] - 0s 4ms/step - loss: 8.4411 - val_loss: 23.1782\n",
      "Epoch 88/200\n",
      "12/12 [==============================] - 0s 4ms/step - loss: 8.5914 - val_loss: 22.8762\n",
      "Epoch 89/200\n",
      "12/12 [==============================] - 0s 4ms/step - loss: 8.5295 - val_loss: 22.4949\n",
      "Epoch 90/200\n",
      "12/12 [==============================] - 0s 5ms/step - loss: 8.6774 - val_loss: 22.6672\n",
      "Epoch 91/200\n",
      "12/12 [==============================] - 0s 5ms/step - loss: 8.6862 - val_loss: 22.3697\n",
      "Epoch 92/200\n",
      "12/12 [==============================] - 0s 4ms/step - loss: 8.5323 - val_loss: 22.9833\n",
      "Epoch 93/200\n",
      "12/12 [==============================] - 0s 4ms/step - loss: 8.4012 - val_loss: 23.5045\n",
      "Epoch 94/200\n",
      "12/12 [==============================] - 0s 3ms/step - loss: 8.3572 - val_loss: 22.6435\n",
      "Epoch 95/200\n",
      "12/12 [==============================] - 0s 3ms/step - loss: 8.1688 - val_loss: 22.4135\n",
      "Epoch 96/200\n",
      "12/12 [==============================] - 0s 3ms/step - loss: 8.1907 - val_loss: 22.9566\n",
      "Epoch 97/200\n",
      "12/12 [==============================] - 0s 4ms/step - loss: 8.4456 - val_loss: 22.6161\n",
      "Epoch 98/200\n",
      "12/12 [==============================] - 0s 5ms/step - loss: 8.1335 - val_loss: 22.1055\n",
      "Epoch 99/200\n",
      "12/12 [==============================] - 0s 4ms/step - loss: 8.0205 - val_loss: 22.5088\n",
      "Epoch 100/200\n",
      "12/12 [==============================] - 0s 4ms/step - loss: 7.9512 - val_loss: 22.2070\n",
      "Epoch 101/200\n",
      "12/12 [==============================] - 0s 4ms/step - loss: 7.8409 - val_loss: 22.7881\n",
      "Epoch 102/200\n",
      "12/12 [==============================] - 0s 5ms/step - loss: 7.6910 - val_loss: 22.0103\n",
      "Epoch 103/200\n",
      "12/12 [==============================] - 0s 6ms/step - loss: 8.0077 - val_loss: 22.2301\n",
      "Epoch 104/200\n",
      "12/12 [==============================] - 0s 4ms/step - loss: 8.0788 - val_loss: 22.7714\n",
      "Epoch 105/200\n",
      "12/12 [==============================] - 0s 6ms/step - loss: 8.0511 - val_loss: 21.3831\n",
      "Epoch 106/200\n",
      "12/12 [==============================] - 0s 5ms/step - loss: 7.9243 - val_loss: 22.6758\n",
      "Epoch 107/200\n",
      "12/12 [==============================] - 0s 6ms/step - loss: 7.5767 - val_loss: 22.1926\n",
      "Epoch 108/200\n",
      "12/12 [==============================] - 0s 4ms/step - loss: 7.8029 - val_loss: 21.2386\n",
      "Epoch 109/200\n",
      "12/12 [==============================] - 0s 4ms/step - loss: 7.8946 - val_loss: 21.4378\n",
      "Epoch 110/200\n",
      "12/12 [==============================] - 0s 5ms/step - loss: 7.6460 - val_loss: 21.9977\n",
      "Epoch 111/200\n",
      "12/12 [==============================] - 0s 8ms/step - loss: 7.5720 - val_loss: 21.5774\n",
      "Epoch 112/200\n",
      "12/12 [==============================] - 0s 8ms/step - loss: 7.6368 - val_loss: 21.2484\n",
      "Epoch 113/200\n",
      "12/12 [==============================] - 0s 7ms/step - loss: 7.1033 - val_loss: 21.5518\n",
      "Epoch 114/200\n",
      "12/12 [==============================] - 0s 7ms/step - loss: 7.7583 - val_loss: 21.5814\n",
      "Epoch 115/200\n",
      "12/12 [==============================] - 0s 9ms/step - loss: 7.1361 - val_loss: 21.0661\n",
      "Epoch 116/200\n",
      "12/12 [==============================] - 0s 6ms/step - loss: 7.5184 - val_loss: 21.1022\n",
      "Epoch 117/200\n",
      "12/12 [==============================] - 0s 5ms/step - loss: 7.1530 - val_loss: 20.3473\n",
      "Epoch 118/200\n",
      "12/12 [==============================] - 0s 6ms/step - loss: 7.4366 - val_loss: 20.8079\n",
      "Epoch 119/200\n",
      "12/12 [==============================] - 0s 6ms/step - loss: 7.2465 - val_loss: 21.4280\n",
      "Epoch 120/200\n",
      "12/12 [==============================] - 0s 5ms/step - loss: 7.0803 - val_loss: 21.3465\n",
      "Epoch 121/200\n",
      "12/12 [==============================] - 0s 5ms/step - loss: 7.6031 - val_loss: 20.4181\n",
      "Epoch 122/200\n",
      "12/12 [==============================] - 0s 3ms/step - loss: 6.3171 - val_loss: 20.7788\n",
      "Epoch 123/200\n",
      "12/12 [==============================] - 0s 3ms/step - loss: 7.2642 - val_loss: 20.6877\n",
      "Epoch 124/200\n",
      "12/12 [==============================] - 0s 3ms/step - loss: 7.2947 - val_loss: 21.0759\n",
      "Epoch 125/200\n",
      "12/12 [==============================] - 0s 6ms/step - loss: 7.3571 - val_loss: 21.4431\n",
      "Epoch 126/200\n",
      "12/12 [==============================] - ETA: 0s - loss: 9.002 - 0s 5ms/step - loss: 7.1367 - val_loss: 21.0936\n",
      "Epoch 127/200\n",
      "12/12 [==============================] - 0s 4ms/step - loss: 7.1800 - val_loss: 21.3001\n",
      "Epoch 128/200\n",
      "12/12 [==============================] - 0s 4ms/step - loss: 7.0571 - val_loss: 20.6692\n",
      "Epoch 129/200\n",
      "12/12 [==============================] - 0s 4ms/step - loss: 6.9722 - val_loss: 20.6341\n",
      "Epoch 130/200\n",
      "12/12 [==============================] - 0s 4ms/step - loss: 6.8506 - val_loss: 21.2511\n",
      "Epoch 131/200\n",
      "12/12 [==============================] - 0s 3ms/step - loss: 7.0726 - val_loss: 21.2496\n",
      "Epoch 132/200\n",
      "12/12 [==============================] - 0s 3ms/step - loss: 6.9399 - val_loss: 20.6348\n",
      "Epoch 133/200\n",
      "12/12 [==============================] - 0s 3ms/step - loss: 7.0711 - val_loss: 21.4838\n",
      "Epoch 134/200\n",
      "12/12 [==============================] - 0s 3ms/step - loss: 7.0172 - val_loss: 20.6648\n",
      "Epoch 135/200\n",
      "12/12 [==============================] - 0s 3ms/step - loss: 6.8935 - val_loss: 20.9193\n",
      "Epoch 136/200\n",
      "12/12 [==============================] - 0s 3ms/step - loss: 6.7514 - val_loss: 20.9293\n",
      "Epoch 137/200\n",
      "12/12 [==============================] - 0s 4ms/step - loss: 6.8083 - val_loss: 20.7944\n",
      "Epoch 138/200\n",
      "12/12 [==============================] - 0s 4ms/step - loss: 6.2023 - val_loss: 20.1451\n",
      "Epoch 139/200\n",
      "12/12 [==============================] - 0s 4ms/step - loss: 6.8136 - val_loss: 20.6103\n",
      "Epoch 140/200\n",
      "12/12 [==============================] - 0s 3ms/step - loss: 6.8209 - val_loss: 20.2073\n",
      "Epoch 141/200\n",
      "12/12 [==============================] - 0s 3ms/step - loss: 6.4885 - val_loss: 20.0414\n",
      "Epoch 142/200\n",
      "12/12 [==============================] - 0s 3ms/step - loss: 6.0347 - val_loss: 20.0975\n",
      "Epoch 143/200\n",
      "12/12 [==============================] - 0s 3ms/step - loss: 6.4564 - val_loss: 20.0916\n",
      "Epoch 144/200\n",
      "12/12 [==============================] - 0s 3ms/step - loss: 5.8867 - val_loss: 20.2745\n",
      "Epoch 145/200\n",
      "12/12 [==============================] - 0s 6ms/step - loss: 6.6652 - val_loss: 20.5412\n",
      "Epoch 146/200\n",
      "12/12 [==============================] - 0s 4ms/step - loss: 6.3946 - val_loss: 20.4824\n",
      "Epoch 147/200\n",
      "12/12 [==============================] - 0s 4ms/step - loss: 6.6611 - val_loss: 20.3414\n",
      "Epoch 148/200\n",
      "12/12 [==============================] - 0s 4ms/step - loss: 6.5641 - val_loss: 20.0277\n",
      "Epoch 149/200\n",
      "12/12 [==============================] - 0s 3ms/step - loss: 6.2261 - val_loss: 20.3611\n",
      "Epoch 150/200\n",
      "12/12 [==============================] - 0s 3ms/step - loss: 6.5855 - val_loss: 20.4459\n",
      "Epoch 151/200\n",
      "12/12 [==============================] - ETA: 0s - loss: 7.577 - 0s 3ms/step - loss: 6.4174 - val_loss: 20.0433\n",
      "Epoch 152/200\n",
      "12/12 [==============================] - 0s 4ms/step - loss: 6.2899 - val_loss: 21.1046\n",
      "Epoch 153/200\n",
      "12/12 [==============================] - 0s 3ms/step - loss: 6.3619 - val_loss: 20.4289\n",
      "Epoch 154/200\n",
      "12/12 [==============================] - 0s 4ms/step - loss: 5.4765 - val_loss: 19.6462\n",
      "Epoch 155/200\n",
      "12/12 [==============================] - 0s 4ms/step - loss: 5.7382 - val_loss: 19.1571\n",
      "Epoch 156/200\n",
      "12/12 [==============================] - 0s 3ms/step - loss: 5.9268 - val_loss: 19.0177\n",
      "Epoch 157/200\n",
      "12/12 [==============================] - 0s 4ms/step - loss: 6.2326 - val_loss: 19.0603\n",
      "Epoch 158/200\n",
      "12/12 [==============================] - 0s 4ms/step - loss: 6.2517 - val_loss: 19.2128\n",
      "Epoch 159/200\n",
      "12/12 [==============================] - 0s 5ms/step - loss: 6.0975 - val_loss: 19.8802\n",
      "Epoch 160/200\n",
      "12/12 [==============================] - 0s 4ms/step - loss: 5.9963 - val_loss: 19.3685\n",
      "Epoch 161/200\n"
     ]
    },
    {
     "name": "stdout",
     "output_type": "stream",
     "text": [
      "12/12 [==============================] - 0s 3ms/step - loss: 5.9066 - val_loss: 19.3321\n",
      "Epoch 162/200\n",
      "12/12 [==============================] - 0s 3ms/step - loss: 6.3225 - val_loss: 19.4756\n",
      "Epoch 163/200\n",
      "12/12 [==============================] - 0s 3ms/step - loss: 5.7539 - val_loss: 19.4135\n",
      "Epoch 164/200\n",
      "12/12 [==============================] - 0s 4ms/step - loss: 5.8419 - val_loss: 19.9631\n",
      "Epoch 165/200\n",
      "12/12 [==============================] - 0s 4ms/step - loss: 5.8653 - val_loss: 20.0433\n",
      "Epoch 166/200\n",
      "12/12 [==============================] - 0s 4ms/step - loss: 5.9177 - val_loss: 19.6371\n",
      "Epoch 167/200\n",
      "12/12 [==============================] - 0s 5ms/step - loss: 6.0022 - val_loss: 18.9603\n",
      "Epoch 168/200\n",
      "12/12 [==============================] - 0s 4ms/step - loss: 5.9231 - val_loss: 19.5143\n",
      "Epoch 169/200\n",
      "12/12 [==============================] - 0s 3ms/step - loss: 5.7853 - val_loss: 18.9174\n",
      "Epoch 170/200\n",
      "12/12 [==============================] - 0s 3ms/step - loss: 5.3458 - val_loss: 18.7623\n",
      "Epoch 171/200\n",
      "12/12 [==============================] - 0s 3ms/step - loss: 5.6845 - val_loss: 18.8661\n",
      "Epoch 172/200\n",
      "12/12 [==============================] - 0s 3ms/step - loss: 5.1489 - val_loss: 18.8852\n",
      "Epoch 173/200\n",
      "12/12 [==============================] - 0s 4ms/step - loss: 5.8017 - val_loss: 18.5474\n",
      "Epoch 174/200\n",
      "12/12 [==============================] - 0s 3ms/step - loss: 5.7713 - val_loss: 19.2286\n",
      "Epoch 175/200\n",
      "12/12 [==============================] - 0s 3ms/step - loss: 5.5970 - val_loss: 18.5204\n",
      "Epoch 176/200\n",
      "12/12 [==============================] - 0s 3ms/step - loss: 4.9237 - val_loss: 18.8896\n",
      "Epoch 177/200\n",
      "12/12 [==============================] - 0s 4ms/step - loss: 5.6175 - val_loss: 18.7112\n",
      "Epoch 178/200\n",
      "12/12 [==============================] - 0s 7ms/step - loss: 5.6247 - val_loss: 18.7385\n",
      "Epoch 179/200\n",
      "12/12 [==============================] - 0s 8ms/step - loss: 5.6040 - val_loss: 18.4089\n",
      "Epoch 180/200\n",
      "12/12 [==============================] - 0s 4ms/step - loss: 5.3120 - val_loss: 18.9255\n",
      "Epoch 181/200\n",
      "12/12 [==============================] - 0s 6ms/step - loss: 5.5095 - val_loss: 18.2471\n",
      "Epoch 182/200\n",
      "12/12 [==============================] - 0s 4ms/step - loss: 5.4989 - val_loss: 18.2542\n",
      "Epoch 183/200\n",
      "12/12 [==============================] - 0s 3ms/step - loss: 5.3870 - val_loss: 18.0632\n",
      "Epoch 184/200\n",
      "12/12 [==============================] - 0s 3ms/step - loss: 5.0729 - val_loss: 17.8298\n",
      "Epoch 185/200\n",
      "12/12 [==============================] - 0s 4ms/step - loss: 4.9598 - val_loss: 17.7185\n",
      "Epoch 186/200\n",
      "12/12 [==============================] - 0s 3ms/step - loss: 5.5085 - val_loss: 17.4198\n",
      "Epoch 187/200\n",
      "12/12 [==============================] - 0s 3ms/step - loss: 5.3285 - val_loss: 17.5725\n",
      "Epoch 188/200\n",
      "12/12 [==============================] - 0s 4ms/step - loss: 5.3243 - val_loss: 17.9610\n",
      "Epoch 189/200\n",
      "12/12 [==============================] - 0s 3ms/step - loss: 5.3092 - val_loss: 17.5560\n",
      "Epoch 190/200\n",
      "12/12 [==============================] - 0s 3ms/step - loss: 5.4307 - val_loss: 17.4535\n",
      "Epoch 191/200\n",
      "12/12 [==============================] - 0s 3ms/step - loss: 5.0752 - val_loss: 17.6661\n",
      "Epoch 192/200\n",
      "12/12 [==============================] - 0s 4ms/step - loss: 5.3317 - val_loss: 17.5373\n",
      "Epoch 193/200\n",
      "12/12 [==============================] - 0s 4ms/step - loss: 5.2013 - val_loss: 17.6892\n",
      "Epoch 194/200\n",
      "12/12 [==============================] - 0s 3ms/step - loss: 5.2119 - val_loss: 17.8074\n",
      "Epoch 195/200\n",
      "12/12 [==============================] - 0s 4ms/step - loss: 5.2079 - val_loss: 17.6069\n",
      "Epoch 196/200\n",
      "12/12 [==============================] - 0s 4ms/step - loss: 4.2591 - val_loss: 17.1477\n",
      "Epoch 197/200\n",
      "12/12 [==============================] - 0s 5ms/step - loss: 5.1012 - val_loss: 17.3272\n",
      "Epoch 198/200\n",
      "12/12 [==============================] - 0s 3ms/step - loss: 4.8902 - val_loss: 17.0320\n",
      "Epoch 199/200\n",
      "12/12 [==============================] - 0s 6ms/step - loss: 4.9579 - val_loss: 17.3240\n",
      "Epoch 200/200\n",
      "12/12 [==============================] - 0s 6ms/step - loss: 5.0535 - val_loss: 17.1057\n"
     ]
    }
   ],
   "source": [
    "# batch_size는 train_dataset 생성 시 batch를 지정했기 때문에 학습 시에는 지정하지 않는다.\n",
    "hist = model.fit(train_dataset,\n",
    "                 epochs=N_EPOCHS,\n",
    "                 validation_data=test_dataset)   # Dataset을 이용할 경우 'validation_split=비율'은 사용 불가. ndarray로 데이터셋 넣을 때만 가능"
   ]
  },
  {
   "cell_type": "markdown",
   "metadata": {},
   "source": [
    "### 결과 시각화"
   ]
  },
  {
   "cell_type": "code",
   "execution_count": 41,
   "metadata": {},
   "outputs": [],
   "source": [
    "import matplotlib.pyplot as plt"
   ]
  },
  {
   "cell_type": "code",
   "execution_count": 42,
   "metadata": {},
   "outputs": [
    {
     "data": {
      "text/plain": [
       "{'loss': [566.8710327148438,\n",
       "  542.2578125,\n",
       "  493.8918151855469,\n",
       "  444.8675231933594,\n",
       "  389.3424377441406,\n",
       "  339.84716796875,\n",
       "  270.8695068359375,\n",
       "  194.0843048095703,\n",
       "  142.79815673828125,\n",
       "  102.4949722290039,\n",
       "  83.2529067993164,\n",
       "  64.99702453613281,\n",
       "  47.80918502807617,\n",
       "  42.99454116821289,\n",
       "  36.24924087524414,\n",
       "  31.387527465820312,\n",
       "  27.7320556640625,\n",
       "  24.593894958496094,\n",
       "  23.695772171020508,\n",
       "  22.328893661499023,\n",
       "  21.17963409423828,\n",
       "  19.912553787231445,\n",
       "  19.56477165222168,\n",
       "  18.12639045715332,\n",
       "  18.35395050048828,\n",
       "  17.372488021850586,\n",
       "  16.294160842895508,\n",
       "  16.711387634277344,\n",
       "  15.89917278289795,\n",
       "  15.449417114257812,\n",
       "  14.121180534362793,\n",
       "  14.635104179382324,\n",
       "  14.583431243896484,\n",
       "  13.9833402633667,\n",
       "  14.177398681640625,\n",
       "  14.114998817443848,\n",
       "  13.89852237701416,\n",
       "  13.428092002868652,\n",
       "  12.857747077941895,\n",
       "  12.09589672088623,\n",
       "  12.680774688720703,\n",
       "  12.386932373046875,\n",
       "  12.474834442138672,\n",
       "  11.969352722167969,\n",
       "  11.622817993164062,\n",
       "  11.688167572021484,\n",
       "  11.70941162109375,\n",
       "  11.235698699951172,\n",
       "  11.595540046691895,\n",
       "  11.11762523651123,\n",
       "  10.504729270935059,\n",
       "  10.91485595703125,\n",
       "  10.3960542678833,\n",
       "  10.91946792602539,\n",
       "  10.703170776367188,\n",
       "  10.602710723876953,\n",
       "  9.189984321594238,\n",
       "  9.405646324157715,\n",
       "  10.471674919128418,\n",
       "  10.444010734558105,\n",
       "  10.288104057312012,\n",
       "  9.970205307006836,\n",
       "  10.1634521484375,\n",
       "  10.172927856445312,\n",
       "  10.152173042297363,\n",
       "  10.031292915344238,\n",
       "  9.706907272338867,\n",
       "  9.72011661529541,\n",
       "  9.385600090026855,\n",
       "  9.86164379119873,\n",
       "  9.5941162109375,\n",
       "  9.36732006072998,\n",
       "  8.635865211486816,\n",
       "  9.625809669494629,\n",
       "  9.163359642028809,\n",
       "  9.31992244720459,\n",
       "  9.341429710388184,\n",
       "  8.544657707214355,\n",
       "  8.64300537109375,\n",
       "  9.191092491149902,\n",
       "  9.090231895446777,\n",
       "  8.920063972473145,\n",
       "  9.005879402160645,\n",
       "  8.537003517150879,\n",
       "  8.85798168182373,\n",
       "  8.873391151428223,\n",
       "  8.441064834594727,\n",
       "  8.591435432434082,\n",
       "  8.529501914978027,\n",
       "  8.677408218383789,\n",
       "  8.686200141906738,\n",
       "  8.53225326538086,\n",
       "  8.401163101196289,\n",
       "  8.357213973999023,\n",
       "  8.16878890991211,\n",
       "  8.19068431854248,\n",
       "  8.445601463317871,\n",
       "  8.133537292480469,\n",
       "  8.020539283752441,\n",
       "  7.951221466064453,\n",
       "  7.840934753417969,\n",
       "  7.691047668457031,\n",
       "  8.007719993591309,\n",
       "  8.078801155090332,\n",
       "  8.051107406616211,\n",
       "  7.924319744110107,\n",
       "  7.5767292976379395,\n",
       "  7.802919864654541,\n",
       "  7.89456033706665,\n",
       "  7.646020412445068,\n",
       "  7.571964263916016,\n",
       "  7.636760711669922,\n",
       "  7.103301525115967,\n",
       "  7.758338928222656,\n",
       "  7.136127948760986,\n",
       "  7.518364429473877,\n",
       "  7.153011798858643,\n",
       "  7.436569690704346,\n",
       "  7.2465338706970215,\n",
       "  7.080342769622803,\n",
       "  7.6031036376953125,\n",
       "  6.317103862762451,\n",
       "  7.264194488525391,\n",
       "  7.294666767120361,\n",
       "  7.357055187225342,\n",
       "  7.136676788330078,\n",
       "  7.180046558380127,\n",
       "  7.057107448577881,\n",
       "  6.972203731536865,\n",
       "  6.850589275360107,\n",
       "  7.072589874267578,\n",
       "  6.939868927001953,\n",
       "  7.071106433868408,\n",
       "  7.017171382904053,\n",
       "  6.893499374389648,\n",
       "  6.75139856338501,\n",
       "  6.808339595794678,\n",
       "  6.202346324920654,\n",
       "  6.813601016998291,\n",
       "  6.820949554443359,\n",
       "  6.488527774810791,\n",
       "  6.03471040725708,\n",
       "  6.456373691558838,\n",
       "  5.886682510375977,\n",
       "  6.665165424346924,\n",
       "  6.394636154174805,\n",
       "  6.661142349243164,\n",
       "  6.564123153686523,\n",
       "  6.226076602935791,\n",
       "  6.585476398468018,\n",
       "  6.417383670806885,\n",
       "  6.289893627166748,\n",
       "  6.361850738525391,\n",
       "  5.476505279541016,\n",
       "  5.738216400146484,\n",
       "  5.9268107414245605,\n",
       "  6.232626438140869,\n",
       "  6.251737594604492,\n",
       "  6.097539901733398,\n",
       "  5.996311187744141,\n",
       "  5.906607151031494,\n",
       "  6.322520732879639,\n",
       "  5.7538533210754395,\n",
       "  5.841917514801025,\n",
       "  5.8653483390808105,\n",
       "  5.917736053466797,\n",
       "  6.002194881439209,\n",
       "  5.923061847686768,\n",
       "  5.785282135009766,\n",
       "  5.345826625823975,\n",
       "  5.684534549713135,\n",
       "  5.148880958557129,\n",
       "  5.801699161529541,\n",
       "  5.771339416503906,\n",
       "  5.597028732299805,\n",
       "  4.923745632171631,\n",
       "  5.617485523223877,\n",
       "  5.624734401702881,\n",
       "  5.603954792022705,\n",
       "  5.3119635581970215,\n",
       "  5.509548187255859,\n",
       "  5.498880863189697,\n",
       "  5.386965274810791,\n",
       "  5.072871685028076,\n",
       "  4.9598069190979,\n",
       "  5.508533477783203,\n",
       "  5.328457355499268,\n",
       "  5.3242645263671875,\n",
       "  5.3091912269592285,\n",
       "  5.4306769371032715,\n",
       "  5.075209617614746,\n",
       "  5.331711292266846,\n",
       "  5.201341152191162,\n",
       "  5.211878299713135,\n",
       "  5.207934856414795,\n",
       "  4.259055137634277,\n",
       "  5.101165771484375,\n",
       "  4.890207290649414,\n",
       "  4.957909107208252,\n",
       "  5.0534772872924805],\n",
       " 'val_loss': [573.4712524414062,\n",
       "  539.7643432617188,\n",
       "  498.9780578613281,\n",
       "  448.1275939941406,\n",
       "  385.9295349121094,\n",
       "  314.1747741699219,\n",
       "  240.9237823486328,\n",
       "  178.44622802734375,\n",
       "  131.44113159179688,\n",
       "  100.94425964355469,\n",
       "  80.48432922363281,\n",
       "  65.59358978271484,\n",
       "  54.80560302734375,\n",
       "  47.14630889892578,\n",
       "  41.263065338134766,\n",
       "  37.24850082397461,\n",
       "  34.2851448059082,\n",
       "  31.803438186645508,\n",
       "  29.91234588623047,\n",
       "  28.645275115966797,\n",
       "  27.60335922241211,\n",
       "  26.684675216674805,\n",
       "  26.32802391052246,\n",
       "  25.68260955810547,\n",
       "  25.150495529174805,\n",
       "  25.12814712524414,\n",
       "  24.865453720092773,\n",
       "  24.60811424255371,\n",
       "  24.221830368041992,\n",
       "  24.064434051513672,\n",
       "  23.75196075439453,\n",
       "  23.16047477722168,\n",
       "  23.21953010559082,\n",
       "  23.516420364379883,\n",
       "  23.41718292236328,\n",
       "  23.57439613342285,\n",
       "  23.235397338867188,\n",
       "  23.411352157592773,\n",
       "  23.054874420166016,\n",
       "  23.30291175842285,\n",
       "  23.077560424804688,\n",
       "  23.028451919555664,\n",
       "  23.314971923828125,\n",
       "  23.092079162597656,\n",
       "  23.29495620727539,\n",
       "  23.494970321655273,\n",
       "  23.619531631469727,\n",
       "  23.35410499572754,\n",
       "  23.62430763244629,\n",
       "  23.578493118286133,\n",
       "  23.427892684936523,\n",
       "  23.293102264404297,\n",
       "  22.99460220336914,\n",
       "  22.939855575561523,\n",
       "  23.198429107666016,\n",
       "  23.211870193481445,\n",
       "  22.833580017089844,\n",
       "  23.26323127746582,\n",
       "  23.04444122314453,\n",
       "  23.268463134765625,\n",
       "  23.535165786743164,\n",
       "  23.22879409790039,\n",
       "  22.957368850708008,\n",
       "  23.474472045898438,\n",
       "  23.098464965820312,\n",
       "  23.301738739013672,\n",
       "  23.15679168701172,\n",
       "  23.481895446777344,\n",
       "  23.58844566345215,\n",
       "  23.982751846313477,\n",
       "  23.922754287719727,\n",
       "  24.11580467224121,\n",
       "  22.901941299438477,\n",
       "  22.880786895751953,\n",
       "  23.669662475585938,\n",
       "  22.918441772460938,\n",
       "  23.198963165283203,\n",
       "  23.584793090820312,\n",
       "  23.631677627563477,\n",
       "  23.568235397338867,\n",
       "  22.563440322875977,\n",
       "  23.41499900817871,\n",
       "  23.241254806518555,\n",
       "  23.351598739624023,\n",
       "  22.879432678222656,\n",
       "  23.402118682861328,\n",
       "  23.178203582763672,\n",
       "  22.876161575317383,\n",
       "  22.494901657104492,\n",
       "  22.667177200317383,\n",
       "  22.369672775268555,\n",
       "  22.983285903930664,\n",
       "  23.504533767700195,\n",
       "  22.643539428710938,\n",
       "  22.413536071777344,\n",
       "  22.956634521484375,\n",
       "  22.616090774536133,\n",
       "  22.10550880432129,\n",
       "  22.508750915527344,\n",
       "  22.207046508789062,\n",
       "  22.78805160522461,\n",
       "  22.01025390625,\n",
       "  22.230131149291992,\n",
       "  22.7713680267334,\n",
       "  21.383094787597656,\n",
       "  22.6757755279541,\n",
       "  22.192564010620117,\n",
       "  21.238645553588867,\n",
       "  21.43781089782715,\n",
       "  21.99773597717285,\n",
       "  21.577354431152344,\n",
       "  21.2484073638916,\n",
       "  21.551849365234375,\n",
       "  21.581363677978516,\n",
       "  21.06607437133789,\n",
       "  21.10224151611328,\n",
       "  20.347339630126953,\n",
       "  20.807905197143555,\n",
       "  21.427978515625,\n",
       "  21.346508026123047,\n",
       "  20.41814613342285,\n",
       "  20.778844833374023,\n",
       "  20.687658309936523,\n",
       "  21.0759334564209,\n",
       "  21.44314956665039,\n",
       "  21.093570709228516,\n",
       "  21.300140380859375,\n",
       "  20.669198989868164,\n",
       "  20.63408660888672,\n",
       "  21.251087188720703,\n",
       "  21.249555587768555,\n",
       "  20.634841918945312,\n",
       "  21.483781814575195,\n",
       "  20.6647891998291,\n",
       "  20.91933822631836,\n",
       "  20.929262161254883,\n",
       "  20.794431686401367,\n",
       "  20.145111083984375,\n",
       "  20.610301971435547,\n",
       "  20.207334518432617,\n",
       "  20.041391372680664,\n",
       "  20.097503662109375,\n",
       "  20.09160804748535,\n",
       "  20.27451515197754,\n",
       "  20.54121208190918,\n",
       "  20.48240089416504,\n",
       "  20.341432571411133,\n",
       "  20.027746200561523,\n",
       "  20.3610782623291,\n",
       "  20.445898056030273,\n",
       "  20.043285369873047,\n",
       "  21.104631423950195,\n",
       "  20.428892135620117,\n",
       "  19.646238327026367,\n",
       "  19.157085418701172,\n",
       "  19.017711639404297,\n",
       "  19.060348510742188,\n",
       "  19.212753295898438,\n",
       "  19.880203247070312,\n",
       "  19.36849021911621,\n",
       "  19.33212661743164,\n",
       "  19.475603103637695,\n",
       "  19.413509368896484,\n",
       "  19.963132858276367,\n",
       "  20.043277740478516,\n",
       "  19.63709831237793,\n",
       "  18.960304260253906,\n",
       "  19.51433563232422,\n",
       "  18.917402267456055,\n",
       "  18.762331008911133,\n",
       "  18.866117477416992,\n",
       "  18.88515853881836,\n",
       "  18.54743766784668,\n",
       "  19.228551864624023,\n",
       "  18.520448684692383,\n",
       "  18.889551162719727,\n",
       "  18.711196899414062,\n",
       "  18.738536834716797,\n",
       "  18.40887451171875,\n",
       "  18.925453186035156,\n",
       "  18.247095108032227,\n",
       "  18.254240036010742,\n",
       "  18.063222885131836,\n",
       "  17.82980728149414,\n",
       "  17.718463897705078,\n",
       "  17.419784545898438,\n",
       "  17.572521209716797,\n",
       "  17.961023330688477,\n",
       "  17.555950164794922,\n",
       "  17.453542709350586,\n",
       "  17.666149139404297,\n",
       "  17.53729248046875,\n",
       "  17.689228057861328,\n",
       "  17.807401657104492,\n",
       "  17.60689353942871,\n",
       "  17.147735595703125,\n",
       "  17.327205657958984,\n",
       "  17.031970977783203,\n",
       "  17.324016571044922,\n",
       "  17.10569190979004]}"
      ]
     },
     "execution_count": 42,
     "metadata": {},
     "output_type": "execute_result"
    }
   ],
   "source": [
    "hist.history   # dtype = dict"
   ]
  },
  {
   "cell_type": "code",
   "execution_count": 43,
   "metadata": {},
   "outputs": [
    {
     "data": {
      "text/plain": [
       "dict_keys(['loss', 'val_loss'])"
      ]
     },
     "execution_count": 43,
     "metadata": {},
     "output_type": "execute_result"
    }
   ],
   "source": [
    "hist.history.keys()"
   ]
  },
  {
   "cell_type": "code",
   "execution_count": 44,
   "metadata": {},
   "outputs": [
    {
     "data": {
      "image/png": "[encoded data removed]",
      "text/plain": [
       "<Figure size 504x432 with 1 Axes>"
      ]
     },
     "metadata": {
      "needs_background": "light"
     },
     "output_type": "display_data"
    }
   ],
   "source": [
    "plt.figure(figsize=(7,6))\n",
    "plt.plot(range(1, N_EPOCHS+1), hist.history['loss'], label='train loss')\n",
    "plt.plot(range(1, N_EPOCHS+1), hist.history['val_loss'], label='test loss')\n",
    "plt.xlabel('Epochs')\n",
    "plt.ylabel('Loss')\n",
    "\n",
    "plt.legend()\n",
    "plt.show()"
   ]
  },
  {
   "cell_type": "code",
   "execution_count": 45,
   "metadata": {},
   "outputs": [
    {
     "data": {
      "image/png": "[encoded data removed]",
      "text/plain": [
       "<Figure size 504x432 with 1 Axes>"
      ]
     },
     "metadata": {
      "needs_background": "light"
     },
     "output_type": "display_data"
    }
   ],
   "source": [
    "plt.figure(figsize=(7,6))\n",
    "plt.plot(range(1, N_EPOCHS+1), hist.history['loss'], label='train loss')\n",
    "plt.plot(range(1, N_EPOCHS+1), hist.history['val_loss'], label='test loss')\n",
    "plt.xlabel('Epochs')\n",
    "plt.ylabel('Loss')\n",
    "\n",
    "plt.ylim(0,50)\n",
    "\n",
    "plt.legend()\n",
    "plt.show()"
   ]
  },
  {
   "cell_type": "markdown",
   "metadata": {},
   "source": [
    "### 최종 테스트"
   ]
  },
  {
   "cell_type": "code",
   "execution_count": 48,
   "metadata": {},
   "outputs": [
    {
     "name": "stdout",
     "output_type": "stream",
     "text": [
      "4/4 [==============================] - 0s 3ms/step - loss: 17.1057\n",
      "17.10569190979004 4.135902792594385\n"
     ]
    }
   ],
   "source": [
    "loss = model.evaluate(test_dataset)\n",
    "print(loss, np.sqrt(loss))"
   ]
  },
  {
   "cell_type": "markdown",
   "metadata": {},
   "source": [
    "### 추론"
   ]
  },
  {
   "cell_type": "code",
   "execution_count": 50,
   "metadata": {},
   "outputs": [
    {
     "data": {
      "text/plain": [
       "array([[ 8.695189],\n",
       "       [18.75689 ],\n",
       "       [21.844301],\n",
       "       [29.885187],\n",
       "       [24.5913  ]], dtype=float32)"
      ]
     },
     "execution_count": 50,
     "metadata": {},
     "output_type": "execute_result"
    }
   ],
   "source": [
    "new_data = X_test[:5]\n",
    "pred = model.predict(new_data)\n",
    "pred"
   ]
  },
  {
   "cell_type": "code",
   "execution_count": 51,
   "metadata": {},
   "outputs": [
    {
     "data": {
      "text/plain": [
       "array([ 7.2, 18.8, 19. , 27. , 22.2])"
      ]
     },
     "execution_count": 51,
     "metadata": {},
     "output_type": "execute_result"
    }
   ],
   "source": [
    "test_y[:5]"
   ]
  },
  {
   "cell_type": "code",
   "execution_count": null,
   "metadata": {},
   "outputs": [],
   "source": []
  },
  {
   "cell_type": "markdown",
   "metadata": {},
   "source": [
    "## 2. Classification\n",
    "\n",
    "### Fashion MNIST(MNIST) Dataset - 다중분류"
   ]
  },
  {
   "cell_type": "markdown",
   "metadata": {},
   "source": [
    "10개의 범주(category)와 70,000개의 흑백 이미지로 구성된 [패션 MNIST](https://github.com/zalandoresearch/fashion-mnist) 데이터셋. \n",
    "이미지는 해상도(28x28 픽셀)가 낮고 다음처럼 개별 의류 품목을 나타낸다:\n",
    "\n",
    "<table>\n",
    "  <tr><td>\n",
    "    <img src=\"https://tensorflow.org/images/fashion-mnist-sprite.png\"\n",
    "         alt=\"Fashion MNIST sprite\"  width=\"600\">\n",
    "  </td></tr>\n",
    "  <tr><td align=\"center\">\n",
    "    <b>그림</b> <a href=\"https://github.com/zalandoresearch/fashion-mnist\">패션-MNIST 샘플</a> (Zalando, MIT License).<br/>&nbsp;\n",
    "  </td></tr>\n",
    "</table>\n",
    "\n",
    "패션 MNIST와 손글씨 MNIST는  비교적 작기 때문에 알고리즘의 작동 여부를 확인하기 위해 사용되곤 하며 코드를 테스트하고 디버깅하는 용도로 좋다."
   ]
  },
  {
   "cell_type": "markdown",
   "metadata": {},
   "source": [
    "이미지는 28x28 크기의 넘파이 배열이고 픽셀 값은 0과 255 사이이다. *레이블*(label)은 0에서 9까지의 정수 배열이다. 아래 표는 이미지에 있는 의류의 **클래스**(class)를 나낸다.\n",
    "\n",
    "<table>\n",
    "  <tr>\n",
    "    <th>레이블</th>\n",
    "    <th>클래스</th>\n",
    "  </tr>\n",
    "  <tr>\n",
    "    <td>0</td>\n",
    "    <td>T-shirt/top</td>\n",
    "  </tr>\n",
    "  <tr>\n",
    "    <td>1</td>\n",
    "    <td>Trousers</td>\n",
    "  </tr>\n",
    "    <tr>\n",
    "    <td>2</td>\n",
    "    <td>Pullover</td>\n",
    "  </tr>\n",
    "    <tr>\n",
    "    <td>3</td>\n",
    "    <td>Dress</td>\n",
    "  </tr>\n",
    "    <tr>\n",
    "    <td>4</td>\n",
    "    <td>Coat</td>\n",
    "  </tr>\n",
    "    <tr>\n",
    "    <td>5</td>\n",
    "    <td>Sandal</td>\n",
    "  </tr>\n",
    "    <tr>\n",
    "    <td>6</td>\n",
    "    <td>Shirt</td>\n",
    "  </tr>\n",
    "    <tr>\n",
    "    <td>7</td>\n",
    "    <td>Sneaker</td>\n",
    "  </tr>\n",
    "    <tr>\n",
    "    <td>8</td>\n",
    "    <td>Bag</td>\n",
    "  </tr>\n",
    "    <tr>\n",
    "    <td>9</td>\n",
    "    <td>Ankle boot</td>\n",
    "  </tr>\n",
    "</table>\n",
    "\n",
    "각 이미지는 하나의 레이블에 매핑되어 있다. 데이터셋에 클래스 이름이 들어있지 않기 때문에 나중에 이미지를 출력할 때 사용하기 위해 별도의 변수를 만들어 저장한다."
   ]
  },
  {
   "cell_type": "code",
   "execution_count": 53,
   "metadata": {},
   "outputs": [],
   "source": [
    "import numpy as np\n",
    "import tensorflow as tf\n",
    "from tensorflow import keras\n",
    "from tensorflow.keras import layers\n",
    "import matplotlib.pyplot as plt\n",
    "\n",
    "np.random.seed(0)\n",
    "tf.random.set_seed(0)"
   ]
  },
  {
   "cell_type": "code",
   "execution_count": 52,
   "metadata": {
    "ExecuteTime": {
     "end_time": "2021-04-14T09:13:37.059205Z",
     "start_time": "2021-04-14T09:13:37.050854Z"
    }
   },
   "outputs": [],
   "source": [
    "class_names = ['T-shirt/top', 'Trousers', 'Pullover', 'Dress', 'Coat', 'Sandal', 'Shirt', 'Sneaker', 'Bag', 'Ankle boot']"
   ]
  },
  {
   "cell_type": "markdown",
   "metadata": {},
   "source": [
    "### data 로딩"
   ]
  },
  {
   "cell_type": "code",
   "execution_count": 54,
   "metadata": {},
   "outputs": [
    {
     "name": "stdout",
     "output_type": "stream",
     "text": [
      "Downloading data from https://storage.googleapis.com/tensorflow/tf-keras-datasets/train-labels-idx1-ubyte.gz\n",
      "32768/29515 [=================================] - 0s 0us/step\n",
      "Downloading data from https://storage.googleapis.com/tensorflow/tf-keras-datasets/train-images-idx3-ubyte.gz\n",
      "26427392/26421880 [==============================] - 1s 0us/step\n",
      "Downloading data from https://storage.googleapis.com/tensorflow/tf-keras-datasets/t10k-labels-idx1-ubyte.gz\n",
      "8192/5148 [===============================================] - 0s 1us/step\n",
      "Downloading data from https://storage.googleapis.com/tensorflow/tf-keras-datasets/t10k-images-idx3-ubyte.gz\n",
      "4423680/4422102 [==============================] - 0s 0us/step\n"
     ]
    }
   ],
   "source": [
    "(train_img, train_label), (test_img, test_label) = keras.datasets.fashion_mnist.load_data()"
   ]
  },
  {
   "cell_type": "code",
   "execution_count": 55,
   "metadata": {},
   "outputs": [
    {
     "name": "stdout",
     "output_type": "stream",
     "text": [
      "(60000, 28, 28) (60000,) (10000, 28, 28) (10000,)\n"
     ]
    }
   ],
   "source": [
    "# data shape\n",
    "print(train_img.shape, train_label.shape, test_img.shape, test_label.shape)"
   ]
  },
  {
   "cell_type": "code",
   "execution_count": 56,
   "metadata": {},
   "outputs": [
    {
     "data": {
      "text/plain": [
       "(array([0, 1, 2, 3, 4, 5, 6, 7, 8, 9], dtype=uint8),\n",
       " array([6000, 6000, 6000, 6000, 6000, 6000, 6000, 6000, 6000, 6000],\n",
       "       dtype=int64))"
      ]
     },
     "execution_count": 56,
     "metadata": {},
     "output_type": "execute_result"
    }
   ],
   "source": [
    "# class 별 데이터 개수\n",
    "# train\n",
    "np.unique(train_label, return_counts=True)"
   ]
  },
  {
   "cell_type": "code",
   "execution_count": 57,
   "metadata": {},
   "outputs": [
    {
     "data": {
      "text/plain": [
       "(array([0, 1, 2, 3, 4, 5, 6, 7, 8, 9], dtype=uint8),\n",
       " array([1000, 1000, 1000, 1000, 1000, 1000, 1000, 1000, 1000, 1000],\n",
       "       dtype=int64))"
      ]
     },
     "execution_count": 57,
     "metadata": {},
     "output_type": "execute_result"
    }
   ],
   "source": [
    "# test\n",
    "np.unique(test_label, return_counts=True)"
   ]
  },
  {
   "cell_type": "code",
   "execution_count": 58,
   "metadata": {},
   "outputs": [],
   "source": [
    "# validation set\n",
    "from sklearn.model_selection import train_test_split\n",
    "train_img, val_img, train_label, val_label = train_test_split(train_img, train_label, test_size=0.2, stratify=train_label, random_state=0)"
   ]
  },
  {
   "cell_type": "code",
   "execution_count": 60,
   "metadata": {},
   "outputs": [
    {
     "name": "stdout",
     "output_type": "stream",
     "text": [
      "(48000, 28, 28) (12000, 28, 28)\n"
     ]
    },
    {
     "data": {
      "text/plain": [
       "(array([0, 1, 2, 3, 4, 5, 6, 7, 8, 9], dtype=uint8),\n",
       " array([4800, 4800, 4800, 4800, 4800, 4800, 4800, 4800, 4800, 4800],\n",
       "       dtype=int64))"
      ]
     },
     "execution_count": 60,
     "metadata": {},
     "output_type": "execute_result"
    }
   ],
   "source": [
    "print(train_img.shape, val_img.shape)\n",
    "np.unique(train_label, return_counts=True)"
   ]
  },
  {
   "cell_type": "markdown",
   "metadata": {},
   "source": [
    "### 이미지 확인"
   ]
  },
  {
   "cell_type": "code",
   "execution_count": 67,
   "metadata": {},
   "outputs": [
    {
     "data": {
      "image/png": "[encoded data removed]",
      "text/plain": [
       "<Figure size 720x360 with 5 Axes>"
      ]
     },
     "metadata": {
      "needs_background": "light"
     },
     "output_type": "display_data"
    }
   ],
   "source": [
    "plt.figure(figsize=(10,5))\n",
    "for i in range(5):\n",
    "    plt.subplot(1, 5, i+1)\n",
    "    plt.imshow(train_img[i], cmap='gray')\n",
    "    plt.title(f'{train_label[i]}.{class_names[train_label[i]]}')\n",
    "    plt.axis('off')\n",
    "\n",
    "plt.tight_layout()\n",
    "plt.show()"
   ]
  },
  {
   "cell_type": "markdown",
   "metadata": {},
   "source": [
    "### 하이퍼파라미터, 변수 정의"
   ]
  },
  {
   "cell_type": "code",
   "execution_count": 73,
   "metadata": {},
   "outputs": [],
   "source": [
    "# 하이퍼파라미터\n",
    "LEARNING_RATE = 0.001    # 학습률\n",
    "N_EPOCHS = 100\n",
    "N_BATCHS = 100\n",
    "\n",
    "# 변수\n",
    "N_TRAIN = train_img.shape[0]\n",
    "N_VAL = val_img.shape[0]\n",
    "N_TEST = test_img.shape[0]"
   ]
  },
  {
   "cell_type": "markdown",
   "metadata": {},
   "source": [
    "### X, y 전처리\n",
    "- y 값 처리\n",
    "    - label을 one hot encoding 처리 - keras.utils.to_categorical()\n",
    "- X 값(이미지) 처리\n",
    "    - 0~1 사이로 정규화. X/255.0 => Dataset 생성에서 처리"
   ]
  },
  {
   "cell_type": "code",
   "execution_count": 68,
   "metadata": {},
   "outputs": [
    {
     "name": "stdout",
     "output_type": "stream",
     "text": [
      "(48000, 10) (12000, 10) (10000, 10)\n"
     ]
    }
   ],
   "source": [
    "y_train = keras.utils.to_categorical(train_label)\n",
    "y_val = keras.utils.to_categorical(val_label)\n",
    "y_test = keras.utils.to_categorical(test_label)\n",
    "print(y_train.shape, y_val.shape, y_test.shape)"
   ]
  },
  {
   "cell_type": "code",
   "execution_count": 70,
   "metadata": {},
   "outputs": [
    {
     "data": {
      "text/plain": [
       "array([[0., 0., 0., 0., 0., 0., 1., 0., 0., 0.],\n",
       "       [0., 0., 0., 0., 0., 1., 0., 0., 0., 0.],\n",
       "       [1., 0., 0., 0., 0., 0., 0., 0., 0., 0.]], dtype=float32)"
      ]
     },
     "execution_count": 70,
     "metadata": {},
     "output_type": "execute_result"
    }
   ],
   "source": [
    "y_train[:3]"
   ]
  },
  {
   "cell_type": "code",
   "execution_count": 72,
   "metadata": {},
   "outputs": [],
   "source": [
    "# X의 타입을 uint8에서 float32로 변환 (원래는 여기에서 0~1사이의 값으로 변환하는 게 좋은데, Dataset에서 map함수 쓰는 거 연습할 거임)\n",
    "X_train = train_img.astype(np.float32)\n",
    "X_val = val_img.astype(np.float32)\n",
    "X_test = test_img.astype(np.float32)"
   ]
  },
  {
   "cell_type": "code",
   "execution_count": null,
   "metadata": {},
   "outputs": [],
   "source": [
    "# X_train = (train_img/255.0).astype(np.float32)\n",
    "# X_val = (val_img/255.0).astype(np.float32)\n",
    "# X_test = (test_img/255.0).astype(np.float32)"
   ]
  },
  {
   "cell_type": "markdown",
   "metadata": {},
   "source": [
    "### Dataset 생성\n",
    "- 데이터 입력 파이프라인"
   ]
  },
  {
   "cell_type": "code",
   "execution_count": 74,
   "metadata": {},
   "outputs": [],
   "source": [
    "train_dataset = tf.data.Dataset.from_tensor_slices((X_train, y_train))\\\n",
    "                               .map(lambda x, y: (x/255, y))\\\n",
    "                               .shuffle(N_TRAIN)\\\n",
    "                               .batch(N_BATCHS, drop_remainder=True)\n",
    "\n",
    "val_dataset = tf.data.Dataset.from_tensor_slices((X_val, y_val))\\\n",
    "                               .map(lambda x, y: (x/255, y))\\\n",
    "                               .batch(N_BATCHS)\n",
    "\n",
    "test_dataset = tf.data.Dataset.from_tensor_slices((X_test, y_test))\\\n",
    "                               .map(lambda x, y: (x/255, y))\\\n",
    "                               .batch(N_BATCHS)"
   ]
  },
  {
   "cell_type": "markdown",
   "metadata": {},
   "source": [
    "### 모델 생성 및 컴파일"
   ]
  },
  {
   "cell_type": "code",
   "execution_count": 75,
   "metadata": {},
   "outputs": [],
   "source": [
    "# 모델 생성 함수\n",
    "def create_mnist_model():\n",
    "    model = keras.Sequential()\n",
    "    model.add(layers.Flatten(input_shape=(28,28)))\n",
    "    model.add(layers.Dense(units=256, activation='relu'))\n",
    "    model.add(layers.Dense(units=128, activation='relu'))\n",
    "    model.add(layers.Dense(units=64, activation='relu'))\n",
    "    # 출력 레이어: 다중분류 - unit 개수 = class 개수, activation='softmax' ==> 10 개 각각의 확률값이 반환\n",
    "    model.add(layers.Dense(units=10, activation='softmax'))\n",
    "    \n",
    "    return model"
   ]
  },
  {
   "cell_type": "code",
   "execution_count": 76,
   "metadata": {},
   "outputs": [],
   "source": [
    "# 모델 생성 및 컴파일\n",
    "model = create_mnist_model()\n",
    "model.compile(optimizer=keras.optimizers.Adam(learning_rate=LEARNING_RATE),\n",
    "              loss='categorical_crossentropy',   # 다중분류의 loss는 categorical_crossentropy - 각각 예측 확률에 대한 오차\n",
    "              metrics=['accuracy'])   # 분류 문제는 metrics(평가지표)로 accuracy를 추가함"
   ]
  },
  {
   "cell_type": "code",
   "execution_count": 77,
   "metadata": {},
   "outputs": [
    {
     "name": "stdout",
     "output_type": "stream",
     "text": [
      "Model: \"sequential_1\"\n",
      "_________________________________________________________________\n",
      "Layer (type)                 Output Shape              Param #   \n",
      "=================================================================\n",
      "flatten (Flatten)            (None, 784)               0         \n",
      "_________________________________________________________________\n",
      "dense_4 (Dense)              (None, 256)               200960    \n",
      "_________________________________________________________________\n",
      "dense_5 (Dense)              (None, 128)               32896     \n",
      "_________________________________________________________________\n",
      "dense_6 (Dense)              (None, 64)                8256      \n",
      "_________________________________________________________________\n",
      "dense_7 (Dense)              (None, 10)                650       \n",
      "=================================================================\n",
      "Total params: 242,762\n",
      "Trainable params: 242,762\n",
      "Non-trainable params: 0\n",
      "_________________________________________________________________\n"
     ]
    }
   ],
   "source": [
    "model.summary()"
   ]
  },
  {
   "cell_type": "code",
   "execution_count": 78,
   "metadata": {},
   "outputs": [
    {
     "data": {
      "image/png": "[encoded data removed]",
      "text/plain": [
       "<IPython.core.display.Image object>"
      ]
     },
     "execution_count": 78,
     "metadata": {},
     "output_type": "execute_result"
    }
   ],
   "source": [
    "keras.utils.plot_model(model, show_shapes=True, to_file='fashion_mnist_model.png')"
   ]
  },
  {
   "cell_type": "code",
   "execution_count": null,
   "metadata": {},
   "outputs": [],
   "source": []
  },
  {
   "cell_type": "markdown",
   "metadata": {},
   "source": [
    "### 학습"
   ]
  },
  {
   "cell_type": "code",
   "execution_count": 79,
   "metadata": {},
   "outputs": [
    {
     "name": "stdout",
     "output_type": "stream",
     "text": [
      "Epoch 1/100\n",
      "480/480 [==============================] - 6s 7ms/step - loss: 0.5463 - accuracy: 0.8107 - val_loss: 0.4194 - val_accuracy: 0.8471\n",
      "Epoch 2/100\n",
      "480/480 [==============================] - 5s 7ms/step - loss: 0.3836 - accuracy: 0.8624 - val_loss: 0.3846 - val_accuracy: 0.8581\n",
      "Epoch 3/100\n",
      "480/480 [==============================] - 5s 8ms/step - loss: 0.3422 - accuracy: 0.8740 - val_loss: 0.3515 - val_accuracy: 0.8688\n",
      "Epoch 4/100\n",
      "480/480 [==============================] - 5s 8ms/step - loss: 0.3173 - accuracy: 0.8827 - val_loss: 0.3251 - val_accuracy: 0.8808\n",
      "Epoch 5/100\n",
      "480/480 [==============================] - 5s 8ms/step - loss: 0.2990 - accuracy: 0.8886 - val_loss: 0.3156 - val_accuracy: 0.8847\n",
      "Epoch 6/100\n",
      "480/480 [==============================] - 5s 8ms/step - loss: 0.2790 - accuracy: 0.8971 - val_loss: 0.3309 - val_accuracy: 0.8806\n",
      "Epoch 7/100\n",
      "480/480 [==============================] - 5s 8ms/step - loss: 0.2664 - accuracy: 0.9019 - val_loss: 0.3210 - val_accuracy: 0.8796\n",
      "Epoch 8/100\n",
      "480/480 [==============================] - 5s 8ms/step - loss: 0.2590 - accuracy: 0.9019 - val_loss: 0.3227 - val_accuracy: 0.8806\n",
      "Epoch 9/100\n",
      "480/480 [==============================] - 5s 8ms/step - loss: 0.2448 - accuracy: 0.9075 - val_loss: 0.3333 - val_accuracy: 0.8820\n",
      "Epoch 10/100\n",
      "480/480 [==============================] - 5s 8ms/step - loss: 0.2351 - accuracy: 0.9113 - val_loss: 0.3089 - val_accuracy: 0.8900\n",
      "Epoch 11/100\n",
      "480/480 [==============================] - 5s 8ms/step - loss: 0.2278 - accuracy: 0.9144 - val_loss: 0.3055 - val_accuracy: 0.8912\n",
      "Epoch 12/100\n",
      "480/480 [==============================] - 5s 8ms/step - loss: 0.2204 - accuracy: 0.9163 - val_loss: 0.3072 - val_accuracy: 0.8907\n",
      "Epoch 13/100\n",
      "480/480 [==============================] - 5s 8ms/step - loss: 0.2126 - accuracy: 0.9206 - val_loss: 0.3066 - val_accuracy: 0.8928\n",
      "Epoch 14/100\n",
      "480/480 [==============================] - 5s 8ms/step - loss: 0.2035 - accuracy: 0.9241 - val_loss: 0.2973 - val_accuracy: 0.8965\n",
      "Epoch 15/100\n",
      "480/480 [==============================] - 5s 8ms/step - loss: 0.1995 - accuracy: 0.9243 - val_loss: 0.3373 - val_accuracy: 0.88469 - accura - ETA: 0s - loss: 0.1995 - accura\n",
      "Epoch 16/100\n",
      "480/480 [==============================] - 5s 8ms/step - loss: 0.1910 - accuracy: 0.9284 - val_loss: 0.3303 - val_accuracy: 0.8882\n",
      "Epoch 17/100\n",
      "480/480 [==============================] - 5s 8ms/step - loss: 0.1860 - accuracy: 0.9289 - val_loss: 0.3549 - val_accuracy: 0.8795\n",
      "Epoch 18/100\n",
      "480/480 [==============================] - 5s 9ms/step - loss: 0.1797 - accuracy: 0.9309 - val_loss: 0.3224 - val_accuracy: 0.8952\n",
      "Epoch 19/100\n",
      "480/480 [==============================] - 5s 8ms/step - loss: 0.1713 - accuracy: 0.9344 - val_loss: 0.3233 - val_accuracy: 0.8950\n",
      "Epoch 20/100\n",
      "480/480 [==============================] - 5s 8ms/step - loss: 0.1657 - accuracy: 0.9366 - val_loss: 0.3361 - val_accuracy: 0.8907\n",
      "Epoch 21/100\n",
      "480/480 [==============================] - 5s 8ms/step - loss: 0.1590 - accuracy: 0.9390 - val_loss: 0.3419 - val_accuracy: 0.8896\n",
      "Epoch 22/100\n",
      "480/480 [==============================] - 5s 8ms/step - loss: 0.1595 - accuracy: 0.9389 - val_loss: 0.3581 - val_accuracy: 0.8896\n",
      "Epoch 23/100\n",
      "480/480 [==============================] - 5s 9ms/step - loss: 0.1575 - accuracy: 0.9405 - val_loss: 0.3442 - val_accuracy: 0.8938\n",
      "Epoch 24/100\n",
      "480/480 [==============================] - 5s 8ms/step - loss: 0.1434 - accuracy: 0.9453 - val_loss: 0.3398 - val_accuracy: 0.8940\n",
      "Epoch 25/100\n",
      "480/480 [==============================] - 6s 10ms/step - loss: 0.1426 - accuracy: 0.9454 - val_loss: 0.3561 - val_accuracy: 0.8932\n",
      "Epoch 26/100\n",
      "480/480 [==============================] - 5s 8ms/step - loss: 0.1400 - accuracy: 0.9466 - val_loss: 0.3560 - val_accuracy: 0.8914\n",
      "Epoch 27/100\n",
      "480/480 [==============================] - 6s 9ms/step - loss: 0.1335 - accuracy: 0.9497 - val_loss: 0.3893 - val_accuracy: 0.8877\n",
      "Epoch 28/100\n",
      "480/480 [==============================] - 5s 8ms/step - loss: 0.1325 - accuracy: 0.9490 - val_loss: 0.3791 - val_accuracy: 0.8953\n",
      "Epoch 29/100\n",
      "480/480 [==============================] - 5s 9ms/step - loss: 0.1296 - accuracy: 0.9500 - val_loss: 0.4228 - val_accuracy: 0.8890\n",
      "Epoch 30/100\n",
      "480/480 [==============================] - 5s 9ms/step - loss: 0.1225 - accuracy: 0.9538 - val_loss: 0.3879 - val_accuracy: 0.8957\n",
      "Epoch 31/100\n",
      "480/480 [==============================] - 5s 9ms/step - loss: 0.1209 - accuracy: 0.9544 - val_loss: 0.3732 - val_accuracy: 0.8983\n",
      "Epoch 32/100\n",
      "480/480 [==============================] - 5s 8ms/step - loss: 0.1176 - accuracy: 0.9544 - val_loss: 0.3946 - val_accuracy: 0.8899\n",
      "Epoch 33/100\n",
      "480/480 [==============================] - 6s 9ms/step - loss: 0.1153 - accuracy: 0.9563 - val_loss: 0.4136 - val_accuracy: 0.8942\n",
      "Epoch 34/100\n",
      "480/480 [==============================] - 6s 9ms/step - loss: 0.1076 - accuracy: 0.9588 - val_loss: 0.4143 - val_accuracy: 0.8915\n",
      "Epoch 35/100\n",
      "480/480 [==============================] - 5s 8ms/step - loss: 0.1060 - accuracy: 0.9594 - val_loss: 0.4320 - val_accuracy: 0.8969\n",
      "Epoch 36/100\n",
      "480/480 [==============================] - 5s 8ms/step - loss: 0.1032 - accuracy: 0.9603 - val_loss: 0.4805 - val_accuracy: 0.8937\n",
      "Epoch 37/100\n",
      "480/480 [==============================] - 5s 8ms/step - loss: 0.1002 - accuracy: 0.9617 - val_loss: 0.4605 - val_accuracy: 0.8923\n",
      "Epoch 38/100\n",
      "480/480 [==============================] - 5s 9ms/step - loss: 0.1019 - accuracy: 0.9613 - val_loss: 0.4299 - val_accuracy: 0.8893\n",
      "Epoch 39/100\n",
      "480/480 [==============================] - 5s 8ms/step - loss: 0.0963 - accuracy: 0.9632 - val_loss: 0.4298 - val_accuracy: 0.8991\n",
      "Epoch 40/100\n",
      "480/480 [==============================] - 5s 9ms/step - loss: 0.0966 - accuracy: 0.9629 - val_loss: 0.4504 - val_accuracy: 0.8943\n",
      "Epoch 41/100\n",
      "480/480 [==============================] - 5s 8ms/step - loss: 0.0899 - accuracy: 0.9648 - val_loss: 0.4989 - val_accuracy: 0.8917\n",
      "Epoch 42/100\n",
      "480/480 [==============================] - 5s 9ms/step - loss: 0.0906 - accuracy: 0.9653 - val_loss: 0.4720 - val_accuracy: 0.8981\n",
      "Epoch 43/100\n",
      "480/480 [==============================] - 6s 9ms/step - loss: 0.0836 - accuracy: 0.9671 - val_loss: 0.4473 - val_accuracy: 0.8920\n",
      "Epoch 44/100\n",
      "480/480 [==============================] - 5s 9ms/step - loss: 0.0833 - accuracy: 0.9677 - val_loss: 0.4999 - val_accuracy: 0.8932\n",
      "Epoch 45/100\n",
      "480/480 [==============================] - 5s 9ms/step - loss: 0.0868 - accuracy: 0.9669 - val_loss: 0.4415 - val_accuracy: 0.8956\n",
      "Epoch 46/100\n",
      "480/480 [==============================] - 5s 9ms/step - loss: 0.0831 - accuracy: 0.9683 - val_loss: 0.4661 - val_accuracy: 0.8926\n",
      "Epoch 47/100\n",
      "480/480 [==============================] - 5s 8ms/step - loss: 0.0857 - accuracy: 0.9672 - val_loss: 0.4725 - val_accuracy: 0.8956\n",
      "Epoch 48/100\n",
      "480/480 [==============================] - 5s 8ms/step - loss: 0.0721 - accuracy: 0.9720 - val_loss: 0.4955 - val_accuracy: 0.8965\n",
      "Epoch 49/100\n",
      "480/480 [==============================] - 5s 9ms/step - loss: 0.0722 - accuracy: 0.9722 - val_loss: 0.5463 - val_accuracy: 0.8913\n",
      "Epoch 50/100\n",
      "480/480 [==============================] - 5s 8ms/step - loss: 0.0755 - accuracy: 0.9713 - val_loss: 0.5369 - val_accuracy: 0.8977\n",
      "Epoch 51/100\n",
      "480/480 [==============================] - 6s 9ms/step - loss: 0.0679 - accuracy: 0.9732 - val_loss: 0.5077 - val_accuracy: 0.8953\n",
      "Epoch 52/100\n",
      "480/480 [==============================] - 6s 9ms/step - loss: 0.0767 - accuracy: 0.9707 - val_loss: 0.5446 - val_accuracy: 0.8913\n",
      "Epoch 53/100\n",
      "480/480 [==============================] - 6s 9ms/step - loss: 0.0687 - accuracy: 0.9735 - val_loss: 0.5406 - val_accuracy: 0.8968\n",
      "Epoch 54/100\n",
      "480/480 [==============================] - 5s 9ms/step - loss: 0.0689 - accuracy: 0.9734 - val_loss: 0.5360 - val_accuracy: 0.9007\n",
      "Epoch 55/100\n",
      "480/480 [==============================] - 5s 9ms/step - loss: 0.0648 - accuracy: 0.9756 - val_loss: 0.5191 - val_accuracy: 0.8972\n",
      "Epoch 56/100\n",
      "480/480 [==============================] - 5s 9ms/step - loss: 0.0659 - accuracy: 0.9741 - val_loss: 0.5954 - val_accuracy: 0.8892\n",
      "Epoch 57/100\n"
     ]
    },
    {
     "name": "stdout",
     "output_type": "stream",
     "text": [
      "480/480 [==============================] - 5s 8ms/step - loss: 0.0694 - accuracy: 0.9741 - val_loss: 0.5770 - val_accuracy: 0.8982\n",
      "Epoch 58/100\n",
      "480/480 [==============================] - 5s 8ms/step - loss: 0.0640 - accuracy: 0.9756 - val_loss: 0.5579 - val_accuracy: 0.8926\n",
      "Epoch 59/100\n",
      "480/480 [==============================] - 5s 8ms/step - loss: 0.0594 - accuracy: 0.9767 - val_loss: 0.6258 - val_accuracy: 0.8896\n",
      "Epoch 60/100\n",
      "480/480 [==============================] - 5s 8ms/step - loss: 0.0693 - accuracy: 0.9739 - val_loss: 0.6005 - val_accuracy: 0.8929\n",
      "Epoch 61/100\n",
      "480/480 [==============================] - 5s 8ms/step - loss: 0.0586 - accuracy: 0.9777 - val_loss: 0.6040 - val_accuracy: 0.8941\n",
      "Epoch 62/100\n",
      "480/480 [==============================] - 5s 8ms/step - loss: 0.0560 - accuracy: 0.9786 - val_loss: 0.6304 - val_accuracy: 0.8963\n",
      "Epoch 63/100\n",
      "480/480 [==============================] - 5s 8ms/step - loss: 0.0571 - accuracy: 0.9781 - val_loss: 0.6620 - val_accuracy: 0.8913\n",
      "Epoch 64/100\n",
      "480/480 [==============================] - 5s 8ms/step - loss: 0.0598 - accuracy: 0.9768 - val_loss: 0.5733 - val_accuracy: 0.8941\n",
      "Epoch 65/100\n",
      "480/480 [==============================] - 5s 8ms/step - loss: 0.0529 - accuracy: 0.9803 - val_loss: 0.5940 - val_accuracy: 0.8961\n",
      "Epoch 66/100\n",
      "480/480 [==============================] - 5s 8ms/step - loss: 0.0492 - accuracy: 0.9807 - val_loss: 0.6131 - val_accuracy: 0.8924\n",
      "Epoch 67/100\n",
      "480/480 [==============================] - 5s 8ms/step - loss: 0.0524 - accuracy: 0.9799 - val_loss: 0.6273 - val_accuracy: 0.8943\n",
      "Epoch 68/100\n",
      "480/480 [==============================] - 5s 8ms/step - loss: 0.0587 - accuracy: 0.9779 - val_loss: 0.5925 - val_accuracy: 0.8950\n",
      "Epoch 69/100\n",
      "480/480 [==============================] - 5s 8ms/step - loss: 0.0464 - accuracy: 0.9830 - val_loss: 0.6238 - val_accuracy: 0.8976\n",
      "Epoch 70/100\n",
      "480/480 [==============================] - 5s 8ms/step - loss: 0.0537 - accuracy: 0.9799 - val_loss: 0.6566 - val_accuracy: 0.8902\n",
      "Epoch 71/100\n",
      "480/480 [==============================] - 5s 8ms/step - loss: 0.0531 - accuracy: 0.9806 - val_loss: 0.6712 - val_accuracy: 0.8851\n",
      "Epoch 72/100\n",
      "480/480 [==============================] - 5s 8ms/step - loss: 0.0493 - accuracy: 0.9817 - val_loss: 0.6738 - val_accuracy: 0.8947\n",
      "Epoch 73/100\n",
      "480/480 [==============================] - 6s 9ms/step - loss: 0.0458 - accuracy: 0.9825 - val_loss: 0.6819 - val_accuracy: 0.8923\n",
      "Epoch 74/100\n",
      "480/480 [==============================] - 5s 8ms/step - loss: 0.0463 - accuracy: 0.9820 - val_loss: 0.6719 - val_accuracy: 0.8989\n",
      "Epoch 75/100\n",
      "480/480 [==============================] - 5s 9ms/step - loss: 0.0490 - accuracy: 0.9818 - val_loss: 0.6447 - val_accuracy: 0.8911\n",
      "Epoch 76/100\n",
      "480/480 [==============================] - 5s 9ms/step - loss: 0.0533 - accuracy: 0.9801 - val_loss: 0.6458 - val_accuracy: 0.8936\n",
      "Epoch 77/100\n",
      "480/480 [==============================] - 6s 9ms/step - loss: 0.0481 - accuracy: 0.9818 - val_loss: 0.6336 - val_accuracy: 0.8960\n",
      "Epoch 78/100\n",
      "480/480 [==============================] - 5s 9ms/step - loss: 0.0376 - accuracy: 0.9861 - val_loss: 0.6811 - val_accuracy: 0.8930\n",
      "Epoch 79/100\n",
      "480/480 [==============================] - 6s 9ms/step - loss: 0.0468 - accuracy: 0.9825 - val_loss: 0.6896 - val_accuracy: 0.8957\n",
      "Epoch 80/100\n",
      "480/480 [==============================] - 6s 9ms/step - loss: 0.0459 - accuracy: 0.9826 - val_loss: 0.7145 - val_accuracy: 0.8910\n",
      "Epoch 81/100\n",
      "480/480 [==============================] - 6s 9ms/step - loss: 0.0471 - accuracy: 0.9818 - val_loss: 0.7012 - val_accuracy: 0.8954\n",
      "Epoch 82/100\n",
      "480/480 [==============================] - 7s 10ms/step - loss: 0.0379 - accuracy: 0.9858 - val_loss: 0.7135 - val_accuracy: 0.8940\n",
      "Epoch 83/100\n",
      "480/480 [==============================] - 6s 9ms/step - loss: 0.0381 - accuracy: 0.9857 - val_loss: 0.7184 - val_accuracy: 0.8966\n",
      "Epoch 84/100\n",
      "480/480 [==============================] - 6s 9ms/step - loss: 0.0455 - accuracy: 0.9823 - val_loss: 0.7507 - val_accuracy: 0.8915\n",
      "Epoch 85/100\n",
      "480/480 [==============================] - 6s 10ms/step - loss: 0.0506 - accuracy: 0.9810 - val_loss: 0.6598 - val_accuracy: 0.8938\n",
      "Epoch 86/100\n",
      "480/480 [==============================] - 5s 9ms/step - loss: 0.0354 - accuracy: 0.9867 - val_loss: 0.7467 - val_accuracy: 0.8972\n",
      "Epoch 87/100\n",
      "480/480 [==============================] - 6s 10ms/step - loss: 0.0407 - accuracy: 0.9848 - val_loss: 0.7245 - val_accuracy: 0.8951\n",
      "Epoch 88/100\n",
      "480/480 [==============================] - 6s 9ms/step - loss: 0.0367 - accuracy: 0.9859 - val_loss: 0.7360 - val_accuracy: 0.8959\n",
      "Epoch 89/100\n",
      "480/480 [==============================] - 6s 10ms/step - loss: 0.0470 - accuracy: 0.9831 - val_loss: 0.7207 - val_accuracy: 0.8923\n",
      "Epoch 90/100\n",
      "480/480 [==============================] - 6s 10ms/step - loss: 0.0374 - accuracy: 0.9863 - val_loss: 0.7517 - val_accuracy: 0.8945\n",
      "Epoch 91/100\n",
      "480/480 [==============================] - 5s 8ms/step - loss: 0.0360 - accuracy: 0.9867 - val_loss: 0.7210 - val_accuracy: 0.8992\n",
      "Epoch 92/100\n",
      "480/480 [==============================] - 6s 9ms/step - loss: 0.0398 - accuracy: 0.9854 - val_loss: 0.7907 - val_accuracy: 0.8976\n",
      "Epoch 93/100\n",
      "480/480 [==============================] - 6s 9ms/step - loss: 0.0387 - accuracy: 0.9856 - val_loss: 0.7796 - val_accuracy: 0.8934\n",
      "Epoch 94/100\n",
      "480/480 [==============================] - 6s 9ms/step - loss: 0.0358 - accuracy: 0.9871 - val_loss: 0.7594 - val_accuracy: 0.8908\n",
      "Epoch 95/100\n",
      "480/480 [==============================] - 6s 10ms/step - loss: 0.0390 - accuracy: 0.9856 - val_loss: 0.7626 - val_accuracy: 0.8940\n",
      "Epoch 96/100\n",
      "480/480 [==============================] - 6s 10ms/step - loss: 0.0343 - accuracy: 0.9876 - val_loss: 0.7612 - val_accuracy: 0.8942\n",
      "Epoch 97/100\n",
      "480/480 [==============================] - 6s 9ms/step - loss: 0.0388 - accuracy: 0.9861 - val_loss: 0.7755 - val_accuracy: 0.8942\n",
      "Epoch 98/100\n",
      "480/480 [==============================] - 5s 9ms/step - loss: 0.0324 - accuracy: 0.9881 - val_loss: 0.7597 - val_accuracy: 0.8932\n",
      "Epoch 99/100\n",
      "480/480 [==============================] - 6s 9ms/step - loss: 0.0332 - accuracy: 0.9879 - val_loss: 0.7537 - val_accuracy: 0.8941\n",
      "Epoch 100/100\n",
      "480/480 [==============================] - 6s 10ms/step - loss: 0.0322 - accuracy: 0.9881 - val_loss: 0.7607 - val_accuracy: 0.8978\n"
     ]
    }
   ],
   "source": [
    "hist = model.fit(train_dataset, epochs=N_EPOCHS, validation_data=val_dataset)"
   ]
  },
  {
   "cell_type": "code",
   "execution_count": 80,
   "metadata": {},
   "outputs": [
    {
     "data": {
      "image/png": "[encoded data removed]",
      "text/plain": [
       "<Figure size 504x432 with 1 Axes>"
      ]
     },
     "metadata": {
      "needs_background": "light"
     },
     "output_type": "display_data"
    }
   ],
   "source": [
    "plt.figure(figsize=(7,6))\n",
    "plt.plot(range(1, N_EPOCHS+1), hist.history['loss'], label='train loss')\n",
    "plt.plot(range(1, N_EPOCHS+1), hist.history['val_loss'], label='validation loss')\n",
    "plt.title('loss', fontsize=20)\n",
    "plt.xlabel('epochs')\n",
    "plt.ylabel('loss')\n",
    "plt.legend()\n",
    "plt.show()"
   ]
  },
  {
   "cell_type": "code",
   "execution_count": 81,
   "metadata": {
    "scrolled": false
   },
   "outputs": [
    {
     "data": {
      "image/png": "[encoded data removed]",
      "text/plain": [
       "<Figure size 504x432 with 1 Axes>"
      ]
     },
     "metadata": {
      "needs_background": "light"
     },
     "output_type": "display_data"
    }
   ],
   "source": [
    "plt.figure(figsize=(7,6))\n",
    "plt.plot(range(1, N_EPOCHS+1), hist.history['accuracy'], label='train accuracy')\n",
    "plt.plot(range(1, N_EPOCHS+1), hist.history['val_accuracy'], label='validation accuracy')\n",
    "plt.title('accuracy', fontsize=20)\n",
    "plt.xlabel('epochs')\n",
    "plt.ylabel('accuracy')\n",
    "plt.legend()\n",
    "plt.show()"
   ]
  },
  {
   "cell_type": "markdown",
   "metadata": {},
   "source": [
    "### 최종 평가"
   ]
  },
  {
   "cell_type": "code",
   "execution_count": 82,
   "metadata": {},
   "outputs": [
    {
     "name": "stdout",
     "output_type": "stream",
     "text": [
      "100/100 [==============================] - 1s 4ms/step - loss: 0.8249 - accuracy: 0.8939\n"
     ]
    }
   ],
   "source": [
    "loss, accuracy = model.evaluate(test_dataset)"
   ]
  },
  {
   "cell_type": "code",
   "execution_count": 83,
   "metadata": {},
   "outputs": [
    {
     "name": "stdout",
     "output_type": "stream",
     "text": [
      "0.8248599767684937 0.8938999772071838\n"
     ]
    }
   ],
   "source": [
    "print(loss, accuracy)"
   ]
  },
  {
   "cell_type": "markdown",
   "metadata": {},
   "source": [
    "### 새로운 데이터 추론"
   ]
  },
  {
   "cell_type": "code",
   "execution_count": 84,
   "metadata": {},
   "outputs": [],
   "source": [
    "new_input = X_test[:5]\n",
    "new_input = new_input/255   # 정규화 처리\n",
    "\n",
    "# 예측\n",
    "pred = model.predict(new_input)"
   ]
  },
  {
   "cell_type": "code",
   "execution_count": 86,
   "metadata": {},
   "outputs": [
    {
     "data": {
      "text/plain": [
       "array([9, 2, 1, 1, 0], dtype=int64)"
      ]
     },
     "execution_count": 86,
     "metadata": {},
     "output_type": "execute_result"
    }
   ],
   "source": [
    "pred_class = np.argmax(pred, axis=-1)\n",
    "pred_class"
   ]
  },
  {
   "cell_type": "code",
   "execution_count": 91,
   "metadata": {},
   "outputs": [
    {
     "data": {
      "text/plain": [
       "array([9, 2, 1, 1, 6], dtype=uint8)"
      ]
     },
     "execution_count": 91,
     "metadata": {},
     "output_type": "execute_result"
    }
   ],
   "source": [
    "test_label[:5]"
   ]
  },
  {
   "cell_type": "code",
   "execution_count": 90,
   "metadata": {},
   "outputs": [
    {
     "data": {
      "text/plain": [
       "array(['Ankle boot', 'Pullover', 'Trousers', 'Trousers', 'T-shirt/top'],\n",
       "      dtype='<U11')"
      ]
     },
     "execution_count": 90,
     "metadata": {},
     "output_type": "execute_result"
    }
   ],
   "source": [
    "class_name = np.array(class_names)\n",
    "class_name[pred_class]"
   ]
  },
  {
   "cell_type": "code",
   "execution_count": null,
   "metadata": {},
   "outputs": [],
   "source": []
  },
  {
   "cell_type": "markdown",
   "metadata": {},
   "source": [
    "### 위스콘신 유방암 데이터셋 - 이진분류 문제\n",
    "- 위스콘신 대학교에서 제공한 종양의 악성/양성여부 분류를 위한 데이터셋\n",
    "- Feature\n",
    "    - 종양에 대한 다양한 측정값들\n",
    "- Target의 class\n",
    "    - 0 - malignant(악성종양)\n",
    "    - 1 - benign(양성종양)"
   ]
  },
  {
   "cell_type": "code",
   "execution_count": null,
   "metadata": {},
   "outputs": [],
   "source": []
  },
  {
   "cell_type": "code",
   "execution_count": null,
   "metadata": {},
   "outputs": [],
   "source": []
  },
  {
   "cell_type": "code",
   "execution_count": null,
   "metadata": {},
   "outputs": [],
   "source": []
  },
  {
   "cell_type": "code",
   "execution_count": null,
   "metadata": {},
   "outputs": [],
   "source": []
  },
  {
   "cell_type": "code",
   "execution_count": null,
   "metadata": {},
   "outputs": [],
   "source": []
  }
 ],
 "metadata": {
  "kernelspec": {
   "display_name": "Python 3 (ipykernel)",
   "language": "python",
   "name": "python3"
  },
  "language_info": {
   "codemirror_mode": {
    "name": "ipython",
    "version": 3
   },
   "file_extension": ".py",
   "mimetype": "text/x-python",
   "name": "python",
   "nbconvert_exporter": "python",
   "pygments_lexer": "ipython3",
   "version": "3.8.11"
  },
  "toc": {
   "base_numbering": 1,
   "nav_menu": {},
   "number_sections": false,
   "sideBar": true,
   "skip_h1_title": false,
   "title_cell": "Table of Contents",
   "title_sidebar": "Contents",
   "toc_cell": false,
   "toc_position": {},
   "toc_section_display": true,
   "toc_window_display": false
  },
  "varInspector": {
   "cols": {
    "lenName": 16,
    "lenType": 16,
    "lenVar": 40
   },
   "kernels_config": {
    "python": {
     "delete_cmd_postfix": "",
     "delete_cmd_prefix": "del ",
     "library": "var_list.py",
     "varRefreshCmd": "print(var_dic_list())"
    },
    "r": {
     "delete_cmd_postfix": ") ",
     "delete_cmd_prefix": "rm(",
     "library": "var_list.r",
     "varRefreshCmd": "cat(var_dic_list()) "
    }
   },
   "types_to_exclude": [
    "module",
    "function",
    "builtin_function_or_method",
    "instance",
    "_Feature"
   ],
   "window_display": false
  }
 },
 "nbformat": 4,
 "nbformat_minor": 2
}
