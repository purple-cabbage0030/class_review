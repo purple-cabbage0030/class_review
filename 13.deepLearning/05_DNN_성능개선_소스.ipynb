{
 "cells": [
  {
   "cell_type": "code",
   "execution_count": 1,
   "id": "92dabbdd",
   "metadata": {},
   "outputs": [],
   "source": [
    "import numpy as np\n",
    "import tensorflow as tf\n",
    "from tensorflow import keras\n",
    "from tensorflow.keras import layers\n",
    "\n",
    "import matplotlib as mpl\n",
    "import matplotlib.pyplot as plt\n",
    "\n",
    "np.random.seed(0)\n",
    "tf.random.set_seed(0)"
   ]
  },
  {
   "cell_type": "code",
   "execution_count": 2,
   "id": "a38403ec",
   "metadata": {},
   "outputs": [],
   "source": [
    "# matplotlib 기본 설정\n",
    "mpl.rcParams['font.family'] = 'malgun gothic'\n",
    "mpl.rcParams['axes.unicode_minus'] = False\n",
    "mpl.rcParams['axes.titlesize'] = 20"
   ]
  },
  {
   "cell_type": "code",
   "execution_count": 3,
   "id": "e5437255",
   "metadata": {},
   "outputs": [],
   "source": [
    "# 학습 결과 plotting 함수\n",
    "# loss 출력 함수\n",
    "def plot_loss(epochs, history):\n",
    "    plt.figure(figsize=(7,6))\n",
    "    plt.plot(range(1, epochs+1), history.history['loss'], label='Train Loss')\n",
    "    plt.plot(range(1, epochs+1), history.history['val_loss'], label='Validation Loss')    \n",
    "    plt.title('Loss')\n",
    "    plt.xlabel('Epochs')\n",
    "    plt.ylabel('Loss')\n",
    "    plt.legend()\n",
    "    plt.show()"
   ]
  },
  {
   "cell_type": "code",
   "execution_count": 4,
   "id": "f3c834cd",
   "metadata": {},
   "outputs": [],
   "source": [
    "# Accuracy 출력 함수\n",
    "def plot_acc(epochs, history):\n",
    "    plt.figure(figsize=(7,6))\n",
    "    plt.plot(range(1, epochs+1), history.history['accuracy'], label='Train Accuracy')\n",
    "    plt.plot(range(1, epochs+1), history.history['val_accuracy'], label='Validation Accuracy')    \n",
    "    plt.title('Accuracy')\n",
    "    plt.xlabel('Epochs')\n",
    "    plt.ylabel('Accuracy')\n",
    "    plt.legend()\n",
    "    plt.show()"
   ]
  },
  {
   "cell_type": "markdown",
   "id": "0d8b7c76",
   "metadata": {},
   "source": [
    "### 데이터 로딩"
   ]
  },
  {
   "cell_type": "code",
   "execution_count": 5,
   "id": "a7946697",
   "metadata": {},
   "outputs": [
    {
     "data": {
      "text/plain": [
       "((60000, 28, 28), (10000, 28, 28))"
      ]
     },
     "execution_count": 5,
     "metadata": {},
     "output_type": "execute_result"
    }
   ],
   "source": [
    "(train_img, train_label), (test_img, test_label) = keras.datasets.mnist.load_data()\n",
    "train_img.shape, test_img.shape"
   ]
  },
  {
   "cell_type": "markdown",
   "id": "0503c6c4",
   "metadata": {},
   "source": [
    "### 하이퍼파라미터, 변수 정의"
   ]
  },
  {
   "cell_type": "code",
   "execution_count": 6,
   "id": "853366e4",
   "metadata": {},
   "outputs": [],
   "source": [
    "LEARNING_RATE = 0.001\n",
    "N_EPOCHS = 20\n",
    "N_BATCHS = 100\n",
    "\n",
    "# 데이터 개수\n",
    "N_TRAIN = train_img.shape[0]\n",
    "N_TEST = test_img.shape[0]"
   ]
  },
  {
   "cell_type": "markdown",
   "id": "945e96bb",
   "metadata": {},
   "source": [
    "### 전처리\n",
    "- image: 0 ~ 1로 정규화\n",
    "- label: one hot encoding"
   ]
  },
  {
   "cell_type": "code",
   "execution_count": 7,
   "id": "5d6e81de",
   "metadata": {},
   "outputs": [],
   "source": [
    "X_train = (train_img/255.0).astype(np.float32)\n",
    "X_test = (test_img/255.0).astype(np.float32)"
   ]
  },
  {
   "cell_type": "code",
   "execution_count": 8,
   "id": "8da7286b",
   "metadata": {},
   "outputs": [],
   "source": [
    "y_train = keras.utils.to_categorical(train_label)\n",
    "y_test = keras.utils.to_categorical(test_label)"
   ]
  },
  {
   "cell_type": "code",
   "execution_count": 9,
   "id": "924fbbe4",
   "metadata": {},
   "outputs": [
    {
     "data": {
      "text/plain": [
       "(0.0, 1.0, 0.0, 1.0, dtype('float32'))"
      ]
     },
     "execution_count": 9,
     "metadata": {},
     "output_type": "execute_result"
    }
   ],
   "source": [
    "np.min(X_train), np.max(X_train), np.min(X_test), np.max(X_test), X_train.dtype"
   ]
  },
  {
   "cell_type": "code",
   "execution_count": 10,
   "id": "a2bc3cf4",
   "metadata": {},
   "outputs": [
    {
     "data": {
      "text/plain": [
       "((60000, 10), (10000, 10))"
      ]
     },
     "execution_count": 10,
     "metadata": {},
     "output_type": "execute_result"
    }
   ],
   "source": [
    "y_train.shape, y_test.shape"
   ]
  },
  {
   "cell_type": "markdown",
   "id": "10c96424",
   "metadata": {},
   "source": [
    "### Dataset 생성"
   ]
  },
  {
   "cell_type": "code",
   "execution_count": 11,
   "id": "d7be2723",
   "metadata": {},
   "outputs": [],
   "source": [
    "train_dataset = tf.data.Dataset.from_tensor_slices((X_train, y_train)).shuffle(N_TRAIN).batch(N_BATCHS)\n",
    "test_dataset = tf.data.Dataset.from_tensor_slices((X_test, y_test)).batch(N_BATCHS)"
   ]
  },
  {
   "cell_type": "markdown",
   "id": "a77c371b",
   "metadata": {},
   "source": [
    "## 모델의 크기 변경에 따른 차이"
   ]
  },
  {
   "cell_type": "code",
   "execution_count": 15,
   "id": "33eb20f4",
   "metadata": {},
   "outputs": [],
   "source": [
    "# smaller model\n",
    "def create_small_model():\n",
    "    model = keras.Sequential()\n",
    "    model.add(layers.Flatten(input_shape=(28,28)))\n",
    "    model.add(layers.Dense(units=8, activation='relu'))\n",
    "    model.add(layers.Dense(units=10, activation='softmax'))\n",
    "    return model"
   ]
  },
  {
   "cell_type": "code",
   "execution_count": 19,
   "id": "c6a4e745",
   "metadata": {},
   "outputs": [],
   "source": [
    "model = create_small_model()\n",
    "model.compile(optimizer=keras.optimizers.Adam(learning_rate=LEARNING_RATE), loss='categorical_crossentropy', metrics=['accuracy'])"
   ]
  },
  {
   "cell_type": "code",
   "execution_count": 20,
   "id": "3a1d920b",
   "metadata": {},
   "outputs": [
    {
     "name": "stdout",
     "output_type": "stream",
     "text": [
      "Model: \"sequential_2\"\n",
      "_________________________________________________________________\n",
      "Layer (type)                 Output Shape              Param #   \n",
      "=================================================================\n",
      "flatten_1 (Flatten)          (None, 784)               0         \n",
      "_________________________________________________________________\n",
      "dense_2 (Dense)              (None, 8)                 6280      \n",
      "_________________________________________________________________\n",
      "dense_3 (Dense)              (None, 10)                90        \n",
      "=================================================================\n",
      "Total params: 6,370\n",
      "Trainable params: 6,370\n",
      "Non-trainable params: 0\n",
      "_________________________________________________________________\n"
     ]
    }
   ],
   "source": [
    "model.summary()"
   ]
  },
  {
   "cell_type": "code",
   "execution_count": 21,
   "id": "164251ed",
   "metadata": {},
   "outputs": [
    {
     "name": "stdout",
     "output_type": "stream",
     "text": [
      "Epoch 1/50\n",
      "600/600 [==============================] - 2s 3ms/step - loss: 0.8828 - accuracy: 0.7239 - val_loss: 0.4334 - val_accuracy: 0.8764\n",
      "Epoch 2/50\n",
      "600/600 [==============================] - 1s 2ms/step - loss: 0.4025 - accuracy: 0.8856 - val_loss: 0.3540 - val_accuracy: 0.8985\n",
      "Epoch 3/50\n",
      "600/600 [==============================] - 2s 2ms/step - loss: 0.3500 - accuracy: 0.9002 - val_loss: 0.3227 - val_accuracy: 0.9083\n",
      "Epoch 4/50\n",
      "600/600 [==============================] - 2s 2ms/step - loss: 0.3234 - accuracy: 0.9083 - val_loss: 0.3122 - val_accuracy: 0.9116\n",
      "Epoch 5/50\n",
      "600/600 [==============================] - 1s 2ms/step - loss: 0.3070 - accuracy: 0.9140 - val_loss: 0.2966 - val_accuracy: 0.9164\n",
      "Epoch 6/50\n",
      "600/600 [==============================] - 2s 2ms/step - loss: 0.2961 - accuracy: 0.9169 - val_loss: 0.2906 - val_accuracy: 0.9182\n",
      "Epoch 7/50\n",
      "600/600 [==============================] - 2s 2ms/step - loss: 0.2887 - accuracy: 0.9190 - val_loss: 0.2861 - val_accuracy: 0.9196\n",
      "Epoch 8/50\n",
      "600/600 [==============================] - 2s 2ms/step - loss: 0.2833 - accuracy: 0.9210 - val_loss: 0.2849 - val_accuracy: 0.9207\n",
      "Epoch 9/50\n",
      "600/600 [==============================] - 2s 2ms/step - loss: 0.2791 - accuracy: 0.9233 - val_loss: 0.2902 - val_accuracy: 0.9191\n",
      "Epoch 10/50\n",
      "600/600 [==============================] - 2s 2ms/step - loss: 0.2760 - accuracy: 0.9234 - val_loss: 0.2808 - val_accuracy: 0.9211\n",
      "Epoch 11/50\n",
      "600/600 [==============================] - 2s 2ms/step - loss: 0.2726 - accuracy: 0.9244 - val_loss: 0.2853 - val_accuracy: 0.9198\n",
      "Epoch 12/50\n",
      "600/600 [==============================] - 1s 2ms/step - loss: 0.2700 - accuracy: 0.9245 - val_loss: 0.2851 - val_accuracy: 0.9199\n",
      "Epoch 13/50\n",
      "600/600 [==============================] - 1s 2ms/step - loss: 0.2681 - accuracy: 0.9256 - val_loss: 0.2820 - val_accuracy: 0.9225\n",
      "Epoch 14/50\n",
      "600/600 [==============================] - 2s 2ms/step - loss: 0.2657 - accuracy: 0.9259 - val_loss: 0.2822 - val_accuracy: 0.9232\n",
      "Epoch 15/50\n",
      "600/600 [==============================] - 2s 2ms/step - loss: 0.2642 - accuracy: 0.9261 - val_loss: 0.2814 - val_accuracy: 0.9207\n",
      "Epoch 16/50\n",
      "600/600 [==============================] - 2s 2ms/step - loss: 0.2622 - accuracy: 0.9262 - val_loss: 0.2805 - val_accuracy: 0.9219\n",
      "Epoch 17/50\n",
      "600/600 [==============================] - 1s 2ms/step - loss: 0.2601 - accuracy: 0.9284 - val_loss: 0.2837 - val_accuracy: 0.9225\n",
      "Epoch 18/50\n",
      "600/600 [==============================] - 2s 2ms/step - loss: 0.2586 - accuracy: 0.9277 - val_loss: 0.2790 - val_accuracy: 0.9222\n",
      "Epoch 19/50\n",
      "600/600 [==============================] - 1s 2ms/step - loss: 0.2570 - accuracy: 0.9282 - val_loss: 0.2809 - val_accuracy: 0.9230\n",
      "Epoch 20/50\n",
      "600/600 [==============================] - 1s 2ms/step - loss: 0.2560 - accuracy: 0.9282 - val_loss: 0.2795 - val_accuracy: 0.9227\n",
      "Epoch 21/50\n",
      "600/600 [==============================] - 1s 2ms/step - loss: 0.2544 - accuracy: 0.9288 - val_loss: 0.2803 - val_accuracy: 0.9235\n",
      "Epoch 22/50\n",
      "600/600 [==============================] - 2s 2ms/step - loss: 0.2528 - accuracy: 0.9289 - val_loss: 0.2828 - val_accuracy: 0.9214\n",
      "Epoch 23/50\n",
      "600/600 [==============================] - 2s 2ms/step - loss: 0.2519 - accuracy: 0.9286 - val_loss: 0.2805 - val_accuracy: 0.9215\n",
      "Epoch 24/50\n",
      "600/600 [==============================] - 2s 2ms/step - loss: 0.2503 - accuracy: 0.9294 - val_loss: 0.2793 - val_accuracy: 0.9237\n",
      "Epoch 25/50\n",
      "600/600 [==============================] - 2s 2ms/step - loss: 0.2488 - accuracy: 0.9302 - val_loss: 0.2776 - val_accuracy: 0.9244\n",
      "Epoch 26/50\n",
      "600/600 [==============================] - 1s 2ms/step - loss: 0.2475 - accuracy: 0.9299 - val_loss: 0.2792 - val_accuracy: 0.9229\n",
      "Epoch 27/50\n",
      "600/600 [==============================] - 1s 2ms/step - loss: 0.2462 - accuracy: 0.9305 - val_loss: 0.2765 - val_accuracy: 0.9241\n",
      "Epoch 28/50\n",
      "600/600 [==============================] - 1s 2ms/step - loss: 0.2444 - accuracy: 0.9309 - val_loss: 0.2765 - val_accuracy: 0.9226\n",
      "Epoch 29/50\n",
      "600/600 [==============================] - 2s 2ms/step - loss: 0.2437 - accuracy: 0.9312 - val_loss: 0.2773 - val_accuracy: 0.9250\n",
      "Epoch 30/50\n",
      "600/600 [==============================] - 2s 2ms/step - loss: 0.2424 - accuracy: 0.9319 - val_loss: 0.2757 - val_accuracy: 0.9257\n",
      "Epoch 31/50\n",
      "600/600 [==============================] - 2s 2ms/step - loss: 0.2417 - accuracy: 0.9319 - val_loss: 0.2765 - val_accuracy: 0.9250\n",
      "Epoch 32/50\n",
      "600/600 [==============================] - 2s 2ms/step - loss: 0.2406 - accuracy: 0.9322 - val_loss: 0.2773 - val_accuracy: 0.9241\n",
      "Epoch 33/50\n",
      "600/600 [==============================] - 2s 2ms/step - loss: 0.2390 - accuracy: 0.9322 - val_loss: 0.2747 - val_accuracy: 0.9251\n",
      "Epoch 34/50\n",
      "600/600 [==============================] - 2s 2ms/step - loss: 0.2381 - accuracy: 0.9324 - val_loss: 0.2743 - val_accuracy: 0.9246\n",
      "Epoch 35/50\n",
      "600/600 [==============================] - 2s 2ms/step - loss: 0.2375 - accuracy: 0.9321 - val_loss: 0.2787 - val_accuracy: 0.9239\n",
      "Epoch 36/50\n",
      "600/600 [==============================] - 2s 2ms/step - loss: 0.2370 - accuracy: 0.9326 - val_loss: 0.2735 - val_accuracy: 0.9254\n",
      "Epoch 37/50\n",
      "600/600 [==============================] - 2s 2ms/step - loss: 0.2354 - accuracy: 0.9329 - val_loss: 0.2766 - val_accuracy: 0.9223\n",
      "Epoch 38/50\n",
      "600/600 [==============================] - 2s 2ms/step - loss: 0.2346 - accuracy: 0.9327 - val_loss: 0.2783 - val_accuracy: 0.9250\n",
      "Epoch 39/50\n",
      "600/600 [==============================] - 2s 2ms/step - loss: 0.2341 - accuracy: 0.9333 - val_loss: 0.2741 - val_accuracy: 0.9240\n",
      "Epoch 40/50\n",
      "600/600 [==============================] - 2s 2ms/step - loss: 0.2336 - accuracy: 0.9334 - val_loss: 0.2741 - val_accuracy: 0.9252\n",
      "Epoch 41/50\n",
      "600/600 [==============================] - 2s 2ms/step - loss: 0.2327 - accuracy: 0.9336 - val_loss: 0.2760 - val_accuracy: 0.9234\n",
      "Epoch 42/50\n",
      "600/600 [==============================] - 1s 2ms/step - loss: 0.2319 - accuracy: 0.9337 - val_loss: 0.2720 - val_accuracy: 0.9253\n",
      "Epoch 43/50\n",
      "600/600 [==============================] - 2s 2ms/step - loss: 0.2314 - accuracy: 0.9344 - val_loss: 0.2741 - val_accuracy: 0.9255\n",
      "Epoch 44/50\n",
      "600/600 [==============================] - 2s 2ms/step - loss: 0.2309 - accuracy: 0.9343 - val_loss: 0.2751 - val_accuracy: 0.9240\n",
      "Epoch 45/50\n",
      "600/600 [==============================] - 2s 2ms/step - loss: 0.2299 - accuracy: 0.9343 - val_loss: 0.2747 - val_accuracy: 0.9238\n",
      "Epoch 46/50\n",
      "600/600 [==============================] - 2s 2ms/step - loss: 0.2299 - accuracy: 0.9349 - val_loss: 0.2766 - val_accuracy: 0.9233\n",
      "Epoch 47/50\n",
      "600/600 [==============================] - 2s 2ms/step - loss: 0.2295 - accuracy: 0.9343 - val_loss: 0.2711 - val_accuracy: 0.9253\n",
      "Epoch 48/50\n",
      "600/600 [==============================] - 2s 2ms/step - loss: 0.2281 - accuracy: 0.9342 - val_loss: 0.2721 - val_accuracy: 0.9257\n",
      "Epoch 49/50\n",
      "600/600 [==============================] - 2s 2ms/step - loss: 0.2277 - accuracy: 0.9351 - val_loss: 0.2739 - val_accuracy: 0.9230\n",
      "Epoch 50/50\n",
      "600/600 [==============================] - 2s 2ms/step - loss: 0.2269 - accuracy: 0.9350 - val_loss: 0.2732 - val_accuracy: 0.9245\n"
     ]
    }
   ],
   "source": [
    "hist = model.fit(train_dataset, epochs=N_EPOCHS, validation_data=test_dataset)   # N_EPOCHS = 50"
   ]
  },
  {
   "cell_type": "code",
   "execution_count": 22,
   "id": "b8cca243",
   "metadata": {},
   "outputs": [
    {
     "data": {
      "image/png": "[encoded data removed]",
      "text/plain": [
       "<Figure size 504x432 with 1 Axes>"
      ]
     },
     "metadata": {
      "needs_background": "light"
     },
     "output_type": "display_data"
    }
   ],
   "source": [
    "plot_loss(N_EPOCHS, hist)"
   ]
  },
  {
   "cell_type": "code",
   "execution_count": 23,
   "id": "bf9ec8c1",
   "metadata": {},
   "outputs": [
    {
     "data": {
      "image/png": "[encoded data removed]",
      "text/plain": [
       "<Figure size 504x432 with 1 Axes>"
      ]
     },
     "metadata": {
      "needs_background": "light"
     },
     "output_type": "display_data"
    }
   ],
   "source": [
    "plot_acc(N_EPOCHS, hist)"
   ]
  },
  {
   "cell_type": "code",
   "execution_count": 25,
   "id": "2e8d7094",
   "metadata": {},
   "outputs": [],
   "source": [
    "# bigger model\n",
    "# hidden layer: dense - 4개, 각각 units=256, 256, 128, 128, activation='relu'\n",
    "def create_big_model():\n",
    "    model = keras.Sequential()\n",
    "    model.add(layers.Flatten(input_shape=(28,28)))\n",
    "    model.add(layers.Dense(units=256, activation='relu'))\n",
    "    model.add(layers.Dense(units=256, activation='relu'))\n",
    "    model.add(layers.Dense(units=128, activation='relu'))\n",
    "    model.add(layers.Dense(units=128, activation='relu'))\n",
    "    model.add(layers.Dense(units=10, activation='softmax'))\n",
    "    return model"
   ]
  },
  {
   "cell_type": "code",
   "execution_count": 26,
   "id": "d2195aa2",
   "metadata": {},
   "outputs": [],
   "source": [
    "model = create_big_model()\n",
    "model.compile(optimizer=keras.optimizers.Adam(learning_rate=LEARNING_RATE), loss='categorical_crossentropy', metrics=['accuracy'])"
   ]
  },
  {
   "cell_type": "code",
   "execution_count": 27,
   "id": "c78b3abd",
   "metadata": {},
   "outputs": [
    {
     "name": "stdout",
     "output_type": "stream",
     "text": [
      "Model: \"sequential_3\"\n",
      "_________________________________________________________________\n",
      "Layer (type)                 Output Shape              Param #   \n",
      "=================================================================\n",
      "flatten_2 (Flatten)          (None, 784)               0         \n",
      "_________________________________________________________________\n",
      "dense_4 (Dense)              (None, 256)               200960    \n",
      "_________________________________________________________________\n",
      "dense_5 (Dense)              (None, 256)               65792     \n",
      "_________________________________________________________________\n",
      "dense_6 (Dense)              (None, 128)               32896     \n",
      "_________________________________________________________________\n",
      "dense_7 (Dense)              (None, 128)               16512     \n",
      "_________________________________________________________________\n",
      "dense_8 (Dense)              (None, 10)                1290      \n",
      "=================================================================\n",
      "Total params: 317,450\n",
      "Trainable params: 317,450\n",
      "Non-trainable params: 0\n",
      "_________________________________________________________________\n"
     ]
    }
   ],
   "source": [
    "model.summary()"
   ]
  },
  {
   "cell_type": "code",
   "execution_count": 28,
   "id": "ddca7658",
   "metadata": {
    "scrolled": true
   },
   "outputs": [
    {
     "name": "stdout",
     "output_type": "stream",
     "text": [
      "Epoch 1/20\n",
      "600/600 [==============================] - 4s 6ms/step - loss: 0.2436 - accuracy: 0.9277 - val_loss: 0.1239 - val_accuracy: 0.9588\n",
      "Epoch 2/20\n",
      "600/600 [==============================] - 4s 6ms/step - loss: 0.0952 - accuracy: 0.9707 - val_loss: 0.1006 - val_accuracy: 0.9681\n",
      "Epoch 3/20\n",
      "600/600 [==============================] - 4s 7ms/step - loss: 0.0653 - accuracy: 0.9793 - val_loss: 0.0932 - val_accuracy: 0.9718\n",
      "Epoch 4/20\n",
      "600/600 [==============================] - 4s 7ms/step - loss: 0.0509 - accuracy: 0.9835 - val_loss: 0.0876 - val_accuracy: 0.9745\n",
      "Epoch 5/20\n",
      "600/600 [==============================] - 4s 6ms/step - loss: 0.0391 - accuracy: 0.9874 - val_loss: 0.0786 - val_accuracy: 0.9772\n",
      "Epoch 6/20\n",
      "600/600 [==============================] - 4s 6ms/step - loss: 0.0334 - accuracy: 0.9893 - val_loss: 0.0837 - val_accuracy: 0.9763\n",
      "Epoch 7/20\n",
      "600/600 [==============================] - 4s 6ms/step - loss: 0.0287 - accuracy: 0.9910 - val_loss: 0.0863 - val_accuracy: 0.9780\n",
      "Epoch 8/20\n",
      "600/600 [==============================] - 4s 6ms/step - loss: 0.0249 - accuracy: 0.9918 - val_loss: 0.0866 - val_accuracy: 0.9785\n",
      "Epoch 9/20\n",
      "600/600 [==============================] - 4s 6ms/step - loss: 0.0228 - accuracy: 0.9925 - val_loss: 0.0945 - val_accuracy: 0.9760\n",
      "Epoch 10/20\n",
      "600/600 [==============================] - 4s 6ms/step - loss: 0.0222 - accuracy: 0.9931 - val_loss: 0.0891 - val_accuracy: 0.9808\n",
      "Epoch 11/20\n",
      "600/600 [==============================] - 4s 6ms/step - loss: 0.0182 - accuracy: 0.9943 - val_loss: 0.0816 - val_accuracy: 0.9805\n",
      "Epoch 12/20\n",
      "600/600 [==============================] - 4s 6ms/step - loss: 0.0171 - accuracy: 0.9945 - val_loss: 0.0980 - val_accuracy: 0.9780\n",
      "Epoch 13/20\n",
      "600/600 [==============================] - 4s 6ms/step - loss: 0.0172 - accuracy: 0.9945 - val_loss: 0.0928 - val_accuracy: 0.9779\n",
      "Epoch 14/20\n",
      "600/600 [==============================] - 3s 5ms/step - loss: 0.0140 - accuracy: 0.9956 - val_loss: 0.1029 - val_accuracy: 0.9773\n",
      "Epoch 15/20\n",
      "600/600 [==============================] - 4s 6ms/step - loss: 0.0154 - accuracy: 0.9951 - val_loss: 0.0927 - val_accuracy: 0.9790\n",
      "Epoch 16/20\n",
      "600/600 [==============================] - 4s 6ms/step - loss: 0.0122 - accuracy: 0.9961 - val_loss: 0.1027 - val_accuracy: 0.9785\n",
      "Epoch 17/20\n",
      "600/600 [==============================] - 4s 6ms/step - loss: 0.0111 - accuracy: 0.9964 - val_loss: 0.0815 - val_accuracy: 0.9810\n",
      "Epoch 18/20\n",
      "600/600 [==============================] - 4s 6ms/step - loss: 0.0122 - accuracy: 0.9964 - val_loss: 0.0895 - val_accuracy: 0.9810\n",
      "Epoch 19/20\n",
      "600/600 [==============================] - 4s 6ms/step - loss: 0.0123 - accuracy: 0.9964 - val_loss: 0.0895 - val_accuracy: 0.9810\n",
      "Epoch 20/20\n",
      "600/600 [==============================] - 4s 6ms/step - loss: 0.0081 - accuracy: 0.9977 - val_loss: 0.1034 - val_accuracy: 0.9793\n"
     ]
    }
   ],
   "source": [
    "hist = model.fit(train_dataset, epochs=N_EPOCHS, validation_data=test_dataset)   # N_EPOCHS = 20"
   ]
  },
  {
   "cell_type": "code",
   "execution_count": 29,
   "id": "4c8af996",
   "metadata": {},
   "outputs": [
    {
     "data": {
      "image/png": "[encoded data removed]",
      "text/plain": [
       "<Figure size 504x432 with 1 Axes>"
      ]
     },
     "metadata": {
      "needs_background": "light"
     },
     "output_type": "display_data"
    }
   ],
   "source": [
    "plot_loss(N_EPOCHS, hist)"
   ]
  },
  {
   "cell_type": "code",
   "execution_count": 30,
   "id": "d1fb8068",
   "metadata": {},
   "outputs": [
    {
     "data": {
      "image/png": "[encoded data removed]",
      "text/plain": [
       "<Figure size 504x432 with 1 Axes>"
      ]
     },
     "metadata": {
      "needs_background": "light"
     },
     "output_type": "display_data"
    }
   ],
   "source": [
    "plot_acc(N_EPOCHS, hist)"
   ]
  },
  {
   "cell_type": "code",
   "execution_count": 31,
   "id": "daaeca15",
   "metadata": {},
   "outputs": [],
   "source": [
    "def create_biggest_model():\n",
    "    model = keras.Sequential()\n",
    "    model.add(layers.Flatten(input_shape=(28,28)))\n",
    "    model.add(layers.Dense(units=2048, activation='relu'))\n",
    "    model.add(layers.Dense(units=2048, activation='relu'))\n",
    "    \n",
    "    model.add(layers.Dense(units=1024, activation='relu'))\n",
    "    model.add(layers.Dense(units=1024, activation='relu'))\n",
    "    \n",
    "    model.add(layers.Dense(units=512, activation='relu'))\n",
    "    model.add(layers.Dense(units=512, activation='relu'))\n",
    "    \n",
    "    model.add(layers.Dense(units=256, activation='relu'))\n",
    "    model.add(layers.Dense(units=256, activation='relu'))\n",
    "    \n",
    "    model.add(layers.Dense(units=10, activation='softmax'))\n",
    "    return model"
   ]
  },
  {
   "cell_type": "code",
   "execution_count": 32,
   "id": "684a58de",
   "metadata": {},
   "outputs": [],
   "source": [
    "model = create_biggest_model()\n",
    "model.compile(optimizer=keras.optimizers.Adam(learning_rate=LEARNING_RATE), loss='categorical_crossentropy', metrics=['accuracy'])"
   ]
  },
  {
   "cell_type": "code",
   "execution_count": 33,
   "id": "51f3f0f1",
   "metadata": {},
   "outputs": [
    {
     "name": "stdout",
     "output_type": "stream",
     "text": [
      "Model: \"sequential_4\"\n",
      "_________________________________________________________________\n",
      "Layer (type)                 Output Shape              Param #   \n",
      "=================================================================\n",
      "flatten_3 (Flatten)          (None, 784)               0         \n",
      "_________________________________________________________________\n",
      "dense_9 (Dense)              (None, 2048)              1607680   \n",
      "_________________________________________________________________\n",
      "dense_10 (Dense)             (None, 2048)              4196352   \n",
      "_________________________________________________________________\n",
      "dense_11 (Dense)             (None, 1024)              2098176   \n",
      "_________________________________________________________________\n",
      "dense_12 (Dense)             (None, 1024)              1049600   \n",
      "_________________________________________________________________\n",
      "dense_13 (Dense)             (None, 512)               524800    \n",
      "_________________________________________________________________\n",
      "dense_14 (Dense)             (None, 512)               262656    \n",
      "_________________________________________________________________\n",
      "dense_15 (Dense)             (None, 256)               131328    \n",
      "_________________________________________________________________\n",
      "dense_16 (Dense)             (None, 256)               65792     \n",
      "_________________________________________________________________\n",
      "dense_17 (Dense)             (None, 10)                2570      \n",
      "=================================================================\n",
      "Total params: 9,938,954\n",
      "Trainable params: 9,938,954\n",
      "Non-trainable params: 0\n",
      "_________________________________________________________________\n"
     ]
    }
   ],
   "source": [
    "model.summary()"
   ]
  },
  {
   "cell_type": "code",
   "execution_count": 34,
   "id": "abe9eb5c",
   "metadata": {
    "scrolled": true
   },
   "outputs": [
    {
     "name": "stdout",
     "output_type": "stream",
     "text": [
      "Epoch 1/20\n",
      "600/600 [==============================] - 101s 167ms/step - loss: 0.2844 - accuracy: 0.9174 - val_loss: 0.1509 - val_accuracy: 0.9618\n",
      "Epoch 2/20\n",
      "600/600 [==============================] - 100s 167ms/step - loss: 0.1282 - accuracy: 0.9674 - val_loss: 0.1251 - val_accuracy: 0.9724\n",
      "Epoch 3/20\n",
      "600/600 [==============================] - 98s 163ms/step - loss: 0.0910 - accuracy: 0.9782 - val_loss: 0.0976 - val_accuracy: 0.9756\n",
      "Epoch 4/20\n",
      "600/600 [==============================] - 95s 158ms/step - loss: 0.0757 - accuracy: 0.9809 - val_loss: 0.1168 - val_accuracy: 0.9733\n",
      "Epoch 5/20\n",
      "600/600 [==============================] - 96s 160ms/step - loss: 0.0734 - accuracy: 0.9829 - val_loss: 0.1007 - val_accuracy: 0.9786\n",
      "Epoch 6/20\n",
      "600/600 [==============================] - 94s 156ms/step - loss: 0.0537 - accuracy: 0.9869 - val_loss: 0.1385 - val_accuracy: 0.9721\n",
      "Epoch 7/20\n",
      "600/600 [==============================] - 93s 154ms/step - loss: 0.0551 - accuracy: 0.9868 - val_loss: 0.1063 - val_accuracy: 0.9784\n",
      "Epoch 8/20\n",
      "600/600 [==============================] - 92s 154ms/step - loss: 0.0504 - accuracy: 0.9879 - val_loss: 0.1096 - val_accuracy: 0.9800\n",
      "Epoch 9/20\n",
      "600/600 [==============================] - 93s 155ms/step - loss: 0.0434 - accuracy: 0.9904 - val_loss: 0.1075 - val_accuracy: 0.9809\n",
      "Epoch 10/20\n",
      "600/600 [==============================] - 96s 159ms/step - loss: 0.0361 - accuracy: 0.9912 - val_loss: 0.1025 - val_accuracy: 0.9814\n",
      "Epoch 11/20\n",
      "600/600 [==============================] - 93s 155ms/step - loss: 0.0404 - accuracy: 0.9915 - val_loss: 0.1124 - val_accuracy: 0.9816\n",
      "Epoch 12/20\n",
      "600/600 [==============================] - 93s 155ms/step - loss: 0.0284 - accuracy: 0.9934 - val_loss: 0.1203 - val_accuracy: 0.9786\n",
      "Epoch 13/20\n",
      "600/600 [==============================] - 92s 153ms/step - loss: 0.0338 - accuracy: 0.9927 - val_loss: 0.0955 - val_accuracy: 0.9834\n",
      "Epoch 14/20\n",
      "600/600 [==============================] - 92s 153ms/step - loss: 0.0315 - accuracy: 0.9930 - val_loss: 0.1186 - val_accuracy: 0.9826\n",
      "Epoch 15/20\n",
      "600/600 [==============================] - 93s 154ms/step - loss: 0.0296 - accuracy: 0.9931 - val_loss: 0.1129 - val_accuracy: 0.9806\n",
      "Epoch 16/20\n",
      "600/600 [==============================] - 93s 154ms/step - loss: 0.0266 - accuracy: 0.9945 - val_loss: 0.1040 - val_accuracy: 0.9832\n",
      "Epoch 17/20\n",
      "600/600 [==============================] - 93s 154ms/step - loss: 0.0288 - accuracy: 0.9939 - val_loss: 0.1044 - val_accuracy: 0.9834\n",
      "Epoch 18/20\n",
      "600/600 [==============================] - 94s 156ms/step - loss: 0.0226 - accuracy: 0.9951 - val_loss: 0.1944 - val_accuracy: 0.9739\n",
      "Epoch 19/20\n",
      "600/600 [==============================] - 92s 153ms/step - loss: 0.0293 - accuracy: 0.9948 - val_loss: 0.1431 - val_accuracy: 0.9770\n",
      "Epoch 20/20\n",
      "600/600 [==============================] - 91s 152ms/step - loss: 0.0268 - accuracy: 0.9941 - val_loss: 0.1159 - val_accuracy: 0.9844\n"
     ]
    }
   ],
   "source": [
    "hist = model.fit(train_dataset, epochs=N_EPOCHS, validation_data=test_dataset)   # N_EPOCHS = 20"
   ]
  },
  {
   "cell_type": "code",
   "execution_count": 35,
   "id": "70e86f04",
   "metadata": {},
   "outputs": [
    {
     "data": {
      "image/png": "[encoded data removed]",
      "text/plain": [
       "<Figure size 504x432 with 1 Axes>"
      ]
     },
     "metadata": {
      "needs_background": "light"
     },
     "output_type": "display_data"
    }
   ],
   "source": [
    "plot_loss(N_EPOCHS, hist)"
   ]
  },
  {
   "cell_type": "code",
   "execution_count": 36,
   "id": "0582c9dc",
   "metadata": {},
   "outputs": [
    {
     "data": {
      "image/png": "[encoded data removed]",
      "text/plain": [
       "<Figure size 504x432 with 1 Axes>"
      ]
     },
     "metadata": {
      "needs_background": "light"
     },
     "output_type": "display_data"
    }
   ],
   "source": [
    "plot_acc(N_EPOCHS, hist)"
   ]
  },
  {
   "cell_type": "markdown",
   "id": "8ca9e5aa",
   "metadata": {},
   "source": [
    "## Dropout 예제\n",
    "- dropout을 각 레이어에 적용\n",
    "    - layers.Dropout 객체를 사용\n",
    "    - 객체 생성 시 dropout_rate 설정: 보통 0.2 ~ 0.5를 지정\n",
    "    - Drop시킬 노드를 가진 layer 앞에 추가함"
   ]
  },
  {
   "cell_type": "code",
   "execution_count": 41,
   "id": "c99ff110",
   "metadata": {},
   "outputs": [],
   "source": [
    "DROPOUT_RATE = 0.3   # 모든 dropout 레이어에 동일한 비율을 지정. 몇 개의 노드를 dropout 시킬지\n",
    "# dropout 비율 너무 크면 underfitting 발생.\n",
    "\n",
    "def create_dropout_model():\n",
    "    model = keras.Sequential()\n",
    "    model.add(layers.Flatten(input_shape=(28,28)))\n",
    "    \n",
    "    model.add(layers.Dropout(rate=DROPOUT_RATE))    # 학습 시에만 작동함. (검증, test, 새로운 데이터 추론할 때는 적용 안 됨.)\n",
    "    model.add(layers.Dense(units=256, activation='relu'))\n",
    "    \n",
    "    model.add(layers.Dropout(rate=DROPOUT_RATE))\n",
    "    model.add(layers.Dense(units=256, activation='relu'))\n",
    "    \n",
    "    model.add(layers.Dropout(rate=DROPOUT_RATE))\n",
    "    model.add(layers.Dense(units=128, activation='relu'))\n",
    "    \n",
    "    model.add(layers.Dropout(rate=DROPOUT_RATE))\n",
    "    model.add(layers.Dense(units=128, activation='relu'))\n",
    "    \n",
    "    model.add(layers.Dropout(rate=DROPOUT_RATE))\n",
    "    model.add(layers.Dense(units=10, activation='softmax'))\n",
    "    return model"
   ]
  },
  {
   "cell_type": "code",
   "execution_count": 42,
   "id": "ba518b1f",
   "metadata": {},
   "outputs": [
    {
     "name": "stdout",
     "output_type": "stream",
     "text": [
      "Model: \"sequential_6\"\n",
      "_________________________________________________________________\n",
      "Layer (type)                 Output Shape              Param #   \n",
      "=================================================================\n",
      "flatten_5 (Flatten)          (None, 784)               0         \n",
      "_________________________________________________________________\n",
      "dropout_5 (Dropout)          (None, 784)               0         \n",
      "_________________________________________________________________\n",
      "dense_23 (Dense)             (None, 256)               200960    \n",
      "_________________________________________________________________\n",
      "dropout_6 (Dropout)          (None, 256)               0         \n",
      "_________________________________________________________________\n",
      "dense_24 (Dense)             (None, 256)               65792     \n",
      "_________________________________________________________________\n",
      "dropout_7 (Dropout)          (None, 256)               0         \n",
      "_________________________________________________________________\n",
      "dense_25 (Dense)             (None, 128)               32896     \n",
      "_________________________________________________________________\n",
      "dropout_8 (Dropout)          (None, 128)               0         \n",
      "_________________________________________________________________\n",
      "dense_26 (Dense)             (None, 128)               16512     \n",
      "_________________________________________________________________\n",
      "dropout_9 (Dropout)          (None, 128)               0         \n",
      "_________________________________________________________________\n",
      "dense_27 (Dense)             (None, 10)                1290      \n",
      "=================================================================\n",
      "Total params: 317,450\n",
      "Trainable params: 317,450\n",
      "Non-trainable params: 0\n",
      "_________________________________________________________________\n"
     ]
    }
   ],
   "source": [
    "model = create_dropout_model()\n",
    "model.compile(optimizer=keras.optimizers.Adam(learning_rate=LEARNING_RATE), loss='categorical_crossentropy', metrics=['accuracy'])\n",
    "model.summary()"
   ]
  },
  {
   "cell_type": "code",
   "execution_count": 43,
   "id": "86e38175",
   "metadata": {
    "scrolled": true
   },
   "outputs": [
    {
     "name": "stdout",
     "output_type": "stream",
     "text": [
      "Epoch 1/26\n",
      "600/600 [==============================] - 7s 10ms/step - loss: 0.5764 - accuracy: 0.8185 - val_loss: 0.1702 - val_accuracy: 0.9480\n",
      "Epoch 2/26\n",
      "600/600 [==============================] - 6s 10ms/step - loss: 0.2654 - accuracy: 0.9239 - val_loss: 0.1176 - val_accuracy: 0.9645\n",
      "Epoch 3/26\n",
      "600/600 [==============================] - 7s 11ms/step - loss: 0.2120 - accuracy: 0.9391 - val_loss: 0.1033 - val_accuracy: 0.9677\n",
      "Epoch 4/26\n",
      "600/600 [==============================] - 7s 11ms/step - loss: 0.1853 - accuracy: 0.9478 - val_loss: 0.0907 - val_accuracy: 0.9739\n",
      "Epoch 5/26\n",
      "600/600 [==============================] - 7s 11ms/step - loss: 0.1655 - accuracy: 0.9517 - val_loss: 0.0909 - val_accuracy: 0.9720\n",
      "Epoch 6/26\n",
      "600/600 [==============================] - 7s 11ms/step - loss: 0.1538 - accuracy: 0.9560 - val_loss: 0.0763 - val_accuracy: 0.9754\n",
      "Epoch 7/26\n",
      "600/600 [==============================] - 7s 11ms/step - loss: 0.1395 - accuracy: 0.9598 - val_loss: 0.0781 - val_accuracy: 0.9770\n",
      "Epoch 8/26\n",
      "600/600 [==============================] - 6s 10ms/step - loss: 0.1379 - accuracy: 0.9600 - val_loss: 0.0722 - val_accuracy: 0.9798\n",
      "Epoch 9/26\n",
      "600/600 [==============================] - 6s 10ms/step - loss: 0.1295 - accuracy: 0.9635 - val_loss: 0.0769 - val_accuracy: 0.9780\n",
      "Epoch 10/26\n",
      "600/600 [==============================] - 6s 10ms/step - loss: 0.1255 - accuracy: 0.9642 - val_loss: 0.0712 - val_accuracy: 0.9778\n",
      "Epoch 11/26\n",
      "600/600 [==============================] - 6s 10ms/step - loss: 0.1174 - accuracy: 0.9655 - val_loss: 0.0677 - val_accuracy: 0.9800\n",
      "Epoch 12/26\n",
      "600/600 [==============================] - 6s 10ms/step - loss: 0.1113 - accuracy: 0.9675 - val_loss: 0.0659 - val_accuracy: 0.9810\n",
      "Epoch 13/26\n",
      "600/600 [==============================] - 6s 10ms/step - loss: 0.1107 - accuracy: 0.9675 - val_loss: 0.0692 - val_accuracy: 0.9807\n",
      "Epoch 14/26\n",
      "600/600 [==============================] - 6s 10ms/step - loss: 0.1071 - accuracy: 0.9689 - val_loss: 0.0643 - val_accuracy: 0.9827\n",
      "Epoch 15/26\n",
      "600/600 [==============================] - 6s 10ms/step - loss: 0.1009 - accuracy: 0.9706 - val_loss: 0.0622 - val_accuracy: 0.9827\n",
      "Epoch 16/26\n",
      "600/600 [==============================] - 6s 10ms/step - loss: 0.1039 - accuracy: 0.9695 - val_loss: 0.0685 - val_accuracy: 0.9799\n",
      "Epoch 17/26\n",
      "600/600 [==============================] - 6s 11ms/step - loss: 0.0986 - accuracy: 0.9715 - val_loss: 0.0670 - val_accuracy: 0.9797\n",
      "Epoch 18/26\n",
      "600/600 [==============================] - 6s 11ms/step - loss: 0.0969 - accuracy: 0.9711 - val_loss: 0.0637 - val_accuracy: 0.9813\n",
      "Epoch 19/26\n",
      "600/600 [==============================] - 6s 10ms/step - loss: 0.0941 - accuracy: 0.9722 - val_loss: 0.0631 - val_accuracy: 0.9799\n",
      "Epoch 20/26\n",
      "600/600 [==============================] - 6s 10ms/step - loss: 0.0911 - accuracy: 0.9732 - val_loss: 0.0627 - val_accuracy: 0.9820\n",
      "Epoch 21/26\n",
      "600/600 [==============================] - 6s 10ms/step - loss: 0.0935 - accuracy: 0.9733 - val_loss: 0.0614 - val_accuracy: 0.9829\n",
      "Epoch 22/26\n",
      "600/600 [==============================] - 6s 10ms/step - loss: 0.0897 - accuracy: 0.9740 - val_loss: 0.0601 - val_accuracy: 0.9817\n",
      "Epoch 23/26\n",
      "600/600 [==============================] - 6s 11ms/step - loss: 0.0869 - accuracy: 0.9746 - val_loss: 0.0616 - val_accuracy: 0.9834\n",
      "Epoch 24/26\n",
      "600/600 [==============================] - 6s 10ms/step - loss: 0.0890 - accuracy: 0.9744 - val_loss: 0.0622 - val_accuracy: 0.9830\n",
      "Epoch 25/26\n",
      "600/600 [==============================] - 6s 10ms/step - loss: 0.0852 - accuracy: 0.9751 - val_loss: 0.0618 - val_accuracy: 0.9835\n",
      "Epoch 26/26\n",
      "600/600 [==============================] - 6s 10ms/step - loss: 0.0851 - accuracy: 0.9753 - val_loss: 0.0643 - val_accuracy: 0.9823\n"
     ]
    }
   ],
   "source": [
    "# dropout을 사용하는 경우 Epoch 수를 늘려준다.\n",
    "# 기존 epoch 수에 dropout 비율만큼을 더한 정도로.\n",
    "# N_EPOCHS*DROPOUT_RATE\n",
    "\n",
    "hist = model.fit(train_dataset, epochs=N_EPOCHS+6, validation_data=test_dataset)   # N_EPOCHS = 20"
   ]
  },
  {
   "cell_type": "code",
   "execution_count": 44,
   "id": "0f52fd87",
   "metadata": {},
   "outputs": [
    {
     "data": {
      "image/png": "[encoded data removed]",
      "text/plain": [
       "<Figure size 504x432 with 1 Axes>"
      ]
     },
     "metadata": {
      "needs_background": "light"
     },
     "output_type": "display_data"
    }
   ],
   "source": [
    "plot_loss(N_EPOCHS+6, hist)"
   ]
  },
  {
   "cell_type": "code",
   "execution_count": 45,
   "id": "4eb95460",
   "metadata": {},
   "outputs": [
    {
     "data": {
      "image/png": "[encoded data removed]",
      "text/plain": [
       "<Figure size 504x432 with 1 Axes>"
      ]
     },
     "metadata": {
      "needs_background": "light"
     },
     "output_type": "display_data"
    }
   ],
   "source": [
    "plot_acc(N_EPOCHS+6, hist)"
   ]
  },
  {
   "cell_type": "markdown",
   "id": "1407c74b",
   "metadata": {},
   "source": [
    "## Batch Normalization\n",
    "- 레이어 배치 순서: Dense -> BN -> Activation\n",
    "- layers.BatchNormalization(momentum, scale, epsilon) - 다 디폴트 값 쓰면 됨\n",
    "    - momentum: z score에 곱해주는 초기값(감마)\n",
    "    - scale: z score에 더해주는 초기값(베타)\n",
    "    - epsilon: z score 계산 시 분산값에 더해주는 값. 기본적으로 0.001을 씀"
   ]
  },
  {
   "cell_type": "code",
   "execution_count": 50,
   "id": "bead6677",
   "metadata": {},
   "outputs": [],
   "source": [
    "def create_bn_model():\n",
    "    model = keras.Sequential()\n",
    "    model.add(layers.Flatten(input_shape=(28,28)))\n",
    "    model.add(layers.Dense(units=256))   # wX+b 작업을 실행\n",
    "    model.add(layers.BatchNormalization())\n",
    "    model.add(layers.ReLU())   # activation 함수\n",
    "    \n",
    "    model.add(layers.Dense(units=256))\n",
    "    model.add(layers.BatchNormalization())\n",
    "    model.add(layers.ReLU())\n",
    "    \n",
    "    model.add(layers.Dense(units=128))\n",
    "    model.add(layers.BatchNormalization())\n",
    "    model.add(layers.ReLU())\n",
    "    \n",
    "    model.add(layers.Dense(units=128))\n",
    "    model.add(layers.BatchNormalization())\n",
    "    model.add(layers.ReLU())\n",
    "    \n",
    "    model.add(layers.Dense(units=10))\n",
    "    model.add(layers.BatchNormalization())\n",
    "    model.add(layers.Softmax())\n",
    "    return model"
   ]
  },
  {
   "cell_type": "code",
   "execution_count": 51,
   "id": "cbbdec8f",
   "metadata": {},
   "outputs": [
    {
     "name": "stdout",
     "output_type": "stream",
     "text": [
      "Model: \"sequential_8\"\n",
      "_________________________________________________________________\n",
      "Layer (type)                 Output Shape              Param #   \n",
      "=================================================================\n",
      "flatten_7 (Flatten)          (None, 784)               0         \n",
      "_________________________________________________________________\n",
      "dense_33 (Dense)             (None, 256)               200960    \n",
      "_________________________________________________________________\n",
      "batch_normalization_4 (Batch (None, 256)               1024      \n",
      "_________________________________________________________________\n",
      "re_lu_4 (ReLU)               (None, 256)               0         \n",
      "_________________________________________________________________\n",
      "dense_34 (Dense)             (None, 256)               65792     \n",
      "_________________________________________________________________\n",
      "batch_normalization_5 (Batch (None, 256)               1024      \n",
      "_________________________________________________________________\n",
      "re_lu_5 (ReLU)               (None, 256)               0         \n",
      "_________________________________________________________________\n",
      "dense_35 (Dense)             (None, 128)               32896     \n",
      "_________________________________________________________________\n",
      "batch_normalization_6 (Batch (None, 128)               512       \n",
      "_________________________________________________________________\n",
      "re_lu_6 (ReLU)               (None, 128)               0         \n",
      "_________________________________________________________________\n",
      "dense_36 (Dense)             (None, 128)               16512     \n",
      "_________________________________________________________________\n",
      "batch_normalization_7 (Batch (None, 128)               512       \n",
      "_________________________________________________________________\n",
      "re_lu_7 (ReLU)               (None, 128)               0         \n",
      "_________________________________________________________________\n",
      "dense_37 (Dense)             (None, 10)                1290      \n",
      "_________________________________________________________________\n",
      "batch_normalization_8 (Batch (None, 10)                40        \n",
      "_________________________________________________________________\n",
      "softmax (Softmax)            (None, 10)                0         \n",
      "=================================================================\n",
      "Total params: 320,562\n",
      "Trainable params: 319,006\n",
      "Non-trainable params: 1,556\n",
      "_________________________________________________________________\n"
     ]
    }
   ],
   "source": [
    "model = create_bn_model()\n",
    "model.compile(optimizer=keras.optimizers.Adam(learning_rate=LEARNING_RATE), loss='categorical_crossentropy', metrics=['accuracy'])\n",
    "model.summary()"
   ]
  },
  {
   "cell_type": "code",
   "execution_count": 52,
   "id": "0351d46a",
   "metadata": {},
   "outputs": [
    {
     "name": "stdout",
     "output_type": "stream",
     "text": [
      "Epoch 1/20\n",
      "600/600 [==============================] - 9s 12ms/step - loss: 0.3867 - accuracy: 0.9375 - val_loss: 0.1993 - val_accuracy: 0.9689\n",
      "Epoch 2/20\n",
      "600/600 [==============================] - 7s 11ms/step - loss: 0.1642 - accuracy: 0.9720 - val_loss: 0.1285 - val_accuracy: 0.9730\n",
      "Epoch 3/20\n",
      "600/600 [==============================] - 7s 12ms/step - loss: 0.1064 - accuracy: 0.9793 - val_loss: 0.0896 - val_accuracy: 0.9759\n",
      "Epoch 4/20\n",
      "600/600 [==============================] - 8s 12ms/step - loss: 0.0747 - accuracy: 0.9844 - val_loss: 0.0840 - val_accuracy: 0.9763\n",
      "Epoch 5/20\n",
      "600/600 [==============================] - 6s 11ms/step - loss: 0.0594 - accuracy: 0.9870 - val_loss: 0.0724 - val_accuracy: 0.9808\n",
      "Epoch 6/20\n",
      "600/600 [==============================] - 6s 10ms/step - loss: 0.0491 - accuracy: 0.9882 - val_loss: 0.0798 - val_accuracy: 0.9777\n",
      "Epoch 7/20\n",
      "600/600 [==============================] - 6s 9ms/step - loss: 0.0409 - accuracy: 0.9903 - val_loss: 0.0729 - val_accuracy: 0.9799\n",
      "Epoch 8/20\n",
      "600/600 [==============================] - 6s 10ms/step - loss: 0.0335 - accuracy: 0.9920 - val_loss: 0.0607 - val_accuracy: 0.9823\n",
      "Epoch 9/20\n",
      "600/600 [==============================] - 6s 10ms/step - loss: 0.0301 - accuracy: 0.9920 - val_loss: 0.0649 - val_accuracy: 0.9812\n",
      "Epoch 10/20\n",
      "600/600 [==============================] - 6s 10ms/step - loss: 0.0264 - accuracy: 0.9929 - val_loss: 0.0620 - val_accuracy: 0.9827\n",
      "Epoch 11/20\n",
      "600/600 [==============================] - 6s 9ms/step - loss: 0.0241 - accuracy: 0.9937 - val_loss: 0.0666 - val_accuracy: 0.9803\n",
      "Epoch 12/20\n",
      "600/600 [==============================] - 6s 10ms/step - loss: 0.0194 - accuracy: 0.9945 - val_loss: 0.0662 - val_accuracy: 0.9816\n",
      "Epoch 13/20\n",
      "600/600 [==============================] - 6s 10ms/step - loss: 0.0175 - accuracy: 0.9950 - val_loss: 0.0771 - val_accuracy: 0.9797\n",
      "Epoch 14/20\n",
      "600/600 [==============================] - 5s 9ms/step - loss: 0.0148 - accuracy: 0.9959 - val_loss: 0.0665 - val_accuracy: 0.9815\n",
      "Epoch 15/20\n",
      "600/600 [==============================] - 6s 9ms/step - loss: 0.0176 - accuracy: 0.9951 - val_loss: 0.0678 - val_accuracy: 0.9817\n",
      "Epoch 16/20\n",
      "600/600 [==============================] - 5s 9ms/step - loss: 0.0163 - accuracy: 0.9952 - val_loss: 0.0663 - val_accuracy: 0.9821\n",
      "Epoch 17/20\n",
      "600/600 [==============================] - 5s 9ms/step - loss: 0.0115 - accuracy: 0.9966 - val_loss: 0.0605 - val_accuracy: 0.9830\n",
      "Epoch 18/20\n",
      "600/600 [==============================] - 5s 8ms/step - loss: 0.0131 - accuracy: 0.9961 - val_loss: 0.0672 - val_accuracy: 0.9817\n",
      "Epoch 19/20\n",
      "600/600 [==============================] - 5s 9ms/step - loss: 0.0131 - accuracy: 0.9960 - val_loss: 0.0684 - val_accuracy: 0.9823\n",
      "Epoch 20/20\n",
      "600/600 [==============================] - 5s 9ms/step - loss: 0.0127 - accuracy: 0.9964 - val_loss: 0.0626 - val_accuracy: 0.9834\n"
     ]
    }
   ],
   "source": [
    "hist = model.fit(train_dataset, epochs=N_EPOCHS, validation_data=test_dataset)   # N_EPOCHS = 20"
   ]
  },
  {
   "cell_type": "code",
   "execution_count": 53,
   "id": "d11e8c1f",
   "metadata": {},
   "outputs": [
    {
     "data": {
      "image/png": "[encoded data removed]",
      "text/plain": [
       "<Figure size 504x432 with 1 Axes>"
      ]
     },
     "metadata": {
      "needs_background": "light"
     },
     "output_type": "display_data"
    }
   ],
   "source": [
    "plot_loss(N_EPOCHS, hist)"
   ]
  },
  {
   "cell_type": "code",
   "execution_count": 54,
   "id": "882e86cb",
   "metadata": {},
   "outputs": [
    {
     "data": {
      "image/png": "[encoded data removed]",
      "text/plain": [
       "<Figure size 504x432 with 1 Axes>"
      ]
     },
     "metadata": {
      "needs_background": "light"
     },
     "output_type": "display_data"
    }
   ],
   "source": [
    "plot_acc(N_EPOCHS, hist)"
   ]
  },
  {
   "cell_type": "markdown",
   "id": "e127c6c3",
   "metadata": {},
   "source": [
    "## 가변 learning rate를 이용한 성능 개선\n",
    "- 기본 개념: learning rate를 크게 시작했다가 epoch이 진행될수록 줄여주는 방식\n",
    "\n",
    "### learning rate  scheduler 이용\n",
    "- 공학적 처리: 지정한 step마다 learning rate를 일정한 비율로 변경"
   ]
  },
  {
   "cell_type": "code",
   "execution_count": 12,
   "id": "e534ca3c",
   "metadata": {},
   "outputs": [],
   "source": [
    "def create_model():\n",
    "    model = keras.Sequential()\n",
    "    model.add(layers.Flatten(input_shape=(28,28)))\n",
    "    \n",
    "    model.add(layers.Dense(256, activation='relu'))\n",
    "    model.add(layers.Dense(128, activation='relu'))\n",
    "    model.add(layers.Dense(64, activation='relu'))\n",
    "    \n",
    "    model.add(layers.Dense(10, activation='softmax'))\n",
    "    return model"
   ]
  },
  {
   "cell_type": "code",
   "execution_count": 14,
   "id": "01120782",
   "metadata": {},
   "outputs": [
    {
     "name": "stdout",
     "output_type": "stream",
     "text": [
      "Model: \"sequential_1\"\n",
      "_________________________________________________________________\n",
      "Layer (type)                 Output Shape              Param #   \n",
      "=================================================================\n",
      "flatten_1 (Flatten)          (None, 784)               0         \n",
      "_________________________________________________________________\n",
      "dense_4 (Dense)              (None, 256)               200960    \n",
      "_________________________________________________________________\n",
      "dense_5 (Dense)              (None, 128)               32896     \n",
      "_________________________________________________________________\n",
      "dense_6 (Dense)              (None, 64)                8256      \n",
      "_________________________________________________________________\n",
      "dense_7 (Dense)              (None, 10)                650       \n",
      "=================================================================\n",
      "Total params: 242,762\n",
      "Trainable params: 242,762\n",
      "Non-trainable params: 0\n",
      "_________________________________________________________________\n"
     ]
    }
   ],
   "source": [
    "model = create_model()\n",
    "model.summary()"
   ]
  },
  {
   "cell_type": "code",
   "execution_count": 15,
   "id": "8dd3c84f",
   "metadata": {},
   "outputs": [
    {
     "data": {
      "text/plain": [
       "600"
      ]
     },
     "execution_count": 15,
     "metadata": {},
     "output_type": "execute_result"
    }
   ],
   "source": [
    "N_TRAIN // N_BATCHS   # 한 에폭 당 600번의 STEP"
   ]
  },
  {
   "cell_type": "code",
   "execution_count": 16,
   "id": "cd94cd78",
   "metadata": {},
   "outputs": [],
   "source": [
    "# optimizer에 고정된 learning rate가 아니라 learning rate scheduler 객체를 생성해서 지정한다\n",
    "# keras.optimizers.schedules.ExponentialDecay(시작학습률, decay_steps=몇 스텝마다 변경할지 지정, decay_rate=변화율(현재lr*변화율=새lr),\n",
    "# staircase=계단형태로 떨어뜨릴지(True) step마다 조금씩 떨어뜨릴지)\n",
    "lr_scheduler = keras.optimizers.schedules.ExponentialDecay(initial_learning_rate=LEARNING_RATE, \n",
    "                                                           decay_steps=600*5, \n",
    "                                                           decay_rate=0.5, \n",
    "                                                           staircase=True)\n",
    "model.compile(optimizer=keras.optimizers.Adam(learning_rate=lr_scheduler), loss='categorical_crossentropy', metrics=['accuracy'])"
   ]
  },
  {
   "cell_type": "code",
   "execution_count": 17,
   "id": "b0704c0f",
   "metadata": {
    "scrolled": true
   },
   "outputs": [
    {
     "name": "stdout",
     "output_type": "stream",
     "text": [
      "Epoch 1/20\n",
      "600/600 [==============================] - 4s 5ms/step - loss: 0.2638 - accuracy: 0.9239 - val_loss: 0.1213 - val_accuracy: 0.9638\n",
      "Epoch 2/20\n",
      "600/600 [==============================] - 3s 5ms/step - loss: 0.1022 - accuracy: 0.9692 - val_loss: 0.0881 - val_accuracy: 0.9729\n",
      "Epoch 3/20\n",
      "600/600 [==============================] - 3s 5ms/step - loss: 0.0682 - accuracy: 0.9793 - val_loss: 0.0773 - val_accuracy: 0.9756\n",
      "Epoch 4/20\n",
      "600/600 [==============================] - 3s 4ms/step - loss: 0.0504 - accuracy: 0.9838 - val_loss: 0.0683 - val_accuracy: 0.9787\n",
      "Epoch 5/20\n",
      "600/600 [==============================] - 3s 5ms/step - loss: 0.0374 - accuracy: 0.9883 - val_loss: 0.0857 - val_accuracy: 0.9732\n",
      "Epoch 6/20\n",
      "600/600 [==============================] - 3s 5ms/step - loss: 0.0177 - accuracy: 0.9948 - val_loss: 0.0620 - val_accuracy: 0.9816\n",
      "Epoch 7/20\n",
      "600/600 [==============================] - 3s 5ms/step - loss: 0.0108 - accuracy: 0.9971 - val_loss: 0.0627 - val_accuracy: 0.9822\n",
      "Epoch 8/20\n",
      "600/600 [==============================] - 3s 5ms/step - loss: 0.0094 - accuracy: 0.9974 - val_loss: 0.0690 - val_accuracy: 0.9805\n",
      "Epoch 9/20\n",
      "600/600 [==============================] - 3s 5ms/step - loss: 0.0092 - accuracy: 0.9973 - val_loss: 0.0733 - val_accuracy: 0.9810\n",
      "Epoch 10/20\n",
      "600/600 [==============================] - 4s 6ms/step - loss: 0.0061 - accuracy: 0.9984 - val_loss: 0.0721 - val_accuracy: 0.9818\n",
      "Epoch 11/20\n",
      "600/600 [==============================] - 4s 6ms/step - loss: 0.0020 - accuracy: 0.9997 - val_loss: 0.0694 - val_accuracy: 0.9841\n",
      "Epoch 12/20\n",
      "600/600 [==============================] - 3s 5ms/step - loss: 9.3174e-04 - accuracy: 0.9999 - val_loss: 0.0723 - val_accuracy: 0.9831\n",
      "Epoch 13/20\n",
      "600/600 [==============================] - 3s 5ms/step - loss: 8.2660e-04 - accuracy: 0.9999 - val_loss: 0.0743 - val_accuracy: 0.9829\n",
      "Epoch 14/20\n",
      "600/600 [==============================] - 3s 5ms/step - loss: 6.3204e-04 - accuracy: 1.0000 - val_loss: 0.0867 - val_accuracy: 0.9821\n",
      "Epoch 15/20\n",
      "600/600 [==============================] - 3s 5ms/step - loss: 8.6389e-04 - accuracy: 0.9999 - val_loss: 0.0785 - val_accuracy: 0.9832\n",
      "Epoch 16/20\n",
      "600/600 [==============================] - 3s 5ms/step - loss: 3.0949e-04 - accuracy: 1.0000 - val_loss: 0.0771 - val_accuracy: 0.9843\n",
      "Epoch 17/20\n",
      "600/600 [==============================] - 3s 5ms/step - loss: 2.0043e-04 - accuracy: 1.0000 - val_loss: 0.0791 - val_accuracy: 0.9842\n",
      "Epoch 18/20\n",
      "600/600 [==============================] - 3s 5ms/step - loss: 1.6277e-04 - accuracy: 1.0000 - val_loss: 0.0809 - val_accuracy: 0.9845\n",
      "Epoch 19/20\n",
      "600/600 [==============================] - 3s 5ms/step - loss: 1.3761e-04 - accuracy: 1.0000 - val_loss: 0.0816 - val_accuracy: 0.9848\n",
      "Epoch 20/20\n",
      "600/600 [==============================] - 3s 5ms/step - loss: 1.2137e-04 - accuracy: 1.0000 - val_loss: 0.0840 - val_accuracy: 0.9840\n"
     ]
    }
   ],
   "source": [
    "hist = model.fit(train_dataset, epochs=N_EPOCHS, validation_data=test_dataset)"
   ]
  },
  {
   "cell_type": "code",
   "execution_count": null,
   "id": "ea4eb1a3",
   "metadata": {},
   "outputs": [],
   "source": []
  },
  {
   "cell_type": "markdown",
   "id": "1c52223d",
   "metadata": {},
   "source": [
    "### callback을 이용\n",
    "- 학습 도중에 성능이 개선되지 않을 때마다 learning rate를 변경\n",
    "\n",
    "> callback - 실행환경에 의해 호출 정의된 기능(함수, 메소드)를 callback이라 한다.\n",
    "> 실행 도중에 어떤 변화가 발생할 때마다 호출하는 기능."
   ]
  },
  {
   "cell_type": "code",
   "execution_count": 20,
   "id": "ea34cd8f",
   "metadata": {},
   "outputs": [],
   "source": [
    "# val_loss(monitor)가 3(patience) epoch 동안 개선이 없으면 현재 lr에 0.5(factor) 곱한 것을 새 lr로 사용. verbose= lr 변경 시 로그 남김\n",
    "# keras.callbacks.ReduceLROnPlateau()\n",
    "# factor는 보통 0~1 사이 줌. patience는 보통 10번 내외로 지정. monitor는 대개 val_loss로 지정\n",
    "lr_callback = keras.callbacks.ReduceLROnPlateau(monitor='val_loss', factor=0.5, patience=3, verbose=2)\n",
    "\n",
    "# callback은 fit(callbacks=[]) 안에서 등록(설정). 여러 개 지정할 수 있기 때문에 list로 설정"
   ]
  },
  {
   "cell_type": "code",
   "execution_count": 21,
   "id": "6e3f5929",
   "metadata": {},
   "outputs": [],
   "source": [
    "model = create_model()\n",
    "model.compile(optimizer=keras.optimizers.Adam(learning_rate=LEARNING_RATE), loss='categorical_crossentropy', metrics=['accuracy'])"
   ]
  },
  {
   "cell_type": "code",
   "execution_count": 22,
   "id": "1037091b",
   "metadata": {},
   "outputs": [
    {
     "name": "stdout",
     "output_type": "stream",
     "text": [
      "Epoch 1/20\n",
      "600/600 [==============================] - 4s 5ms/step - loss: 0.2581 - accuracy: 0.9233 - val_loss: 0.1176 - val_accuracy: 0.9632\n",
      "Epoch 2/20\n",
      "600/600 [==============================] - 3s 5ms/step - loss: 0.0969 - accuracy: 0.9706 - val_loss: 0.0902 - val_accuracy: 0.9726\n",
      "Epoch 3/20\n",
      "600/600 [==============================] - 3s 5ms/step - loss: 0.0650 - accuracy: 0.9791 - val_loss: 0.0745 - val_accuracy: 0.9777\n",
      "Epoch 4/20\n",
      "600/600 [==============================] - 3s 5ms/step - loss: 0.0470 - accuracy: 0.9847 - val_loss: 0.0829 - val_accuracy: 0.9749\n",
      "Epoch 5/20\n",
      "600/600 [==============================] - 3s 5ms/step - loss: 0.0390 - accuracy: 0.9872 - val_loss: 0.0720 - val_accuracy: 0.9798\n",
      "Epoch 6/20\n",
      "600/600 [==============================] - 3s 5ms/step - loss: 0.0280 - accuracy: 0.9908 - val_loss: 0.0770 - val_accuracy: 0.9774\n",
      "Epoch 7/20\n",
      "600/600 [==============================] - 4s 6ms/step - loss: 0.0257 - accuracy: 0.9913 - val_loss: 0.0836 - val_accuracy: 0.9763\n",
      "Epoch 8/20\n",
      "600/600 [==============================] - 4s 6ms/step - loss: 0.0205 - accuracy: 0.9931 - val_loss: 0.0728 - val_accuracy: 0.9802\n",
      "\n",
      "Epoch 00008: ReduceLROnPlateau reducing learning rate to 0.0005000000237487257.\n",
      "Epoch 9/20\n",
      "600/600 [==============================] - 3s 5ms/step - loss: 0.0061 - accuracy: 0.9983 - val_loss: 0.0670 - val_accuracy: 0.9841\n",
      "Epoch 10/20\n",
      "600/600 [==============================] - 3s 5ms/step - loss: 0.0029 - accuracy: 0.9993 - val_loss: 0.0657 - val_accuracy: 0.9842\n",
      "Epoch 11/20\n",
      "600/600 [==============================] - 3s 5ms/step - loss: 0.0024 - accuracy: 0.9995 - val_loss: 0.0843 - val_accuracy: 0.9805\n",
      "Epoch 12/20\n",
      "600/600 [==============================] - 4s 6ms/step - loss: 0.0072 - accuracy: 0.9973 - val_loss: 0.0874 - val_accuracy: 0.9814\n",
      "Epoch 13/20\n",
      "600/600 [==============================] - 4s 6ms/step - loss: 0.0056 - accuracy: 0.9983 - val_loss: 0.0858 - val_accuracy: 0.9812\n",
      "\n",
      "Epoch 00013: ReduceLROnPlateau reducing learning rate to 0.0002500000118743628.\n",
      "Epoch 14/20\n",
      "600/600 [==============================] - 3s 5ms/step - loss: 0.0010 - accuracy: 0.9998 - val_loss: 0.0791 - val_accuracy: 0.9840\n",
      "Epoch 15/20\n",
      "600/600 [==============================] - 4s 6ms/step - loss: 3.3354e-04 - accuracy: 1.0000 - val_loss: 0.0789 - val_accuracy: 0.9841\n",
      "Epoch 16/20\n",
      "600/600 [==============================] - 3s 5ms/step - loss: 1.9949e-04 - accuracy: 1.0000 - val_loss: 0.0817 - val_accuracy: 0.9842\n",
      "\n",
      "Epoch 00016: ReduceLROnPlateau reducing learning rate to 0.0001250000059371814.\n",
      "Epoch 17/20\n",
      "600/600 [==============================] - 3s 5ms/step - loss: 1.4917e-04 - accuracy: 1.0000 - val_loss: 0.0823 - val_accuracy: 0.9842\n",
      "Epoch 18/20\n",
      "600/600 [==============================] - 3s 5ms/step - loss: 1.2818e-04 - accuracy: 1.0000 - val_loss: 0.0843 - val_accuracy: 0.9844\n",
      "Epoch 19/20\n",
      "600/600 [==============================] - 3s 5ms/step - loss: 1.1259e-04 - accuracy: 1.0000 - val_loss: 0.0848 - val_accuracy: 0.9843\n",
      "\n",
      "Epoch 00019: ReduceLROnPlateau reducing learning rate to 6.25000029685907e-05.\n",
      "Epoch 20/20\n",
      "600/600 [==============================] - 3s 5ms/step - loss: 9.3358e-05 - accuracy: 1.0000 - val_loss: 0.0853 - val_accuracy: 0.9844\n"
     ]
    }
   ],
   "source": [
    "hist = model.fit(train_dataset, epochs=N_EPOCHS, validation_data=test_dataset, callbacks=[lr_callback])"
   ]
  },
  {
   "cell_type": "code",
   "execution_count": null,
   "id": "2264ea4b",
   "metadata": {},
   "outputs": [],
   "source": []
  },
  {
   "cell_type": "code",
   "execution_count": null,
   "id": "324dfb61",
   "metadata": {},
   "outputs": [],
   "source": []
  }
 ],
 "metadata": {
  "kernelspec": {
   "display_name": "Python 3 (ipykernel)",
   "language": "python",
   "name": "python3"
  },
  "language_info": {
   "codemirror_mode": {
    "name": "ipython",
    "version": 3
   },
   "file_extension": ".py",
   "mimetype": "text/x-python",
   "name": "python",
   "nbconvert_exporter": "python",
   "pygments_lexer": "ipython3",
   "version": "3.8.11"
  },
  "toc": {
   "base_numbering": 1,
   "nav_menu": {},
   "number_sections": true,
   "sideBar": true,
   "skip_h1_title": false,
   "title_cell": "Table of Contents",
   "title_sidebar": "Contents",
   "toc_cell": false,
   "toc_position": {},
   "toc_section_display": true,
   "toc_window_display": false
  }
 },
 "nbformat": 4,
 "nbformat_minor": 5
}
