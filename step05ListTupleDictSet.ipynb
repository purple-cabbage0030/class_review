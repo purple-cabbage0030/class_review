{
 "cells": [
  {
   "cell_type": "markdown",
   "metadata": {
    "id": "DkIsWfgBRGvR"
   },
   "source": [
    "<!--NAVIGATION-->\n",
    "\n",
    "\n",
    "[[step04.String 학습 page로 이동](step04StringType.ipynb) ] | [[step06. 변수 학습 page로 이동](step06VariableOperators.ipynb) ] "
   ]
  },
  {
   "cell_type": "markdown",
   "metadata": {
    "id": "U-rWYcAWRGve"
   },
   "source": [
    "## 리스트, 튜플, 딕셔너리, 셋 학습\n",
    "\n",
    "> python의 매우 중요한 데이터 타입<br>\n",
    "> python에선 모든 데이터 타입이 모두 다 객체"
   ]
  },
  {
   "cell_type": "markdown",
   "metadata": {
    "id": "CofGffVjRGvj"
   },
   "source": [
    "### 1. 리스트 클래스\n",
    "- list1 = list()\t\t# 공백 리스트 생성<br>\n",
    "- list2 = list(\"Hello\")\t\t# 문자 H, e, l, l, o를 요소로 가지는 리스트 생성<br>\n",
    "- list3 = list(range(0, 5))\t# 0, 1, 2, 3, 4를 요소가 가지는 리스트 생성<br>\n",
    "- list4 = [ ] \t\t\t# 공백 리스트 생성<br>\n",
    "- list5 = [ \"H\", \"e\", \"l\", \"l\", \"o\" ] \t# 문자 H, e, l, l, o를 요소로 가지는 리스트<br> \n",
    "- list6 = [ 0, 1, 2, 3, 4 ]# 0, 1, 2, 3, 4를 요소가 가지는 리스트 생성<br>\n"
   ]
  },
  {
   "cell_type": "markdown",
   "metadata": {
    "id": "AoA7pfiXRGvm"
   },
   "source": [
    "### 2. 복잡한 list\n",
    "- list1 = [12, \"dog\", 180.14] \t\t\t\t# 혼합 자료형 <br>\n",
    "- list2 =  [[\"Seoul\", 10], [\"Paris\", 12], [\"London\", 50]] \t# 내장 리스트<br> \n",
    "- list3 = [\"aaa\", [\"bbb\", [\"ccc\", [\"ddd\", \"eee\", 45]]]] \t# 내장 리스트 <br>\n"
   ]
  },
  {
   "cell_type": "code",
   "execution_count": 1,
   "metadata": {
    "id": "HCwY9msiRGvo"
   },
   "outputs": [],
   "source": [
    "list3 = [\"aaa\", [\"bbb\", [\"ccc\", [\"ddd\", \"eee\", 45]]]]    # 내장 리스트"
   ]
  },
  {
   "cell_type": "code",
   "execution_count": 8,
   "metadata": {},
   "outputs": [
    {
     "name": "stdout",
     "output_type": "stream",
     "text": [
      "bbb\n",
      "eee\n"
     ]
    }
   ],
   "source": [
    "# eee만 출력\n",
    "print(list3[1][0])\n",
    "print(list3[1][1][1][1])"
   ]
  },
  {
   "cell_type": "code",
   "execution_count": null,
   "metadata": {},
   "outputs": [],
   "source": []
  },
  {
   "cell_type": "markdown",
   "metadata": {
    "id": "DUfnOYLCRGvq"
   },
   "source": [
    "### list를 stack처럼\n",
    "\n",
    "1. append(데이터) :  호출시에 list의 가장 마지막에 데이터 추가 저장\n",
    "2. pop(index) : index값으로 존재하는 모든 데이터 반환+삭제가 가능하나 \n",
    "    stack처럼 개발할 경우 stack이란 자료 구조 특징에 맞게 index없이 pop() 사용 <br>\n",
    "    단 index 값으로 list의 특정 위치 데이터 반환(삭제)도 가능"
   ]
  },
  {
   "cell_type": "code",
   "execution_count": 10,
   "metadata": {
    "id": "bJJYtg2aRGvs",
    "outputId": "3ce3f047-e7bc-49b7-958f-0365d54d1a21"
   },
   "outputs": [
    {
     "data": {
      "text/plain": [
       "[100, 200]"
      ]
     },
     "execution_count": 10,
     "metadata": {},
     "output_type": "execute_result"
    }
   ],
   "source": [
    "# 리스트로 stack 구조 만들어 보기\n",
    "# 마지막 저장한 데이터를 가장 먼저 빼야 하는 구조\n",
    "# list 내에 데이터 저장 및 삭제\n",
    "# append() / pop()\n",
    "\n",
    "list = [100, 200]\n",
    "list"
   ]
  },
  {
   "cell_type": "code",
   "execution_count": 11,
   "metadata": {
    "id": "NywAZhTTRGvy"
   },
   "outputs": [
    {
     "name": "stdout",
     "output_type": "stream",
     "text": [
      "[100, 200, 300]\n"
     ]
    }
   ],
   "source": [
    "list.append(300)\n",
    "print(list)"
   ]
  },
  {
   "cell_type": "code",
   "execution_count": 12,
   "metadata": {},
   "outputs": [
    {
     "name": "stdout",
     "output_type": "stream",
     "text": [
      "300\n"
     ]
    }
   ],
   "source": [
    "print(list.pop())   # pop에 인덱스 값 주지 않으면 마지막 저장 데이터가 뽑힌다."
   ]
  },
  {
   "cell_type": "code",
   "execution_count": 13,
   "metadata": {},
   "outputs": [
    {
     "name": "stdout",
     "output_type": "stream",
     "text": [
      "[100, 200]\n"
     ]
    }
   ],
   "source": [
    "print(list)"
   ]
  },
  {
   "cell_type": "code",
   "execution_count": 14,
   "metadata": {},
   "outputs": [
    {
     "name": "stdout",
     "output_type": "stream",
     "text": [
      "100\n",
      "[200]\n"
     ]
    }
   ],
   "source": [
    "print(list.pop(0))\n",
    "print(list)"
   ]
  },
  {
   "cell_type": "code",
   "execution_count": null,
   "metadata": {},
   "outputs": [],
   "source": []
  },
  {
   "cell_type": "markdown",
   "metadata": {
    "id": "lIjppbRJRGvz"
   },
   "source": [
    "###   list를 queue 구조 처럼 만들어 보기"
   ]
  },
  {
   "cell_type": "code",
   "execution_count": 15,
   "metadata": {
    "id": "CfhvN6vCRGv0",
    "outputId": "c0a1be6f-d0c0-4352-82f9-f70b74c34d26"
   },
   "outputs": [
    {
     "data": {
      "text/plain": [
       "['a', 'b', 'c']"
      ]
     },
     "execution_count": 15,
     "metadata": {},
     "output_type": "execute_result"
    }
   ],
   "source": [
    "\"\"\"\n",
    "list에서 index 즉 [index]로 데이터 반환/pop(index) 데이터 반환시 차이점\n",
    "pop() 은 데이터 반환 + 삭제\n",
    "\"\"\"\n",
    "list2 = ['a', 'b']\n",
    "list2.append('c')\n",
    "list2"
   ]
  },
  {
   "cell_type": "code",
   "execution_count": 16,
   "metadata": {
    "id": "dtrxKlEeRGv2",
    "outputId": "9efacb3c-69b4-46c5-81c0-c387968ca33b"
   },
   "outputs": [
    {
     "data": {
      "text/plain": [
       "'a'"
      ]
     },
     "execution_count": 16,
     "metadata": {},
     "output_type": "execute_result"
    }
   ],
   "source": [
    "list2.pop(0)"
   ]
  },
  {
   "cell_type": "code",
   "execution_count": 17,
   "metadata": {
    "id": "RZ4iqOYDRGv5"
   },
   "outputs": [
    {
     "data": {
      "text/plain": [
       "['b', 'c']"
      ]
     },
     "execution_count": 17,
     "metadata": {},
     "output_type": "execute_result"
    }
   ],
   "source": [
    "list2"
   ]
  },
  {
   "cell_type": "markdown",
   "metadata": {
    "id": "FtyFFUAhRGv7"
   },
   "source": [
    "### list 정렬\n",
    "\n",
    "1. sort() 함수 : 정렬후 변수 자체에 적용\n",
    "2. 영어인 경우 대소문자가 혼용되었을 경우 우선순위는 대문자(아스키 코드값)<br>\n",
    " 대소문자 무시하면서 정렬 로직 추가도 가능        \n",
    "3. 역정렬 가능\n"
   ]
  },
  {
   "cell_type": "code",
   "execution_count": 18,
   "metadata": {
    "id": "SZQKDA1-RGv9",
    "outputId": "e4b9c984-d37b-4ba7-a3cf-c9285bec82b4"
   },
   "outputs": [
    {
     "data": {
      "text/plain": [
       "['a', 'b', 'e', 'c']"
      ]
     },
     "execution_count": 18,
     "metadata": {},
     "output_type": "execute_result"
    }
   ],
   "source": [
    "lst = ['a', 'b', 'e', 'c']\n",
    "lst"
   ]
  },
  {
   "cell_type": "code",
   "execution_count": 19,
   "metadata": {
    "id": "z7SV5OVuRGv_"
   },
   "outputs": [
    {
     "data": {
      "text/plain": [
       "['b', 'e', 'c']"
      ]
     },
     "execution_count": 19,
     "metadata": {},
     "output_type": "execute_result"
    }
   ],
   "source": [
    "# javascript와 흡사\n",
    "\n",
    "del lst[0]\n",
    "lst"
   ]
  },
  {
   "cell_type": "markdown",
   "metadata": {
    "id": "C8kecQDuRGwA"
   },
   "source": [
    "### list 메소드 - 정렬\n",
    "\n",
    "**sort()**\n",
    "\n",
    "1. parameter가 blank인 경우 오름차순 정렬이 기본\n",
    "2. list가 참조(관리, reference)하는 데이터(list) 자체를 수정\n",
    "3. 새로운 변수에 대입 시에 None값만 대입되고 원본은 오픈하지 않음\n",
    "4. parameter/argument/매개변수/매개인자에 reverse=True 입력 시 역정렬 즉 내림차순 정렬\n",
    "5. 원리: 아스키코드 번호를 기준값으로 정렬됨.\n",
    "6. 호출 문법 <br>\n",
    "    >list객체.sort() - list type에서 제공되는 기능의 메소드<br>\n",
    "    >python 언어 자체를 개발한 관점에서 list 개발, 데이터를 순서에 맞게 저장하고 중복도 허락, 데이터 삭제, 수정, 추가 etc의 기능 제공.<br>\n",
    "    이 list에서 제공되는 기능들은 list 데이터들을 관리하는 기능 = 메소드\n",
    "\n",
    "<hr>\n",
    "\n",
    "**sorted()**\n",
    "\n",
    "1. 정렬 후에 원본과 다른 복제본 생성, 원본은 수정되지 않고 유지됨\n",
    "2. 호출 문법<br>\n",
    "    >sorted(데이터들) --> 특정 타입에만 국한하지 않고 호출되는 기능의 함수\n",
    "    \n",
    "<hr>\n",
    "tip: docstring 확인 액션 - 파라미터 내부에 포인터 넣은 상태에서 shift + tab"
   ]
  },
  {
   "cell_type": "code",
   "execution_count": 28,
   "metadata": {
    "id": "SCSgOwrTRUcL"
   },
   "outputs": [
    {
     "name": "stdout",
     "output_type": "stream",
     "text": [
      "None\n",
      "['a', 'b', 'c', 'e']\n"
     ]
    }
   ],
   "source": [
    "lst = ['a', 'b', 'e', 'c']\n",
    "\n",
    "v = lst.sort()\n",
    "print(v)             # None은 결측치, 데이터가 없음을 의미하는 파이썬 표현\n",
    "print(lst)"
   ]
  },
  {
   "cell_type": "code",
   "execution_count": 25,
   "metadata": {},
   "outputs": [
    {
     "name": "stdout",
     "output_type": "stream",
     "text": [
      "None\n",
      "['e', 'c', 'b', 'a']\n"
     ]
    }
   ],
   "source": [
    "lst = ['a', 'b', 'e', 'c']\n",
    "v = lst.sort(reverse=True)\n",
    "print(v)\n",
    "print(lst)"
   ]
  },
  {
   "cell_type": "code",
   "execution_count": 26,
   "metadata": {},
   "outputs": [
    {
     "name": "stdout",
     "output_type": "stream",
     "text": [
      "None\n"
     ]
    },
    {
     "data": {
      "text/plain": [
       "['e', 'c', 'b', 'a']"
      ]
     },
     "execution_count": 26,
     "metadata": {},
     "output_type": "execute_result"
    }
   ],
   "source": [
    "lst = ['a', 'b', 'e', 'c']\n",
    "print(lst.sort(reverse=True))\n",
    "lst"
   ]
  },
  {
   "cell_type": "code",
   "execution_count": 32,
   "metadata": {
    "id": "RgQemcrERGwB"
   },
   "outputs": [
    {
     "name": "stdout",
     "output_type": "stream",
     "text": [
      "['a', 'b', 'e', 'c']\n",
      "['a', 'b', 'c', 'e']\n",
      "['a', 'b', 'e', 'c']\n",
      "['a', 'b', 'c', 'e']\n"
     ]
    }
   ],
   "source": [
    "lst = ['a', 'b', 'e', 'c']\n",
    "print(lst)\n",
    "\n",
    "# sorted라는 독립적인 함수: sort는 원본을 수정하지만 sorted는 원본을 수정하지 않는다. (복제본 생성)\n",
    "print(sorted(lst))\n",
    "\n",
    "print(lst)\n",
    "\n",
    "v = sorted(lst)\n",
    "print(v)"
   ]
  },
  {
   "cell_type": "code",
   "execution_count": 33,
   "metadata": {},
   "outputs": [
    {
     "name": "stdout",
     "output_type": "stream",
     "text": [
      "['e', 'c', 'b', 'a']\n"
     ]
    }
   ],
   "source": [
    "lst = ['a', 'b', 'e', 'c']\n",
    "\n",
    "v = sorted(lst, reverse = True) # 내림차순\n",
    "print(v)"
   ]
  },
  {
   "cell_type": "code",
   "execution_count": null,
   "metadata": {},
   "outputs": [],
   "source": []
  },
  {
   "cell_type": "markdown",
   "metadata": {
    "id": "8KOaCtmiRGwC"
   },
   "source": [
    "### 3. 튜플\n",
    "- 쉼표로 구분된 변경 불가능한 리스트, 연산 사용 가능<br>\n",
    "- 문법 : ()\n",
    "- 개별 데이터 활용 : 고유한 index\n",
    "- tuple1 = ()<br>\n",
    "- tuple2 = tuple()<br>\n",
    "- t1 = (1, 2, 3, 4, 5)<br>\n",
    "- t2 = (\"red\", \"green\", \"blue\")<br>\n",
    "- t = t1 + t2 <br>\n",
    "- t3 = 'test', 'test1', 'test2' #괄호없이 나영될 객체들도 튜플로 간주"
   ]
  },
  {
   "cell_type": "code",
   "execution_count": 35,
   "metadata": {
    "id": "1qk1lztHRGwD"
   },
   "outputs": [
    {
     "name": "stdout",
     "output_type": "stream",
     "text": [
      "(1, 2, 3, 4, 5, 'red', 'green', 'blue')\n"
     ]
    }
   ],
   "source": [
    "t1 = (1, 2, 3, 4, 5)\n",
    "t2 = (\"red\", \"green\", \"blue\")\n",
    "t = t1 + t2\n",
    "print(t)"
   ]
  },
  {
   "cell_type": "code",
   "execution_count": null,
   "metadata": {},
   "outputs": [],
   "source": []
  },
  {
   "cell_type": "markdown",
   "metadata": {
    "id": "sfRNGs58RGwF"
   },
   "source": [
    "### 용어\n",
    "> **패킹** : 하나의 변수에 여러개의 데이터를 넣는 구조 의미<br>\n",
    "> **언패킹** : 하나의 변수에서 여러개의 데이터를 각각 꺼내오는 구조 의미"
   ]
  },
  {
   "cell_type": "code",
   "execution_count": 36,
   "metadata": {},
   "outputs": [
    {
     "name": "stdout",
     "output_type": "stream",
     "text": [
      "<class 'tuple'>\n",
      "(1, 2, 's')\n"
     ]
    }
   ],
   "source": [
    "# 패킹: 변수 하나에 다수의 데이터 대입하는 구조. 리스트도, 딕셔너리도, 셋도 아님.\n",
    "\n",
    "v = 1, 2, 's'\n",
    "print(type(v))      # 패킹하면 tuple 타입으로 자동 생성\n",
    "print(v)\n"
   ]
  },
  {
   "cell_type": "code",
   "execution_count": 37,
   "metadata": {},
   "outputs": [
    {
     "name": "stdout",
     "output_type": "stream",
     "text": [
      "1 2 s\n"
     ]
    }
   ],
   "source": [
    "# 언패킹: 하나의 변수가 보유하고 있는 다수의 데이터들을 다수의 변수로 분할해서 대입\n",
    "a, b, c = v\n",
    "print(a, b, c)    # , 로 출력 데이터 구분 시 자동으로 여백으로 처리"
   ]
  },
  {
   "cell_type": "code",
   "execution_count": null,
   "metadata": {},
   "outputs": [],
   "source": []
  },
  {
   "cell_type": "markdown",
   "metadata": {
    "id": "iQ3C7Y_uRGwI"
   },
   "source": [
    "### 4. Dict\n",
    "\n",
    "- 문법 : {key:value, key2:value, ...} json 포맷과 흡사\n",
    "- 활용 : 변수명['key']\n",
    "- 특정키를 주면 관련된 값을 돌려주는 내용 기반으로 검색하는 자료형\n",
    "- 키(key)와 값(value)의 쌍으로 관리되는 객체\n",
    "- 순서가 없음 \n",
    "- 키는 절대 중복 안함\n",
    "- 주요 함수 : get()/items()/keys()/values()/copy()/update\n",
    "- 저장 및 활용<br>\n",
    "    1. 이미 존재하는 dict 에 추가 저장 : dict변수['newKey'] = 새로운데이터<br>\n",
    "    2. 이미 존재하는 데이터 반환 : get(), ['key']\n",
    "\n",
    "- doc <br>\n",
    "https://docs.python.org/ko/3.6/library/stdtypes.html#mapping-types-dict\n"
   ]
  },
  {
   "cell_type": "code",
   "execution_count": 39,
   "metadata": {
    "id": "ZN8jfW-URGwK"
   },
   "outputs": [
    {
     "data": {
      "text/plain": [
       "{'a': 1, 'b': 2, 'c': 3}"
      ]
     },
     "execution_count": 39,
     "metadata": {},
     "output_type": "execute_result"
    }
   ],
   "source": [
    "# zip(key, value): list들을 key와 value 형식으로 구성해주는 함수\n",
    "\n",
    "name = ['a', 'b', 'c']\n",
    "age = [1, 2, 3]\n",
    "\n",
    "v = dict( zip(name, age) )\n",
    "v"
   ]
  },
  {
   "cell_type": "code",
   "execution_count": null,
   "metadata": {},
   "outputs": [],
   "source": []
  },
  {
   "cell_type": "markdown",
   "metadata": {
    "id": "CSepSWdhRGwL"
   },
   "source": [
    "### 중간 점검\n",
    "\n",
    "- 숫자(정수, 실수), 부울, 문자열...\n",
    "- list : [], 값 수정 가능, index로 데이터 관리\n",
    "- tuple : (), 값 수정 불가, index로 데이터 관리\n",
    "- dict : {}, key는 절대 중복 불허\n",
    "- set : {}, 중복 데이터 불허, dict의 key의 타입으로 사용됨"
   ]
  },
  {
   "cell_type": "code",
   "execution_count": null,
   "metadata": {
    "id": "SQlkdjuzRGwN"
   },
   "outputs": [],
   "source": []
  },
  {
   "cell_type": "code",
   "execution_count": null,
   "metadata": {
    "id": "ZKrIIJimRGwP"
   },
   "outputs": [],
   "source": []
  },
  {
   "cell_type": "code",
   "execution_count": null,
   "metadata": {
    "id": "diOgZsAqRGwP"
   },
   "outputs": [],
   "source": []
  }
 ],
 "metadata": {
  "colab": {
   "name": "step05ListTupleDictSet.ipynb",
   "provenance": []
  },
  "kernelspec": {
   "display_name": "Python 3",
   "language": "python",
   "name": "python3"
  },
  "language_info": {
   "codemirror_mode": {
    "name": "ipython",
    "version": 3
   },
   "file_extension": ".py",
   "mimetype": "text/x-python",
   "name": "python",
   "nbconvert_exporter": "python",
   "pygments_lexer": "ipython3",
   "version": "3.8.5"
  }
 },
 "nbformat": 4,
 "nbformat_minor": 1
}
