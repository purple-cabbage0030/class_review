{
 "cells": [
  {
   "cell_type": "markdown",
   "metadata": {},
   "source": [
    "<!--NAVIGATION-->\n",
    "\n",
    "\n",
    "[[step11.Object Oriented Programming 학습 page로 이동](step11OOP.ipynb) ] | [[step13.Fiile IO 학습 page로 이동](step13FileIO.ipynb) ]"
   ]
  },
  {
   "cell_type": "markdown",
   "metadata": {},
   "source": [
    "### 모듈(묶음)이란?\n",
    "\n",
    "> 1. 함수나 변수들을 모아 놓은 library들 의미<br>\n",
    "&nbsp;&nbsp; 회사, 그룹, 모르는 누군가가 제공하는 외부 library들 사용하는 방법인 동시에 외부에 내 코드를 공유하는 방법<br>\n",
    "\n",
    "> 2. 모듈 사용 방법 <br>\n",
    "2-1. 모듈의 파일 확장자 : py <br>\n",
    "2-2. 모듈 사용 문법<br>\n",
    "  &nbsp;&nbsp;&nbsp; a. import file명 <br>\n",
    "  &nbsp;&nbsp;&nbsp; b. from file명 import 함수명<br>\n",
    "  &nbsp;&nbsp;&nbsp; c. import file명 as 별칭<br>"
   ]
  },
  {
   "cell_type": "code",
   "execution_count": 1,
   "metadata": {},
   "outputs": [
    {
     "name": "stdout",
     "output_type": "stream",
     "text": [
      " C 드라이브의 볼륨에는 이름이 없습니다.\n",
      " 볼륨 일련 번호: DA0E-26C3\n",
      "\n",
      " C:\\Users\\Playdata\\playdata\\202105_lab\\01.pythonBasic\\0513_ex 디렉터리\n",
      "\n",
      "2021-05-24  오후 02:28    <DIR>          .\n",
      "2021-05-24  오후 02:28    <DIR>          ..\n",
      "2021-05-24  오후 02:22    <DIR>          .ipynb_checkpoints\n",
      "2021-05-18  오후 02:43    <DIR>          0514_Quiz\n",
      "2021-05-18  오후 06:04             3,317 0518_Quiz.ipynb\n",
      "2021-05-24  오전 09:07    <DIR>          dataSet\n",
      "2021-05-13  오후 02:34            10,537 step01Calculation.ipynb\n",
      "2021-05-14  오후 04:28            52,014 step02ConditionLoop.ipynb\n",
      "2021-05-18  오전 09:09            68,170 step03_1DataType.ipynb\n",
      "2021-05-17  오후 04:45           323,306 step03_2Slice.ipynb\n",
      "2021-05-18  오전 09:11            12,383 step04StringType.ipynb\n",
      "2021-05-18  오전 11:35            16,956 step05ListTupleDictSet.ipynb\n",
      "2021-05-21  오후 03:54             9,701 step06VariableOperators.ipynb\n",
      "2021-05-21  오후 02:01            29,641 step07Function.ipynb\n",
      "2021-05-24  오전 09:49            27,871 step08Comprehension.ipynb\n",
      "2021-05-21  오후 03:20           330,659 step09_1Exception.ipynb\n",
      "2021-05-21  오후 03:36             9,104 step09_2goodCode.ipynb\n",
      "2021-05-24  오후 12:00             4,389 step10Class.ipynb\n",
      "2021-05-24  오후 12:00             5,461 step10_1Class.ipynb\n",
      "2021-05-24  오후 12:00            31,221 step10_2Class.ipynb\n",
      "2021-05-24  오후 02:20            37,234 step11OOP.ipynb\n",
      "2021-05-24  오후 02:28             3,299 step12Module.ipynb\n",
      "2021-05-24  오전 09:04             7,010 step13FileIO.ipynb\n",
      "2021-05-24  오전 09:04           268,175 step14RegExp.ipynb\n",
      "              19개 파일           1,250,448 바이트\n",
      "               5개 디렉터리  196,176,920,576 바이트 남음\n"
     ]
    }
   ],
   "source": [
    "# ! = jupyter notebook에서 명령 프롬프트에서 입력되는 명령어 사용할 때 맨 앞에 느낌표 ~\n",
    "!dir"
   ]
  },
  {
   "cell_type": "code",
   "execution_count": 4,
   "metadata": {},
   "outputs": [
    {
     "name": "stdout",
     "output_type": "stream",
     "text": [
      "Writing fibo.py\n"
     ]
    }
   ],
   "source": [
    "%%writefile fibo.py\n",
    "\n",
    "def fib(n):\n",
    "    a, b = 0, 1\n",
    "    \n",
    "    while b<n:     # 조건이 true인 경우에만 실행되는 반복문\n",
    "        print(b, end=' ')\n",
    "        a, b = b, a+b\n",
    "        \n",
    "        \n",
    "#if __name__ == \"__main__\":\n",
    "#    print(\"python은 직접 명령어로 실행 시 자동 호출되는 영역\")"
   ]
  },
  {
   "cell_type": "code",
   "execution_count": 5,
   "metadata": {},
   "outputs": [
    {
     "name": "stdout",
     "output_type": "stream",
     "text": [
      "1 1 2 3 "
     ]
    }
   ],
   "source": [
    "import fibo    # fibo.py 파일 내용을 사용하겠다는 의미의 설정\n",
    "\n",
    "# fibo라는 모듈(파일)이 보유하고 있는 fib() 함수 호출 문법\n",
    "fibo.fib(5)"
   ]
  },
  {
   "cell_type": "code",
   "execution_count": 6,
   "metadata": {},
   "outputs": [
    {
     "name": "stdout",
     "output_type": "stream",
     "text": [
      "1 1 2 3 5 "
     ]
    }
   ],
   "source": [
    "import fibo as f    # 모듈명이 긴 경우 간결한 별칭 부여하는 방식\n",
    "f.fib(6)"
   ]
  },
  {
   "cell_type": "code",
   "execution_count": 7,
   "metadata": {},
   "outputs": [
    {
     "name": "stdout",
     "output_type": "stream",
     "text": [
      "1 1 2 3 5 "
     ]
    }
   ],
   "source": [
    "from fibo import fib\n",
    "fib(6)"
   ]
  },
  {
   "cell_type": "markdown",
   "metadata": {},
   "source": [
    "python 명령어로 직접 프로그램 실행하는 방법\n",
    "\n",
    "도스창에선 >python file명.py"
   ]
  },
  {
   "cell_type": "code",
   "execution_count": 9,
   "metadata": {},
   "outputs": [
    {
     "name": "stderr",
     "output_type": "stream",
     "text": [
      "UsageError: Line magic function `%%writefile` not found.\n"
     ]
    }
   ],
   "source": [
    "# jupyter notebook에서 python 파일 생성하는 명령어\n",
    "%%writefile mymath.py\n",
    "\n",
    "mypi = 3.14\n",
    "def add(a,b):\n",
    "    return a+b\n",
    "\n",
    "def area(r):\n",
    "    return r*r*mypi"
   ]
  },
  {
   "cell_type": "code",
   "execution_count": 3,
   "metadata": {},
   "outputs": [
    {
     "name": "stdout",
     "output_type": "stream",
     "text": [
      " C 드라이브의 볼륨에는 이름이 없습니다.\n",
      " 볼륨 일련 번호: DA0E-26C3\n",
      "\n",
      " C:\\Users\\Playdata\\playdata\\202105_lab\\01.pythonBasic\\0513_ex 디렉터리\n",
      "\n",
      "2021-05-24  오후 02:29    <DIR>          .\n",
      "2021-05-24  오후 02:29    <DIR>          ..\n",
      "2021-05-24  오후 02:22    <DIR>          .ipynb_checkpoints\n",
      "2021-05-18  오후 02:43    <DIR>          0514_Quiz\n",
      "2021-05-18  오후 06:04             3,317 0518_Quiz.ipynb\n",
      "2021-05-24  오전 09:07    <DIR>          dataSet\n",
      "2021-05-24  오후 02:29               150 mymath.py\n",
      "2021-05-13  오후 02:34            10,537 step01Calculation.ipynb\n",
      "2021-05-14  오후 04:28            52,014 step02ConditionLoop.ipynb\n",
      "2021-05-18  오전 09:09            68,170 step03_1DataType.ipynb\n",
      "2021-05-17  오후 04:45           323,306 step03_2Slice.ipynb\n",
      "2021-05-18  오전 09:11            12,383 step04StringType.ipynb\n",
      "2021-05-18  오전 11:35            16,956 step05ListTupleDictSet.ipynb\n",
      "2021-05-21  오후 03:54             9,701 step06VariableOperators.ipynb\n",
      "2021-05-21  오후 02:01            29,641 step07Function.ipynb\n",
      "2021-05-24  오전 09:49            27,871 step08Comprehension.ipynb\n",
      "2021-05-21  오후 03:20           330,659 step09_1Exception.ipynb\n",
      "2021-05-21  오후 03:36             9,104 step09_2goodCode.ipynb\n",
      "2021-05-24  오후 12:00             4,389 step10Class.ipynb\n",
      "2021-05-24  오후 12:00             5,461 step10_1Class.ipynb\n",
      "2021-05-24  오후 12:00            31,221 step10_2Class.ipynb\n",
      "2021-05-24  오후 02:20            37,234 step11OOP.ipynb\n",
      "2021-05-24  오후 02:28             3,299 step12Module.ipynb\n",
      "2021-05-24  오전 09:04             7,010 step13FileIO.ipynb\n",
      "2021-05-24  오전 09:04           268,175 step14RegExp.ipynb\n",
      "              20개 파일           1,250,598 바이트\n",
      "               5개 디렉터리  196,177,043,456 바이트 남음\n"
     ]
    }
   ],
   "source": [
    "!dir"
   ]
  },
  {
   "cell_type": "markdown",
   "metadata": {},
   "source": [
    "**미션- mymath 모듈의 각 메소드 호출 및 출력해 보기**"
   ]
  },
  {
   "cell_type": "code",
   "execution_count": 11,
   "metadata": {
    "scrolled": true
   },
   "outputs": [
    {
     "data": {
      "text/plain": [
       "7"
      ]
     },
     "execution_count": 11,
     "metadata": {},
     "output_type": "execute_result"
    }
   ],
   "source": [
    "import mymath\n",
    "mymath.add(3, 4)"
   ]
  },
  {
   "cell_type": "code",
   "execution_count": 12,
   "metadata": {},
   "outputs": [
    {
     "data": {
      "text/plain": [
       "113.04"
      ]
     },
     "execution_count": 12,
     "metadata": {},
     "output_type": "execute_result"
    }
   ],
   "source": [
    "# from 파일명 import 함수명 여러 개 가능\n",
    "from mymath import area, add \n",
    "area(6)"
   ]
  },
  {
   "cell_type": "code",
   "execution_count": 13,
   "metadata": {},
   "outputs": [
    {
     "data": {
      "text/plain": [
       "4"
      ]
     },
     "execution_count": 13,
     "metadata": {},
     "output_type": "execute_result"
    }
   ],
   "source": [
    "import mymath as m\n",
    "m.add(5, -1)"
   ]
  },
  {
   "cell_type": "code",
   "execution_count": null,
   "metadata": {},
   "outputs": [],
   "source": []
  }
 ],
 "metadata": {
  "kernelspec": {
   "display_name": "Python 3",
   "language": "python",
   "name": "python3"
  },
  "language_info": {
   "codemirror_mode": {
    "name": "ipython",
    "version": 3
   },
   "file_extension": ".py",
   "mimetype": "text/x-python",
   "name": "python",
   "nbconvert_exporter": "python",
   "pygments_lexer": "ipython3",
   "version": "3.8.5"
  }
 },
 "nbformat": 4,
 "nbformat_minor": 2
}
