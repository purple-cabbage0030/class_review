{
 "cells": [
  {
   "cell_type": "markdown",
   "metadata": {},
   "source": [
    "<!--NAVIGATION-->\n",
    "\n",
    "\n",
    "[[step03.Slice 학습 page로 이동](step03_2Slice.ipynb) ] | [[step05.List,Tuple등 학습 page로 이동](step05ListTupleDictSet.ipynb) ]"
   ]
  },
  {
   "cell_type": "markdown",
   "metadata": {},
   "source": [
    "### 문자열\n",
    "\n",
    "- 문자들의 순서 있는 집합\n",
    "- 여러줄로 이뤄진 문자열 표현도 가능 - 단일, 쌍따옴표 표현 \n",
    "- print 함수 사용시 특수 기호로 처리 가능 : \\r(문자열 앞단에 선언)\n",
    "- str() : 문자열로 형변환\n",
    "- 문자열 반복\n",
    "- 문자열 출력\n",
    "- 문자열 indexing \n",
    "- 문자열 slice : 문자열의 일부 추출\n",
    "- 문자열의 내장 함수 이해하기\n",
    "- 유니코드 문자열 : 전 세계 언어의 문자를 정의하기 위한 국제 표준 코드\n",
    "- python3 부턴 모든 문자열을 유니코드로 처리\n",
    "- 문자열 앞단에 u를 적용할 경우 유니코드로 구성할 수 있음\n",
    "\n",
    "\n",
    "\n",
    "- 참고1 : strip()\n",
    "\n",
    "    - () : space가 구분자이면서 삭제\n",
    "    - ('표기') : 표기가 구분자\n",
    "    - ('표기1 표기2') : 두가지다 구분자\n",
    "    \n",
    "    \n",
    "- 참고2 <br>\n",
    "seq[ 시작 ]  <br>\n",
    "seq[ 시작 : 끝 ] <br>\n",
    "seq[ 시작 : 끝 : 스텝 ] <br>\n",
    "    "
   ]
  },
  {
   "cell_type": "code",
   "execution_count": 2,
   "metadata": {},
   "outputs": [
    {
     "name": "stdout",
     "output_type": "stream",
     "text": [
      "value 값 playdata\n"
     ]
    }
   ],
   "source": [
    "# %s 라는 표현식 학습\n",
    "# python 변수로 해당 위치의 값들을 대체하는 기술\n",
    "\n",
    "data = '값'\n",
    "print('value %s playdata' % data)"
   ]
  },
  {
   "cell_type": "code",
   "execution_count": 4,
   "metadata": {},
   "outputs": [
    {
     "name": "stdout",
     "output_type": "stream",
     "text": [
      "value 값2 playdata 3\n"
     ]
    }
   ],
   "source": [
    "# 하나 이상의 %s\n",
    "\n",
    "d1 = 3\n",
    "d2 = '값2'\n",
    "\n",
    "print( 'value %s playdata %s' % (d2, d1) )"
   ]
  },
  {
   "cell_type": "code",
   "execution_count": 12,
   "metadata": {},
   "outputs": [
    {
     "name": "stdout",
     "output_type": "stream",
     "text": [
      "5\n",
      "0\n"
     ]
    }
   ],
   "source": [
    "# 문자열에 포함된 철자의 첫번째 index 값 반환\n",
    "# 문자열 시작 index는 0부터\n",
    "\n",
    "data = 'abca Defg'\n",
    "print(data.find('D'))\n",
    "print(data.find('a'))"
   ]
  },
  {
   "cell_type": "code",
   "execution_count": 18,
   "metadata": {},
   "outputs": [
    {
     "name": "stdout",
     "output_type": "stream",
     "text": [
      " 봄 여름 가을 겨울 \n",
      "12\n",
      "봄 여름 가을 겨울\n",
      "10\n",
      "봄 여름 가을 겨울 \n",
      " 봄 여름 가을 겨울\n"
     ]
    }
   ],
   "source": [
    "# 문자열의 잉여 여백을 제거\n",
    "# 문자열 앞 뒤에 있는 잉여 여백\n",
    "# 문자열 데이터 전처리에 필수\n",
    "\n",
    "data = ' 봄 여름 가을 겨울 '\n",
    "print(data)\n",
    "print(len(data))\n",
    "print(data.strip())\n",
    "print(len(data.strip()))\n",
    "print(data.lstrip())      # 왼쪽 여백 제거\n",
    "print(data.rstrip())      # 오른쪽"
   ]
  },
  {
   "cell_type": "code",
   "execution_count": null,
   "metadata": {},
   "outputs": [],
   "source": []
  },
  {
   "cell_type": "markdown",
   "metadata": {},
   "source": [
    "join() <br>\n",
    "\n",
    "list 내의 모든 문자열을 하나의 단일 문자열로 결합"
   ]
  },
  {
   "cell_type": "code",
   "execution_count": 39,
   "metadata": {},
   "outputs": [
    {
     "name": "stdout",
     "output_type": "stream",
     "text": [
      "['사과', '귤', '오렌지'] <class 'list'>\n",
      "사과 귤 오렌지\n"
     ]
    }
   ],
   "source": [
    "#인수로 반영된 데이터를 특정 표현으로 가공하는 함수\n",
    "\n",
    "s3 = ['사과', '귤', '오렌지']\n",
    "print(s3, type(s3))\n",
    "\n",
    "# list내의 모든 문자열을 뽑아서 하나의 문자열로 가공\n",
    "s4 = ' '.join(s3)     # 여백이 포함된 하나의 문자열로\n",
    "print(s4)\n"
   ]
  },
  {
   "cell_type": "code",
   "execution_count": null,
   "metadata": {},
   "outputs": [],
   "source": []
  },
  {
   "cell_type": "markdown",
   "metadata": {},
   "source": [
    "#### split함수\n",
    "\n",
    "\"문자열\".split(t, n)\n",
    "\n",
    "문자열에서 t가 구분자로 사용되며, t를 기준으로 정수 n만큼 분리한 문자열 리스트 반환\n"
   ]
  },
  {
   "cell_type": "code",
   "execution_count": 25,
   "metadata": {},
   "outputs": [
    {
     "name": "stdout",
     "output_type": "stream",
     "text": [
      "['사과', '귤', '오렌지', '포도']\n",
      "['사과', '귤*오렌지*포도']\n",
      "['사과', '귤', '오렌지*포도']\n"
     ]
    }
   ],
   "source": [
    "s3 = '사과*귤*오렌지*포도'\n",
    "print(s3.split('*'))\n",
    "print(s3.split('*', 1))\n",
    "print(s3.split('*', 2))\n"
   ]
  },
  {
   "cell_type": "code",
   "execution_count": null,
   "metadata": {},
   "outputs": [],
   "source": []
  },
  {
   "cell_type": "markdown",
   "metadata": {},
   "source": [
    "strip(B)\n",
    "\n",
    "\n",
    "문자열 앞뒤의 B 문자열 제거"
   ]
  },
  {
   "cell_type": "code",
   "execution_count": 26,
   "metadata": {},
   "outputs": [
    {
     "name": "stdout",
     "output_type": "stream",
     "text": [
      "로미오&줄리엣\n"
     ]
    }
   ],
   "source": [
    "actors = '로미오&줄리엣1010'\n",
    "print(actors.strip('10'))\n"
   ]
  },
  {
   "cell_type": "code",
   "execution_count": null,
   "metadata": {},
   "outputs": [],
   "source": []
  },
  {
   "cell_type": "markdown",
   "metadata": {},
   "source": [
    "format() : 문자열을 추가하거나 형식화 하는데 사용\n",
    "\n",
    "- python3.1 부터 변수명 or index 생략 가능\n",
    "\n",
    "- %d : 정수 표현\n",
    "- %s : 문자 표현\n",
    "- %f : 부동 소수 표현 (실수)"
   ]
  },
  {
   "cell_type": "code",
   "execution_count": 16,
   "metadata": {},
   "outputs": [
    {
     "data": {
      "text/plain": [
       "'A B C'"
      ]
     },
     "execution_count": 16,
     "metadata": {},
     "output_type": "execute_result"
    }
   ],
   "source": [
    "\"{} {} {}\".format('A', 'B', 'C')"
   ]
  },
  {
   "cell_type": "code",
   "execution_count": 29,
   "metadata": {},
   "outputs": [
    {
     "name": "stdout",
     "output_type": "stream",
     "text": [
      "30, playdata, 20.675660\n",
      "20, playdata, 30.000000\n"
     ]
    }
   ],
   "source": [
    "# test data\n",
    "intValue = 30\n",
    "floatValue = 20.67566\n",
    "\n",
    "print('%d, %s, %F' % (intValue, 'playdata', floatValue))\n",
    "\n",
    "# 형식과 일치되지 않는 데이터 적용시엔 데이터 손실 야기\n",
    "print('%d, %s, %F' % (floatValue, 'playdata', intValue))"
   ]
  },
  {
   "cell_type": "code",
   "execution_count": null,
   "metadata": {},
   "outputs": [],
   "source": []
  },
  {
   "cell_type": "markdown",
   "metadata": {},
   "source": [
    "#### f-strings\n",
    "\n",
    "\n",
    "파이썬 3.6부터 사용 가능 <br>\n",
    "접두사 f를 붙이면 사용 가능, 기존 %나 .format 방식에 비해 간결하고 직관적이며 속도도 빠름\n",
    "\n",
    "f ' 문자열{변수명}문자열 '"
   ]
  },
  {
   "cell_type": "code",
   "execution_count": 32,
   "metadata": {},
   "outputs": [
    {
     "name": "stdout",
     "output_type": "stream",
     "text": [
      "data는 abcd 그리고 [1, 2, 3]\n"
     ]
    }
   ],
   "source": [
    "v = 'abcd'\n",
    "i = [1, 2, 3]\n",
    "\n",
    "print(f'data는 {v} 그리고 {i}')"
   ]
  },
  {
   "cell_type": "code",
   "execution_count": 40,
   "metadata": {},
   "outputs": [
    {
     "name": "stdout",
     "output_type": "stream",
     "text": [
      "abcd\n",
      "abcd\n",
      "abc\n",
      "dcba\n",
      "abcd\n",
      "abcd\n",
      "dcba\n"
     ]
    }
   ],
   "source": [
    "print(v)\n",
    "print(v[:])\n",
    "print(v[:-1])    # 뒤에서 하나를 뺌\n",
    "reversed(v)   # 변환된 객체가 저장된 메모리 주소값. 존재하는 문자열을 역으로 변환하는 함수\n",
    "\n",
    "# '' 문자열의 join 함수를 사용해서 주소번지에 있는 문자열 데이터를 가공하는 로직\n",
    "print(''.join(reversed(v)))\n",
    "print(v)\n",
    "print(v[::])\n",
    "print(v[::-1])   # 슬라이싱 기법으로 문자열 반전하기"
   ]
  },
  {
   "cell_type": "markdown",
   "metadata": {},
   "source": [
    "**미션 : 문자열 전체 반전하기**"
   ]
  },
  {
   "cell_type": "code",
   "execution_count": 50,
   "metadata": {},
   "outputs": [
    {
     "name": "stdout",
     "output_type": "stream",
     "text": [
      "안녕 세상!\n",
      "!상세 녕안\n",
      "!상세 녕안\n"
     ]
    }
   ],
   "source": [
    "def revert(string):\n",
    "    return string[::-1]\n",
    "    \n",
    "\n",
    "str1 = \"안녕 세상!\"\n",
    "str2 = revert(str1)\n",
    "print(str1)\n",
    "print(str2)\n",
    "print(''.join(reversed(str1)))\n",
    "\n"
   ]
  },
  {
   "cell_type": "markdown",
   "metadata": {},
   "source": [
    "**미션 : 문자열 단어 단위로 반전하기**"
   ]
  },
  {
   "cell_type": "code",
   "execution_count": 53,
   "metadata": {},
   "outputs": [
    {
     "name": "stdout",
     "output_type": "stream",
     "text": [
      "openpose 플레이데이터 엔코아\n"
     ]
    }
   ],
   "source": [
    "# 문자열을 공백으로 구분해서 리스트를 생성한 다음 슬라이스 사용 \n",
    "def reversing_words_slice(word):\n",
    "    new_word = []\n",
    "    words = word.split(' ')\n",
    "    \n",
    "    for w in words[::-1]:\n",
    "        new_word.append(w)\n",
    "        \n",
    "    return ' '.join(new_word)\n",
    "\n",
    "\n",
    "str1 = \"엔코아 플레이데이터 openpose\"\n",
    "str2 = reversing_words_slice(str1)\n",
    "print(str2)\n"
   ]
  },
  {
   "cell_type": "code",
   "execution_count": 58,
   "metadata": {},
   "outputs": [
    {
     "name": "stdout",
     "output_type": "stream",
     "text": [
      "openpose 플레이데이터 엔코아\n",
      "openpose 플레이데이터 엔코아\n"
     ]
    }
   ],
   "source": [
    "# 반복문 없이 리스트와 문자열 메소드만으로 해결\n",
    "# 반전 기능의 함수 - reversed(데이터)\n",
    "\n",
    "def reversing_words(str1):\n",
    "#    print(str1)\n",
    "#    print(str.split(' '))\n",
    "#    print(reversed(str.split(' ')))\n",
    "#    print(' '.join(reversed(str.split(' '))))\n",
    "    \n",
    "    return ' '.join(reversed(str1.split(' ')))\n",
    "\n",
    "\n",
    "def reversing_words2(str1):\n",
    "    words = str1.split(' ')      # 하나의 문자열을 여백을 기준으로 리스트로 변환함.\n",
    "#    print(words)       # ['엔코아', '플레이데이터', 'openpose']\n",
    "    words.reverse()\n",
    "#    print(words)       # ['openpose', '플레이데이터', '엔코아']\n",
    "    return ' '.join(words)\n",
    "\n",
    "\n",
    "str1 = \"엔코아 플레이데이터 openpose\"\n",
    "str2 = reversing_words(str1)\n",
    "str3 = reversing_words2(str1)\n",
    "print(str2)\n",
    "print(str3)\n"
   ]
  },
  {
   "cell_type": "code",
   "execution_count": null,
   "metadata": {},
   "outputs": [],
   "source": []
  }
 ],
 "metadata": {
  "kernelspec": {
   "display_name": "Python 3",
   "language": "python",
   "name": "python3"
  },
  "language_info": {
   "codemirror_mode": {
    "name": "ipython",
    "version": 3
   },
   "file_extension": ".py",
   "mimetype": "text/x-python",
   "name": "python",
   "nbconvert_exporter": "python",
   "pygments_lexer": "ipython3",
   "version": "3.8.5"
  }
 },
 "nbformat": 4,
 "nbformat_minor": 2
}
