{
 "cells": [
  {
   "cell_type": "markdown",
   "metadata": {
    "id": "Ak8MsA1BT1sC"
   },
   "source": [
    "<!--NAVIGATION-->\n",
    "\n",
    "[[step10_1. Class 학습 page로 이동](step10_1Class.ipynb) ] | \n",
    "[[step11.Object Oriented Programming 학습 page로 이동](step11OOP.ipynb) ]"
   ]
  },
  {
   "cell_type": "markdown",
   "metadata": {
    "id": "qr4P68reT1sD"
   },
   "source": [
    "# 사용자 정의 파이썬 클래스 개발 방법 학습\n",
    "- 주요 키워드 및 기호 : self(멤버 변수 선언, 메소드의 parameter로 선언), __(특수 메소드의 표기법 - 언더바 2개)\n"
   ]
  },
  {
   "cell_type": "markdown",
   "metadata": {
    "id": "RPwibi8mT1sE"
   },
   "source": [
    "### 1. 파이썬 클래스 \n",
    "\n",
    "- 사용자 정의 클래스 개발 방법\n",
    "\n",
    "\n",
    "- **멤버 변수의 종류**<br>\n",
    "\n",
    "- 클래스 변수 : 객체를 통들어서 하나만 생성되고 모든 객체가 **공유**하는 변수<br>\n",
    "- 인스턴스 변수  : 생성되는 객체 즉 인스턴스별로 별도로 생성되는 변수(객체 고유 메모리값)<br>\n",
    "\n",
    "<hr>\n",
    "\n",
    "- 주요 키워드 : self가 적용된 변수는 모두 다 instance 변수 \n",
    "\n",
    "- 접근자 : 정보 은닉 및 유효성 검증을 위해 private으로 정의하는 방법 - 변수명 앞단에 __ 선언\n",
    "\n",
    "\n",
    "<hr>\n",
    "\n",
    "- **특수 메소드**\n",
    "\n",
    "- static 변수 - static 키워드로 선언 : 객체 생성없이 사용 가능\n",
    "- instance 변수 - non-static 으로 선언 : 객체 생성 필수(instance)\n",
    "- python에선 public(무) 또는 private (__)로 표기\n",
    "\n",
    "\n",
    "> 용어\n",
    "1. 메소드 : 클래스 내부에 구현되는 기능<br>\n",
    "2. 함수 : 클래스와 독립적으로 구현되는 기능<br>"
   ]
  },
  {
   "cell_type": "markdown",
   "metadata": {
    "id": "A7YmzXMgT1sF"
   },
   "source": [
    "**파이썬 클래스 개발 문법**\n",
    "\n",
    "- class 키워드\n",
    "- 생성자 : __init__(self)\n",
    "- 클래스 내에 구현하는 함수의 첫번째 parameter : self\n",
    "- 멤버 변수 선언 문법 : init() 내부에 self.변수명"
   ]
  },
  {
   "cell_type": "code",
   "execution_count": 2,
   "metadata": {},
   "outputs": [],
   "source": [
    "# 지점은 여러 개, 은행 메인 브랜드는 하나.\n",
    "# 은행 브랜드는 100% 공유 자원의 이름 / 지점 이름은 지점별로 다름\n",
    "# 은행 브랜드는 초반 데이터로 설정(값 대입) 후에 재사용. \n",
    "# 단 지점별로 Bank는 명확히 구분 필요 (Bank 객체 지점수만큼 생성)\n",
    "# 공유하는 데이터는 클래스 변수, 객체마다 다른 데이터는 instance 변수\n",
    "\n",
    "\n",
    "class Bank:\n",
    "    # class 변수 / Bank.bank_name 호출\n",
    "    bank_name = '플레이데이터 은행'   # 브랜드명 - 생성되는 모든 객체가 공유하게 되는 변수\n",
    "    \n",
    "    # 지점 위치, 지점별 공유해서는 안 되는 데이터의 변수는 이렇게 선언 = incstance 변수, 참조 변수로만 호출 가능\n",
    "    def __init__(self, loc):\n",
    "        self.loc = loc\n",
    "        \n",
    "    # 이하 다양한 로직이 있다 가정"
   ]
  },
  {
   "cell_type": "code",
   "execution_count": 3,
   "metadata": {},
   "outputs": [
    {
     "name": "stdout",
     "output_type": "stream",
     "text": [
      "플레이데이터 은행 의 지점 위치 -  마포\n",
      "플레이데이터 은행 의 지점 위치 -  마포\n"
     ]
    }
   ],
   "source": [
    "# loc라는 멤버 변수값만 초기화\n",
    "# 메모리에 Bank 공간에 두 개의 데이터가 저장되어 있는 상태. '플레이데이터 은행', '마포'\n",
    "b1 = Bank('마포')\n",
    "\n",
    "# 메모리 상에 존재하는 데이터 활용 문법\n",
    "\n",
    "# class변수 호출하는 문법 / instance 변수 호출하는 문법\n",
    "print(b1.bank_name, '의 지점 위치 - ', b1.loc)\n",
    "print(Bank.bank_name, '의 지점 위치 - ', b1.loc)"
   ]
  },
  {
   "cell_type": "code",
   "execution_count": 4,
   "metadata": {},
   "outputs": [
    {
     "ename": "AttributeError",
     "evalue": "type object 'Bank' has no attribute 'loc'",
     "output_type": "error",
     "traceback": [
      "\u001b[1;31m---------------------------------------------------------------------------\u001b[0m",
      "\u001b[1;31mAttributeError\u001b[0m                            Traceback (most recent call last)",
      "\u001b[1;32m<ipython-input-4-9f4db03fc4b4>\u001b[0m in \u001b[0;36m<module>\u001b[1;34m\u001b[0m\n\u001b[1;32m----> 1\u001b[1;33m \u001b[0mprint\u001b[0m\u001b[1;33m(\u001b[0m\u001b[0mBank\u001b[0m\u001b[1;33m.\u001b[0m\u001b[0mloc\u001b[0m\u001b[1;33m)\u001b[0m  \u001b[1;31m# instance 변수 따라서 호출 불가 문법\u001b[0m\u001b[1;33m\u001b[0m\u001b[1;33m\u001b[0m\u001b[0m\n\u001b[0m",
      "\u001b[1;31mAttributeError\u001b[0m: type object 'Bank' has no attribute 'loc'"
     ]
    }
   ],
   "source": [
    "print(Bank.loc)  # instance 변수 따라서 호출 불가 문법 "
   ]
  },
  {
   "cell_type": "code",
   "execution_count": 5,
   "metadata": {},
   "outputs": [
    {
     "name": "stdout",
     "output_type": "stream",
     "text": [
      "플레이데이터 은행 의 지점 위치 -  서초\n",
      "플레이데이터 은행 의 지점 위치 -  서초\n"
     ]
    }
   ],
   "source": [
    "b2 = Bank('서초')\n",
    "print(b2.bank_name, '의 지점 위치 - ', b2.loc)\n",
    "print(Bank.bank_name, '의 지점 위치 - ', b2.loc)"
   ]
  },
  {
   "cell_type": "markdown",
   "metadata": {
    "id": "Xi4jS3FvT1sG"
   },
   "source": [
    "### 2. 인스턴스 및 클래스 변수\n",
    ">  독립된 함수 개발 및 호출, 클래스 내부에 구현하는 내장 함수"
   ]
  },
  {
   "cell_type": "code",
   "execution_count": 6,
   "metadata": {
    "id": "vz9IwGelT1sG"
   },
   "outputs": [],
   "source": [
    "# 독립적인 함수\n",
    "# 클래스와 무관하게 개발된 기능들은 함수라 지칭\n",
    "def getIntValue():\n",
    "    print(\"클래스 외부의 getIntValue() 함수\")\n",
    "    return 20"
   ]
  },
  {
   "cell_type": "code",
   "execution_count": 7,
   "metadata": {
    "id": "FcORoodPT1sH",
    "outputId": "e216c54b-591a-48bd-a16f-e12e50c45c5b"
   },
   "outputs": [
    {
     "name": "stdout",
     "output_type": "stream",
     "text": [
      "클래스 외부의 getIntValue() 함수\n"
     ]
    },
    {
     "data": {
      "text/plain": [
       "20"
      ]
     },
     "execution_count": 7,
     "metadata": {},
     "output_type": "execute_result"
    }
   ],
   "source": [
    "data = getIntValue()\n",
    "data"
   ]
  },
  {
   "cell_type": "code",
   "execution_count": 8,
   "metadata": {
    "id": "lrn7j5e_T1sI"
   },
   "outputs": [],
   "source": [
    "# 사용자 정의 클래스 + 메소드, 변수 -> class 변수(필요성)\n",
    "\n",
    "class UserClass:\n",
    "    \n",
    "    # 생성자 (메소드)\n",
    "    def __init__(self, data):\n",
    "        #instance 변수 선언\n",
    "        self.instanceVar = data     # 멤버 변수 선언과 동시에 값 초기화\n",
    "        print(\"생성자\")\n",
    "    \n",
    "    # 이 기능은 함수 아니고 메소드. 클래스 내에 포함돼 있기 때문.\n",
    "    def getInstanceVar(self):\n",
    "        return self.instanceVar\n",
    "        \n",
    "# 클래스와 독립적인 일반 함수   \n",
    "def getInstanceVar2():\n",
    "    return \"클래스 외부에 구현된 별도의 함수\"\n",
    "    "
   ]
  },
  {
   "cell_type": "code",
   "execution_count": 9,
   "metadata": {
    "id": "I_brQ0jKT1sI",
    "outputId": "e4f5cab6-a4f3-4d55-98b8-e4ce50962faf"
   },
   "outputs": [
    {
     "name": "stdout",
     "output_type": "stream",
     "text": [
      "생성자\n"
     ]
    },
    {
     "data": {
      "text/plain": [
       "'생성자로 유입되는 데이터들'"
      ]
     },
     "execution_count": 9,
     "metadata": {},
     "output_type": "execute_result"
    }
   ],
   "source": [
    "d = UserClass('생성자로 유입되는 데이터들')\n",
    "data1 = d.getInstanceVar()\n",
    "data1"
   ]
  },
  {
   "cell_type": "code",
   "execution_count": 5,
   "metadata": {
    "id": "hxuxwlOBT1sJ",
    "outputId": "00687d4e-bb83-45df-b122-706acc12e4b8"
   },
   "outputs": [
    {
     "data": {
      "text/plain": [
       "'클래스 외부에 구현된 별도의 함수'"
      ]
     },
     "execution_count": 5,
     "metadata": {},
     "output_type": "execute_result"
    }
   ],
   "source": [
    "data2 = getInstanceVar2()\n",
    "data2"
   ]
  },
  {
   "cell_type": "code",
   "execution_count": 6,
   "metadata": {
    "id": "xvvzVfxYT1sJ",
    "outputId": "ca16a67b-4caa-4aa5-e867-92611d78b32b"
   },
   "outputs": [
    {
     "name": "stdout",
     "output_type": "stream",
     "text": [
      "생성자\n",
      "변수\n"
     ]
    }
   ],
   "source": [
    "i1 = UserClass('변수')\n",
    "data = i1.getInstanceVar()\n",
    "print(data)"
   ]
  },
  {
   "cell_type": "markdown",
   "metadata": {
    "id": "e5gzle0YT1sK"
   },
   "source": [
    "**미션** \n",
    "\n",
    "- Person 클래스 개발해 보기 \n",
    "- 멤버 변수 : name/age \n",
    "- get/setXxx()\n",
    "- Person이 잘 구성되어 있는지 test 하는 코드도 완성해 보기"
   ]
  },
  {
   "cell_type": "code",
   "execution_count": 14,
   "metadata": {
    "id": "e2-TDQxST1sK"
   },
   "outputs": [],
   "source": [
    "class Person:\n",
    "    \n",
    "    def __init__ (self, name, age):\n",
    "        self.name = name\n",
    "        self.age = age\n",
    "        \n",
    "    def getName(self):\n",
    "        return self.name\n",
    "    \n",
    "    def setAge(self, new_age):\n",
    "        self.age = new_age"
   ]
  },
  {
   "cell_type": "code",
   "execution_count": 15,
   "metadata": {
    "id": "ERzGNVBLT1sK"
   },
   "outputs": [],
   "source": [
    "p1 = Person('이름', 35)\n",
    "p2 = Person('아이', 66)"
   ]
  },
  {
   "cell_type": "code",
   "execution_count": 16,
   "metadata": {},
   "outputs": [
    {
     "name": "stdout",
     "output_type": "stream",
     "text": [
      "이름\n"
     ]
    }
   ],
   "source": [
    "print(p1.getName())"
   ]
  },
  {
   "cell_type": "code",
   "execution_count": 17,
   "metadata": {},
   "outputs": [
    {
     "name": "stdout",
     "output_type": "stream",
     "text": [
      "7\n"
     ]
    }
   ],
   "source": [
    "p2.setAge(7)     # 사실상 p2.age = 7 로직과 동일\n",
    "print(p2.age)"
   ]
  },
  {
   "cell_type": "code",
   "execution_count": 19,
   "metadata": {},
   "outputs": [
    {
     "name": "stdout",
     "output_type": "stream",
     "text": [
      "-7\n"
     ]
    }
   ],
   "source": [
    "# - 값은 필터링 해야 하는 필요성 인지\n",
    "\n",
    "p2.setAge(-7)\n",
    "print(p2.age)"
   ]
  },
  {
   "cell_type": "markdown",
   "metadata": {},
   "source": [
    "**해결책: p2.age = -7 즉 age 변수 직접 호출 불가하도록 차단, 검증 로직이 부여된 메소드 통해서만 값 대입**"
   ]
  },
  {
   "cell_type": "code",
   "execution_count": 46,
   "metadata": {},
   "outputs": [],
   "source": [
    "class Person7:\n",
    "    \n",
    "    def __init__ (self, name, age):\n",
    "        self.name = name\n",
    "        self.__age = age     # age라는 변수를 Person 클래스 내에서만 호출 가능, 외부에서 호출 불가능한 문법으로 수정. 언더바 이용\n",
    "        \n",
    "    def getName(self):\n",
    "        return self.name\n",
    "    \n",
    "    def getAge(self):\n",
    "        return self.__age\n",
    "    \n",
    "    # 데이터 보호 처리 기술 - 유효성 검증 코드\n",
    "    def setAge(self, new_age):\n",
    "        if new_age > 0:           # 마이너스 값 차단. 입력 오류 차단.\n",
    "            self.__age = new_age"
   ]
  },
  {
   "cell_type": "code",
   "execution_count": 47,
   "metadata": {},
   "outputs": [],
   "source": [
    "p1 = Person7('a', 3)\n",
    "p2 = Person7('b', 5)"
   ]
  },
  {
   "cell_type": "code",
   "execution_count": 48,
   "metadata": {},
   "outputs": [],
   "source": [
    "# private으로 선언된 변수에 하지 말아야 할 action...\n",
    "\n",
    "#p1.age = 57"
   ]
  },
  {
   "cell_type": "code",
   "execution_count": 49,
   "metadata": {},
   "outputs": [
    {
     "ename": "AttributeError",
     "evalue": "'Person7' object has no attribute 'age'",
     "output_type": "error",
     "traceback": [
      "\u001b[1;31m---------------------------------------------------------------------------\u001b[0m",
      "\u001b[1;31mAttributeError\u001b[0m                            Traceback (most recent call last)",
      "\u001b[1;32m<ipython-input-49-9506c9e80e91>\u001b[0m in \u001b[0;36m<module>\u001b[1;34m\u001b[0m\n\u001b[1;32m----> 1\u001b[1;33m \u001b[0mprint\u001b[0m\u001b[1;33m(\u001b[0m\u001b[0mp1\u001b[0m\u001b[1;33m.\u001b[0m\u001b[0mage\u001b[0m\u001b[1;33m)\u001b[0m\u001b[1;33m\u001b[0m\u001b[1;33m\u001b[0m\u001b[0m\n\u001b[0m",
      "\u001b[1;31mAttributeError\u001b[0m: 'Person7' object has no attribute 'age'"
     ]
    }
   ],
   "source": [
    "print(p1.age)"
   ]
  },
  {
   "cell_type": "code",
   "execution_count": 50,
   "metadata": {},
   "outputs": [
    {
     "name": "stdout",
     "output_type": "stream",
     "text": [
      "3\n"
     ]
    }
   ],
   "source": [
    "# __로 선언된 멤버 변수들은 메소드 통해서 데이터 활용 권장\n",
    "\n",
    "print(p1.getAge())"
   ]
  },
  {
   "cell_type": "code",
   "execution_count": 29,
   "metadata": {},
   "outputs": [
    {
     "name": "stdout",
     "output_type": "stream",
     "text": [
      "이\n"
     ]
    }
   ],
   "source": [
    "class People2:\n",
    "    def __init__(self, name=\"이\", age=0):\n",
    "        self.name = name\n",
    "        self.__age = age     # 외부에서 호출 불가인 은닉된 변수 = private 변수 표현법\n",
    "\n",
    "p6 = People2()\n",
    "print(p6.name)"
   ]
  },
  {
   "cell_type": "code",
   "execution_count": 30,
   "metadata": {},
   "outputs": [],
   "source": [
    "# 명시적으로 값 수정하는 문법이 선행이 되면 private 기질을 잃는다.\n",
    "# 협약: __로 선언된 변수는 가급적 변수에 값을 직접 대입하지 않음. direct로 변수 호출하지 말기 ~\n",
    "# 대신 setXxx라는 메소드 통해서 값 수정하는 것을 권장\n",
    "p6.age = 10"
   ]
  },
  {
   "cell_type": "code",
   "execution_count": 31,
   "metadata": {},
   "outputs": [
    {
     "name": "stdout",
     "output_type": "stream",
     "text": [
      "10\n"
     ]
    }
   ],
   "source": [
    "\n",
    "print(p6.age)"
   ]
  },
  {
   "cell_type": "code",
   "execution_count": 26,
   "metadata": {},
   "outputs": [
    {
     "name": "stdout",
     "output_type": "stream",
     "text": [
      "bb\n"
     ]
    }
   ],
   "source": [
    "p7 = People2('bb', 66)\n",
    "print(p7.name)"
   ]
  },
  {
   "cell_type": "code",
   "execution_count": 27,
   "metadata": {},
   "outputs": [
    {
     "ename": "AttributeError",
     "evalue": "'People2' object has no attribute 'age'",
     "output_type": "error",
     "traceback": [
      "\u001b[1;31m---------------------------------------------------------------------------\u001b[0m",
      "\u001b[1;31mAttributeError\u001b[0m                            Traceback (most recent call last)",
      "\u001b[1;32m<ipython-input-27-aec03a491e3d>\u001b[0m in \u001b[0;36m<module>\u001b[1;34m\u001b[0m\n\u001b[1;32m----> 1\u001b[1;33m \u001b[0mprint\u001b[0m\u001b[1;33m(\u001b[0m\u001b[0mp7\u001b[0m\u001b[1;33m.\u001b[0m\u001b[0mage\u001b[0m\u001b[1;33m)\u001b[0m\u001b[1;33m\u001b[0m\u001b[1;33m\u001b[0m\u001b[0m\n\u001b[0m",
      "\u001b[1;31mAttributeError\u001b[0m: 'People2' object has no attribute 'age'"
     ]
    }
   ],
   "source": [
    "print(p7.age)"
   ]
  },
  {
   "cell_type": "markdown",
   "metadata": {
    "id": "yHX7vOgaT1sK"
   },
   "source": [
    "**미션-미완성 문법 완성하기**"
   ]
  },
  {
   "cell_type": "code",
   "execution_count": 51,
   "metadata": {
    "id": "7UJH9wtHT1sL",
    "outputId": "fb49f6c2-a889-4e33-b510-f70cce909883"
   },
   "outputs": [],
   "source": [
    "class UserClass:    \n",
    "    def __init__(self, intValue=10):\n",
    "        self.instanceVar = ''        # 멤버 변수 선언할 때 꼭 파라미터 안에만 있는 거 가능한 거 아님. 이렇게 선언 가능\n",
    "        self.intValue = intValue;\n",
    "        print('난 생성자')\n",
    "        \n",
    "    def setVar(self):\n",
    "        self.instanceVar = '인스턴스 변수'\n",
    "        \n",
    "    def getVar(self):\n",
    "        return self.instanceVar\n",
    "    \n",
    "    def getIntValue(self):\n",
    "        print(\"클래스 내부의 getIntValue() 함수\")\n",
    "        return self.instanceVar\n",
    "\n",
    "    def methodReturnFun(self):\n",
    "        return self.getIntValue()\n",
    " "
   ]
  },
  {
   "cell_type": "code",
   "execution_count": 52,
   "metadata": {
    "id": "7UJH9wtHT1sL",
    "outputId": "fb49f6c2-a889-4e33-b510-f70cce909883"
   },
   "outputs": [
    {
     "name": "stdout",
     "output_type": "stream",
     "text": [
      "난 생성자\n",
      "instanceVar 변수 값 :  인스턴스 변수\n",
      "클래스 내부의 getIntValue() 함수\n",
      "intValue 변수 값 :  인스턴스 변수\n",
      "클래스 내부의 getIntValue() 함수\n",
      "intValue 변수 값 :  인스턴스 변수\n"
     ]
    }
   ],
   "source": [
    "instance = UserClass()\n",
    "instance.setVar()\n",
    "\n",
    "print(\"instanceVar 변수 값 : \", instance.getVar())\n",
    "print(\"intValue 변수 값 : \", instance.getIntValue())    \n",
    "print(\"intValue 변수 값 : \", instance.methodReturnFun())    "
   ]
  },
  {
   "cell_type": "markdown",
   "metadata": {
    "id": "MgeDe89tT1sL"
   },
   "source": [
    "### 3. class 변수\n",
    "\n",
    "- class 변수란? class 내에 선언되는 변수이나 **생성되는 모든 객체가 공유**\n",
    "\n",
    "> 클래스.변수 [=값];"
   ]
  },
  {
   "cell_type": "code",
   "execution_count": 53,
   "metadata": {
    "id": "dLmbHLGDT1sM"
   },
   "outputs": [],
   "source": [
    "'''\n",
    "   python 기준 : class 변수는 class명.변수명\n",
    "'''\n",
    "class People:\n",
    "    gender = '성별'\n",
    " \n",
    "\n"
   ]
  },
  {
   "cell_type": "code",
   "execution_count": 54,
   "metadata": {
    "id": "Qs5DhQG6T1sM"
   },
   "outputs": [
    {
     "name": "stdout",
     "output_type": "stream",
     "text": [
      "성별\n"
     ]
    }
   ],
   "source": [
    "print(People.gender)   # class 이름을 통해 클래스 변수 호출. (은행 브랜드랑 같은 개념)"
   ]
  },
  {
   "cell_type": "code",
   "execution_count": null,
   "metadata": {},
   "outputs": [],
   "source": []
  },
  {
   "cell_type": "markdown",
   "metadata": {
    "id": "9E5iW_cjT1sM"
   },
   "source": [
    "### 4. private 변수\n",
    "\n",
    "1. 개념 : 외부에서 호출 불가인 변수로 선언하는 방식\n",
    "\n",
    "2. 필요성 : 나이가 1살 이상이어야 할 경우 처럼 유효성 로직 실행이 필수인 경우.\n",
    "\n",
    "3. 문법 : 언더바 두개로 선언\n",
    "    - 언더바 표기는 직접 호출을 비추하는 구조\n",
    "    \n",
    "3. 권장사항 : 변수가 private인 경우 set/getXxx메소드 추가 구현 권장<br>\n",
    "단, setXxx() 는 유효성 검증 코드 포함\n",
    "              "
   ]
  },
  {
   "cell_type": "code",
   "execution_count": 2,
   "metadata": {
    "id": "gjnG1V7RT1sM"
   },
   "outputs": [],
   "source": [
    "class People2:\n",
    "    def __init__(self, name=\"이이\", age=0):\n",
    "        self.name = name\n",
    "        self.__age = age    # 이 변수에 값을 직접 대입하거나 외부에서 호출하지 말라는 묵시적 사인. private 변수"
   ]
  },
  {
   "cell_type": "code",
   "execution_count": 3,
   "metadata": {
    "id": "2_Vk559UT1sN",
    "outputId": "90858934-7480-40bf-d61f-2ba2136019ae"
   },
   "outputs": [
    {
     "name": "stdout",
     "output_type": "stream",
     "text": [
      "이이\n"
     ]
    }
   ],
   "source": [
    "p6 = People2()\n",
    "print(p6.name)"
   ]
  },
  {
   "cell_type": "code",
   "execution_count": 4,
   "metadata": {
    "id": "VQNNYU6zT1sN",
    "outputId": "43dd655d-2ec1-400d-8c6b-7e78a7100f63"
   },
   "outputs": [
    {
     "ename": "AttributeError",
     "evalue": "'People2' object has no attribute 'age'",
     "output_type": "error",
     "traceback": [
      "\u001b[1;31m---------------------------------------------------------------------------\u001b[0m",
      "\u001b[1;31mAttributeError\u001b[0m                            Traceback (most recent call last)",
      "\u001b[1;32m<ipython-input-4-560382644f99>\u001b[0m in \u001b[0;36m<module>\u001b[1;34m\u001b[0m\n\u001b[1;32m----> 1\u001b[1;33m \u001b[0mprint\u001b[0m\u001b[1;33m(\u001b[0m\u001b[0mp6\u001b[0m\u001b[1;33m.\u001b[0m\u001b[0mage\u001b[0m\u001b[1;33m)\u001b[0m\u001b[1;33m\u001b[0m\u001b[1;33m\u001b[0m\u001b[0m\n\u001b[0m",
      "\u001b[1;31mAttributeError\u001b[0m: 'People2' object has no attribute 'age'"
     ]
    }
   ],
   "source": [
    "print(p6.age)"
   ]
  },
  {
   "cell_type": "code",
   "execution_count": 8,
   "metadata": {},
   "outputs": [],
   "source": [
    "# __age 변수값 수정 및 활용 가능한 메소드 추가 구현\n",
    "\n",
    "class People2:\n",
    "    def __init__(self, name=\"이이\", age=0):\n",
    "        self.name = name\n",
    "        self.__age = age\n",
    "        \n",
    "    def setAge(self, new_age):\n",
    "        self.__age = new_age\n",
    "        \n",
    "    def getAge(self):\n",
    "        return self.__age"
   ]
  },
  {
   "cell_type": "code",
   "execution_count": 10,
   "metadata": {},
   "outputs": [
    {
     "name": "stdout",
     "output_type": "stream",
     "text": [
      "이이\n",
      "10\n"
     ]
    }
   ],
   "source": [
    "p6 = People2()\n",
    "print(p6.name)\n",
    "p6.setAge(10)\n",
    "print(p6.getAge())"
   ]
  },
  {
   "cell_type": "markdown",
   "metadata": {
    "id": "vFZUUxLpT1sN"
   },
   "source": [
    "### 5. 생성자와 소멸자\n",
    "\n",
    "\n",
    "**객체 생성시 및 메모리에서 객체 삭제 시 실행하고자 하는 로직이 있을 경우의 개발 방법**\n",
    "\n",
    "> 1. \\__init__() : 생성자(constructor)는 객체가 생성될 때 객체를 기본값으로 **초기화**<br>\n",
    "> 파이썬에서는 생성자의 이름으로 \\__init__() 사용<br>\n",
    "> 객체 생성시 호출(class 이름으로 호출)\n",
    "\n",
    "> 2. \\__del__() : 객체가 삭제 시 자동 호출되는 함수. 자원 해제<br>\n",
    "> del 참조변수명  시에 자동 호출\n",
    "\n",
    "**퀄리티 있는 코딩: 사내 시스템 자원 절약하면서 최적화된 코드로 개발 및 관리**<br>\n"
   ]
  },
  {
   "cell_type": "code",
   "execution_count": 59,
   "metadata": {
    "id": "gLjsjAXsT1sO"
   },
   "outputs": [],
   "source": [
    "class ResourceTest:\n",
    "    def __init__(self):\n",
    "        self.data_name = '필요한 자원 초기화 로직'     # 멤버변수 값 주는 것도 초기화\n",
    "        print(\"__init__\")\n",
    "        \n",
    "    def __del__(self):\n",
    "        print('사용했던 다양한 자원들 해제하는 코드로 주로 개발')"
   ]
  },
  {
   "cell_type": "code",
   "execution_count": 60,
   "metadata": {},
   "outputs": [
    {
     "name": "stdout",
     "output_type": "stream",
     "text": [
      "__init__\n"
     ]
    }
   ],
   "source": [
    "# 사용 가능하게 메모리에 생성\n",
    "res = ResourceTest()     # 객체 생성 시점엔 __init__() 자동 호출"
   ]
  },
  {
   "cell_type": "code",
   "execution_count": 61,
   "metadata": {},
   "outputs": [
    {
     "name": "stdout",
     "output_type": "stream",
     "text": [
      "사용했던 다양한 자원들 해제하는 코드로 주로 개발\n"
     ]
    }
   ],
   "source": [
    "# 메모리에서 객체 삭제\n",
    "del res     # 개체 값 메모리에서 삭제할 때 __del__() 자동 호출"
   ]
  },
  {
   "cell_type": "markdown",
   "metadata": {
    "id": "5bP0V_HnT1sO"
   },
   "source": [
    "### 6. 특수 메소드\n",
    ">1. \\__init__ : 생성자<br>\n",
    ">2. \\__str__ : 자바의 toString과 흡사, print() 자동 호출<br>\n",
    ">3. \\__len__ : 길이 반환로직으로 재정의 권장"
   ]
  },
  {
   "cell_type": "code",
   "execution_count": 66,
   "metadata": {
    "id": "UzUBW4RcT1sO",
    "outputId": "59abd166-3d86-4779-f1b5-2ccedcbe4fad"
   },
   "outputs": [],
   "source": [
    "class Book:\n",
    "    \n",
    "    # 생성자\n",
    "    def __init__(self, title, author, pages):\n",
    "        self.title = title\n",
    "        self.author = author\n",
    "        self.pages = pages\n",
    "        \n"
   ]
  },
  {
   "cell_type": "code",
   "execution_count": 68,
   "metadata": {
    "id": "UzUBW4RcT1sO",
    "outputId": "59abd166-3d86-4779-f1b5-2ccedcbe4fad"
   },
   "outputs": [
    {
     "name": "stdout",
     "output_type": "stream",
     "text": [
      "<__main__.Book object at 0x0000021A12059940>\n"
     ]
    }
   ],
   "source": [
    "book = Book(\"Data Structure\", \"bookMan\", 200)\n",
    "print(book)\n",
    "# print(len(book))"
   ]
  },
  {
   "cell_type": "code",
   "execution_count": 70,
   "metadata": {},
   "outputs": [
    {
     "name": "stdout",
     "output_type": "stream",
     "text": [
      "제목:Data Structure, 저자:bookMan, 페이지:200\n",
      "200\n"
     ]
    }
   ],
   "source": [
    "class Book:\n",
    "    \n",
    "    # 생성자 - Book(값) 호출 시 자동 호출\n",
    "    def __init__(self, title, author, pages):\n",
    "        self.title = title\n",
    "        self.author = author\n",
    "        self.pages = pages\n",
    "        \n",
    "    # 참조 변수값을 출력 시에 자동 호출되는 특별한 메소드 (모든 언어가 다 가지고 있다... 가공을 원활하게 해주는)\n",
    "    def __str__(self):\n",
    "        return '제목:%s, 저자:%s, 페이지:%s' % (self.title, self.author, self.pages)\n",
    "    \n",
    "    def __len__(self):\n",
    "        return self.pages\n",
    "        \n",
    "# book 변수는 Book 객체를 관리하는 참조 변수 = reference 변수\n",
    "# Book 객체 하나에는 3개의 정보가 보유되어 있음\n",
    "book = Book(\"Data Structure\", \"bookMan\", 200)\n",
    "print(book)     \n",
    "print(len(book))"
   ]
  },
  {
   "cell_type": "markdown",
   "metadata": {
    "id": "GfWpNNCbT1sP"
   },
   "source": [
    "### 7. 메소드 재정의 (overriding / override)\n",
    "\n",
    "**이미 존재하는 메소드의 로직 수정 방식**\n",
    "\n",
    ">사칙연산 식을 사용자 정의 로직의 코드로 재수정 가능<br>\n",
    ">객체의 연산시에 사용되는 사칙 연산 관련 특수 메소드 재정의 하기<br>\n",
    ">제공받은 특수 메소드들 재정의 or 사용자가 직접 구현한 사용자 정의 클래스 메소드를 재정의할 수도 있음"
   ]
  },
  {
   "cell_type": "code",
   "execution_count": 71,
   "metadata": {
    "id": "AjgRWpk9T1sP"
   },
   "outputs": [],
   "source": [
    "# 코드 실행 후 분석 하고 이해하기\n",
    "# 사칙 연산 특수 메소드 재정의한 예\n",
    "\n",
    "class SpecialMethod2:\n",
    "    def __init__(self, x, y):\n",
    "        self.x = x\n",
    "        self.y = y\n",
    "    \n",
    "    def __add__(self, you):\n",
    "        print(\"__add__ 호출 확인\")\n",
    "        return SpecialMethod2(self.x + you.x, self.y + you.y)\n",
    "    \n",
    "    def __eq__(self, you):\n",
    "        print('__eq__ 호출 확인')\n",
    "        return self.x == you.x and self.y == you.y\n",
    "    \n",
    "    def __str__(self):\n",
    "        print(\"__str__ 호출 확인\")\n",
    "        return '(%d, %d)' % (self.x, self.y)"
   ]
  },
  {
   "cell_type": "code",
   "execution_count": 74,
   "metadata": {
    "id": "pVuZ6dyhT1sP"
   },
   "outputs": [],
   "source": [
    "s21 = SpecialMethod2(10, 20)\n",
    "s22 = SpecialMethod2(30, 40)"
   ]
  },
  {
   "cell_type": "code",
   "execution_count": 79,
   "metadata": {
    "id": "pVuZ6dyhT1sP"
   },
   "outputs": [
    {
     "name": "stdout",
     "output_type": "stream",
     "text": [
      "__add__ 호출 확인\n"
     ]
    }
   ],
   "source": [
    "v = s21 + s22    # + 연산자가 호출한 메소드 __add__"
   ]
  },
  {
   "cell_type": "code",
   "execution_count": 80,
   "metadata": {},
   "outputs": [
    {
     "name": "stdout",
     "output_type": "stream",
     "text": [
      "__eq__ 호출 확인\n"
     ]
    },
    {
     "data": {
      "text/plain": [
       "False"
      ]
     },
     "execution_count": 80,
     "metadata": {},
     "output_type": "execute_result"
    }
   ],
   "source": [
    "s21 == s22      # == 연산자가 __eq__ 호출"
   ]
  },
  {
   "cell_type": "code",
   "execution_count": 81,
   "metadata": {
    "id": "pVuZ6dyhT1sP"
   },
   "outputs": [
    {
     "name": "stdout",
     "output_type": "stream",
     "text": [
      "__str__ 호출 확인\n",
      "(40, 60)\n"
     ]
    }
   ],
   "source": [
    "print(v)        # print가 __str__ 호출"
   ]
  },
  {
   "cell_type": "code",
   "execution_count": 73,
   "metadata": {
    "id": "PH9JScb9T1sP"
   },
   "outputs": [
    {
     "name": "stdout",
     "output_type": "stream",
     "text": [
      "__eq__ 호출 확인\n",
      "False\n",
      "__eq__ 호출 확인\n",
      "True\n"
     ]
    }
   ],
   "source": [
    "print(s21 == s22)\n",
    "s23 = SpecialMethod2(30, 40)\n",
    "print(s22 == s23)"
   ]
  },
  {
   "cell_type": "code",
   "execution_count": null,
   "metadata": {},
   "outputs": [],
   "source": []
  }
 ],
 "metadata": {
  "colab": {
   "name": "step10Class.ipynb",
   "provenance": []
  },
  "kernelspec": {
   "display_name": "Python 3",
   "language": "python",
   "name": "python3"
  },
  "language_info": {
   "codemirror_mode": {
    "name": "ipython",
    "version": 3
   },
   "file_extension": ".py",
   "mimetype": "text/x-python",
   "name": "python",
   "nbconvert_exporter": "python",
   "pygments_lexer": "ipython3",
   "version": "3.8.5"
  }
 },
 "nbformat": 4,
 "nbformat_minor": 1
}
