{
 "cells": [
  {
   "cell_type": "markdown",
   "metadata": {
    "id": "niLpGsx9R06B"
   },
   "source": [
    "<!--NAVIGATION-->\n",
    "\n",
    "\n",
    "[[step01. 기본 연산 학습 page로 이동](step01Calculation.ipynb) ]   |   [[step03_1. 데이터 타입 학습 page로 이동](step03_1DataType.ipynb) ]"
   ]
  },
  {
   "cell_type": "markdown",
   "metadata": {
    "id": "bwhZBiyRR06H"
   },
   "source": [
    "## 조건문 & 반복문을 이용한 프로그램 응용력 향상하기\n",
    "\n",
    "1. 연산자\n",
    "> 1. =: 오른쪽의 데이터를 왼쪽에 대입(할당) 연산자\n",
    "> 2. ==: 동등비교 연산자\n",
    "> 3. != : 부정 연산자\n",
    "\n",
    "* +=\n",
    "* -=\n",
    "\n",
    "2. 조건식\n",
    "> 1. pass : 아무것도 실행하지 않음, 단순히 실행할 코드가 없다는 의미\n",
    "> 2. continue : 해당 로직을 제외하고 다음 loop 실행하란 의미\n",
    "\n",
    "3. 반복문 : 동일한 명령문을 여러번 실행\n",
    "> 1. for : 정해진 횟수만큼  반복하는 구조<br>\n",
    "> 2. while : 어떤 조건이 만족되는 동안, 반복을 계속하는 구조\n",
    "\n",
    "4. 키워드\n",
    "> 1. def - 사용자 정의 함수를 만들겠다는 선언구\n",
    "> 2. return - 함수 내부에서 해당 함수를 호출한 곳으로 값을 돌려주는 키워드\n",
    "> 3. if / elif / else - 조건식\n",
    "> 4. True / False - boolean 표현\n",
    "\n",
    "5. IT 언어 표현\n",
    "> 1. 함수 실행 시 새로운 데이터를 () 표기로 선언된 변수로 받음\n",
    "> 2. def 함수명(변수선언)\n",
    "> 3. 변수선언 자체를 parameter 또는 argument 또는 인자 또는 매개인자라고 한다."
   ]
  },
  {
   "cell_type": "code",
   "execution_count": null,
   "metadata": {
    "id": "bSFXEulAR06K"
   },
   "outputs": [],
   "source": [
    "'''\n",
    "조건문\n",
    "1. 조건이 true인 경우에만 실행하는 상황\n",
    "\n",
    "2. 조건이 true인 경우와 false인 경우 실행되는 로직이 명확이 구분되어야 하는 상황\n",
    "\n",
    "3. 조건이 여러 개인 상황\n",
    "\n",
    "\n",
    "---\n",
    "의사 코드\n",
    "말로 하는 코딩\n",
    "말로 하는 로직의 흐름을 서술하는 형식\n",
    "문법은 고려하지 않는 표현\n",
    "'''"
   ]
  },
  {
   "cell_type": "code",
   "execution_count": 3,
   "metadata": {
    "colab": {
     "base_uri": "https://localhost:8080/"
    },
    "executionInfo": {
     "elapsed": 543,
     "status": "ok",
     "timestamp": 1620870868489,
     "user": {
      "displayName": "이홍주",
      "photoUrl": "",
      "userId": "13320466265046711986"
     },
     "user_tz": -540
    },
    "id": "G_1MViBQbLkl",
    "outputId": "41fe54a5-ba13-4153-9a03-cae522fa2351"
   },
   "outputs": [
    {
     "name": "stdout",
     "output_type": "stream",
     "text": [
      "True인 경우만 실행\n"
     ]
    }
   ],
   "source": [
    "# True인 경우만 고려하는 단일 조건식\n",
    "if 'a' == 'a':\n",
    "  print(\"True인 경우만 실행\")\n"
   ]
  },
  {
   "cell_type": "code",
   "execution_count": 5,
   "metadata": {
    "colab": {
     "base_uri": "https://localhost:8080/"
    },
    "executionInfo": {
     "elapsed": 558,
     "status": "ok",
     "timestamp": 1620870968927,
     "user": {
      "displayName": "이홍주",
      "photoUrl": "",
      "userId": "13320466265046711986"
     },
     "user_tz": -540
    },
    "id": "s8rHPTrLbquJ",
    "outputId": "b682c666-ef2f-450e-d507-e3e96460164f"
   },
   "outputs": [
    {
     "name": "stdout",
     "output_type": "stream",
     "text": [
      "True인 경우만 실행\n"
     ]
    }
   ],
   "source": [
    "# True인 경우와 False 경우를 고려하는 조건식\n",
    "# 기본 syntax는 if else\n",
    "# : 콜론이라 읽음. 아직 문법 끝난 거 아니라는 뜻   , 콤마    ; 세미콜론(문장 끝 마무리/파이썬에서는 잘 안 함)     []: 있어도 되고 없어도 되는 경우\n",
    "if 'a' == 'a':\n",
    "  print(\"True인 경우만 실행\")\n",
    "else:\n",
    "  print(\"조건식이 False인 경우만 실행\")"
   ]
  },
  {
   "cell_type": "code",
   "execution_count": 6,
   "metadata": {
    "colab": {
     "base_uri": "https://localhost:8080/"
    },
    "executionInfo": {
     "elapsed": 585,
     "status": "ok",
     "timestamp": 1620871180982,
     "user": {
      "displayName": "이홍주",
      "photoUrl": "",
      "userId": "13320466265046711986"
     },
     "user_tz": -540
    },
    "id": "6BXByEpLcDP6",
    "outputId": "7a85a1d9-b287-476d-f0ab-7c4a86162b7b"
   },
   "outputs": [
    {
     "name": "stdout",
     "output_type": "stream",
     "text": [
      "10보다 작거나 같다\n"
     ]
    }
   ],
   "source": [
    "# 다중 조건식\n",
    "# 기본 syntax는 if / elif / else (조건문은 여러 개 삽입 가능)\n",
    "a = 10\n",
    "\n",
    "if a < 5:\n",
    "  print(\"a가 5보다 작다\")\n",
    "elif a <= 10:\n",
    "  print(\"10보다 작거나 같다\")\n",
    "else :\n",
    "  print(\"이도저도 아니다\")\n",
    "\n",
    "# 위는 하나의 로직\n",
    "# 항상 동적 데이터가 입력되는 가변적인 상황에 대한 코드를 짠다고 생각하면 됨"
   ]
  },
  {
   "cell_type": "code",
   "execution_count": 7,
   "metadata": {
    "colab": {
     "base_uri": "https://localhost:8080/"
    },
    "executionInfo": {
     "elapsed": 591,
     "status": "ok",
     "timestamp": 1620872074543,
     "user": {
      "displayName": "이홍주",
      "photoUrl": "",
      "userId": "13320466265046711986"
     },
     "user_tz": -540
    },
    "id": "HlSWTIqgc3At",
    "outputId": "1e6346b6-52ae-4570-ffbe-0feb988d89c2"
   },
   "outputs": [
    {
     "name": "stdout",
     "output_type": "stream",
     "text": [
      "10보다 작거나 같다\n"
     ]
    }
   ],
   "source": [
    "# 입력하는 id값(실시간 가변적인 동적 데이터)을 받아서 로직 수행 후 검증한 결과값을 client에게 반환\n",
    "# client는 데이터를 입력 -> 서버에 전송\n",
    "# server는 데이터를 받음 -> 검증 -> 인증 결과값을 client에게 응답(출력, 리턴)\n",
    "# 여러 명이 요청하는 로직 - 재사용성 고려해야 함. 한 번 만들어진 코드를 재사용.\n",
    "# 데이터 받고 - 받을 수 있는 가변적인 문법\n",
    "# 처리하고 - 조건 비교\n",
    "# 필요 시 마다 호출해야 하기 때문에 - 이름이 필요하다\n",
    "# 함수가 필요하다 ~ -> def() = 파이썬의 함수 문법\n",
    "\n",
    "# python def - 기능을 재사용할 수 있게 구현하는 함수 개발\n",
    "# def 함수명([new데이터 받을 수 있는 문법 공간]):\n",
    "#   함수 로직\n",
    "#   [결과값 반환 로직]\n",
    "\n",
    "def my_fun(a):\n",
    "  if a < 5:\n",
    "   print(\"a가 5보다 작다\")\n",
    "  elif a <= 10:\n",
    "   print(\"10보다 작거나 같다\")\n",
    "  else :\n",
    "   print(\"이도저도 아니다\")\n",
    "\n",
    "my_fun(10)"
   ]
  },
  {
   "cell_type": "code",
   "execution_count": 8,
   "metadata": {
    "colab": {
     "base_uri": "https://localhost:8080/"
    },
    "executionInfo": {
     "elapsed": 584,
     "status": "ok",
     "timestamp": 1620872085725,
     "user": {
      "displayName": "이홍주",
      "photoUrl": "",
      "userId": "13320466265046711986"
     },
     "user_tz": -540
    },
    "id": "jir7Xlz2gRKV",
    "outputId": "6f899daf-c26c-4d6d-a7e0-e1c13651b374"
   },
   "outputs": [
    {
     "name": "stdout",
     "output_type": "stream",
     "text": [
      "a가 5보다 작다\n"
     ]
    }
   ],
   "source": [
    "my_fun(3)"
   ]
  },
  {
   "cell_type": "code",
   "execution_count": 19,
   "metadata": {
    "executionInfo": {
     "elapsed": 593,
     "status": "ok",
     "timestamp": 1620873789924,
     "user": {
      "displayName": "이홍주",
      "photoUrl": "",
      "userId": "13320466265046711986"
     },
     "user_tz": -540
    },
    "id": "84oqv4UNgT5q"
   },
   "outputs": [],
   "source": [
    "# 미션: 실시간 입력되는 데이터는 문자열. playdata라는 문자열에 한해서만 encore가 출력(반환)\n",
    "\n",
    "def edu_name(msg):\n",
    "  if msg == 'playdata':\n",
    "    print('encore')\n",
    "  else:\n",
    "    print('틀렸다')\n"
   ]
  },
  {
   "cell_type": "code",
   "execution_count": 20,
   "metadata": {
    "colab": {
     "base_uri": "https://localhost:8080/"
    },
    "executionInfo": {
     "elapsed": 606,
     "status": "ok",
     "timestamp": 1620873805876,
     "user": {
      "displayName": "이홍주",
      "photoUrl": "",
      "userId": "13320466265046711986"
     },
     "user_tz": -540
    },
    "id": "qWqXDjBzmz9K",
    "outputId": "44070110-cef9-4e66-e55b-3210faf7c9f0"
   },
   "outputs": [
    {
     "name": "stdout",
     "output_type": "stream",
     "text": [
      "encore\n"
     ]
    }
   ],
   "source": [
    "edu_name('playdata')"
   ]
  },
  {
   "cell_type": "code",
   "execution_count": 21,
   "metadata": {
    "colab": {
     "base_uri": "https://localhost:8080/"
    },
    "executionInfo": {
     "elapsed": 603,
     "status": "ok",
     "timestamp": 1620873816180,
     "user": {
      "displayName": "이홍주",
      "photoUrl": "",
      "userId": "13320466265046711986"
     },
     "user_tz": -540
    },
    "id": "HHldcVyjm32q",
    "outputId": "59040947-bac7-4a52-cabb-406fef5611e0"
   },
   "outputs": [
    {
     "name": "stdout",
     "output_type": "stream",
     "text": [
      "틀렸다\n"
     ]
    }
   ],
   "source": [
    "edu_name('encore')"
   ]
  },
  {
   "cell_type": "code",
   "execution_count": 22,
   "metadata": {
    "executionInfo": {
     "elapsed": 612,
     "status": "ok",
     "timestamp": 1620873991788,
     "user": {
      "displayName": "이홍주",
      "photoUrl": "",
      "userId": "13320466265046711986"
     },
     "user_tz": -540
    },
    "id": "jFjZ1-eDm6Xy"
   },
   "outputs": [],
   "source": [
    "def edu_name2(msg):\n",
    "  if msg == 'playdata':\n",
    "   return 'encore'\n",
    "  else:\n",
    "    return '틀렸다'"
   ]
  },
  {
   "cell_type": "code",
   "execution_count": 23,
   "metadata": {
    "colab": {
     "base_uri": "https://localhost:8080/"
    },
    "executionInfo": {
     "elapsed": 644,
     "status": "ok",
     "timestamp": 1620874062259,
     "user": {
      "displayName": "이홍주",
      "photoUrl": "",
      "userId": "13320466265046711986"
     },
     "user_tz": -540
    },
    "id": "2aEBWyOknlPe",
    "outputId": "d012e3af-6b4b-4608-b579-63570fa120b7"
   },
   "outputs": [
    {
     "name": "stdout",
     "output_type": "stream",
     "text": [
      "반환된 결과값틀렸다\n"
     ]
    }
   ],
   "source": [
    "# 함수 실행 결과값을 받아서 새로운 문자열 조합해서 출력\n",
    "# 여기서 플러스 기호는 수학적 연산이 아님. 데이터들의 결합임.\n",
    "print(\"반환된 결과값\" + edu_name2('encore'))"
   ]
  },
  {
   "cell_type": "markdown",
   "metadata": {
    "id": "yZcPvrLPoL5y"
   },
   "source": [
    "```\n",
    "  `: 백틱이라 읽음. 코드 표현할 때 적합.\n",
    "\n",
    "  print(\"반환된 결과값\" + edu_name2('encore'))\n",
    "  1. print() : 콘솔창에 출력하는 기능의 내장 함수\n",
    "  2. edu_name2() : python을 사용하는 개발자를 [python 언어] 사용자가 구현한 함수 = 사용자 정의 함수\n",
    "  3. 실행 순서\n",
    "    print() 호출(call) -> \"반환된 결과값\" 문자열이 메모리에 생성 \n",
    "    -> 결합 연산자(+) 실행 -> edu_name2('encore') 호출 시작 \n",
    "    -> encore 문자열 생성 -> edu_name2 함수 실행 \n",
    "    -> 결합 연산자가 결과값을 결합 -> print() 실행 즉 출력 마무리\n",
    "```"
   ]
  },
  {
   "cell_type": "code",
   "execution_count": 24,
   "metadata": {
    "executionInfo": {
     "elapsed": 596,
     "status": "ok",
     "timestamp": 1620874718851,
     "user": {
      "displayName": "이홍주",
      "photoUrl": "",
      "userId": "13320466265046711986"
     },
     "user_tz": -540
    },
    "id": "tWQ5_XWLmjfl"
   },
   "outputs": [],
   "source": [
    "# 미션) 두 개의 데이터를 받아서 더한 결과값을 반환(return)하는 더하기 (산술연산) 함수 만들기\n",
    "# 다수의 데이터들은 ,가 구분자\n",
    "# 두 개의 메모리 필요\n",
    "# return은 이 기능의 함수를 호출한 곳으로 값을 전달하는 기능을 수행\n",
    "\n",
    "def my_sum(a, b):\n",
    "  return a + b"
   ]
  },
  {
   "cell_type": "code",
   "execution_count": 25,
   "metadata": {
    "colab": {
     "base_uri": "https://localhost:8080/"
    },
    "executionInfo": {
     "elapsed": 599,
     "status": "ok",
     "timestamp": 1620874737986,
     "user": {
      "displayName": "이홍주",
      "photoUrl": "",
      "userId": "13320466265046711986"
     },
     "user_tz": -540
    },
    "id": "6ovn7cVvqWvd",
    "outputId": "22079b72-3e3d-45af-906b-cc72ca0e555e"
   },
   "outputs": [
    {
     "name": "stdout",
     "output_type": "stream",
     "text": [
      "30\n"
     ]
    }
   ],
   "source": [
    "print(my_sum(10, 20))"
   ]
  },
  {
   "cell_type": "code",
   "execution_count": 26,
   "metadata": {
    "colab": {
     "base_uri": "https://localhost:8080/"
    },
    "executionInfo": {
     "elapsed": 720,
     "status": "ok",
     "timestamp": 1620874751873,
     "user": {
      "displayName": "이홍주",
      "photoUrl": "",
      "userId": "13320466265046711986"
     },
     "user_tz": -540
    },
    "id": "U6Dwe-qYqba_",
    "outputId": "64870100-ca1b-4d2b-cb5f-7b8c80c5abaa"
   },
   "outputs": [
    {
     "name": "stdout",
     "output_type": "stream",
     "text": [
      "120\n"
     ]
    }
   ],
   "source": [
    "print(my_sum(100, 20))"
   ]
  },
  {
   "cell_type": "markdown",
   "metadata": {
    "id": "rI57zoE7R06L"
   },
   "source": [
    "**미션1. 윤년  프로그램을 통한 연산자 및 조건식 이해하기**\n",
    "\n",
    "- 4로 나누어 떨어지는 년도 : 값 % 4이 0    \n",
    "- 그 중 100으로 나누어 떨어지는 년도는 윤년이 아님 : 값 % 100 의 0과 비교\n",
    "- 400으로 나누어 떨어지는 년도는 무조건 윤년 : 1+2 또는 3번째 조건식 비교( 값 % 400와 0 비교)"
   ]
  },
  {
   "cell_type": "code",
   "execution_count": 39,
   "metadata": {
    "executionInfo": {
     "elapsed": 648,
     "status": "ok",
     "timestamp": 1620883678062,
     "user": {
      "displayName": "이홍주",
      "photoUrl": "",
      "userId": "13320466265046711986"
     },
     "user_tz": -540
    },
    "id": "Dq0FCAuQCJh0"
   },
   "outputs": [],
   "source": [
    "def leap(year):\n",
    "  if (year % 4 == 0 and year % 100 != 0) or year % 400 == 0 :\n",
    "    return '윤년'\n",
    "  else:\n",
    "    return '윤년아님'"
   ]
  },
  {
   "cell_type": "code",
   "execution_count": 40,
   "metadata": {
    "colab": {
     "base_uri": "https://localhost:8080/"
    },
    "executionInfo": {
     "elapsed": 557,
     "status": "ok",
     "timestamp": 1620884033602,
     "user": {
      "displayName": "이홍주",
      "photoUrl": "",
      "userId": "13320466265046711986"
     },
     "user_tz": -540
    },
    "id": "64uMyz2kL_zt",
    "outputId": "0ed0782e-b8bd-4009-c73d-f52764a7dbdd"
   },
   "outputs": [
    {
     "name": "stdout",
     "output_type": "stream",
     "text": [
      "윤년아님\n"
     ]
    }
   ],
   "source": [
    "print(leap(2021))"
   ]
  },
  {
   "cell_type": "code",
   "execution_count": 41,
   "metadata": {
    "colab": {
     "base_uri": "https://localhost:8080/"
    },
    "executionInfo": {
     "elapsed": 540,
     "status": "ok",
     "timestamp": 1620883725211,
     "user": {
      "displayName": "이홍주",
      "photoUrl": "",
      "userId": "13320466265046711986"
     },
     "user_tz": -540
    },
    "id": "dOsszWBlLxeY",
    "outputId": "38407410-88e6-4630-d307-709c07ae41bf"
   },
   "outputs": [
    {
     "name": "stdout",
     "output_type": "stream",
     "text": [
      "윤년\n"
     ]
    }
   ],
   "source": [
    "print(leap(2000))"
   ]
  },
  {
   "cell_type": "code",
   "execution_count": 43,
   "metadata": {},
   "outputs": [],
   "source": [
    "def leap(year):\n",
    "    if year % 4 == 0 and year % 100 != 0:\n",
    "        return '윤년'\n",
    "    elif year % 400 == 0:\n",
    "        return '윤년'\n",
    "    else:\n",
    "        return '윤년아님'"
   ]
  },
  {
   "cell_type": "code",
   "execution_count": 44,
   "metadata": {},
   "outputs": [
    {
     "name": "stdout",
     "output_type": "stream",
     "text": [
      "윤년\n"
     ]
    }
   ],
   "source": [
    "print(leap(2000))"
   ]
  },
  {
   "cell_type": "code",
   "execution_count": null,
   "metadata": {},
   "outputs": [],
   "source": []
  },
  {
   "cell_type": "code",
   "execution_count": 1,
   "metadata": {
    "id": "YeP0xiCwMtk2"
   },
   "outputs": [
    {
     "name": "stdout",
     "output_type": "stream",
     "text": [
      "두 조건 True\n"
     ]
    }
   ],
   "source": [
    "# 그리고 와 또는 -> 프로그래밍화\n",
    "# 조건식에 반영 시 and: 해당 조건들 모두 True인 경우에 유효 (True)\n",
    "# or: 해당 조건들 중 하나만이라도 True라면 유효\n",
    "\n",
    "# 조건식1 and 조건식2\n",
    "# 조건식1 or 조건식2\n",
    "\n",
    "if 'a' == 'a' and 'b' == 'b':\n",
    "    print('두 조건 True')"
   ]
  },
  {
   "cell_type": "code",
   "execution_count": 4,
   "metadata": {},
   "outputs": [
    {
     "name": "stdout",
     "output_type": "stream",
     "text": [
      "두 조건 중 하나만 True여도 가능\n"
     ]
    }
   ],
   "source": [
    "if 'a' == 'a' or 'b' != 'b':\n",
    "    print('두 조건 중 하나만 True여도 가능')"
   ]
  },
  {
   "cell_type": "code",
   "execution_count": 6,
   "metadata": {},
   "outputs": [
    {
     "name": "stdout",
     "output_type": "stream",
     "text": [
      "바보\n"
     ]
    }
   ],
   "source": [
    "if 'a' == 'a' and 'b' != 'b':\n",
    "    print('두 조건 중 하나만 True여도 가능')\n",
    "else:\n",
    "    print('바보')"
   ]
  },
  {
   "cell_type": "code",
   "execution_count": 9,
   "metadata": {},
   "outputs": [],
   "source": [
    "# id/pw를 인증해주는 함수 - id: encore / pw: 77 만 유효\n",
    "# 방법1\n",
    "\n",
    "def login_check(id, pw):\n",
    "    if id == 'encore' and pw == 77:\n",
    "        print('인증 성공')\n",
    "    else:\n",
    "        print('인증 실패')"
   ]
  },
  {
   "cell_type": "code",
   "execution_count": 10,
   "metadata": {},
   "outputs": [
    {
     "name": "stdout",
     "output_type": "stream",
     "text": [
      "인증 성공\n"
     ]
    }
   ],
   "source": [
    "login_check('encore', 77)"
   ]
  },
  {
   "cell_type": "code",
   "execution_count": 13,
   "metadata": {},
   "outputs": [],
   "source": [
    "# 방법2 - 중첩 조건문\n",
    "\n",
    "def login_check(id, pw):\n",
    "    if id == 'encore':\n",
    "        if pw == 77:\n",
    "            print('인증 성공')\n",
    "        else:\n",
    "            print('pw 인증 실패')\n",
    "    else:\n",
    "        print('id 인증 실패')"
   ]
  },
  {
   "cell_type": "code",
   "execution_count": 14,
   "metadata": {},
   "outputs": [
    {
     "name": "stdout",
     "output_type": "stream",
     "text": [
      "id 인증 실패\n"
     ]
    }
   ],
   "source": [
    "login_check('p', 77)"
   ]
  },
  {
   "cell_type": "code",
   "execution_count": 15,
   "metadata": {},
   "outputs": [
    {
     "name": "stdout",
     "output_type": "stream",
     "text": [
      "pw 인증 실패\n"
     ]
    }
   ],
   "source": [
    "login_check('encore', 78)"
   ]
  },
  {
   "cell_type": "code",
   "execution_count": 16,
   "metadata": {},
   "outputs": [
    {
     "name": "stdout",
     "output_type": "stream",
     "text": [
      "True\n"
     ]
    }
   ],
   "source": [
    "v = 'string'\n",
    "if v:    # v에 데이터가 있는지 없는지를 판단하는 조건식\n",
    "    print('True')\n",
    "else:\n",
    "    print('False')"
   ]
  },
  {
   "cell_type": "code",
   "execution_count": 17,
   "metadata": {},
   "outputs": [
    {
     "name": "stdout",
     "output_type": "stream",
     "text": [
      "False\n"
     ]
    }
   ],
   "source": [
    "v = '' # 길이가 0인 문자열\n",
    "if v:\n",
    "    print('True')\n",
    "else:\n",
    "    print('False')"
   ]
  },
  {
   "cell_type": "code",
   "execution_count": 18,
   "metadata": {},
   "outputs": [
    {
     "name": "stdout",
     "output_type": "stream",
     "text": [
      "False\n"
     ]
    }
   ],
   "source": [
    "# 다수의 데이터들을 하나의 변수로 관리\n",
    "v = 1   # 하나의 데이터를 보유하게 되는 변수\n",
    "v2 = [1, 2, 3]   # list 구조의 다수의 데이터 관리. 0, 1, 2, ...의 '고유한' index가 붙는다. list라는 데이터 타입.\n",
    "\n",
    "v3 = []\n",
    "if v3:  # 데이터가 없는 list들은 조건식 비교 표현식 없이도 False\n",
    "    print(True)\n",
    "else:\n",
    "    print(False)"
   ]
  },
  {
   "cell_type": "code",
   "execution_count": 1,
   "metadata": {},
   "outputs": [
    {
     "name": "stdout",
     "output_type": "stream",
     "text": [
      "3\n",
      "3\n",
      "<class 'str'>\n"
     ]
    }
   ],
   "source": [
    "v = input()  # 실행 시 실시간 입력 가능하게 해주는 함수\n",
    "print(v)     # 입력된 데이터를 출력\n",
    "print(type(v))    # 입력되는 모든 데이터는 str(python 문자열)"
   ]
  },
  {
   "cell_type": "code",
   "execution_count": 2,
   "metadata": {},
   "outputs": [
    {
     "name": "stdout",
     "output_type": "stream",
     "text": [
      "3\n",
      "3\n",
      "<class 'str'>\n",
      "<class 'int'>\n"
     ]
    }
   ],
   "source": [
    "v = input()   # 실행시 실시간 입력 가능하게 해주는 함수\n",
    "print(v)      # 입력된 데이터를 출력\n",
    "print(type(v))  # 입력되는 모든 데이터는 str(python 문자열)\n",
    "# 사칙 연산과 같은 연산작업이 필수인 경우 str -> 숫자(int or float)\n",
    "print( type( int(v) ) )   # int() int로 형변환 하는 함수v = input()"
   ]
  },
  {
   "cell_type": "code",
   "execution_count": null,
   "metadata": {},
   "outputs": [],
   "source": []
  },
  {
   "cell_type": "markdown",
   "metadata": {
    "id": "2Mip93stR06N"
   },
   "source": [
    "**미션2. 문자열의 중간 문자를 추출해 보기**\n",
    "\n",
    "문자열의 중앙에 있는 문자를 출력한다. 예를 들어서 문자열이 \"weekday\"이라면 중앙의 문자는 \"k\"가 된다.<br>\n",
    "하지만 만약 문자열이 짝수개의 문자를 가지고 있다면 중앙의 2개의 글자를 출력한다.<br>\n",
    "예를 들어서 \"string\" 문자열에서는 \"ri\"를 반환한다. "
   ]
  },
  {
   "cell_type": "code",
   "execution_count": 3,
   "metadata": {
    "id": "0-a10Gc3R06O"
   },
   "outputs": [
    {
     "data": {
      "text/plain": [
       "(4, 6, 7)"
      ]
     },
     "execution_count": 3,
     "metadata": {},
     "output_type": "execute_result"
    }
   ],
   "source": [
    "# 문자열의 길이값을 반환\n",
    "# 문자열 길이 확인 후에 호출한 곳으로 길이값 반환(리턴값)\n",
    "\n",
    "len('test'), len('string'), len('weekday')"
   ]
  },
  {
   "cell_type": "code",
   "execution_count": 5,
   "metadata": {},
   "outputs": [
    {
     "name": "stdout",
     "output_type": "stream",
     "text": [
      "<class 'str'>\n",
      "<class 'str'>\n",
      "<class 'list'>\n"
     ]
    }
   ],
   "source": [
    "v = 'string'\n",
    "c1 = v[0]\n",
    "c2 = v[2]\n",
    "\n",
    "print(type(v))   #<class 'str'>\n",
    "print(type(c1))\n",
    "v2 = ['a', 'b']\n",
    "print(type(v2))   # <class 'list'>"
   ]
  },
  {
   "cell_type": "code",
   "execution_count": 32,
   "metadata": {},
   "outputs": [],
   "source": [
    "# 리스트에서 범위를 표현하는 슬라이스 : --> 콜론 v[0:3]\n",
    "\n",
    "def findMiddle(v):\n",
    "    middle = float(len(v))/2\n",
    "    if middle%2 != 0:\n",
    "        return v[int(middle-0.5)]\n",
    "    else:\n",
    "        return v[int(middle)-1:int(middle)+1]\n",
    " "
   ]
  },
  {
   "cell_type": "code",
   "execution_count": 31,
   "metadata": {},
   "outputs": [
    {
     "data": {
      "text/plain": [
       "'ta'"
      ]
     },
     "execution_count": 31,
     "metadata": {},
     "output_type": "execute_result"
    }
   ],
   "source": [
    "findMiddle('star')"
   ]
  },
  {
   "cell_type": "code",
   "execution_count": 33,
   "metadata": {},
   "outputs": [
    {
     "data": {
      "text/plain": [
       "'k'"
      ]
     },
     "execution_count": 33,
     "metadata": {},
     "output_type": "execute_result"
    }
   ],
   "source": [
    "findMiddle('weekday')"
   ]
  },
  {
   "cell_type": "code",
   "execution_count": 50,
   "metadata": {},
   "outputs": [],
   "source": [
    "def count(v1):\n",
    "    v2 = len(v1)\n",
    "    if v2 % 2 == 1:\n",
    "        v3 = v2//2\n",
    "        v4 = v1[v3:v3+1]\n",
    "        return v1[v3:v3+1]\n",
    "    else:\n",
    "        v3 = v2//2 - 1\n",
    "        v4 = v1[v3:v3+2]\n",
    "        return v1[v3:v3+2]"
   ]
  },
  {
   "cell_type": "code",
   "execution_count": 51,
   "metadata": {},
   "outputs": [
    {
     "data": {
      "text/plain": [
       "'k'"
      ]
     },
     "execution_count": 51,
     "metadata": {},
     "output_type": "execute_result"
    }
   ],
   "source": [
    "count('weekday')"
   ]
  },
  {
   "cell_type": "code",
   "execution_count": 52,
   "metadata": {},
   "outputs": [
    {
     "data": {
      "text/plain": [
       "'dd'"
      ]
     },
     "execution_count": 52,
     "metadata": {},
     "output_type": "execute_result"
    }
   ],
   "source": [
    "count('middle')"
   ]
  },
  {
   "cell_type": "code",
   "execution_count": null,
   "metadata": {},
   "outputs": [],
   "source": []
  },
  {
   "cell_type": "markdown",
   "metadata": {
    "id": "4NUEtnh_R06P"
   },
   "source": [
    "**미션3. 임금 계산해 보기**\n",
    "\n",
    "사용자에게 근무 시간과 시간당 임금을 물어보고, 주당 근무 시간이 40시간을 넘으면 1.5배의 임금을 지급해야 한다고 가정할 경우<br> \n",
    "이번주에 받는 총임금을 계산하는 프로그램을 만들어 보자"
   ]
  },
  {
   "cell_type": "code",
   "execution_count": 35,
   "metadata": {
    "id": "n4Na5-oSR06Q"
   },
   "outputs": [],
   "source": [
    "def pay(time, wage):\n",
    "    if time > 40:\n",
    "        return time*wage*1.5\n",
    "    else:\n",
    "        return time*wage"
   ]
  },
  {
   "cell_type": "code",
   "execution_count": 36,
   "metadata": {},
   "outputs": [
    {
     "data": {
      "text/plain": [
       "67500.0"
      ]
     },
     "execution_count": 36,
     "metadata": {},
     "output_type": "execute_result"
    }
   ],
   "source": [
    "pay(45, 1000)"
   ]
  },
  {
   "cell_type": "code",
   "execution_count": 37,
   "metadata": {},
   "outputs": [
    {
     "data": {
      "text/plain": [
       "30000"
      ]
     },
     "execution_count": 37,
     "metadata": {},
     "output_type": "execute_result"
    }
   ],
   "source": [
    "pay(30, 1000)"
   ]
  },
  {
   "cell_type": "code",
   "execution_count": 7,
   "metadata": {},
   "outputs": [
    {
     "name": "stdout",
     "output_type": "stream",
     "text": [
      "주당 근무 시간 : 45\n",
      "시간당 임금 : 10000\n",
      "475000.0\n"
     ]
    }
   ],
   "source": [
    "time = int(input(\"주당 근무 시간 : \"))\n",
    "wage= int(input(\"시간당 임금 : \"))\n",
    "\n",
    "if time > 40:\n",
    "    print((wage*40) + (wage*(time-40)*1.5))\n",
    "else:\n",
    "    print(time*wage)\n"
   ]
  },
  {
   "cell_type": "code",
   "execution_count": 49,
   "metadata": {},
   "outputs": [
    {
     "data": {
      "text/plain": [
       "47500.0"
      ]
     },
     "execution_count": 49,
     "metadata": {},
     "output_type": "execute_result"
    }
   ],
   "source": [
    "sal(45, 1000)"
   ]
  },
  {
   "cell_type": "code",
   "execution_count": null,
   "metadata": {},
   "outputs": [],
   "source": []
  },
  {
   "cell_type": "markdown",
   "metadata": {
    "id": "cCgIbH_4R06R"
   },
   "source": [
    "## 반복문"
   ]
  },
  {
   "cell_type": "code",
   "execution_count": 9,
   "metadata": {},
   "outputs": [
    {
     "name": "stdout",
     "output_type": "stream",
     "text": [
      "<class 'list'>\n",
      "5\n"
     ]
    }
   ],
   "source": [
    "multi = [1, 2, 3, 4, 5]\n",
    "\n",
    "print(type(multi))\n",
    "print(multi[4])"
   ]
  },
  {
   "cell_type": "code",
   "execution_count": 11,
   "metadata": {
    "id": "StR5vBqsR06S"
   },
   "outputs": [
    {
     "name": "stdout",
     "output_type": "stream",
     "text": [
      "1\n",
      "2\n",
      "3\n",
      "4\n",
      "5\n"
     ]
    }
   ],
   "source": [
    "# 다수의 데이터가 존재할 경우 하나씩 뽑아서 화면에 출력하는\n",
    "# 다수의 데이터가 있어야 하고 -> 하나씩 뽑은 데이터를 관리하는 변수가 있어야 함 -> 출력\n",
    "\n",
    "# 다수의 데이터 = multi\n",
    "# 뽑은 데이터를 하나씩만 보유할 수 있는 변수 선언 = one (변수명은 마음대로)\n",
    "\n",
    "multi = [1, 2, 3, 4, 5]\n",
    "\n",
    "# 반복문의 syntax\n",
    "for one in multi:\n",
    "    print(one)\n"
   ]
  },
  {
   "cell_type": "code",
   "execution_count": 12,
   "metadata": {
    "scrolled": true
   },
   "outputs": [
    {
     "name": "stdout",
     "output_type": "stream",
     "text": [
      "1 2 3 4 5 "
     ]
    }
   ],
   "source": [
    "for one in multi:\n",
    "    print(one, end=' ')    # 반복하면서 한 line에 데이터 출력 가능한 속성. 데이터 간 간격 확보."
   ]
  },
  {
   "cell_type": "code",
   "execution_count": 13,
   "metadata": {
    "scrolled": true
   },
   "outputs": [
    {
     "name": "stdout",
     "output_type": "stream",
     "text": [
      "1, 2, 3, 4, 5, "
     ]
    }
   ],
   "source": [
    "for one in multi:\n",
    "    print(one, end=', ')"
   ]
  },
  {
   "cell_type": "code",
   "execution_count": 14,
   "metadata": {
    "scrolled": false
   },
   "outputs": [
    {
     "name": "stdout",
     "output_type": "stream",
     "text": [
      "0\n",
      "1\n",
      "2\n",
      "3\n",
      "4\n"
     ]
    }
   ],
   "source": [
    "# 0부터 100까지 101개의 숫자값을 출력/ line 단위로\n",
    "# range(): 일정 범위의 숫자값을 자동생성해주는 함수\n",
    "\n",
    "for data in range(5):\n",
    "    print(data)\n"
   ]
  },
  {
   "cell_type": "code",
   "execution_count": 16,
   "metadata": {
    "scrolled": false
   },
   "outputs": [
    {
     "name": "stdout",
     "output_type": "stream",
     "text": [
      "1\n",
      "2\n",
      "3\n",
      "4\n",
      "5\n"
     ]
    }
   ],
   "source": [
    "# 1부터 5까지 숫자값을 출력/ line 단위로\n",
    "# range(): 일정 범위의 숫자값을 자동생성해주는 함수\n",
    "\n",
    "for data in range(1, 6):\n",
    "    print(data)\n"
   ]
  },
  {
   "cell_type": "code",
   "execution_count": 17,
   "metadata": {
    "scrolled": true
   },
   "outputs": [
    {
     "name": "stdout",
     "output_type": "stream",
     "text": [
      "1\n",
      "3\n",
      "5\n"
     ]
    }
   ],
   "source": [
    "for data in range(1, 6, 2):    # stride: 보폭\n",
    "    print(data)"
   ]
  },
  {
   "cell_type": "code",
   "execution_count": 18,
   "metadata": {
    "scrolled": true
   },
   "outputs": [
    {
     "name": "stdout",
     "output_type": "stream",
     "text": [
      "0\n",
      "1\n",
      "2\n",
      "3\n"
     ]
    }
   ],
   "source": [
    "for i in range(9):   # loop를 종료하는 break\n",
    "    if i > 3:\n",
    "        break\n",
    "    print(i)"
   ]
  },
  {
   "cell_type": "code",
   "execution_count": 23,
   "metadata": {
    "scrolled": true
   },
   "outputs": [
    {
     "name": "stdout",
     "output_type": "stream",
     "text": [
      "0\n",
      "1\n",
      "2\n",
      "3\n"
     ]
    }
   ],
   "source": [
    "for i in range(9):   # continue: 조건이 true일 때만 skip하고 계속 반복\n",
    "    if i > 3:    #4 인 경우가 True\n",
    "        continue\n",
    "    print(i)"
   ]
  },
  {
   "cell_type": "code",
   "execution_count": 20,
   "metadata": {},
   "outputs": [
    {
     "name": "stdout",
     "output_type": "stream",
     "text": [
      "0\n",
      "1\n",
      "2\n",
      "4\n",
      "5\n",
      "6\n",
      "7\n",
      "8\n"
     ]
    }
   ],
   "source": [
    "for i in range(9):\n",
    "    if i == 3:\n",
    "        continue\n",
    "    print(i)"
   ]
  },
  {
   "cell_type": "code",
   "execution_count": 30,
   "metadata": {},
   "outputs": [],
   "source": [
    "# 입력되는 숫자값(실시간 가변 데이터, 재사용성)으로 range 함수에 적용해서 그 수만큼 반복\n",
    "# 단, 반복되는 데이터가 5인 경우에만 스킵\n",
    "\n",
    "def my_for(v):\n",
    "    for d in range(v):\n",
    "        if d == 5:\n",
    "            continue\n",
    "        print(d)"
   ]
  },
  {
   "cell_type": "code",
   "execution_count": 31,
   "metadata": {
    "scrolled": false
   },
   "outputs": [
    {
     "name": "stdout",
     "output_type": "stream",
     "text": [
      "0\n",
      "1\n",
      "2\n",
      "3\n",
      "4\n",
      "6\n",
      "7\n",
      "8\n",
      "9\n"
     ]
    }
   ],
   "source": [
    "my_for(10)"
   ]
  },
  {
   "cell_type": "code",
   "execution_count": 41,
   "metadata": {},
   "outputs": [],
   "source": [
    "# 1\n",
    "# 새로 오픈한 오픈 이벤트를 진행한다.\n",
    "# 방문한 손님 순서대로 10의 배수마다 마우스를, 100의 배수마다 모니터를 준다.\n",
    "# 이벤트가 중복될 경우 모니터만 제공한다.\n",
    "# 모니터 수 : 5, 마우스 수 : 50 이고 소진되면 이벤트는 종료된다.\n",
    "# 초기 방문자 수를 입력받는다.\n",
    "# 출력으로는 이벤트에 해당되는 방문자 순서와 제공받는 물품의 항목이 되도록 하라.\n",
    "\n",
    "\n",
    "\n",
    "def event(cus_num):\n",
    "    mouse = 50\n",
    "    monitor = 5\n",
    "    for visit in range(1, cus_num+1):\n",
    "        if mouse == 0 and monitor == 0:\n",
    "            break\n",
    "\n",
    "        if visit%10 == 0:\n",
    "            if visit%100 == 0:\n",
    "                if monitor == 0:\n",
    "                    continue\n",
    "                monitor -= 1\n",
    "                print(visit, \"번째 손님 모니터 당첨입니다.\")\n",
    "            else:\n",
    "                if mouse == 0:\n",
    "                    continue\n",
    "                mouse -= 1\n",
    "                print(visit, \"번째 손님 마우스 당첨입니다.\")\n",
    "        \n",
    "        "
   ]
  },
  {
   "cell_type": "code",
   "execution_count": 42,
   "metadata": {},
   "outputs": [
    {
     "name": "stdout",
     "output_type": "stream",
     "text": [
      "10 번째 손님 마우스 당첨입니다.\n",
      "20 번째 손님 마우스 당첨입니다.\n",
      "30 번째 손님 마우스 당첨입니다.\n",
      "40 번째 손님 마우스 당첨입니다.\n",
      "50 번째 손님 마우스 당첨입니다.\n",
      "60 번째 손님 마우스 당첨입니다.\n",
      "70 번째 손님 마우스 당첨입니다.\n",
      "80 번째 손님 마우스 당첨입니다.\n",
      "90 번째 손님 마우스 당첨입니다.\n",
      "100 번째 손님 모니터 당첨입니다.\n",
      "110 번째 손님 마우스 당첨입니다.\n",
      "120 번째 손님 마우스 당첨입니다.\n",
      "130 번째 손님 마우스 당첨입니다.\n",
      "140 번째 손님 마우스 당첨입니다.\n",
      "150 번째 손님 마우스 당첨입니다.\n",
      "160 번째 손님 마우스 당첨입니다.\n",
      "170 번째 손님 마우스 당첨입니다.\n",
      "180 번째 손님 마우스 당첨입니다.\n",
      "190 번째 손님 마우스 당첨입니다.\n",
      "200 번째 손님 모니터 당첨입니다.\n",
      "210 번째 손님 마우스 당첨입니다.\n",
      "220 번째 손님 마우스 당첨입니다.\n",
      "230 번째 손님 마우스 당첨입니다.\n",
      "240 번째 손님 마우스 당첨입니다.\n",
      "250 번째 손님 마우스 당첨입니다.\n",
      "260 번째 손님 마우스 당첨입니다.\n",
      "270 번째 손님 마우스 당첨입니다.\n",
      "280 번째 손님 마우스 당첨입니다.\n",
      "290 번째 손님 마우스 당첨입니다.\n",
      "300 번째 손님 모니터 당첨입니다.\n",
      "310 번째 손님 마우스 당첨입니다.\n",
      "320 번째 손님 마우스 당첨입니다.\n",
      "330 번째 손님 마우스 당첨입니다.\n",
      "340 번째 손님 마우스 당첨입니다.\n",
      "350 번째 손님 마우스 당첨입니다.\n",
      "360 번째 손님 마우스 당첨입니다.\n",
      "370 번째 손님 마우스 당첨입니다.\n",
      "380 번째 손님 마우스 당첨입니다.\n",
      "390 번째 손님 마우스 당첨입니다.\n",
      "400 번째 손님 모니터 당첨입니다.\n",
      "410 번째 손님 마우스 당첨입니다.\n",
      "420 번째 손님 마우스 당첨입니다.\n",
      "430 번째 손님 마우스 당첨입니다.\n",
      "440 번째 손님 마우스 당첨입니다.\n",
      "450 번째 손님 마우스 당첨입니다.\n",
      "460 번째 손님 마우스 당첨입니다.\n",
      "470 번째 손님 마우스 당첨입니다.\n",
      "480 번째 손님 마우스 당첨입니다.\n",
      "490 번째 손님 마우스 당첨입니다.\n",
      "500 번째 손님 모니터 당첨입니다.\n",
      "510 번째 손님 마우스 당첨입니다.\n",
      "520 번째 손님 마우스 당첨입니다.\n",
      "530 번째 손님 마우스 당첨입니다.\n",
      "540 번째 손님 마우스 당첨입니다.\n",
      "550 번째 손님 마우스 당첨입니다.\n"
     ]
    }
   ],
   "source": [
    "event(1000)"
   ]
  },
  {
   "cell_type": "code",
   "execution_count": 55,
   "metadata": {},
   "outputs": [],
   "source": [
    "# 2\n",
    "# 중간고사를 실시해서 커트라인 점수 이상이면 advanced , 커트라인 이하면 basic 반으로 구분된다\n",
    "# 초기 학생 수와 그에 따른 성적을 입력받는다\n",
    "# 출력으로 adv, basic 인원을 출력하라\n",
    "\n",
    "\n",
    "def midterm():\n",
    "    cutline = 70\n",
    "\n",
    "    student_num = int(input())\n",
    "    score = list(map(int, input().split()))\n",
    "    \n",
    "    adv_num = 0\n",
    "    basic_num = 0\n",
    "        \n",
    "    for i in range(0, student_num):\n",
    "\n",
    "        if score[i] >= cutline:\n",
    "            adv_num += 1\n",
    "        else:\n",
    "            basic_num += 1\n",
    "    print(\"advance반의 학생 수는\", adv_num)\n",
    "    print(\"basic반의 학생 수는\", basic_num)\n"
   ]
  },
  {
   "cell_type": "code",
   "execution_count": 56,
   "metadata": {},
   "outputs": [
    {
     "name": "stdout",
     "output_type": "stream",
     "text": [
      "5\n",
      "10 20 30 40 80\n",
      "advance반의 학생 수는 1\n",
      "basic반의 학생 수는 4\n"
     ]
    }
   ],
   "source": [
    "midterm()"
   ]
  },
  {
   "cell_type": "code",
   "execution_count": null,
   "metadata": {},
   "outputs": [],
   "source": [
    "midterm()"
   ]
  },
  {
   "cell_type": "markdown",
   "metadata": {
    "id": "9gtlf8i1R06T"
   },
   "source": [
    "**미션 - 숫자로 pyramid 만들기**\n",
    "\n",
    "- 중첩 for문과 range() 함수 활용\n",
    "- 함수로 구현"
   ]
  },
  {
   "cell_type": "code",
   "execution_count": 84,
   "metadata": {
    "id": "tIsj6fX9R06U"
   },
   "outputs": [],
   "source": [
    "# 중첩반복문\n",
    "\n",
    "def pyramid(v):\n",
    "    \n",
    "    for i in range (1, v+1):     # outer loop\n",
    "        \n",
    "        for j in range(i):       # inner loop\n",
    "            print(i, end=' ')\n",
    "            \n",
    "        print()   # blank new line\n",
    "    \n"
   ]
  },
  {
   "cell_type": "code",
   "execution_count": 85,
   "metadata": {},
   "outputs": [
    {
     "name": "stdout",
     "output_type": "stream",
     "text": [
      "1 \n",
      "2 2 \n",
      "3 3 3 \n",
      "4 4 4 4 \n",
      "5 5 5 5 5 \n"
     ]
    }
   ],
   "source": [
    "pyramid(5)"
   ]
  },
  {
   "cell_type": "code",
   "execution_count": null,
   "metadata": {},
   "outputs": [],
   "source": []
  },
  {
   "cell_type": "markdown",
   "metadata": {
    "id": "kOMwwTGMR06V"
   },
   "source": [
    "**미션- 팩토리얼 계산하기**\n",
    ">반복문을 활용하여 팩토리얼 계산해 보기<br>\n",
    "for문과 while문을 활용하여 각각 만들어 보기<br>\n",
    "팩토리얼 n!은 1~n까지의 정수를 모두 곱한 것을 의미한다<br>\n",
    "n! = 1*2*3*...(n-1)*n\n",
    "\n",
    ">힌트 : range() 함수를 이용"
   ]
  },
  {
   "cell_type": "code",
   "execution_count": 100,
   "metadata": {
    "id": "UyA4IcErR06W"
   },
   "outputs": [],
   "source": [
    "def factorial(v):\n",
    "    \n",
    "    fact = 1\n",
    "    \n",
    "    for i in range (1, v+1):\n",
    "        fact = fact * i\n",
    "    print(fact)"
   ]
  },
  {
   "cell_type": "code",
   "execution_count": 101,
   "metadata": {},
   "outputs": [
    {
     "name": "stdout",
     "output_type": "stream",
     "text": [
      "120\n"
     ]
    }
   ],
   "source": [
    "factorial(5)"
   ]
  },
  {
   "cell_type": "code",
   "execution_count": 103,
   "metadata": {},
   "outputs": [],
   "source": [
    "def factorial(v):\n",
    "    \n",
    "    fact = 1\n",
    "    \n",
    "    for i in range (1, v+1):\n",
    "        fact = fact * i\n",
    "    print(v, '!은', fact)"
   ]
  },
  {
   "cell_type": "code",
   "execution_count": 105,
   "metadata": {},
   "outputs": [
    {
     "name": "stdout",
     "output_type": "stream",
     "text": [
      "4 !은 24\n"
     ]
    }
   ],
   "source": [
    "factorial(4)"
   ]
  },
  {
   "cell_type": "code",
   "execution_count": null,
   "metadata": {},
   "outputs": [],
   "source": []
  },
  {
   "cell_type": "markdown",
   "metadata": {
    "id": "l30fK4b3R06X"
   },
   "source": [
    "**미션-계좌번호 처리하기**\n",
    "\n",
    "> 인터넷 뱅킹을 사용하다보면 계좌번호를 입력할 때, \"312-02-1234567\"과 사용자로부터 \"-\"가 포함된 계좌 번호를 받아서 \"-\"을 삭제한 문자열을 만들어보자. \n"
   ]
  },
  {
   "cell_type": "code",
   "execution_count": 106,
   "metadata": {
    "id": "vWAjdQTdR06Y"
   },
   "outputs": [
    {
     "name": "stdout",
     "output_type": "stream",
     "text": [
      "s\n",
      "t\n",
      "r\n",
      "i\n",
      "n\n",
      "g\n"
     ]
    }
   ],
   "source": [
    "data = 'string'\n",
    "\n",
    "# 문자열도 반복문에 적용 가능\n",
    "# 문자열의 철자 개수만큼 반복해서 하나씩 뽑음\n",
    "\n",
    "for v in data:\n",
    "    print(v)   # print = 출력 + new line 자동 반영 (new line 무시 표현: , end=' ')\n"
   ]
  },
  {
   "cell_type": "code",
   "execution_count": 117,
   "metadata": {},
   "outputs": [
    {
     "name": "stdout",
     "output_type": "stream",
     "text": [
      "계좌번호를 입력하세요: 312-02-1234567\n",
      "312021234567\n"
     ]
    }
   ],
   "source": [
    "raw =  str(input(\"계좌번호를 입력하세요: \"))\n",
    "final_data = ''\n",
    "\n",
    "for v in raw:\n",
    "    if v != '-':\n",
    "        final_data = final_data+v\n",
    "        \n",
    "print(final_data)\n"
   ]
  },
  {
   "cell_type": "code",
   "execution_count": 111,
   "metadata": {},
   "outputs": [
    {
     "name": "stdout",
     "output_type": "stream",
     "text": [
      "계좌번호를 입력하세요: 312-02-1234567\n",
      "312021234567"
     ]
    }
   ],
   "source": [
    "acc = str(input(\"계좌번호를 입력하세요: \"))\n",
    "\n",
    "for i in acc:\n",
    "    if i == '-':\n",
    "        continue\n",
    "    else:\n",
    "        print(i, end='')"
   ]
  },
  {
   "cell_type": "code",
   "execution_count": null,
   "metadata": {},
   "outputs": [],
   "source": []
  },
  {
   "cell_type": "markdown",
   "metadata": {
    "id": "XslKMc1cR06Z"
   },
   "source": [
    "**미션 - 알파벳, 숫자, 스페이스의 처리**\n",
    "\n",
    "> 문자열을 조사하여서 알파벳 문자의 개수, 숫자의 개수, 스페이스의 개수를 출력하는 프로그램을 작성하라"
   ]
  },
  {
   "cell_type": "code",
   "execution_count": 123,
   "metadata": {},
   "outputs": [
    {
     "name": "stdout",
     "output_type": "stream",
     "text": [
      "문자열을 입력하시오: hi 안녕 33\n",
      "알파벳 문자의 개수= 4\n",
      "숫자 문자의 개수= 2\n",
      "스페이스  문자의 개수= 2\n"
     ]
    }
   ],
   "source": [
    "statement = input(\"문자열을 입력하시오: \")\n",
    "alphas = 0\n",
    "digits = 0\n",
    "spaces = 0\n",
    "for c in statement:\n",
    "    if c.isalpha():\n",
    "        alphas = alphas + 1\n",
    "    if c.isdigit():\n",
    "        digits = digits + 1\n",
    "    if c.isspace():\n",
    "          spaces = spaces + 1\n",
    "print (\"알파벳 문자의 개수=\", alphas)\n",
    "print (\"숫자 문자의 개수=\", digits)\n",
    "print (\"스페이스  문자의 개수=\", spaces)"
   ]
  },
  {
   "cell_type": "code",
   "execution_count": 124,
   "metadata": {
    "id": "Bolhbr2QR06Z"
   },
   "outputs": [
    {
     "name": "stdout",
     "output_type": "stream",
     "text": [
      "문자열을 입력하시오: hi 안녕 333\n",
      "알파벳 문자의 개수= 4\n",
      "숫자 문자의 개수= 3\n",
      "스페이스  문자의 개수= 2\n"
     ]
    }
   ],
   "source": [
    "# 다중 조건식으로 실행 속도, 성능 향상위해 개선한 코드\n",
    "\n",
    "statement = input(\"문자열을 입력하시오: \")\n",
    "\n",
    "# 개수 counting을 위한 변수 선언, 0으로 초기화\n",
    "alphas = 0\n",
    "digits = 0\n",
    "spaces = 0\n",
    "\n",
    "for c in statement:\n",
    "    if c.isalpha():           # isalpha 함수: 문자열이 문자인지 아닌지를 True, False로 리턴\n",
    "        alphas = alphas + 1\n",
    "        \n",
    "    elif c.isdigit():           # isdigit 함수: 문자열이 숫자인지 아닌지를 True, False로 리턴\n",
    "        digits = digits + 1\n",
    "        \n",
    "    elif c.isspace():           # isspace 함수: 문자열이 space인지 아닌지를 True, False로 리턴\n",
    "          spaces = spaces + 1\n",
    "        \n",
    "\n",
    "print (\"알파벳 문자의 개수=\", alphas)\n",
    "print (\"숫자 문자의 개수=\", digits)\n",
    "print (\"스페이스  문자의 개수=\", spaces)"
   ]
  },
  {
   "cell_type": "code",
   "execution_count": 121,
   "metadata": {},
   "outputs": [
    {
     "name": "stdout",
     "output_type": "stream",
     "text": [
      "True\n",
      "True\n"
     ]
    }
   ],
   "source": [
    "for c in ['ㅁ', 'ㅠ']:\n",
    "    print(c.isalpha())\n"
   ]
  },
  {
   "cell_type": "code",
   "execution_count": null,
   "metadata": {},
   "outputs": [],
   "source": []
  },
  {
   "cell_type": "markdown",
   "metadata": {
    "id": "Qzgg-UUGR06a"
   },
   "source": [
    "**실행 결과와 비교해 보면서 분석해 보기**"
   ]
  },
  {
   "cell_type": "code",
   "execution_count": null,
   "metadata": {
    "id": "-4-exbJSR06b",
    "outputId": "36315d99-c99a-4eff-91ea-13482533e3f6"
   },
   "outputs": [
    {
     "name": "stdout",
     "output_type": "stream",
     "text": [
      "3 4 5\n",
      "4 3 5\n",
      "5 12 13\n",
      "6 8 10\n",
      "7 24 25\n",
      "8 6 10\n",
      "8 15 17\n",
      "9 12 15\n",
      "9 40 41\n",
      "10 24 26\n",
      "11 60 61\n",
      "12 5 13\n",
      "12 9 15\n",
      "12 16 20\n",
      "12 35 37\n",
      "13 84 85\n",
      "14 48 50\n",
      "15 8 17\n",
      "15 20 25\n",
      "15 36 39\n",
      "16 12 20\n",
      "16 30 34\n",
      "16 63 65\n",
      "18 24 30\n",
      "18 80 82\n",
      "20 15 25\n",
      "20 21 29\n",
      "20 48 52\n",
      "21 20 29\n",
      "21 28 35\n",
      "21 72 75\n",
      "24 7 25\n",
      "24 10 26\n",
      "24 18 30\n",
      "24 32 40\n",
      "24 45 51\n",
      "24 70 74\n",
      "25 60 65\n",
      "27 36 45\n",
      "28 21 35\n",
      "28 45 53\n",
      "28 96 100\n",
      "30 16 34\n",
      "30 40 50\n",
      "30 72 78\n",
      "32 24 40\n",
      "32 60 68\n",
      "33 44 55\n",
      "33 56 65\n",
      "35 12 37\n",
      "35 84 91\n",
      "36 15 39\n",
      "36 27 45\n",
      "36 48 60\n",
      "36 77 85\n",
      "39 52 65\n",
      "39 80 89\n",
      "40 9 41\n",
      "40 30 50\n",
      "40 42 58\n",
      "40 75 85\n",
      "42 40 58\n",
      "42 56 70\n",
      "44 33 55\n",
      "45 24 51\n",
      "45 28 53\n",
      "45 60 75\n",
      "48 14 50\n",
      "48 20 52\n",
      "48 36 60\n",
      "48 55 73\n",
      "48 64 80\n",
      "51 68 85\n",
      "52 39 65\n",
      "54 72 90\n",
      "55 48 73\n",
      "56 33 65\n",
      "56 42 70\n",
      "57 76 95\n",
      "60 11 61\n",
      "60 25 65\n",
      "60 32 68\n",
      "60 45 75\n",
      "60 63 87\n",
      "60 80 100\n",
      "63 16 65\n",
      "63 60 87\n",
      "64 48 80\n",
      "65 72 97\n",
      "68 51 85\n",
      "70 24 74\n",
      "72 21 75\n",
      "72 30 78\n",
      "72 54 90\n",
      "72 65 97\n",
      "75 40 85\n",
      "76 57 95\n",
      "77 36 85\n",
      "80 18 82\n",
      "80 39 89\n",
      "80 60 100\n",
      "84 13 85\n",
      "84 35 91\n",
      "96 28 100\n"
     ]
    }
   ],
   "source": [
    "for a in range(1, 101, 1):\n",
    "    for b in range(1, 101, 1):\n",
    "        for c in range(1, 101, 1):\n",
    "            if( (a*a+b*b)==c*c ):\n",
    "                print(a, b, c)"
   ]
  },
  {
   "cell_type": "code",
   "execution_count": null,
   "metadata": {
    "id": "GN9-i5-vR06d"
   },
   "outputs": [],
   "source": []
  }
 ],
 "metadata": {
  "colab": {
   "collapsed_sections": [],
   "name": "step02ConditionLoop.ipynb",
   "provenance": []
  },
  "kernelspec": {
   "display_name": "Python 3",
   "language": "python",
   "name": "python3"
  },
  "language_info": {
   "codemirror_mode": {
    "name": "ipython",
    "version": 3
   },
   "file_extension": ".py",
   "mimetype": "text/x-python",
   "name": "python",
   "nbconvert_exporter": "python",
   "pygments_lexer": "ipython3",
   "version": "3.8.5"
  }
 },
 "nbformat": 4,
 "nbformat_minor": 1
}
