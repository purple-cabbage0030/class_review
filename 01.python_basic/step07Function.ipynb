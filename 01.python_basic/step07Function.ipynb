{
 "cells": [
  {
   "cell_type": "markdown",
   "metadata": {},
   "source": [
    "<!--NAVIGATION-->\n",
    "\n",
    "\n",
    "[[step06. 변수 학습 page로 이동](step06VariableOperators.ipynb) ] | [[step08.comprehension 학습 page로 이동](step08Comprehension.ipynb) ]"
   ]
  },
  {
   "cell_type": "markdown",
   "metadata": {},
   "source": [
    "**기호가 의미하는 횟수**\n",
    "\n",
    "1. 아무것도 없음: 무조건 한 번\n",
    "2. \\+ : 한 번부터 무한대를 의미  ( 1 ~ 무한 )\n",
    "3. \\* : 0번부터 무한대를 의미   ( 0 ~ 무한 )\n",
    "4. ? : 없거나 또는 한 번   ( 0 또는 1 )"
   ]
  },
  {
   "cell_type": "markdown",
   "metadata": {},
   "source": [
    "### 함수 구현의 다양한 문법 \n",
    "\n",
    "- 인수(argument) - 호출 프로그램에 의하여 함수에 전달되는 데이터 값\n",
    "- 매개변수(parameter) - 인수값을 전달받는 변수\n",
    "\n",
    "--------------------------------------------------------\n",
    "\n",
    "- 디폴트 인수 : 함수의 매개 변수가 기본값 보유\n",
    "- 키워드 인수 : 인수들 앞에 키워드를 두어 인수 구분\n",
    "- 임의의 인수 목록 : 인자의 개수가 정해지지 않은 가변 인수를 전달\n",
    "- 람다 함수 : 이름이 없는 한줄짜리 함수 (식을 함수처럼 표현하는 식, 대부분의 프로그램 언어가 가진 기능)"
   ]
  },
  {
   "cell_type": "code",
   "execution_count": 2,
   "metadata": {},
   "outputs": [
    {
     "name": "stdout",
     "output_type": "stream",
     "text": [
      "(1, 2)\n"
     ]
    },
    {
     "data": {
      "text/plain": [
       "NoneType"
      ]
     },
     "execution_count": 2,
     "metadata": {},
     "output_type": "execute_result"
    }
   ],
   "source": [
    "# 반환값이 여러개도 가능. 반환 시 tuple 타입으로 자동 변환되면서 반환\n",
    "# python은 타입이 실행 시 동적으로 자동 변경 - 동적 타입\n",
    "\n",
    "def f1():\n",
    "    return 1, 2\n",
    "\n",
    "print(f1())"
   ]
  },
  {
   "cell_type": "code",
   "execution_count": 3,
   "metadata": {},
   "outputs": [
    {
     "name": "stdout",
     "output_type": "stream",
     "text": [
      "(1, 2, 3)\n",
      "<class 'tuple'>\n"
     ]
    }
   ],
   "source": [
    "def f1():\n",
    "    return 1, 2, 3\n",
    "\n",
    "v = f1()\n",
    "print(v)\n",
    "print(type(v))"
   ]
  },
  {
   "cell_type": "code",
   "execution_count": 4,
   "metadata": {},
   "outputs": [
    {
     "name": "stdout",
     "output_type": "stream",
     "text": [
      "('a', 2)\n",
      "a 2\n"
     ]
    }
   ],
   "source": [
    "def f2():\n",
    "    return 'a', 2\n",
    "\n",
    "print(f2())    # ('a', 2)\n",
    "v1, v2 = f2()  # 언패킹\n",
    "print(v1, v2)"
   ]
  },
  {
   "cell_type": "markdown",
   "metadata": {},
   "source": [
    "### 1. 디폴트(default) 인수"
   ]
  },
  {
   "cell_type": "code",
   "execution_count": 5,
   "metadata": {},
   "outputs": [
    {
     "name": "stdout",
     "output_type": "stream",
     "text": [
      "유재석 10\n",
      "백종원 50\n"
     ]
    }
   ],
   "source": [
    "# 매개변수 기본 초기화값 활용하는 함수\n",
    "# 호출 : 함수명(값1), 함수명(값1, 값2)\n",
    "\n",
    "def fun1(name, age=10):\n",
    "    print(name, age)\n",
    "\n",
    "fun1('유재석')\n",
    "fun1('백종원', 50)"
   ]
  },
  {
   "cell_type": "code",
   "execution_count": 6,
   "metadata": {},
   "outputs": [
    {
     "ename": "TypeError",
     "evalue": "fun1() missing 1 required positional argument: 'name'",
     "output_type": "error",
     "traceback": [
      "\u001b[1;31m---------------------------------------------------------------------------\u001b[0m",
      "\u001b[1;31mTypeError\u001b[0m                                 Traceback (most recent call last)",
      "\u001b[1;32m<ipython-input-6-c007234036e7>\u001b[0m in \u001b[0;36m<module>\u001b[1;34m\u001b[0m\n\u001b[1;32m----> 1\u001b[1;33m \u001b[0mfun1\u001b[0m\u001b[1;33m(\u001b[0m\u001b[1;33m)\u001b[0m\u001b[1;33m\u001b[0m\u001b[1;33m\u001b[0m\u001b[0m\n\u001b[0m",
      "\u001b[1;31mTypeError\u001b[0m: fun1() missing 1 required positional argument: 'name'"
     ]
    }
   ],
   "source": [
    "fun1()"
   ]
  },
  {
   "cell_type": "code",
   "execution_count": null,
   "metadata": {},
   "outputs": [],
   "source": []
  },
  {
   "cell_type": "markdown",
   "metadata": {},
   "source": [
    "### 2. 키워드 인수\n",
    "\n",
    "- **kwargs : keyword argument 줄임말\n",
    "- **kwargs : 키워드=특정값 형태로호출"
   ]
  },
  {
   "cell_type": "code",
   "execution_count": 7,
   "metadata": {},
   "outputs": [],
   "source": [
    "def fun2(x, y, z):\n",
    "    return x + y + z    "
   ]
  },
  {
   "cell_type": "code",
   "execution_count": 8,
   "metadata": {},
   "outputs": [
    {
     "data": {
      "text/plain": [
       "60"
      ]
     },
     "execution_count": 8,
     "metadata": {},
     "output_type": "execute_result"
    }
   ],
   "source": [
    "fun2(10, 20, 30)"
   ]
  },
  {
   "cell_type": "code",
   "execution_count": 9,
   "metadata": {},
   "outputs": [
    {
     "data": {
      "text/plain": [
       "60"
      ]
     },
     "execution_count": 9,
     "metadata": {},
     "output_type": "execute_result"
    }
   ],
   "source": [
    "fun2(x=10, y=20, z=30)"
   ]
  },
  {
   "cell_type": "code",
   "execution_count": 10,
   "metadata": {},
   "outputs": [
    {
     "data": {
      "text/plain": [
       "60"
      ]
     },
     "execution_count": 10,
     "metadata": {},
     "output_type": "execute_result"
    }
   ],
   "source": [
    "fun2(z=10, y=20, x=30)"
   ]
  },
  {
   "cell_type": "code",
   "execution_count": null,
   "metadata": {},
   "outputs": [],
   "source": [
    "fun2(x=10, y=20, z=30)"
   ]
  },
  {
   "cell_type": "code",
   "execution_count": 2,
   "metadata": {},
   "outputs": [],
   "source": [
    "# **kwargs 사용\n",
    "def fun3(**kwargs):\n",
    "    print(type(kwargs))\n",
    "    print(kwargs)\n",
    "    print(kwargs['x'])    # dict 데이터 사용 문법으로 활용\n",
    "    print(kwargs.items())    # tuple 형식 리스트가 반환되는 함수"
   ]
  },
  {
   "cell_type": "code",
   "execution_count": 3,
   "metadata": {
    "scrolled": true
   },
   "outputs": [
    {
     "name": "stdout",
     "output_type": "stream",
     "text": [
      "<class 'dict'>\n",
      "{'x': 10, 'y': 20, 'z': 30}\n",
      "10\n",
      "dict_items([('x', 10), ('y', 20), ('z', 30)])\n"
     ]
    }
   ],
   "source": [
    "fun3(x=10, y=20, z=30)"
   ]
  },
  {
   "cell_type": "code",
   "execution_count": 4,
   "metadata": {},
   "outputs": [
    {
     "name": "stdout",
     "output_type": "stream",
     "text": [
      "<class 'dict'>\n",
      "{'x': 10, 'y': 20}\n",
      "10\n",
      "dict_items([('x', 10), ('y', 20)])\n"
     ]
    }
   ],
   "source": [
    "fun3(x=10, y=20)"
   ]
  },
  {
   "cell_type": "code",
   "execution_count": 30,
   "metadata": {},
   "outputs": [],
   "source": [
    "# **kwargs 사용 + 반복문과 items()\n",
    "\n",
    "def fun4(**kwargs):\n",
    "#    print(kwargs)\n",
    "#    print(kwargs.items())\n",
    "\n",
    "    for i in kwargs:\n",
    "        print(i, ':', kwargs[i])\n"
   ]
  },
  {
   "cell_type": "code",
   "execution_count": 31,
   "metadata": {
    "scrolled": true
   },
   "outputs": [
    {
     "name": "stdout",
     "output_type": "stream",
     "text": [
      "x : 10\n",
      "y : 20\n",
      "z : 30\n"
     ]
    }
   ],
   "source": [
    "fun4(x=10, y=20, z=30)"
   ]
  },
  {
   "cell_type": "code",
   "execution_count": 32,
   "metadata": {},
   "outputs": [],
   "source": [
    "# **kwargs 사용 + 반복문과 items()\n",
    "\n",
    "def fun4(**kwargs):\n",
    "    for k, v in kwargs.items():\n",
    "        print(k, ':', v)\n"
   ]
  },
  {
   "cell_type": "code",
   "execution_count": 33,
   "metadata": {
    "scrolled": true
   },
   "outputs": [
    {
     "name": "stdout",
     "output_type": "stream",
     "text": [
      "x : 10\n",
      "y : 20\n",
      "z : 30\n"
     ]
    }
   ],
   "source": [
    "fun4(x=10, y=20, z=30)"
   ]
  },
  {
   "cell_type": "markdown",
   "metadata": {},
   "source": [
    "### 3. 임의의 인수\n",
    "\n",
    "- *를 사용할 경우 인수는 튜퓰 형식\n",
    "- 가변인자 활용"
   ]
  },
  {
   "cell_type": "code",
   "execution_count": 34,
   "metadata": {},
   "outputs": [],
   "source": [
    "# args = arguments. 복수형의 인수들.\n",
    "\n",
    "def fun3(*args, sep='-'):\n",
    "    print(sep.join(args))    # '-'.join(args)"
   ]
  },
  {
   "cell_type": "code",
   "execution_count": 35,
   "metadata": {},
   "outputs": [
    {
     "name": "stdout",
     "output_type": "stream",
     "text": [
      "a-b\n"
     ]
    }
   ],
   "source": [
    "fun3('a', 'b')"
   ]
  },
  {
   "cell_type": "code",
   "execution_count": 36,
   "metadata": {},
   "outputs": [
    {
     "name": "stdout",
     "output_type": "stream",
     "text": [
      "a-b-c\n"
     ]
    }
   ],
   "source": [
    "fun3('a', 'b', 'c')"
   ]
  },
  {
   "cell_type": "code",
   "execution_count": 21,
   "metadata": {},
   "outputs": [],
   "source": [
    "def fun3(*args):\n",
    "    print(type(args))\n",
    "    print(args)"
   ]
  },
  {
   "cell_type": "code",
   "execution_count": 22,
   "metadata": {},
   "outputs": [
    {
     "name": "stdout",
     "output_type": "stream",
     "text": [
      "<class 'tuple'>\n",
      "('a', 'b', 'c')\n"
     ]
    }
   ],
   "source": [
    "fun3('a', 'b', 'c')"
   ]
  },
  {
   "cell_type": "code",
   "execution_count": 23,
   "metadata": {},
   "outputs": [
    {
     "name": "stdout",
     "output_type": "stream",
     "text": [
      "<class 'tuple'>\n",
      "('a', 'b')\n"
     ]
    }
   ],
   "source": [
    "fun3('a', 'b')"
   ]
  },
  {
   "cell_type": "markdown",
   "metadata": {},
   "source": [
    "**미션-\n",
    "일회용 패스워드 생성기를 이용하여서 3개의 패스워드를 생성하여 출력하는 프로그램을 작성해 보기**\n",
    "\n",
    "출력 예시 : \n",
    "    \n",
    "ouuc4c <br>\n",
    "uuahtp <br>\n",
    "79s6oz <br>"
   ]
  },
  {
   "cell_type": "code",
   "execution_count": 37,
   "metadata": {},
   "outputs": [
    {
     "name": "stdout",
     "output_type": "stream",
     "text": [
      "28\n"
     ]
    }
   ],
   "source": [
    "# print()는 별도의 표기 없이도 호출해서 사용이 가능한 내장 함수\n",
    "# import는 제공받은 library이기는 하나 사용 시 사용하겠다는 설정이 필요한 library\n",
    "\n",
    "# 난수: 정해진 범위 내에서 발생되는 알 수 없는 수\n",
    "import random   # random이라는 library / moudle 사용하겠다.\n",
    "\n",
    "# rand(): 난수 발생 기능의 library\n",
    "# ranndrange(숫자): 숫자 범위 내에서의 실제 난수 발생 시키는 기능의 함수\n",
    "# 정수 값에 해당하는 난수 발생\n",
    "\n",
    "print(random.randrange(36)) #0~35"
   ]
  },
  {
   "cell_type": "code",
   "execution_count": 17,
   "metadata": {},
   "outputs": [
    {
     "data": {
      "text/plain": [
       "'9'"
      ]
     },
     "execution_count": 17,
     "metadata": {},
     "output_type": "execute_result"
    }
   ],
   "source": [
    "alphabet = \"abcdefghijklmnopqrstuvwxyz0123456789\"\n",
    "#print(len(alphabet))\n",
    "alphabet[35]"
   ]
  },
  {
   "cell_type": "markdown",
   "metadata": {},
   "source": [
    "random() :0.0 이상 1.0 미만\n",
    "\n",
    "randrange() : 1에서 6까지의 정수 중 하나를 무작위로 반환"
   ]
  },
  {
   "cell_type": "code",
   "execution_count": 38,
   "metadata": {},
   "outputs": [
    {
     "name": "stdout",
     "output_type": "stream",
     "text": [
      "0.7534796291089699\n"
     ]
    }
   ],
   "source": [
    "print(random.random())"
   ]
  },
  {
   "cell_type": "code",
   "execution_count": 39,
   "metadata": {},
   "outputs": [
    {
     "name": "stdout",
     "output_type": "stream",
     "text": [
      "inafe0\n",
      "d5hdz2\n",
      "vl47vt\n"
     ]
    }
   ],
   "source": [
    "import random\n",
    "\n",
    "def genPass():\n",
    "    # 제공되는 raw 데이터\n",
    "    alphabet = \"abcdefghijklmnopqrstuvwxyz0123456789\"\n",
    "    \n",
    "    # 뽑힌 6개 데이터를 보유하게 되는 변수\n",
    "    # 반복을 6번 해서 6개의 문자열 구성\n",
    "    # 데이터가 적재되는 변수\n",
    "    password = \"\"\n",
    "    \n",
    "    for i in range(6):\n",
    "        index = random.randrange(36)\n",
    "        password = password+alphabet[index]    # password += alphabet[index]\n",
    "\n",
    "    return password\n",
    "\n",
    "print(genPass())\n",
    "print(genPass())\n",
    "print(genPass())"
   ]
  },
  {
   "cell_type": "markdown",
   "metadata": {},
   "source": [
    "### 4. 람다 함수 (중요 !!!)\n",
    "\n",
    "- 이름없이 정의된 익명함수. 표현식.\n",
    "- 매개변수 제한이 없음, 단 하나의 값만 반환\n",
    "- 함수의 반환, 변수의 데이터값으로 사용 가능\n",
    "- list의 sort의 key속성의 값으로도 사용 가능(실전 응용)\n",
    "- 문법 :<br>\n",
    "lambda 인자[,..] : 표현식(수식)\n",
    "\n",
    "- lambda – 식으로 함수처럼 기능을 구현하겠다는 선언의 표기. 이름 없는 함수 또는 식이라 표현.\n",
    "- arguments – parameter. 식 수행 시 필요로 하는 데이터를 받는 변수.\n",
    "- : - 식 구분자\n",
    "- expression – 함수의 실행 로직 영역. 호출한 곳으로 값을 return(돌려줌. 반환)\n",
    "- 실행 방법은 식을 대입 받은 ‘변수명(값)’으로 호출. return 받은 데이터 활용\n",
    "\n"
   ]
  },
  {
   "cell_type": "code",
   "execution_count": 40,
   "metadata": {},
   "outputs": [
    {
     "name": "stdout",
     "output_type": "stream",
     "text": [
      "110\n"
     ]
    }
   ],
   "source": [
    "def sum(x):\n",
    "    return x + 10\n",
    "\n",
    "print(sum(100))"
   ]
  },
  {
   "cell_type": "code",
   "execution_count": 43,
   "metadata": {},
   "outputs": [
    {
     "name": "stdout",
     "output_type": "stream",
     "text": [
      "110\n"
     ]
    }
   ],
   "source": [
    "sum2 = lambda a : a+10\n",
    "\n",
    "print(sum2(100))"
   ]
  },
  {
   "cell_type": "code",
   "execution_count": 44,
   "metadata": {},
   "outputs": [
    {
     "name": "stdout",
     "output_type": "stream",
     "text": [
      "300\n"
     ]
    }
   ],
   "source": [
    "sum3 = lambda a, b : a + b\n",
    "\n",
    "print(sum3(100, 200))"
   ]
  },
  {
   "cell_type": "code",
   "execution_count": 1,
   "metadata": {},
   "outputs": [],
   "source": [
    "mylist=[1, 5, 3, 9, 8, 4, 2]\n",
    "mylist.sort()   # 오름차순이 디폴트. 원본 값 수정함."
   ]
  },
  {
   "cell_type": "code",
   "execution_count": 2,
   "metadata": {},
   "outputs": [
    {
     "data": {
      "text/plain": [
       "[1, 2, 3, 4, 5, 8, 9]"
      ]
     },
     "execution_count": 2,
     "metadata": {},
     "output_type": "execute_result"
    }
   ],
   "source": [
    "mylist"
   ]
  },
  {
   "cell_type": "code",
   "execution_count": 31,
   "metadata": {},
   "outputs": [],
   "source": [
    "mylist=[ 1, 5, 3, 9, 8, 4, 2]\n",
    "\n",
    "\n",
    "\n"
   ]
  },
  {
   "cell_type": "code",
   "execution_count": 33,
   "metadata": {},
   "outputs": [
    {
     "data": {
      "text/plain": [
       "[1, 2, 3, 4, 5, 8, 9]"
      ]
     },
     "execution_count": 33,
     "metadata": {},
     "output_type": "execute_result"
    }
   ],
   "source": [
    "mylist=[1, 5, 3, 9, 8, 4, 2]\n",
    "\n",
    "\n",
    "\n"
   ]
  },
  {
   "cell_type": "code",
   "execution_count": 45,
   "metadata": {},
   "outputs": [
    {
     "name": "stdout",
     "output_type": "stream",
     "text": [
      "[('kim', 23, 100), ('lee', 27, 99), ('park', 43, 102)]\n"
     ]
    }
   ],
   "source": [
    "mylist2 = [('kim', 23, 100), ('lee', 27, 99), ('park', 43, 102)]\n",
    "print(mylist2)"
   ]
  },
  {
   "cell_type": "code",
   "execution_count": 46,
   "metadata": {},
   "outputs": [
    {
     "data": {
      "text/plain": [
       "[('lee', 27, 99), ('kim', 23, 100), ('park', 43, 102)]"
      ]
     },
     "execution_count": 46,
     "metadata": {},
     "output_type": "execute_result"
    }
   ],
   "source": [
    "# tuple 내에 2번째 인덱스 value를 기준으로 오름차순 정렬\n",
    "# a에 대입되는 값이 list 안에 존재하는 각각의 tuple. \n",
    "\n",
    "mylist2.sort(key=lambda a : a[2])\n",
    "mylist2"
   ]
  },
  {
   "cell_type": "code",
   "execution_count": 47,
   "metadata": {},
   "outputs": [
    {
     "data": {
      "text/plain": [
       "[('park', 43, 102), ('kim', 23, 100), ('lee', 27, 99)]"
      ]
     },
     "execution_count": 47,
     "metadata": {},
     "output_type": "execute_result"
    }
   ],
   "source": [
    "mylist2.sort(key=lambda a : a[2], reverse=True)\n",
    "mylist2"
   ]
  },
  {
   "cell_type": "code",
   "execution_count": 36,
   "metadata": {},
   "outputs": [
    {
     "data": {
      "text/plain": [
       "[('kim', 23, 100), ('lee', 27, 99), ('park', 43, 102)]"
      ]
     },
     "execution_count": 36,
     "metadata": {},
     "output_type": "execute_result"
    }
   ],
   "source": [
    "mylist2 = [('kim', 23, 100), ('lee', 27, 99), ('park', 43, 102)]\n",
    "mylist2.sort(key=lambda a : a[0])\n",
    "mylist2"
   ]
  },
  {
   "cell_type": "code",
   "execution_count": 55,
   "metadata": {},
   "outputs": [
    {
     "name": "stdout",
     "output_type": "stream",
     "text": [
      "spam\n",
      "egg\n",
      "ham\n",
      "['egg', 'Ham', 'Spam']\n"
     ]
    }
   ],
   "source": [
    "# 대소문자 구분 없이 sort 함수로 정렬 \n",
    "# 람다 사용해서 소문자로 변경해서 정렬 \n",
    "# .lower()\n",
    "mylist3 = ['Spam', 'egg', 'Ham']\n",
    "\n",
    "for i in mylist3:\n",
    "    print(i.lower())    # 대소문자의 유니코드 또는 아스키 코드의 번호를 고려한 대소문자 맞춤\n",
    "\n",
    "# 원본 데이터 정렬만 관리\n",
    "# 람다식으로 처리한 기능은 원본 데이터 활용해서 임시로 변경된 후에 휘발되는 구조\n",
    "mylist3.sort(key=lambda x : x.lower())\n",
    "\n",
    "print(mylist3)"
   ]
  },
  {
   "cell_type": "code",
   "execution_count": 38,
   "metadata": {},
   "outputs": [
    {
     "data": {
      "text/plain": [
       "['one', 'three', 'two']"
      ]
     },
     "execution_count": 38,
     "metadata": {},
     "output_type": "execute_result"
    }
   ],
   "source": [
    "mydict1 = {'one':1, 'two':2, 'three':3}\n",
    "sorted(mydict1)"
   ]
  },
  {
   "cell_type": "code",
   "execution_count": null,
   "metadata": {},
   "outputs": [],
   "source": []
  },
  {
   "cell_type": "markdown",
   "metadata": {},
   "source": [
    "### 5. map() 함수\n",
    "\n",
    "- 문법 : map(함수이름, 리스트/튜플...)\n",
    "- 시퀀스의 모든 항목에 함수를 적용한 결과 리스트 반환"
   ]
  },
  {
   "cell_type": "code",
   "execution_count": 9,
   "metadata": {},
   "outputs": [
    {
     "data": {
      "text/plain": [
       "[1, 4, 9, 16, 25, 36, 49, 64, 81, 100]"
      ]
     },
     "execution_count": 9,
     "metadata": {},
     "output_type": "execute_result"
    }
   ],
   "source": [
    "def cube(x):\n",
    "    return x**2    # ** = 제곱\n",
    "\n",
    "list(map(cube, range(1, 11)))"
   ]
  },
  {
   "cell_type": "code",
   "execution_count": 65,
   "metadata": {},
   "outputs": [
    {
     "data": {
      "text/plain": [
       "[1, 4, 9, 16, 25, 36, 49, 64, 81, 100]"
      ]
     },
     "execution_count": 65,
     "metadata": {},
     "output_type": "execute_result"
    }
   ],
   "source": [
    "# 람다식 이용\n",
    "list(map(lambda n : n**2, range(1, 11)))"
   ]
  },
  {
   "cell_type": "code",
   "execution_count": 59,
   "metadata": {},
   "outputs": [
    {
     "name": "stdout",
     "output_type": "stream",
     "text": [
      "apple\n",
      "banana\n",
      "cherry\n",
      "[5, 6, 6]\n"
     ]
    }
   ],
   "source": [
    "# map(): 다수의 데이터에 공통된 로직을 일괄 처리 가능한 기능의 함수. 반복문 쓰지 않고도 반복하는 기능\n",
    "# 사용 방법: map(기능보유함수명 or 람다식, 첫번째 parameter로 입력된 기능이 사용할 데이터)\n",
    "# 대량의 빅데이터 일괄처리 하는 기능의 sw 대표적인 하둡 내부에서도 사용되는 기능\n",
    "\n",
    "def myfunc(n):\n",
    "    print(n)\n",
    "    return len(n)\n",
    "\n",
    "x = map(myfunc, ('apple', 'banana', 'cherry'))\n",
    "\n",
    "# print(x): map의 데이터 주소만 출력됨\n",
    "\n",
    "# convert the map into a list, for readability: map이 보유한 데이터를 사용할 수 있게 가공\n",
    "print(list(x))"
   ]
  },
  {
   "cell_type": "code",
   "execution_count": 60,
   "metadata": {
    "scrolled": false
   },
   "outputs": [
    {
     "name": "stdout",
     "output_type": "stream",
     "text": [
      "apple\n",
      "banana\n",
      "cherry\n",
      "[5, 6, 6]\n"
     ]
    }
   ],
   "source": [
    "def myfunc(n):\n",
    "    print(n)\n",
    "    return len(n)\n",
    "\n",
    "# tuple\n",
    "x = map(myfunc, ('apple', 'banana', 'cherry'))\n",
    "\n",
    "print(list(x))"
   ]
  },
  {
   "cell_type": "code",
   "execution_count": 63,
   "metadata": {
    "scrolled": false
   },
   "outputs": [
    {
     "name": "stdout",
     "output_type": "stream",
     "text": [
      "apple\n",
      "banana\n",
      "cherry\n",
      "[5, 6, 6]\n"
     ]
    }
   ],
   "source": [
    "def myfunc(n):\n",
    "    print(n)\n",
    "    return len(n)\n",
    "\n",
    "# list\n",
    "x = map(myfunc, ['apple', 'banana', 'cherry'])\n",
    "\n",
    "print(list(x))"
   ]
  },
  {
   "cell_type": "code",
   "execution_count": 64,
   "metadata": {},
   "outputs": [
    {
     "data": {
      "text/plain": [
       "[5, 6, 6]"
      ]
     },
     "execution_count": 64,
     "metadata": {},
     "output_type": "execute_result"
    }
   ],
   "source": [
    "list(map(lambda n : len(n), ['apple', 'banana', 'cherry']))"
   ]
  },
  {
   "cell_type": "code",
   "execution_count": 58,
   "metadata": {},
   "outputs": [
    {
     "name": "stdout",
     "output_type": "stream",
     "text": [
      "0\n",
      "1\n",
      "4\n",
      "9\n",
      "16\n"
     ]
    }
   ],
   "source": [
    "for i in range(5):\n",
    "    print(i**2)"
   ]
  },
  {
   "cell_type": "code",
   "execution_count": null,
   "metadata": {},
   "outputs": [],
   "source": []
  },
  {
   "cell_type": "markdown",
   "metadata": {},
   "source": [
    "### 6. reduce() 함수\n",
    "- 주로 집계용으로 사용\n",
    "- 사용을 위해서는 functools 모듈 선언\n",
    "- from (디렉토리명?) import (파일명) 같은 개념"
   ]
  },
  {
   "cell_type": "code",
   "execution_count": 3,
   "metadata": {},
   "outputs": [
    {
     "name": "stdout",
     "output_type": "stream",
     "text": [
      "15\n"
     ]
    }
   ],
   "source": [
    "from functools import reduce\n",
    "\n",
    "'''\n",
    "x, y\n",
    "1, 2\n",
    "3, 3\n",
    "6, 4\n",
    "10, 5\n",
    "==> 15\n",
    "'''\n",
    "\n",
    "\n",
    "data = reduce(lambda x, y: x+y, [1, 2, 3, 4, 5])\n",
    "print(data)\n",
    "\n"
   ]
  },
  {
   "cell_type": "code",
   "execution_count": 66,
   "metadata": {},
   "outputs": [
    {
     "name": "stdout",
     "output_type": "stream",
     "text": [
      "15\n"
     ]
    }
   ],
   "source": [
    "#상단 reduce에 사용된 lambda의 로직을 단순 python 문법으로 개발한 코드\n",
    "\n",
    "def userReduce():\n",
    "    datas = [1, 2, 3, 4, 5]\n",
    "    result = 0\n",
    "    \n",
    "    for i in datas:\n",
    "        result = result + i\n",
    "    \n",
    "    print(result) \n",
    "    \n",
    "\n",
    "userReduce()"
   ]
  },
  {
   "cell_type": "markdown",
   "metadata": {},
   "source": [
    "### 7. filter()\n",
    "\n",
    "- 데이터의 일부만 착출 가능한 기능의 즉 필터링 기능의 함수\n",
    "- 시퀀스의 항목들 중 함수 조건이 True인 항목만 추출\n",
    "- 문법 : filter(함수 or 람다식, 필터링당할데이터들이 담긴 리스트)\n"
   ]
  },
  {
   "cell_type": "raw",
   "metadata": {},
   "source": [
    "list(filter(lambda x : x < 5, range(10)))"
   ]
  },
  {
   "cell_type": "markdown",
   "metadata": {},
   "source": [
    "**미션** : (123,) 값이 출력될 수 있도록 ? 부분 완성하세요\n",
    "\n",
    "% 사용해서 나누고 난 나머지 값이 0인 경우로만 필터링"
   ]
  },
  {
   "cell_type": "code",
   "execution_count": 75,
   "metadata": {},
   "outputs": [
    {
     "data": {
      "text/plain": [
       "(123,)"
      ]
     },
     "execution_count": 75,
     "metadata": {},
     "output_type": "execute_result"
    }
   ],
   "source": [
    "list2 = (10,22,37,41,100,123,29)\n",
    "\n",
    "tuple(filter(lambda x : x%123 == 0, list2))\n",
    "tuple(filter(lambda x : x%3 == 0, list2))"
   ]
  },
  {
   "cell_type": "code",
   "execution_count": 76,
   "metadata": {},
   "outputs": [
    {
     "data": {
      "text/plain": [
       "[123]"
      ]
     },
     "execution_count": 76,
     "metadata": {},
     "output_type": "execute_result"
    }
   ],
   "source": [
    "list(filter(lambda x : x%3 == 0, list2))"
   ]
  },
  {
   "cell_type": "markdown",
   "metadata": {},
   "source": [
    "### 8. Collection 함수\n",
    "\n",
    "- 순서값과 요소값을 한번에 구하는 내장 함수\n",
    "- 기본 for문을 활용해서 학생 순번에 맞게 list 점수 출력\n",
    "- enumerate() 활용해서 순서와 요소값을 한번에 튜플로 반환"
   ]
  },
  {
   "cell_type": "code",
   "execution_count": 5,
   "metadata": {},
   "outputs": [
    {
     "name": "stdout",
     "output_type": "stream",
     "text": [
      "1번 학생의 성적 :  80\n",
      "2번 학생의 성적 :  30\n",
      "3번 학생의 성적 :  70\n",
      "4번 학생의 성적 :  85\n",
      "5번 학생의 성적 :  90\n"
     ]
    }
   ],
   "source": [
    "score = [80, 30, 70, 85, 90]\n",
    "\n",
    "for no in range(len(score)):\n",
    "    print(str(no+1) + '번 학생의 성적 : ', score[no])"
   ]
  },
  {
   "cell_type": "code",
   "execution_count": 17,
   "metadata": {},
   "outputs": [
    {
     "name": "stdout",
     "output_type": "stream",
     "text": [
      "1 번 학생의 성적:  80\n",
      "2 번 학생의 성적:  30\n",
      "3 번 학생의 성적:  70\n",
      "4 번 학생의 성적:  85\n",
      "5 번 학생의 성적:  90\n"
     ]
    }
   ],
   "source": [
    "# enumerate()함수 사용해서 상단 결과 나올 수 있도록 출력\n",
    "\n",
    "score = [80, 30, 70, 85, 90]\n",
    "\n",
    "for i, v in enumerate(score):\n",
    "#    print(i + '번 학생의 성적: ', v)   ---> error: 숫자랑 문자 + 결합이 안 됨. 타입이 서로 다른 문자열 결합 시에는 print에선 쉼표 사용\n",
    "    print(i+1, '번 학생의 성적: ', v)    \n",
    "#   print(str(i+1) + '번 학생의 성적: ', v)   ---> 결합 연산자로 결합 시에는 문자열로 변환 후 출력."
   ]
  },
  {
   "cell_type": "code",
   "execution_count": 10,
   "metadata": {},
   "outputs": [
    {
     "name": "stdout",
     "output_type": "stream",
     "text": [
      "[(0, 'Spring'), (1, 'Summer'), (2, 'Fall'), (3, 'Winter')]\n",
      "[(1, 'Spring'), (2, 'Summer'), (3, 'Fall'), (4, 'Winter')]\n"
     ]
    }
   ],
   "source": [
    "seasons = ['Spring', 'Summer', 'Fall', 'Winter']\n",
    "print(list(enumerate(seasons)))\n",
    "\n",
    "print(list(enumerate(seasons, start=1)))\n"
   ]
  },
  {
   "cell_type": "code",
   "execution_count": 12,
   "metadata": {},
   "outputs": [
    {
     "name": "stdout",
     "output_type": "stream",
     "text": [
      "(0, 'Spring')\n",
      "(1, 'Summer')\n",
      "(2, 'Fall')\n",
      "(3, 'Winter')\n"
     ]
    }
   ],
   "source": [
    "for i in enumerate(seasons):\n",
    "    print(i)"
   ]
  },
  {
   "cell_type": "code",
   "execution_count": 13,
   "metadata": {},
   "outputs": [
    {
     "name": "stdout",
     "output_type": "stream",
     "text": [
      "0 Spring\n",
      "1 Summer\n",
      "2 Fall\n",
      "3 Winter\n"
     ]
    }
   ],
   "source": [
    "for i, v in enumerate(seasons):\n",
    "    print(i, v)"
   ]
  },
  {
   "cell_type": "code",
   "execution_count": null,
   "metadata": {},
   "outputs": [],
   "source": []
  }
 ],
 "metadata": {
  "kernelspec": {
   "display_name": "Python 3",
   "language": "python",
   "name": "python3"
  },
  "language_info": {
   "codemirror_mode": {
    "name": "ipython",
    "version": 3
   },
   "file_extension": ".py",
   "mimetype": "text/x-python",
   "name": "python",
   "nbconvert_exporter": "python",
   "pygments_lexer": "ipython3",
   "version": "3.8.5"
  }
 },
 "nbformat": 4,
 "nbformat_minor": 2
}
