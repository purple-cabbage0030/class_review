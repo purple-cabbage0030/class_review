{
 "cells": [
  {
   "cell_type": "code",
   "execution_count": 5,
   "metadata": {},
   "outputs": [
    {
     "name": "stdout",
     "output_type": "stream",
     "text": [
      "학생 수를 입력해주세요 : 3\n",
      "30 50 80\n",
      "advance반의 학생 수는 1\n",
      "basic반의 학생 수는 2\n"
     ]
    }
   ],
   "source": [
    "def midterm():\n",
    "    \n",
    "    cutline = 70\n",
    "    adv_num = 0\n",
    "    basic_num = 0\n",
    "\n",
    "    student_num = int(input(\"학생 수를 입력해주세요 : \"))\n",
    "    score = list(map(int, input().split()))\n",
    "    \n",
    "    for i in range(0, student_num):\n",
    "        if score[i] >= cutline:\n",
    "            adv_num += 1\n",
    "        else:\n",
    "            basic_num += 1\n",
    "    \n",
    "    print(\"advance반의 학생 수는\", adv_num)\n",
    "    print(\"basic반의 학생 수는\", basic_num)\n",
    "    \n",
    "    \n",
    "midterm()"
   ]
  },
  {
   "cell_type": "code",
   "execution_count": 6,
   "metadata": {},
   "outputs": [
    {
     "name": "stdout",
     "output_type": "stream",
     "text": [
      "************* Module example\n",
      "example.ipynb:13:0: C0301: Line too long (105/100) (line-too-long)\n",
      "example.ipynb:14:0: C0301: Line too long (105/100) (line-too-long)\n",
      "example.ipynb:15:0: C0301: Line too long (392/100) (line-too-long)\n",
      "example.ipynb:16:0: C0301: Line too long (1176/100) (line-too-long)\n",
      "example.ipynb:17:0: C0301: Line too long (862/100) (line-too-long)\n",
      "example.ipynb:18:0: C0301: Line too long (1468/100) (line-too-long)\n",
      "example.ipynb:1:0: C0114: Missing module docstring (missing-module-docstring)\n",
      "example.ipynb:1:0: W0104: Statement seems to have no effect (pointless-statement)\n",
      "\n",
      "------------------------------------------------------------------------\n",
      "\n",
      "Your code has been rated at -70.00/10 (previous run: -110.00/10, +40.00)\n",
      "\n",
      "\n",
      "\n"
     ]
    }
   ],
   "source": [
    "!python -m pylint example.ipynb"
   ]
  },
  {
   "cell_type": "code",
   "execution_count": null,
   "metadata": {},
   "outputs": [],
   "source": []
  }
 ],
 "metadata": {
  "kernelspec": {
   "display_name": "Python 3",
   "language": "python",
   "name": "python3"
  },
  "language_info": {
   "codemirror_mode": {
    "name": "ipython",
    "version": 3
   },
   "file_extension": ".py",
   "mimetype": "text/x-python",
   "name": "python",
   "nbconvert_exporter": "python",
   "pygments_lexer": "ipython3",
   "version": "3.8.5"
  }
 },
 "nbformat": 4,
 "nbformat_minor": 4
}
