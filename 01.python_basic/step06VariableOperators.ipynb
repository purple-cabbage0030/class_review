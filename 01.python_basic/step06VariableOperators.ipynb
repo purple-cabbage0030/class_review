{
 "cells": [
  {
   "cell_type": "markdown",
   "metadata": {
    "id": "bm9aKLEUSHc3"
   },
   "source": [
    "<!--NAVIGATION-->\n",
    "\n",
    "\n",
    "[[step05.List,Tuple등 학습 page로 이동](step05ListTupleDictSet.ipynb) ] | [[step07. 함수 학습 page로 이동](step07Function.ipynb) ]"
   ]
  },
  {
   "cell_type": "markdown",
   "metadata": {
    "id": "MGmhF1ceSHc_"
   },
   "source": [
    "### 01. Variable"
   ]
  },
  {
   "cell_type": "markdown",
   "metadata": {
    "id": "n_LMMbFiSHdC"
   },
   "source": [
    "**참고 : 용어**\n",
    "\n",
    "\n",
    "> **패킹** : 하나의 변수에 여러개의 데이터를 넣는 구조 의미<br>\n",
    "> **언패킹** : 하나의 변수에서 여러개의 데이터를 각각 꺼내오는 구조 의미"
   ]
  },
  {
   "cell_type": "markdown",
   "metadata": {
    "id": "U1fq7appSHdF"
   },
   "source": [
    "**입력 값을 변수에 저장하기**\n",
    "\n",
    "1. input()\n",
    "2. 입력 값을 변수 두개에 저장하기\n",
    ">변수1, 변수2 = input([문자열]).spli([기준문자열])"
   ]
  },
  {
   "cell_type": "code",
   "execution_count": null,
   "metadata": {
    "id": "VZCFAjv2SHdI"
   },
   "outputs": [],
   "source": []
  },
  {
   "cell_type": "markdown",
   "metadata": {
    "id": "QYFfh88_SHdK"
   },
   "source": [
    "**출력 형식 설정**\n",
    "\n",
    "\n",
    "- print(데이터1, 데이터2, sep='문자 또는 문자열')\n",
    "- print(데이터1, 데이터2, end='문자 또는 문자열')\n"
   ]
  },
  {
   "cell_type": "code",
   "execution_count": 1,
   "metadata": {
    "id": "VK5SPTIbSHdM",
    "outputId": "9b8ca77e-b01c-45ba-e4d0-79b1771d840a"
   },
   "outputs": [
    {
     "name": "stdout",
     "output_type": "stream",
     "text": [
      "1\n",
      "2\n",
      "1 2\n",
      "1-2-3\n"
     ]
    }
   ],
   "source": [
    "print(1)\n",
    "print(2)\n",
    "\n",
    "# print()로 출력되는 각각의 데이터 연결value (한 라인 내에)\n",
    "print(1, end=' ')\n",
    "print(2)\n",
    "\n",
    "# 하나의 함수에서 출력하고자 하는 다수의 데이터들 구분자 적용 방식\n",
    "print(1, 2, 3, sep='-')"
   ]
  },
  {
   "cell_type": "markdown",
   "metadata": {
    "id": "dRtBmj-gSHdQ"
   },
   "source": [
    "**global & local 변수**\n",
    "\n",
    "- global : 전역 변수\n",
    "- local : 로컬 변수"
   ]
  },
  {
   "cell_type": "code",
   "execution_count": 1,
   "metadata": {
    "id": "toRE8jugSHdR"
   },
   "outputs": [],
   "source": [
    "def f1():\n",
    "    v1 = 'a' # v1의 선언과 할당(대입)이 f1함수 내에서 적용, v1의 사용 영역은 f1() 내에서만 가능\n",
    "    "
   ]
  },
  {
   "cell_type": "code",
   "execution_count": 4,
   "metadata": {},
   "outputs": [
    {
     "ename": "NameError",
     "evalue": "name 'v1' is not defined",
     "output_type": "error",
     "traceback": [
      "\u001b[1;31m---------------------------------------------------------------------------\u001b[0m",
      "\u001b[1;31mNameError\u001b[0m                                 Traceback (most recent call last)",
      "\u001b[1;32m<ipython-input-4-7360cda11161>\u001b[0m in \u001b[0;36m<module>\u001b[1;34m\u001b[0m\n\u001b[1;32m----> 1\u001b[1;33m \u001b[0mprint\u001b[0m\u001b[1;33m(\u001b[0m\u001b[0mv1\u001b[0m\u001b[1;33m)\u001b[0m\u001b[1;33m\u001b[0m\u001b[1;33m\u001b[0m\u001b[0m\n\u001b[0m",
      "\u001b[1;31mNameError\u001b[0m: name 'v1' is not defined"
     ]
    }
   ],
   "source": [
    "print(v1)"
   ]
  },
  {
   "cell_type": "code",
   "execution_count": 6,
   "metadata": {
    "id": "toRE8jugSHdR"
   },
   "outputs": [
    {
     "name": "stdout",
     "output_type": "stream",
     "text": [
      "100\n"
     ]
    }
   ],
   "source": [
    "v1 = 100\n",
    "def f1():\n",
    "    v1 = 1   # local 변수 선언 및 할당\n",
    "    \n",
    "f1()\n",
    "print(v1)   #1 line에 선언된 global 변수 v1이 출력됨\n"
   ]
  },
  {
   "cell_type": "code",
   "execution_count": 8,
   "metadata": {
    "id": "toRE8jugSHdR"
   },
   "outputs": [
    {
     "name": "stdout",
     "output_type": "stream",
     "text": [
      "1\n"
     ]
    }
   ],
   "source": [
    "v1 = 100    # global 변수 선언 및 값 할당\n",
    "def f1():\n",
    "    global v1     # 앞으로 v1이라는 이름의 변수는 global 변수임을 의미\n",
    "    v1 = 1    # global 변수 호출 및 값 재할당\n",
    "    \n",
    "f1()\n",
    "print(v1)   # 1\n",
    "\n",
    "# 함수 내부에서 선언 및 함수 내부에서만 사용 가능한 변수 = local 변수\n",
    "# 다수의 함수가 공유해서 사용 가능한 변수 = global 변수(전역변수)"
   ]
  },
  {
   "cell_type": "code",
   "execution_count": null,
   "metadata": {},
   "outputs": [],
   "source": []
  },
  {
   "cell_type": "markdown",
   "metadata": {
    "id": "92zrh0VJSHdS"
   },
   "source": [
    "### 02.Operators\n",
    "\n",
    "**python에선 모든 데이터를 객체타입으로 간주**\n",
    "\n",
    "- ==, != : 값 자체 비교\n",
    "- is, is not : 객체 주소 비교\n",
    "- id(객체) : 객체의 주소값 반환\n",
    "- 논리 연산자 : \n",
    "> and : 두 값이 모두 true인 경우 true <br>\n",
    "or : 두 값중 하나만 true인 경우 true <br>\n",
    "not : 논리값 뒤집기 not True -> False, not False -> True"
   ]
  },
  {
   "cell_type": "code",
   "execution_count": null,
   "metadata": {
    "id": "2d4frnh4SHdT",
    "outputId": "be8f4a5c-cdcd-46af-969d-681ea51d9ece"
   },
   "outputs": [
    {
     "data": {
      "text/plain": [
       "True"
      ]
     },
     "execution_count": 27,
     "metadata": {
      "tags": []
     },
     "output_type": "execute_result"
    }
   ],
   "source": [
    "# 숫자 동등 비교\n",
    "10 == 10"
   ]
  },
  {
   "cell_type": "code",
   "execution_count": null,
   "metadata": {
    "id": "hvGZEZBfSHdV",
    "outputId": "76ef009d-d940-4dae-dbad-3cff20cc19fa"
   },
   "outputs": [
    {
     "name": "stdout",
     "output_type": "stream",
     "text": [
      "True\n",
      "False\n"
     ]
    }
   ],
   "source": [
    "# 문자 동등 비교\n",
    "print('s' == 's')\n",
    "\n",
    "print('s' != 's')"
   ]
  },
  {
   "cell_type": "code",
   "execution_count": null,
   "metadata": {
    "id": "GWNDgDXdSHdY",
    "outputId": "fed1e16c-d5e1-42dc-aae5-7789f1f1aff6"
   },
   "outputs": [
    {
     "name": "stdout",
     "output_type": "stream",
     "text": [
      "True\n",
      "False\n",
      "True\n"
     ]
    }
   ],
   "source": [
    "# 동일 객체 여부 확인\n",
    "\n",
    "# 값만 비교\n",
    "print(1 == 1.0)\n",
    "\n",
    "# 동일 객체 여부 비교\n",
    "print(1 is 1.0)\n",
    "\n",
    "# 동일 객체가 아님을 비교\n",
    "print(1 is not 1.0)"
   ]
  },
  {
   "cell_type": "code",
   "execution_count": null,
   "metadata": {
    "id": "m6WMox3NSHdb",
    "outputId": "118630e6-746c-412f-dde1-af69e59f46bd"
   },
   "outputs": [
    {
     "data": {
      "text/plain": [
       "140731125044032"
      ]
     },
     "execution_count": 34,
     "metadata": {
      "tags": []
     },
     "output_type": "execute_result"
    }
   ],
   "source": [
    "id(1)"
   ]
  },
  {
   "cell_type": "code",
   "execution_count": null,
   "metadata": {
    "id": "if1tGpUlSHdc",
    "outputId": "26836dbb-749b-4d7f-d3b2-282473733f1f"
   },
   "outputs": [
    {
     "data": {
      "text/plain": [
       "2144781968176"
      ]
     },
     "execution_count": 35,
     "metadata": {
      "tags": []
     },
     "output_type": "execute_result"
    }
   ],
   "source": [
    "id(1.0)"
   ]
  },
  {
   "cell_type": "code",
   "execution_count": null,
   "metadata": {
    "id": "3jwiP4reSHde",
    "outputId": "b4e32f08-4ed2-4ad5-d494-d1528a4c8837"
   },
   "outputs": [
    {
     "data": {
      "text/plain": [
       "140731125044032"
      ]
     },
     "execution_count": 36,
     "metadata": {
      "tags": []
     },
     "output_type": "execute_result"
    }
   ],
   "source": [
    "id(1)"
   ]
  },
  {
   "cell_type": "code",
   "execution_count": null,
   "metadata": {
    "id": "jmOUgDozSHdf",
    "outputId": "6398512b-f15b-4119-e476-9445eec1af10"
   },
   "outputs": [
    {
     "data": {
      "text/plain": [
       "False"
      ]
     },
     "execution_count": 37,
     "metadata": {
      "tags": []
     },
     "output_type": "execute_result"
    }
   ],
   "source": [
    "not True"
   ]
  },
  {
   "cell_type": "code",
   "execution_count": null,
   "metadata": {
    "id": "7MWTvQF9SHdg",
    "outputId": "11627e59-6e83-4b79-802a-25dc1dc077ab"
   },
   "outputs": [
    {
     "data": {
      "text/plain": [
       "True"
      ]
     },
     "execution_count": 38,
     "metadata": {
      "tags": []
     },
     "output_type": "execute_result"
    }
   ],
   "source": [
    "not True and False or not False"
   ]
  },
  {
   "cell_type": "code",
   "execution_count": null,
   "metadata": {
    "id": "ey0YtKHISHdi"
   },
   "outputs": [],
   "source": []
  }
 ],
 "metadata": {
  "colab": {
   "collapsed_sections": [],
   "name": "step06VariableOperators.ipynb",
   "provenance": []
  },
  "kernelspec": {
   "display_name": "Python 3",
   "language": "python",
   "name": "python3"
  },
  "language_info": {
   "codemirror_mode": {
    "name": "ipython",
    "version": 3
   },
   "file_extension": ".py",
   "mimetype": "text/x-python",
   "name": "python",
   "nbconvert_exporter": "python",
   "pygments_lexer": "ipython3",
   "version": "3.8.5"
  }
 },
 "nbformat": 4,
 "nbformat_minor": 1
}
