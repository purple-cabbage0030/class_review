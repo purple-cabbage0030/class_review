{
 "cells": [
  {
   "cell_type": "markdown",
   "metadata": {},
   "source": [
    "### python을 활용한 객체 지향 프로그래밍(oop) 개발 기술 학습\n",
    "\n",
    "\n",
    "**주요 용어**\n",
    "\n",
    "1. class - 객체(데이터들을 하나의 단위로 관리하는 실제 사용가능한 메모리 상의 영역)를 사용 가능하게 해주는 설계도(붕어빵 - 객체, 붕어빵 틀 - class)<br>\n",
    "2. 객체(object) - 메모리에 사용 가능하게 생성된 데이터 집합. 객체는 class가 있어야 존재할 수 있다...\n",
    "3. 객체 지향 프로그램 방식의 주 목적<br>\n",
    "> 클래스 하나 제대로 설계 후에 데이터 표현을 위한 재사용을 위함.<br>\n",
    "> 아파트 건축 설계도 = class / 건축한 아파트 = object = instance\n"
   ]
  },
  {
   "cell_type": "code",
   "execution_count": 1,
   "metadata": {},
   "outputs": [],
   "source": [
    "# class\n",
    "class Person:\n",
    "    def __init__(self, name, age):   # init --> 특별한 메소드. 생성자. 객체 생성 시에 호출되는 기능\n",
    "        # name이란 멤버 변수 생성 및 값 할당\n",
    "        # self.name: Person 클래스의 멤버 변수 선언\n",
    "        # name: __init__이라는 특별한 메소드 내에서만 사용 가능한 로컬 변수\n",
    "        self.name = name    # 선언과 동시에 값 대입\n",
    "        self.age = age"
   ]
  },
  {
   "cell_type": "code",
   "execution_count": 2,
   "metadata": {},
   "outputs": [
    {
     "name": "stdout",
     "output_type": "stream",
     "text": [
      "John\n",
      "36\n"
     ]
    }
   ],
   "source": [
    "# 객체\n",
    "p1 = Person(\"John\", 36)   # Person 객체 생성, Person instance 생성\n",
    "\n",
    "print(p1.name)\n",
    "print(p1.age)"
   ]
  },
  {
   "cell_type": "code",
   "execution_count": 4,
   "metadata": {},
   "outputs": [
    {
     "name": "stdout",
     "output_type": "stream",
     "text": [
      "Mary\n",
      "50\n"
     ]
    }
   ],
   "source": [
    "p2 = Person(\"Mary\", 40)   # Person 객체 생성, Person instance 생성\n",
    "\n",
    "p2.age = 50\n",
    "\n",
    "print(p2.name)\n",
    "print(p2.age)"
   ]
  },
  {
   "cell_type": "code",
   "execution_count": 18,
   "metadata": {},
   "outputs": [],
   "source": [
    "# 학생 정보 관리 프로그램\n",
    "# 데이터 = 학번/이름/학년 ...\n",
    "# 메소드: 데이터를 관리할 수 있는 기능의 메소드들도 주로 포함해서 개발\n",
    "class Student:\n",
    "    def __init__(self, no, name, grade):\n",
    "        # 클래스를 구성하는 멤버 변수 = 로컬 변수\n",
    "        self.no = no\n",
    "        self.name = name\n",
    "        self.grade = grade\n",
    "\n",
    "    # 사용 관점(호출 관점)에서 데이터를 획득하는 기능 syntax\n",
    "    # 학생 이름을 호출한 곳으로 반환\n",
    "    def getName(self):     # parameter에 self 꼭 들어있어야 함 ~ \n",
    "        return self.name   # 멤버 변수값 반환\n",
    "    \n",
    "    # name 멤버 변수 값을 수정하는 메소드\n",
    "    def setName(self, name):\n",
    "        self.name = name"
   ]
  },
  {
   "cell_type": "code",
   "execution_count": 25,
   "metadata": {},
   "outputs": [],
   "source": [
    "# 객체 생성 문법 외우기\n",
    "s1 = Student(1, 'A', '1학년')\n",
    "s2 = Student(2, 'B', '1학년')"
   ]
  },
  {
   "cell_type": "code",
   "execution_count": 24,
   "metadata": {},
   "outputs": [
    {
     "name": "stdout",
     "output_type": "stream",
     "text": [
      "A\n",
      "바보\n"
     ]
    }
   ],
   "source": [
    "print(s1.getName())\n",
    "s1.setName('바보')\n",
    "print(s1.getName())"
   ]
  },
  {
   "cell_type": "code",
   "execution_count": null,
   "metadata": {},
   "outputs": [],
   "source": []
  }
 ],
 "metadata": {
  "kernelspec": {
   "display_name": "Python 3",
   "language": "python",
   "name": "python3"
  },
  "language_info": {
   "codemirror_mode": {
    "name": "ipython",
    "version": 3
   },
   "file_extension": ".py",
   "mimetype": "text/x-python",
   "name": "python",
   "nbconvert_exporter": "python",
   "pygments_lexer": "ipython3",
   "version": "3.8.5"
  }
 },
 "nbformat": 4,
 "nbformat_minor": 4
}
